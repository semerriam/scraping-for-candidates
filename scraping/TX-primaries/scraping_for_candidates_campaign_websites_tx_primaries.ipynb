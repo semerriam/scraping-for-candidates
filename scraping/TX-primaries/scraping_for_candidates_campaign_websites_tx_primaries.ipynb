{
 "cells": [
  {
   "cell_type": "markdown",
   "id": "28a2416c",
   "metadata": {},
   "source": [
    "# Screenshots of Candidate's Communication"
   ]
  },
  {
   "cell_type": "markdown",
   "id": "8c0e4732",
   "metadata": {},
   "source": [
    "Description"
   ]
  },
  {
   "cell_type": "markdown",
   "id": "ed6332f0",
   "metadata": {},
   "source": [
    "##### Imports"
   ]
  },
  {
   "cell_type": "code",
   "execution_count": 1,
   "id": "3af860d4",
   "metadata": {},
   "outputs": [
    {
     "name": "stderr",
     "output_type": "stream",
     "text": [
      "/Users/sm/.pyenv/versions/3.10.0/lib/python3.10/site-packages/pandas/compat/__init__.py:124: UserWarning: Could not import the lzma module. Your installed Python is incomplete. Attempting to use lzma compression will result in a RuntimeError.\n",
      "  warnings.warn(msg)\n"
     ]
    }
   ],
   "source": [
    "import pandas as pd\n",
    "import matplotlib.pyplot as plt\n",
    "import numpy as np"
   ]
  },
  {
   "cell_type": "code",
   "execution_count": 2,
   "id": "4071e826",
   "metadata": {},
   "outputs": [],
   "source": [
    "import time\n",
    "\n",
    "from selenium import webdriver\n",
    "from selenium.webdriver.common.by import By\n",
    "from selenium.webdriver.support.ui import WebDriverWait\n",
    "from selenium.webdriver.support import expected_conditions as EC\n",
    "from selenium.webdriver.support.ui import Select\n",
    "\n",
    "from webdriver_manager.chrome import ChromeDriverManager"
   ]
  },
  {
   "cell_type": "code",
   "execution_count": 64,
   "id": "1d292431",
   "metadata": {},
   "outputs": [],
   "source": [
    "from html.parser import HTMLParser\n",
    "import requests\n",
    "from bs4 import BeautifulSoup, SoupStrainer\n",
    "import re\n",
    "import pandas as pd\n",
    "import matplotlib.pyplot as plt\n",
    "import numpy as np\n",
    "from time import sleep\n",
    "from random import randint"
   ]
  },
  {
   "cell_type": "code",
   "execution_count": 254,
   "id": "4dc74246",
   "metadata": {},
   "outputs": [],
   "source": [
    "import os\n",
    "import cv2\n",
    "from skimage import io"
   ]
  },
  {
   "cell_type": "markdown",
   "id": "5ee30e84",
   "metadata": {},
   "source": [
    "-----"
   ]
  },
  {
   "cell_type": "markdown",
   "id": "842ccf68",
   "metadata": {},
   "source": [
    "##### Reading in Candidates' URL Links"
   ]
  },
  {
   "cell_type": "code",
   "execution_count": 260,
   "id": "9f565730",
   "metadata": {},
   "outputs": [
    {
     "data": {
      "text/html": [
       "<div>\n",
       "<style scoped>\n",
       "    .dataframe tbody tr th:only-of-type {\n",
       "        vertical-align: middle;\n",
       "    }\n",
       "\n",
       "    .dataframe tbody tr th {\n",
       "        vertical-align: top;\n",
       "    }\n",
       "\n",
       "    .dataframe thead th {\n",
       "        text-align: right;\n",
       "    }\n",
       "</style>\n",
       "<table border=\"1\" class=\"dataframe\">\n",
       "  <thead>\n",
       "    <tr style=\"text-align: right;\">\n",
       "      <th></th>\n",
       "      <th>Unnamed: 0</th>\n",
       "      <th>candidate_campaign_links</th>\n",
       "    </tr>\n",
       "  </thead>\n",
       "  <tbody>\n",
       "    <tr>\n",
       "      <th>0</th>\n",
       "      <td>0</td>\n",
       "      <td>candidate-Gavin Dass</td>\n",
       "    </tr>\n",
       "    <tr>\n",
       "      <th>1</th>\n",
       "      <td>1</td>\n",
       "      <td>https://www.twitter.com/Gavin4Congress</td>\n",
       "    </tr>\n",
       "    <tr>\n",
       "      <th>2</th>\n",
       "      <td>2</td>\n",
       "      <td>https://www.instagram.com/gavin4congress/</td>\n",
       "    </tr>\n",
       "    <tr>\n",
       "      <th>3</th>\n",
       "      <td>3</td>\n",
       "      <td>candidate-Victor D. Dunn</td>\n",
       "    </tr>\n",
       "    <tr>\n",
       "      <th>4</th>\n",
       "      <td>4</td>\n",
       "      <td>https://victordunn4congress.com/</td>\n",
       "    </tr>\n",
       "    <tr>\n",
       "      <th>...</th>\n",
       "      <td>...</td>\n",
       "      <td>...</td>\n",
       "    </tr>\n",
       "    <tr>\n",
       "      <th>1478</th>\n",
       "      <td>1478</td>\n",
       "      <td>https://www.linkedin.com/in/damien-mockus-a7a7...</td>\n",
       "    </tr>\n",
       "    <tr>\n",
       "      <th>1479</th>\n",
       "      <td>1479</td>\n",
       "      <td>candidate-Mark Ramsey</td>\n",
       "    </tr>\n",
       "    <tr>\n",
       "      <th>1480</th>\n",
       "      <td>1480</td>\n",
       "      <td>https://ramseyfortexas.com/</td>\n",
       "    </tr>\n",
       "    <tr>\n",
       "      <th>1481</th>\n",
       "      <td>1481</td>\n",
       "      <td>https://www.twitter.com/RAMSEYforTXCD38</td>\n",
       "    </tr>\n",
       "    <tr>\n",
       "      <th>1482</th>\n",
       "      <td>1482</td>\n",
       "      <td>https://www.facebook.com/MarkSRamsey</td>\n",
       "    </tr>\n",
       "  </tbody>\n",
       "</table>\n",
       "<p>1483 rows × 2 columns</p>\n",
       "</div>"
      ],
      "text/plain": [
       "      Unnamed: 0                           candidate_campaign_links\n",
       "0              0                               candidate-Gavin Dass\n",
       "1              1             https://www.twitter.com/Gavin4Congress\n",
       "2              2          https://www.instagram.com/gavin4congress/\n",
       "3              3                           candidate-Victor D. Dunn\n",
       "4              4                   https://victordunn4congress.com/\n",
       "...          ...                                                ...\n",
       "1478        1478  https://www.linkedin.com/in/damien-mockus-a7a7...\n",
       "1479        1479                              candidate-Mark Ramsey\n",
       "1480        1480                        https://ramseyfortexas.com/\n",
       "1481        1481            https://www.twitter.com/RAMSEYforTXCD38\n",
       "1482        1482               https://www.facebook.com/MarkSRamsey\n",
       "\n",
       "[1483 rows x 2 columns]"
      ]
     },
     "execution_count": 260,
     "metadata": {},
     "output_type": "execute_result"
    }
   ],
   "source": [
    "df = pd.read_csv(\"outputs//input_candidate_campaign_links_tx_02-23-22_edited.csv\", encoding=\"utf-8\")\n",
    "df"
   ]
  },
  {
   "cell_type": "code",
   "execution_count": 19,
   "id": "2b5b4f5d",
   "metadata": {},
   "outputs": [
    {
     "data": {
      "text/plain": [
       "['candidate-Gavin Dass',\n",
       " 'https://www.twitter.com/Gavin4Congress',\n",
       " 'https://www.instagram.com/gavin4congress/',\n",
       " 'candidate-Victor D. Dunn',\n",
       " 'https://victordunn4congress.com/',\n",
       " 'https://www.facebook.com/dunnforcongress/',\n",
       " 'https://www.twitter.com/dunn4congress',\n",
       " 'https://www.facebook.com/victor.dunn.376',\n",
       " 'candidate-Jrmar Jefferson',\n",
       " 'https://www.jeffersonforcongress.com/',\n",
       " 'https://www.facebook.com/jrmarjefferson/',\n",
       " 'https://www.facebook.com/DelmaJrmarJefferson',\n",
       " 'https://www.twitter.com/JrmarJefferson',\n",
       " 'https://www.linkedin.com/in/jrmarjefferson/',\n",
       " 'candidate-Stephen Kocen',\n",
       " 'https://www.kocenforcongress.com/',\n",
       " 'https://www.facebook.com/TXdist1/',\n",
       " 'https://www.twitter.com/Kocen4Congress',\n",
       " 'candidate-Rosey Quinn',\n",
       " 'candidate-Aditya Atholi',\n",
       " 'https://atholiforcongress.com/',\n",
       " 'https://www.facebook.com/atholiforcongress',\n",
       " 'https://www.twitter.com/Atholi4Congress',\n",
       " 'https://www.instagram.com/atholiforcongress/',\n",
       " 'https://www.youtube.com/channel/UCmvyu4eajivaX3_2bM3NHng',\n",
       " 'candidate-Joe McDaniel',\n",
       " 'https://www.joemcdaniel.com/',\n",
       " 'https://www.facebook.com/joemcdanielforuscongress',\n",
       " 'https://www.twitter.com/joemcd2',\n",
       " 'https://www.facebook.com/joemcd2',\n",
       " 'candidate-Nathaniel Moran',\n",
       " 'https://ballotpedia.org/Help:Report_an_error',\n",
       " 'https://nathanielmoran.com/',\n",
       " 'https://www.facebook.com/moranforcongress',\n",
       " 'https://www.twitter.com/moran4congress',\n",
       " 'https://www.facebook.com/nqmoran',\n",
       " 'https://www.linkedin.com/in/nathaniel-moran-1b9a4016/',\n",
       " 'candidate-John Porro',\n",
       " 'https://johnporro4tx.com/',\n",
       " 'https://www.facebook.com/JohnPorro4TX/',\n",
       " 'https://www.twitter.com/JohnPorro4TX',\n",
       " 'https://www.facebook.com/john.porro.9',\n",
       " 'https://www.linkedin.com/in/john-porro-904969124/',\n",
       " 'candidate-Robin Fulford',\n",
       " 'https://www.fulfordforcongress.com/',\n",
       " 'https://www.facebook.com/RobinFulfordTX',\n",
       " 'https://www.twitter.com/RobinFulfordTX',\n",
       " 'https://www.instagram.com/RobinFulfordTX',\n",
       " 'https://www.facebook.com/ucla.robin',\n",
       " 'https://www.twitter.com/robindfulford',\n",
       " 'https://www.linkedin.com/in/robin-fulford-04bb209',\n",
       " 'candidate-Rayna Reid',\n",
       " 'https://www.facebook.com/RaynaReidforCongress',\n",
       " 'https://www.facebook.com/rayna.delaviev',\n",
       " 'https://www.twitter.com/_raynareid',\n",
       " 'https://www.linkedin.com/in/rayna-reid/',\n",
       " 'candidate-Daniel Crenshaw',\n",
       " 'https://crenshaw.house.gov/',\n",
       " 'https://www.facebook.com/RepDanCrenshaw/',\n",
       " 'https://www.twitter.com/RepDanCrenshaw',\n",
       " 'https://www.youtube.com/channel/UC2XDiCjAHtJqnSEzrHAY5IQ',\n",
       " 'https://crenshawforcongress.com/',\n",
       " 'https://www.facebook.com/CrenshawforCongress',\n",
       " 'https://www.twitter.com/DanCrenshawTX',\n",
       " 'https://www.instagram.com/dancrenshawtx/',\n",
       " 'https://www.youtube.com/channel/UCoghGq7h46VPsJiCHv2N2JA',\n",
       " 'https://www.facebook.com/daniel.crenshaw.50',\n",
       " 'candidate-Jameson Ellis',\n",
       " 'https://jamesonellis.com/',\n",
       " 'https://www.facebook.com/thejamesonellis',\n",
       " 'https://www.twitter.com/thejamesonellis',\n",
       " 'https://www.instagram.com/thejamesonellis/',\n",
       " 'https://www.youtube.com/channel/UCvgdfF-Q32ywyX8l2hn4sWQ',\n",
       " 'https://www.facebook.com/jamesonellistx',\n",
       " 'candidate-Martin Etwop',\n",
       " 'https://www.martinetwop.com',\n",
       " 'https://www.facebook.com/MartinEtwopForCongress',\n",
       " 'https://www.facebook.com/metwop',\n",
       " 'https://www.linkedin.com/in/martin-etwop-85596698/',\n",
       " 'candidate-Milam Langella',\n",
       " 'https://www.milam4congress.com',\n",
       " 'https://www.twitter.com/Milam2022',\n",
       " 'candidate-Mike Billand',\n",
       " 'https://www.facebook.com/MikeBillandforTX/',\n",
       " 'https://www.twitter.com/billand_mike',\n",
       " 'candidate-Lucia Rodriguez',\n",
       " 'candidate-Doc Shelby',\n",
       " 'https://www.docshelby.com/',\n",
       " 'https://www.facebook.com/docshelby2022/',\n",
       " 'https://www.twitter.com/docshelby2022',\n",
       " 'https://www.instagram.com/docshelby2022/',\n",
       " 'https://www.facebook.com/Shelby.Exploratory.23',\n",
       " 'candidate-Sandeep Srivastava',\n",
       " 'http://sandeepfortexas.com/',\n",
       " 'https://www.facebook.com/sandeepfortexas/',\n",
       " 'https://www.twitter.com/sandeepfortexas',\n",
       " 'https://www.facebook.com/sandeep.srivastava.18',\n",
       " 'https://www.linkedin.com/in/sandeep-srivastava-90777449/',\n",
       " 'candidate-Van Taylor',\n",
       " 'https://vantaylor.house.gov/',\n",
       " 'https://www.facebook.com/RepVanTaylor',\n",
       " 'https://www.twitter.com/RepVanTaylor',\n",
       " 'https://www.instagram.com/repvantaylor/',\n",
       " 'https://www.youtube.com/channel/UCIzNiuBisXW6jScW_OuW1Kg',\n",
       " 'https://www.vantaylor.com/',\n",
       " 'https://www.facebook.com/VanForTexas',\n",
       " 'https://www.twitter.com/VanTaylorTX',\n",
       " 'https://www.instagram.com/vantaylortx/',\n",
       " 'https://www.linkedin.com/in/repvantaylor/',\n",
       " 'candidate-Suzanne Cassimatis Harp',\n",
       " 'https://www.suzanneforcongress.com',\n",
       " 'https://www.facebook.com/RealSuzanneHarp',\n",
       " 'https://www.twitter.com/RealSuzanneHarp',\n",
       " 'https://www.instagram.com/realsuzanneharp/',\n",
       " 'https://www.facebook.com/suzanne.c.harp',\n",
       " 'https://www.linkedin.com/in/suzanne-harp/',\n",
       " 'candidate-Jeremy Ivanovskis',\n",
       " 'https://ivanovskisforuscongress.com/',\n",
       " 'https://www.facebook.com/profile.php?id=100077292336330',\n",
       " 'candidate-Keith Self',\n",
       " 'https://ballotpedia.org/Help:Report_an_error',\n",
       " 'https://keithself.com/',\n",
       " 'https://www.facebook.com/KeithSelfTX',\n",
       " 'https://www.twitter.com/selfforcongress',\n",
       " 'https://www.instagram.com/keithselfforcongress_/',\n",
       " 'https://www.facebook.com/keith.self.94',\n",
       " 'https://www.youtube.com/user/KeithSelf2010/',\n",
       " 'https://www.linkedin.com/in/keith-self-06b55518/',\n",
       " 'candidate-Rickey Williams',\n",
       " 'https://www.rickey4congress.com/',\n",
       " 'https://www.facebook.com/rickey4congress',\n",
       " 'https://www.twitter.com/rickey4congress',\n",
       " 'https://www.instagram.com/rickey4congress/',\n",
       " 'candidate-Christopher Claytor',\n",
       " 'https://www.facebook.com/christopher.claytor',\n",
       " 'https://www.linkedin.com/in/christopherclaytor',\n",
       " 'candidate-Iroghama Omere',\n",
       " 'https://www.omereforcongress.com/',\n",
       " 'https://www.twitter.com/IroghamaTX',\n",
       " 'candidate-Earl Davis',\n",
       " 'https://www.facebook.com/earlw.davisii.1',\n",
       " 'candidate-Pat Fallon',\n",
       " 'https://fallon.house.gov/',\n",
       " 'https://www.facebook.com/RepPatFallon',\n",
       " 'https://www.twitter.com/RepPatFallon',\n",
       " 'https://www.instagram.com/reppatfallon/',\n",
       " 'https://www.youtube.com/c/RepPatFallon',\n",
       " 'https://www.fallonforcongress.com/',\n",
       " 'https://www.facebook.com/fallonfortexas',\n",
       " 'https://www.twitter.com/FallonForTexas',\n",
       " 'https://www.youtube.com/channel/UCQiw1cF0LqYoxuvWrE-Ckig/featured',\n",
       " 'https://www.facebook.com/patrick.fallon.792',\n",
       " 'https://www.linkedin.com/in/patrick-fallon-09261b63/',\n",
       " 'candidate-John Harper',\n",
       " 'https://johnharperforcongress.com/',\n",
       " 'https://www.facebook.com/JohnHarperForCongress/',\n",
       " 'candidate-Dan Thomas',\n",
       " 'https://www.danthomasforcongress.com/',\n",
       " 'https://www.facebook.com/DanNewsMan12',\n",
       " 'https://www.twitter.com/DanNewsMan',\n",
       " 'https://www.instagram.com/danthomasforcongress',\n",
       " 'https://www.facebook.com/NewsmanDan',\n",
       " 'https://www.youtube.com/channel/UCIKucbTVnhzSr2Wqy5LIyFA',\n",
       " 'candidate-John Simmons',\n",
       " 'https://www.twitter.com/CongressRancher',\n",
       " 'https://www.instagram.com/Johnsimmonsforcongress/',\n",
       " 'candidate-Kathleen Bailey',\n",
       " 'https://www.baileyfortexas.com/home',\n",
       " 'https://www.facebook.com/kcbailey2022',\n",
       " 'https://www.twitter.com/KCBailey2022',\n",
       " 'candidate-Tartisha Hill',\n",
       " 'https://www.twitter.com/TartishaHill',\n",
       " 'https://www.facebook.com/tartishah',\n",
       " 'https://www.twitter.com/TartishaH',\n",
       " 'https://www.linkedin.com/in/tartisha-hill-67215828/',\n",
       " 'candidate-Charles Gearing',\n",
       " 'https://www.gearingfortexas.com/',\n",
       " 'https://www.facebook.com/GearingforTexas',\n",
       " 'https://www.twitter.com/GearingforTexas',\n",
       " 'https://www.instagram.com/gearingfortexas/',\n",
       " 'https://www.youtube.com/channel/UCgtV3nMJ2SnMS8PHnRztD0g',\n",
       " 'https://www.linkedin.com/in/charles-m-gearing-7330651/',\n",
       " 'candidate-Lance Gooden',\n",
       " 'https://gooden.house.gov/',\n",
       " 'https://www.youtube.com/channel/UCaEs0pYlL_1cLlPBHfl0RIg',\n",
       " 'http://lancegooden.com/',\n",
       " 'https://www.facebook.com/lancegoodenfortexas',\n",
       " 'https://www.twitter.com/Lancegooden',\n",
       " 'https://www.instagram.com/lancegooden/',\n",
       " 'https://www.facebook.com/lancegooden',\n",
       " 'candidate-Kevin Hale',\n",
       " 'candidate-Jake Ellzey',\n",
       " 'https://ellzey.house.gov/',\n",
       " 'https://www.facebook.com/RepJakeEllzey',\n",
       " 'https://www.twitter.com/RepEllzey',\n",
       " 'https://www.ellzeyfortexas.com/',\n",
       " 'https://www.facebook.com/CommanderEllzey',\n",
       " 'https://www.twitter.com/JakeEllzey',\n",
       " 'https://www.instagram.com/commanderellzey',\n",
       " 'https://www.youtube.com/channel/UCbzpzYhmgoFnqFr4a5ai56A',\n",
       " 'https://www.facebook.com/jake.ellzey.733',\n",
       " 'https://www.linkedin.com/in/jake-ellzey-0a253138/',\n",
       " 'candidate-James Buford',\n",
       " 'https://votebuford4congress.com',\n",
       " 'https://www.facebook.com/buford4congress',\n",
       " 'https://www.twitter.com/jamesbu74790136',\n",
       " 'https://www.instagram.com/buford4congress',\n",
       " 'https://www.linkedin.com/in/james-buford-8b604921b',\n",
       " 'candidate-Bill Payne',\n",
       " 'candidate-Bill Payne',\n",
       " 'candidate-Lizzie Pannill Fletcher',\n",
       " 'https://fletcher.house.gov/',\n",
       " 'https://www.facebook.com/RepFletcher/',\n",
       " 'https://www.twitter.com/RepFletcher',\n",
       " 'https://www.instagram.com/repfletcher/',\n",
       " 'https://www.youtube.com/channel/UCIWDLoDPvawP118TNWi-9rg',\n",
       " 'https://lizziefletcher.com/',\n",
       " 'https://www.facebook.com/LizzieForCongress',\n",
       " 'https://www.twitter.com/lizzie4congress',\n",
       " 'https://www.instagram.com/lizzieforcongress/',\n",
       " 'https://www.youtube.com/channel/UCb1_n8fVrDWDOqQXjFhCCNw',\n",
       " 'https://www.facebook.com/lizzie.pannillfletcher/',\n",
       " 'https://www.linkedin.com/in/elizabeth-fletcher-a6a7738/',\n",
       " 'candidate-Rudy Atencio',\n",
       " 'https://www.americansforpeace.us/',\n",
       " 'https://www.facebook.com/americans2022',\n",
       " 'https://www.twitter.com/rudy_atencio',\n",
       " 'https://www.instagram.com/americans2022/',\n",
       " 'https://www.youtube.com/channel/UCshvMO2idGdOuU7TbxP4nQw',\n",
       " 'https://www.facebook.com/americansforpeace',\n",
       " 'https://www.linkedin.com/in/rudy-a-atencio-161791177/',\n",
       " 'candidate-Tina Blum Cohen',\n",
       " 'https://www.tinablumcohen.com/',\n",
       " 'https://www.facebook.com/tinafortexas',\n",
       " 'https://www.twitter.com/tinacohen18',\n",
       " 'https://www.facebook.com/tb.cohen',\n",
       " 'https://www.linkedin.com/in/tina-cohen-776b3020/',\n",
       " 'candidate-Benson Gitau',\n",
       " 'https://www.bensongitau.com',\n",
       " 'https://www.facebook.com/ibensongitau',\n",
       " 'https://www.twitter.com/ibensongitau',\n",
       " 'https://www.instagram.com/ibensongitau',\n",
       " 'https://www.youtube.com/channel/UCUMWAUYZVtLxYRq3Lsm8JVA',\n",
       " 'candidate-Laique Rehman',\n",
       " 'http://www.laiquerehman.com/index.html',\n",
       " 'https://www.facebook.com/laiquerehmanforcongress1/',\n",
       " 'https://www.twitter.com/LaiqueRehman1',\n",
       " 'https://www.instagram.com/laique.rehman',\n",
       " 'https://www.linkedin.com/in/laique-rehman-40132521/',\n",
       " 'candidate-Lance Stewart',\n",
       " 'https://lance4tx.com',\n",
       " 'https://www.facebook.com/Lance-Stewart-104490375168018',\n",
       " 'https://www.twitter.com/Lance4TX',\n",
       " 'https://www.linkedin.com/in/lance-stewart-4529121b/',\n",
       " 'candidate-Tim Stroud',\n",
       " 'https://stroudforcongress.com/',\n",
       " 'https://www.facebook.com/TimStroudForCongress/',\n",
       " 'https://www.youtube.com/channel/UCaDtLj6D3SSKMxR4TxDuzLQ',\n",
       " 'https://www.facebook.com/timthearmymedic',\n",
       " 'https://www.twitter.com/timthearmymedic',\n",
       " 'https://www.linkedin.com/in/stroudmarketing/',\n",
       " 'candidate-Johnny Teague',\n",
       " 'https://www.checkjohnnyforcongress.org',\n",
       " 'https://www.facebook.com/CheckJohnnyTeague/',\n",
       " 'https://www.twitter.com/for_teague',\n",
       " 'https://www.facebook.com/johnny.teague',\n",
       " 'https://www.youtube.com/channel/UCpV-5G9sAzhgRrJw5DRvv9w',\n",
       " 'https://www.linkedin.com/in/dr-johnny-teague-76289a80/',\n",
       " 'candidate-Jafar Hajjar',\n",
       " 'candidate-Laura Jones',\n",
       " 'https://laurajonesforcongress.com/',\n",
       " 'https://www.facebook.com/LauraJonesforCongress',\n",
       " 'https://www.twitter.com/CongressLaura',\n",
       " 'https://www.instagram.com/LauraJonesforCongress/',\n",
       " 'https://www.facebook.com/laurajones.yoga.5',\n",
       " 'https://www.linkedin.com/in/laura-jones-a77889b3/',\n",
       " 'candidate-Betsy Bates',\n",
       " 'https://www.betsybatescongress2022.com',\n",
       " 'https://www.facebook.com/people/Betsy-Bates/100068817076358/',\n",
       " 'https://www.twitter.com/MAGABetsy',\n",
       " 'candidate-Candice C. Burrows',\n",
       " 'https://candicecburrows.com/',\n",
       " 'candidate-Christian Collins',\n",
       " 'https://www.christiancollins.org',\n",
       " 'https://www.facebook.com/christiancollinstx/',\n",
       " 'https://www.twitter.com/collinsfortx',\n",
       " 'https://www.instagram.com/christiancollinstx/',\n",
       " 'https://www.youtube.com/channel/UC0ZuhuSqcguzkBuIXdXk37A',\n",
       " 'https://www.facebook.com/Christian.S.Collins',\n",
       " 'https://www.linkedin.com/in/christiancollins7/',\n",
       " 'candidate-Jonathan Hullihan',\n",
       " 'https://www.hullihanfortexas.com/',\n",
       " 'https://www.facebook.com/JHullihanTX/',\n",
       " 'https://www.twitter.com/jhullihantx',\n",
       " 'https://www.instagram.com/jhullihantx/',\n",
       " 'candidate-Morgan Luttrell',\n",
       " 'https://www.morganluttrell.com/',\n",
       " 'https://www.facebook.com/MLuttrellTX',\n",
       " 'https://www.twitter.com/MLuttrellTX',\n",
       " 'https://www.instagram.com/mojoluttrell/',\n",
       " 'https://www.youtube.com/channel/UCfVZpKoKjsB6l5wF9AF96wg',\n",
       " 'https://www.linkedin.com/in/morgan-luttrell-169623195/',\n",
       " 'candidate-Dan McKaughan',\n",
       " 'https://danmckaughan.com/',\n",
       " 'https://www.facebook.com/DanMcKaughanTX/',\n",
       " 'https://www.twitter.com/DanMcKaughanTX',\n",
       " 'https://www.instagram.com/DanMcKaughanTX/',\n",
       " 'candidate-Jonathan Mitchell',\n",
       " 'https://www.jonathanmitchellforcongress.com/',\n",
       " 'https://www.facebook.com/Jonathan-Mitchell-for-Congress-103071841922918',\n",
       " 'https://www.twitter.com/JMitchellforTX',\n",
       " 'candidate-Chuck Montgomery',\n",
       " 'https://www.facebook.com/chuckmontgomeryforcongress',\n",
       " 'candidate-Mike Philips',\n",
       " 'http://www.meetmikephilips.com/',\n",
       " 'https://www.twitter.com/Meetmikephilips',\n",
       " 'https://www.instagram.com/Meetmikephilips',\n",
       " 'candidate-Jessica Wellington',\n",
       " 'https://jessicawellingtonforcongress.com',\n",
       " 'https://www.facebook.com/jessicawellingtontx',\n",
       " 'https://www.twitter.com/jwellingtontx',\n",
       " 'https://www.instagram.com/jessicawellingtontx',\n",
       " 'https://www.linkedin.com/in/jessica-wellington-573a7623/',\n",
       " 'candidate-Jessica Wellington',\n",
       " 'https://jessicawellingtonforcongress.com',\n",
       " 'https://www.facebook.com/jessicawellingtontx',\n",
       " 'https://www.twitter.com/jwellingtontx',\n",
       " 'https://www.instagram.com/jessicawellingtontx',\n",
       " 'https://www.linkedin.com/in/jessica-wellington-573a7623/',\n",
       " 'candidate-Taylor Whichard',\n",
       " 'https://www.taylorwhichardforcongress.com',\n",
       " 'https://www.facebook.com/taylorwhichardforcongress/',\n",
       " 'https://www.twitter.com/WhichardIv',\n",
       " 'https://www.instagram.com/tm.whichardiv/',\n",
       " 'https://www.linkedin.com/in/taylor-whichard-7117a846/',\n",
       " 'candidate-Salvador Gallegos',\n",
       " 'candidate-Ryan Jarchow',\n",
       " 'https://jarchowcampaign.com/',\n",
       " 'https://www.twitter.com/jarchowcampaign',\n",
       " 'https://www.youtube.com/channel/UCTwmiWvMtGdSXS8cttcJJfg',\n",
       " 'candidate-Adrian Kaiser',\n",
       " 'https://adriankaiser.com/',\n",
       " 'https://www.facebook.com/Kaiser4congress/',\n",
       " 'candidate-Christopher Revis',\n",
       " 'candidate-Roy Eriksen',\n",
       " 'https://www.facebook.com/roy.eriksen.16',\n",
       " 'https://www.linkedin.com/in/reriksen/',\n",
       " 'candidate-Randall Addison',\n",
       " 'candidate-Al Green',\n",
       " 'https://ballotpedia.org/Help:Report_an_error',\n",
       " 'https://algreen.house.gov/',\n",
       " 'https://www.facebook.com/repalgreen/',\n",
       " 'https://www.twitter.com/RepAlGreen',\n",
       " 'https://www.instagram.com/repalgreen/',\n",
       " 'https://www.youtube.com/user/RepAlGreen',\n",
       " 'https://algreen.org/',\n",
       " 'https://www.twitter.com/RepAlGreenTX',\n",
       " 'candidate-Jimmy Leon',\n",
       " 'candidate-Linda Nuno',\n",
       " 'https://lindanunoforcongress.com/',\n",
       " 'https://www.facebook.com/Lindanuno777',\n",
       " 'https://www.instagram.com/linda_nuno_for_congress/',\n",
       " 'https://www.facebook.com/PINKAIRPLANE18',\n",
       " 'https://www.twitter.com/LindaNuno7',\n",
       " 'https://www.youtube.com/channel/UCKGl31jrWboR_tzQuYWXzXQ',\n",
       " 'candidate-Larry Wallace Jr.',\n",
       " 'https://wallaceforcongress.com/',\n",
       " 'https://www.facebook.com/MayorDrWallaceJr',\n",
       " 'https://www.twitter.com/DrLarryWallace1',\n",
       " 'https://www.instagram.com/larrywallacejr/',\n",
       " 'https://www.youtube.com/channel/UC1ZAokqQ4c2BQV8IdxJnQBQ',\n",
       " 'https://www.facebook.com/drlarrywallacejr',\n",
       " 'https://www.linkedin.com/in/larrywallacejr/',\n",
       " 'candidate-Michael McCaul',\n",
       " 'https://mccaul.house.gov/',\n",
       " 'https://www.facebook.com/michaeltmccaul/',\n",
       " 'https://www.twitter.com/RepMcCaul',\n",
       " 'https://www.instagram.com/congressman_mccaul/',\n",
       " 'https://www.youtube.com/user/MichaelTMcCaul',\n",
       " 'https://michaelmccaul.com/',\n",
       " 'https://www.facebook.com/MichaelMcCaulTX',\n",
       " 'https://www.twitter.com/McCaulforTexas',\n",
       " 'https://www.youtube.com/channel/UCFTcskOT4na97M00Vpu_oZw',\n",
       " 'candidate-Bill Kelsey',\n",
       " 'https://www.facebook.com/bill.kelsey.5817',\n",
       " 'candidate-August Pfluger',\n",
       " 'https://pfluger.house.gov/',\n",
       " 'https://www.facebook.com/RepAugustPfluger/',\n",
       " 'https://www.twitter.com/RepPfluger',\n",
       " 'https://www.instagram.com/RepAugustPfluger/',\n",
       " 'https://www.youtube.com/channel/UC8bJT16wpa7co50ELvpMTTg',\n",
       " 'https://www.augustpfluger.com/',\n",
       " 'https://www.facebook.com/AugustPflugerTX',\n",
       " 'https://www.twitter.com/AugustPfluger',\n",
       " 'https://www.instagram.com/augustpflugertx/',\n",
       " 'https://www.linkedin.com/in/august-pfluger-23240577',\n",
       " 'candidate-Trey Hunt',\n",
       " 'https://treyhuntcongress.com',\n",
       " 'https://www.facebook.com/VoteHunt2022',\n",
       " 'https://www.twitter.com/VoteHunt2022',\n",
       " 'https://www.instagram.com/votehunt2022/',\n",
       " 'https://www.youtube.com/channel/UC2A87ZiAlVa5tAByX-NGPQg',\n",
       " 'https://www.facebook.com/TreyJHunt',\n",
       " 'https://www.linkedin.com/in/trey-hunt-0a87831aa/',\n",
       " 'candidate-Kay Granger',\n",
       " 'https://ballotpedia.org/Help:Report_an_error',\n",
       " 'https://kaygranger.house.gov/',\n",
       " 'https://www.facebook.com/RepKayGranger',\n",
       " 'https://www.twitter.com/RepKayGranger',\n",
       " 'https://www.instagram.com/repkaygranger/',\n",
       " 'https://www.youtube.com/c/RepKayGranger',\n",
       " 'https://kaygranger.com/',\n",
       " 'https://www.facebook.com/KayGrangerCampaign/',\n",
       " 'https://www.twitter.com/GrangerCampaign',\n",
       " 'candidate-Ryan Catala',\n",
       " 'https://ryanjcatala.com/',\n",
       " 'https://www.twitter.com/Catala4Congress',\n",
       " 'https://www.instagram.com/Catala4Congress',\n",
       " 'https://www.facebook.com/profile.php?id=100058913288479',\n",
       " 'https://www.twitter.com/ryanjcatala',\n",
       " 'candidate-Alysia Rieg',\n",
       " 'https://alysiarieg.com',\n",
       " 'https://www.facebook.com/athletealysiarieg',\n",
       " 'https://www.instagram.com/ay_lee_see_yuh',\n",
       " 'https://www.facebook.com/alysia.rieg',\n",
       " 'https://www.twitter.com/alysiarieg',\n",
       " 'https://www.linkedin.com/in/alysiarieg/',\n",
       " 'candidate-Chris Putnam',\n",
       " 'https://putnamfortexas.com/',\n",
       " 'https://www.facebook.com/putnamfortexas/',\n",
       " 'https://www.twitter.com/putnamfortexas',\n",
       " 'https://www.linkedin.com/in/chris-putnam-543b6/',\n",
       " 'candidate-Chris Rector',\n",
       " 'https://rectorfortexas97.com',\n",
       " 'https://www.twitter.com/cdrectorauthor',\n",
       " 'https://www.instagram.com/rector4texas',\n",
       " 'candidate-Kathleen Brown',\n",
       " 'https://www.kathleenfortx.com',\n",
       " 'https://www.facebook.com/KathleenForTx13',\n",
       " 'https://www.twitter.com/Kat4District13',\n",
       " 'https://www.youtube.com/channel/UCd1YzFPDnOR4Je0MgUqx6Rg',\n",
       " 'candidate-Ronny L. Jackson',\n",
       " 'https://jackson.house.gov/',\n",
       " 'https://www.facebook.com/RepRonnyJackson/',\n",
       " 'https://www.twitter.com/RepRonnyJackson',\n",
       " 'https://www.instagram.com/RepRonnyJackson/',\n",
       " 'https://www.youtube.com/channel/UCXhohNmrQ0R-c-5Nv2VfD9g',\n",
       " 'https://ronnyjacksontx.com/',\n",
       " 'https://www.facebook.com/RonnyJacksonTX',\n",
       " 'https://www.twitter.com/RonnyJacksonTX',\n",
       " 'https://www.facebook.com/ronny.jackson.568089',\n",
       " 'https://www.linkedin.com/in/ronny-l-jackson/',\n",
       " 'candidate-Eugene Howard',\n",
       " 'https://howard-2-congress.org/',\n",
       " 'https://www.facebook.com/PresidenHoward',\n",
       " 'https://www.twitter.com/VisionaryHoward',\n",
       " 'https://www.instagram.com/visionaryhoward',\n",
       " 'https://www.youtube.com/channel/UCMtrqJ3Kaw50cgN-utczIuw',\n",
       " 'https://www.linkedin.com/in/eugene-howard-ba5324170/',\n",
       " 'candidate-Mikal Williams',\n",
       " 'https://www.electmikalwilliams.com/',\n",
       " 'https://www.facebook.com/mikaldwilliams2022/',\n",
       " 'https://www.twitter.com/MikalDWilliams',\n",
       " 'https://www.instagram.com/mikaldwilliams/',\n",
       " 'https://www.facebook.com/mikal.williams.921',\n",
       " 'https://www.linkedin.com/in/mikal-d-williams-0129a87/',\n",
       " 'candidate-Jeff Antonelli',\n",
       " 'http://antonelli2022.com/',\n",
       " 'https://www.facebook.com/Jeff-Antonelli-for-TX-House-District-23-103359801449150',\n",
       " 'https://www.facebook.com/jeff.antonelli',\n",
       " 'candidate-Cyrus Sajna',\n",
       " 'https://www.facebook.com/cyrus.sajna',\n",
       " 'https://www.youtube.com/channel/UCQzBuLSO13YUqGmXTQZMKKg/',\n",
       " 'https://www.linkedin.com/in/cyrussajna/',\n",
       " 'candidate-Randy Weber',\n",
       " 'https://weber.house.gov/',\n",
       " 'https://www.facebook.com/TXRandy14/',\n",
       " 'https://www.twitter.com/TXRandy14',\n",
       " 'https://www.instagram.com/TXRandy14/',\n",
       " 'https://www.youtube.com/TXRandy14',\n",
       " 'https://randyweber.org/',\n",
       " 'https://www.facebook.com/WeberForTexas',\n",
       " 'https://www.facebook.com/randy.weber.1675',\n",
       " 'candidate-Randy Weber',\n",
       " 'https://weber.house.gov/',\n",
       " 'https://www.facebook.com/TXRandy14/',\n",
       " 'https://www.twitter.com/TXRandy14',\n",
       " 'https://www.instagram.com/TXRandy14/',\n",
       " 'https://www.youtube.com/TXRandy14',\n",
       " 'https://randyweber.org/',\n",
       " 'https://www.facebook.com/WeberForTexas',\n",
       " 'https://www.facebook.com/randy.weber.1675',\n",
       " 'candidate-Keith Casey',\n",
       " 'https://www.facebook.com/keith.casey.127',\n",
       " 'candidate-Ruben Landon Dante',\n",
       " 'https://www.rldforcongress.com/',\n",
       " 'https://www.facebook.com/RubenLandonDante/',\n",
       " 'https://www.twitter.com/RubenLDante',\n",
       " 'https://www.instagram.com/RubenLDante/',\n",
       " 'https://www.facebook.com/RubenLDante',\n",
       " 'https://www.youtube.com/channel/UCYG1WlXXgNaYYNyQ1cV804w',\n",
       " 'https://www.linkedin.com/in/rubendante/',\n",
       " 'candidate-Gina Smith',\n",
       " 'https://www.drginasmith.com/',\n",
       " 'https://www.facebook.com/Dr-Gina-Smith-100849645477947',\n",
       " 'https://www.twitter.com/drgina_smith',\n",
       " 'https://www.instagram.com/realginasmith2022/',\n",
       " 'candidate-Eliza Alvarado',\n",
       " 'https://alvaradoforcongress.com/',\n",
       " 'https://www.facebook.com/Eliza-Alvarado-for-Congress-106381151840888/',\n",
       " 'https://www.facebook.com/eliza.alvarado',\n",
       " 'https://www.linkedin.com/in/eliza-alvarado-133b1388/',\n",
       " 'candidate-Julio Garza',\n",
       " 'https://juliogarzaforcongress.com/',\n",
       " 'https://www.facebook.com/Julio-Garza-for-Congress-100101779182048/',\n",
       " 'https://www.twitter.com/Garzafor15',\n",
       " 'https://www.instagram.com/juliogarzaforcongress/',\n",
       " 'https://www.facebook.com/profile.php?id=100075343805997',\n",
       " 'candidate-Ruben Ramirez',\n",
       " 'https://voteruben.com/',\n",
       " 'https://www.facebook.com/Ruben-Ramirez-for-Congress-100963232386119/',\n",
       " 'candidate-Vanessa Tijerina',\n",
       " 'https://www.facebook.com/votetijerina2016',\n",
       " 'https://www.facebook.com/vanessa.s.tijerina',\n",
       " 'candidate-Michelle Vallejo',\n",
       " 'https://michellefortx15.com/home/',\n",
       " 'https://www.facebook.com/michellevfortx',\n",
       " 'https://www.twitter.com/MichelleVforTX',\n",
       " 'https://www.instagram.com/michellevfortx/',\n",
       " 'https://www.youtube.com/channel/UC2iOQwxr_HfaZGZde__QGug',\n",
       " 'candidate-John Villarreal Rigney',\n",
       " 'https://www.villarrealrigneyforcongress.com',\n",
       " 'https://www.facebook.com/Rigney2022',\n",
       " 'https://www.twitter.com/RigneyTeam',\n",
       " 'https://www.youtube.com/channel/UCmeFXyrLnLZaQ4ZGXljj-BA',\n",
       " 'https://www.facebook.com/john.rigney.52',\n",
       " 'candidate-Roberto Haddad',\n",
       " 'https://www.linkedin.com/in/roberto-haddad-73a20436/',\n",
       " 'candidate-Jose Aizar Cavazos',\n",
       " 'https://www.aizarcavazosforcongress.com/',\n",
       " 'https://www.facebook.com/Aizar-Cavazos-for-Congress-109197278211860/',\n",
       " 'https://www.twitter.com/AizarCavazosTX',\n",
       " 'candidate-Sara Canady',\n",
       " 'https://canadyforcongress.com',\n",
       " 'https://www.facebook.com/Judge-Sara-Canady-for-US-Congress-District-15-103426368856651',\n",
       " 'https://www.twitter.com/Canady4Congress',\n",
       " 'https://www.linkedin.com/in/sara-canady-0a902830/',\n",
       " 'candidate-Vangela Churchill',\n",
       " 'https://www.churchillforcongress.com/',\n",
       " 'https://www.facebook.com/vangelaforcongress/',\n",
       " 'https://www.twitter.com/ForChurchill',\n",
       " 'https://www.instagram.com/vangelaforcongress',\n",
       " 'https://www.youtube.com/channel/UCkeiaXW54mpdraR9RrDzlcA/featured',\n",
       " 'https://www.facebook.com/vangelachurchillforcongress',\n",
       " 'https://www.linkedin.com/in/vangeladenney/',\n",
       " 'candidate-Monica De La Cruz Hernandez',\n",
       " 'https://www.monicaforcongress.us/',\n",
       " 'https://www.facebook.com/monicaforcongress/',\n",
       " 'https://www.twitter.com/monica4congress',\n",
       " 'https://www.instagram.com/monicaforcongress/',\n",
       " 'https://www.youtube.com/channel/UCrD8yy6HIWAQByMKuPWcGxQ',\n",
       " 'https://www.linkedin.com/in/monica-de-la-cruz-250978169/',\n",
       " 'candidate-Mauro Garza',\n",
       " 'https://maurogarzaforcongress.com/',\n",
       " 'https://www.facebook.com/MauroGarzaForCongress',\n",
       " 'https://www.instagram.com/mauro4texas/',\n",
       " 'https://www.youtube.com/channel/UCAu2tHmUur3BVQN1MdTFTXw',\n",
       " 'https://www.facebook.com/mauro.garza.3914',\n",
       " 'https://www.linkedin.com/in/maurogarza/',\n",
       " 'candidate-Angela Juarez',\n",
       " 'candidate-Ryan Krause',\n",
       " 'https://ryankrauseforcongress.com/',\n",
       " 'https://www.linkedin.com/in/krause4u/',\n",
       " 'candidate-John Lerma',\n",
       " 'candidate-Steve Schmuker Jr.',\n",
       " 'candidate-Ross Lynn Leone',\n",
       " 'https://www.facebook.com/ross.leone.96',\n",
       " 'candidate-Veronica Escobar',\n",
       " 'https://ballotpedia.org/Help:Report_an_error',\n",
       " 'https://escobar.house.gov/',\n",
       " 'https://www.facebook.com/RepEscobar/',\n",
       " 'https://www.twitter.com/RepEscobar',\n",
       " 'https://www.instagram.com/repescobar/',\n",
       " 'https://www.youtube.com/channel/UC46TX2P8K0CA_4gZv8_R2Og/',\n",
       " 'https://veronicaescobar.com/',\n",
       " 'https://www.facebook.com/VeronicaEscobarTX',\n",
       " 'https://www.twitter.com/vgescobar',\n",
       " 'https://www.instagram.com/veronicaescobartx/',\n",
       " 'candidate-Deliris Montanez Berrios',\n",
       " 'https://dmbforcongress.com/',\n",
       " 'https://www.facebook.com/DMBfor',\n",
       " 'https://www.twitter.com/dmbfor',\n",
       " 'https://www.instagram.com/dmbfor',\n",
       " 'https://www.youtube.com/channel/UCQPTp_n5MqwY7IwixEvmBmA',\n",
       " 'https://www.facebook.com/deliris.montanez/',\n",
       " 'https://www.linkedin.com/in/deliris-dee-montanez-26405333',\n",
       " 'candidate-Irene Armendariz-Jackson',\n",
       " 'https://irenearmendarizjackson.com/',\n",
       " 'https://www.facebook.com/ArmendarizforElPaso/',\n",
       " 'https://www.twitter.com/ArmendarizDis16',\n",
       " 'https://www.instagram.com/irene4congress/',\n",
       " 'https://www.facebook.com/Ireneajackson',\n",
       " 'https://www.twitter.com/amazingurl09',\n",
       " 'https://www.linkedin.com/in/irene-armendariz-jackson-ma-59b3a426/',\n",
       " 'candidate-Samuel Williams Jr.',\n",
       " 'https://samforep.com/',\n",
       " 'https://www.twitter.com/votesamuelwill1',\n",
       " 'https://www.facebook.com/profile.php?id=100007308886429&ref=br_rs',\n",
       " 'candidate-Mary Jo Woods',\n",
       " 'https://maryjowoodstx17.com/',\n",
       " 'https://www.facebook.com/MaryWoodsTX17',\n",
       " 'https://www.twitter.com/MaryJo_TX17',\n",
       " 'https://www.instagram.com/maryjotx17',\n",
       " 'candidate-Pete Sessions',\n",
       " 'https://sessions.house.gov/',\n",
       " 'https://www.facebook.com/petesessions',\n",
       " 'https://www.twitter.com/PeteSessions',\n",
       " 'https://www.youtube.com/channel/UCD-O0Y92UcMglKmoo7BHLsg',\n",
       " 'https://www.petesessions.com/',\n",
       " 'https://www.facebook.com/sessionsforcongress',\n",
       " 'https://www.twitter.com/SessionsTX17',\n",
       " 'https://www.linkedin.com/in/petesessions?',\n",
       " 'candidate-Paulette Carson',\n",
       " 'https://www.carson4congress.us/',\n",
       " 'https://www.facebook.com/Carson4Congress',\n",
       " 'https://www.twitter.com/Carson4Tx',\n",
       " 'https://www.facebook.com/carsoncp',\n",
       " 'https://www.linkedin.com/in/paulette-carson-25400945/',\n",
       " 'candidate-Jason Nelson',\n",
       " 'https://www.jasonnelsonforcongress.com/',\n",
       " 'https://www.facebook.com/Jason-Storm-Nelson-for-Congress-111374444732444/',\n",
       " 'https://www.twitter.com/Storm4Congress',\n",
       " 'candidate-Robert Rosenberger',\n",
       " 'https://www.linkedin.com/in/robertrosenberger/',\n",
       " 'candidate-Sheila Jackson Lee',\n",
       " 'https://ballotpedia.org/Help:Report_an_error',\n",
       " 'https://jacksonlee.house.gov/',\n",
       " 'https://www.facebook.com/CongresswomanSheilaJacksonLee/',\n",
       " 'https://www.twitter.com/JacksonLeeTX18',\n",
       " 'https://www.instagram.com/repjacksonlee/',\n",
       " 'https://www.youtube.com/user/RepJacksonLee',\n",
       " 'https://www.facebook.com/SheilaJacksonLeefor18',\n",
       " 'https://www.instagram.com/SheilaJacksonLee/',\n",
       " 'https://www.facebook.com/sheilajacksonlee18',\n",
       " 'https://www.linkedin.com/in/congresswomansheilajacksonlee/',\n",
       " 'candidate-Cassius Marcellous Evergreen',\n",
       " 'https://cassiusevergreen.com',\n",
       " 'https://www.twitter.com/CashForCongress',\n",
       " 'https://www.instagram.com/cashforcongress/',\n",
       " 'https://www.linkedin.com/in/cassius-evergreen/',\n",
       " 'candidate-Charles Thompson',\n",
       " 'https://ct4cd18.com/',\n",
       " 'candidate-Carmen Maria Montiel',\n",
       " 'https://carmenforcongress.com/',\n",
       " 'https://www.facebook.com/CarmenForCongress',\n",
       " 'https://www.twitter.com/Carmen4Congress',\n",
       " 'https://www.instagram.com/carmenforcongress/',\n",
       " 'https://www.carmenmaria.today/',\n",
       " 'https://www.facebook.com/carmen.ma.montiel',\n",
       " 'candidate-Scott Huckabee',\n",
       " 'https://www.twitter.com/ScottHuckabee2',\n",
       " 'candidate-Phil Kurtz',\n",
       " 'https://www.facebook.com/phil.kurtz.3',\n",
       " 'https://www.youtube.com/channel/UC9mEvVku2Mlre6FDGNbvvUQ/featured',\n",
       " 'https://www.linkedin.com/in/philip-kurtz-913006174/',\n",
       " 'candidate-Jodey Arrington',\n",
       " 'https://arrington.house.gov/',\n",
       " 'https://www.facebook.com/RepJodeyArrington',\n",
       " 'https://www.twitter.com/RepArrington',\n",
       " 'https://www.instagram.com/repjodeyarrington/',\n",
       " 'https://www.youtube.com/channel/UC3lif8TFPOe-tJ2-pE4Rp7Q',\n",
       " 'https://www.jodeyarrington.com/',\n",
       " 'https://www.facebook.com/JodeyArringtonTX19',\n",
       " 'https://www.twitter.com/JodeyArrington',\n",
       " 'https://www.instagram.com/jodeyarrington/',\n",
       " 'https://www.facebook.com/jodey.arrington.5',\n",
       " 'https://www.linkedin.com/in/jodeyarrington/',\n",
       " 'candidate-Joaquin Castro',\n",
       " 'https://castro.house.gov/',\n",
       " 'https://www.facebook.com/JoaquinCastroTX/',\n",
       " 'https://www.twitter.com/JoaquinCastrotx',\n",
       " 'https://www.instagram.com/joaquincastrotx/',\n",
       " 'https://www.youtube.com/user/JoaquinCastroTX',\n",
       " 'https://castroforcongress.com/',\n",
       " 'https://www.facebook.com/JoaquinCastro4Congress',\n",
       " 'https://www.twitter.com/Castro4Congress',\n",
       " 'https://www.facebook.com/joaquin.castro.142',\n",
       " 'https://www.linkedin.com/in/joaquin-castro-2626ab51/',\n",
       " 'candidate-Kyle Sinclair',\n",
       " 'https://kylefor20.com/',\n",
       " 'https://www.facebook.com/kylefor20',\n",
       " 'https://www.twitter.com/kylefor20',\n",
       " 'https://www.instagram.com/kylefor20/',\n",
       " 'https://www.facebook.com/kyle.sinclair2',\n",
       " 'https://www.twitter.com/sinclairkyle1',\n",
       " 'https://www.linkedin.com/in/kylesinclair2010/',\n",
       " 'candidate-Mark Murray',\n",
       " 'candidate-Michael Stevens',\n",
       " 'candidate-David Anderson',\n",
       " 'https://www.davidandersonforcongress.com/',\n",
       " 'https://www.facebook.com/DLAndersonJrTX',\n",
       " 'https://www.twitter.com/DLAndersonJrTX',\n",
       " 'https://www.instagram.com/dlandersonjrtx/',\n",
       " 'candidate-Coy Branscum',\n",
       " 'https://coybranscum.com',\n",
       " 'https://www.facebook.com/coybranscum/',\n",
       " 'https://www.twitter.com/coybranscum',\n",
       " 'https://www.instagram.com/coybranscum',\n",
       " 'https://www.facebook.com/profile.php?id=100073934508922',\n",
       " 'https://www.linkedin.com/in/cgbranscum/',\n",
       " 'candidate-Cherif Gacis',\n",
       " 'https://www.cherif4congress.com/',\n",
       " 'https://www.facebook.com/Cherif4Congress',\n",
       " 'https://www.twitter.com/cherif4congress',\n",
       " 'https://www.instagram.com/cherif4congress',\n",
       " 'https://www.facebook.com/cgacis1',\n",
       " 'candidate-Scott Sturm',\n",
       " 'https://www.sturm4congress.com',\n",
       " 'https://www.facebook.com/SturmNextTerm',\n",
       " 'https://www.twitter.com/SturmNextTerm',\n",
       " 'https://www.youtube.com/channel/UCle5_llZ6IQTEHgW91AOlKw',\n",
       " 'candidate-Ricardo Villarreal',\n",
       " 'https://www.votericardovillarreal.com/',\n",
       " 'https://www.facebook.com/RicardoVillarrealTX21/',\n",
       " 'https://www.twitter.com/RVillarrealTX21',\n",
       " 'https://www.linkedin.com/in/drricardovillarreal/',\n",
       " 'candidate-Claudia Zapata',\n",
       " 'https://www.ConClaudia.com',\n",
       " 'https://www.facebook.com/PoderConClaudia',\n",
       " 'https://www.twitter.com/PoderConClaudia',\n",
       " 'https://www.instagram.com/PoderConClaudia',\n",
       " 'candidate-Chip Roy',\n",
       " 'https://roy.house.gov/',\n",
       " 'https://www.facebook.com/RepChipRoyPress',\n",
       " 'https://www.twitter.com/RepChipRoy',\n",
       " 'https://chiproy.com/',\n",
       " 'https://www.facebook.com/ChipRoyforCongress/',\n",
       " 'https://www.twitter.com/chiproytx',\n",
       " 'https://www.instagram.com/chiproytx/',\n",
       " 'https://www.youtube.com/channel/UCUp3Bj2EEnGlBuaUuXWgrpg',\n",
       " 'candidate-Michael French',\n",
       " 'https://www.french4congress.us',\n",
       " 'https://www.facebook.com/French4Congress',\n",
       " 'candidate-Robert Lowry',\n",
       " 'http://votelowry.com/',\n",
       " 'https://www.facebook.com/drrobertlowry',\n",
       " 'https://www.twitter.com/DrRobertLowry',\n",
       " 'candidate-Dana Zavorka',\n",
       " 'https://www.facebook.com/profile.php?id=100075712974297',\n",
       " 'https://www.facebook.com/profile.php?id=100075000604306',\n",
       " 'candidate-Jim Squires',\n",
       " 'https://www.squiresforcongress.com',\n",
       " 'https://www.facebook.com/squiresforcongress2022/',\n",
       " 'https://www.twitter.com/Squires2022',\n",
       " 'https://www.instagram.com/squires2022/',\n",
       " 'https://www.facebook.com/jim.squires27',\n",
       " 'candidate-Jamie Jordan',\n",
       " 'candidate-Matthew Berg',\n",
       " 'https://www.twitter.com/mattberg4texas',\n",
       " 'https://www.facebook.com/matticeberg',\n",
       " 'candidate-Jim Squires',\n",
       " 'https://www.squiresforcongress.com',\n",
       " 'https://www.facebook.com/squiresforcongress2022/',\n",
       " 'https://www.twitter.com/Squires2022',\n",
       " 'https://www.instagram.com/squires2022/',\n",
       " 'https://www.facebook.com/jim.squires27',\n",
       " 'candidate-Angel Vega',\n",
       " 'https://www.angelvega.com',\n",
       " 'https://www.facebook.com/AngelLuisVega',\n",
       " 'https://www.twitter.com/AngelLuisVega',\n",
       " 'https://www.instagram.com/anluisvega/',\n",
       " 'https://www.youtube.com/channel/UCRb_WwQaxok3OrrBueUaDDQ',\n",
       " 'candidate-Troy Nehls',\n",
       " 'https://ballotpedia.org/Help:Report_an_error',\n",
       " 'https://nehls.house.gov/',\n",
       " 'https://www.facebook.com/RepTroyNehls',\n",
       " 'https://www.twitter.com/RepTroyNehls',\n",
       " 'https://www.youtube.com/channel/UCf4v1ZzngfbZ-Ow9EiagaOA',\n",
       " 'https://www.nehlsforcongress.com/',\n",
       " 'https://www.facebook.com/SheriffTNehls',\n",
       " 'https://www.twitter.com/SheriffTNehls',\n",
       " 'https://www.instagram.com/troynehlstx/',\n",
       " 'https://www.linkedin.com/in/troy-e-nehls-909474116/',\n",
       " 'candidate-Gregory Thorne',\n",
       " 'https://www.gjt2022.com',\n",
       " 'https://www.facebook.com/gjt2022',\n",
       " 'https://www.twitter.com/gjt2022',\n",
       " 'https://www.facebook.com/greg.thorne.9',\n",
       " 'candidate-Joseph Leblanc',\n",
       " 'candidate-Priscilla Golden',\n",
       " 'candidate-John Lira',\n",
       " 'https://liraforcongress.com/',\n",
       " 'https://www.facebook.com/liraforcongress/',\n",
       " 'https://www.twitter.com/LiraForCongress',\n",
       " 'https://www.youtube.com/channel/UCRiNsbVJqTikoIq0AKdfgoA',\n",
       " 'https://www.linkedin.com/in/johnjlira/',\n",
       " 'candidate-Tony Gonzales',\n",
       " 'https://gonzales.house.gov/',\n",
       " 'https://www.facebook.com/RepTonyGonzales/',\n",
       " 'https://www.twitter.com/RepTonyGonzales',\n",
       " 'https://www.instagram.com/reptonygonzales/',\n",
       " 'https://www.youtube.com/channel/UCig5n4Otr-enqpM8OSJ8FGA',\n",
       " 'https://tonygonzalesforcongress.com/',\n",
       " 'https://www.facebook.com/TonyGonzalesForCongress',\n",
       " 'https://www.twitter.com/TonyGonzales4TX',\n",
       " 'https://www.youtube.com/channel/UCAuRovyQwaNVb8XFmd9HX4w',\n",
       " 'candidate-Alma Arredondo-Lynch',\n",
       " 'https://www.facebook.com/Dralmaforcongress',\n",
       " 'https://www.twitter.com/arredondo_lynch',\n",
       " 'https://www.facebook.com/alma.arredondolynch.9',\n",
       " 'https://www.linkedin.com/in/alma-g-arredondo-lynch-dds-121903113/',\n",
       " 'candidate-Alia Garcia-Ureste',\n",
       " 'https://electalia.com/',\n",
       " 'https://www.facebook.com/Alia4USCongress/',\n",
       " 'https://www.twitter.com/Alia4USCongress',\n",
       " 'https://www.youtube.com/channel/UC5Wj4BK7fuioISjIVoP8UUQ',\n",
       " 'https://www.facebook.com/profile.php?id=100058055799976',\n",
       " 'candidate-Kathy Fragnoli',\n",
       " 'https://kathy4congress.com',\n",
       " 'https://www.facebook.com/Kathy4Congress/',\n",
       " 'https://www.twitter.com/Kathy4Congress',\n",
       " 'https://www.instagram.com/kathy4congress',\n",
       " 'candidate-Derrik Gay',\n",
       " 'https://derrikgay.com/',\n",
       " 'https://www.facebook.com/DerrikGayForCongress',\n",
       " 'https://www.twitter.com/derrikgay',\n",
       " 'https://www.instagram.com/derrikgay',\n",
       " 'https://www.facebook.com/derriktg',\n",
       " 'https://www.linkedin.com/in/derrikgay/',\n",
       " 'candidate-Jan McDowell',\n",
       " 'https://www.JanMcDowell.com',\n",
       " 'https://www.facebook.com/JanMcDowellDemocrat/',\n",
       " 'https://www.twitter.com/JanForCongress',\n",
       " 'https://www.instagram.com/JanMcDowellForCongress',\n",
       " 'https://www.facebook.com/jan.mcdowell.96',\n",
       " 'https://www.linkedin.com/in/janmcdowell/',\n",
       " 'candidate-Michelle Beckley',\n",
       " 'https://house.texas.gov/members/member-page/?district=65',\n",
       " 'https://www.michellebeckley.com/',\n",
       " 'https://www.facebook.com/MichelleBeckleyTexas',\n",
       " 'https://www.twitter.com/BeckleyforTX',\n",
       " 'https://www.instagram.com/michellebeckleyfortexas/',\n",
       " 'https://www.youtube.com/michellebeckley',\n",
       " 'https://www.facebook.com/michelle.beckley',\n",
       " 'https://www.linkedin.com/in/michelle-beckley-3b41b4161/',\n",
       " 'candidate-Beth Van Duyne',\n",
       " 'https://ballotpedia.org/Help:Report_an_error',\n",
       " 'https://vanduyne.house.gov/',\n",
       " 'https://www.facebook.com/RepBethVanDuyne',\n",
       " 'https://www.twitter.com/RepBethVanDuyne',\n",
       " 'https://www.instagram.com/repbethvanduyne/',\n",
       " 'https://www.youtube.com/channel/UC891KwZoimDB36IzK1or_VA',\n",
       " 'https://bethfortexas.com/',\n",
       " 'https://www.facebook.com/BethVanDuyneTX',\n",
       " 'https://www.instagram.com/bethvanduynetx/',\n",
       " 'https://www.facebook.com/beth.vanduyne',\n",
       " 'https://www.linkedin.com/in/beth-van-duyne-60462a9/',\n",
       " 'candidate-Nate Weymouth',\n",
       " 'candidate-Roger Williams',\n",
       " 'https://williams.house.gov/',\n",
       " 'https://www.facebook.com/RepRogerWilliams/',\n",
       " 'https://www.twitter.com/RepRWilliams',\n",
       " 'https://www.instagram.com/reprwilliams/',\n",
       " 'https://www.youtube.com/channel/UCBtfmMMQarjtLB9U_pWMOhw',\n",
       " 'https://www.rogerforcongress.com/',\n",
       " 'https://www.facebook.com/rogerwilliamstx',\n",
       " 'https://www.twitter.com/RogerWilliamsTX',\n",
       " 'candidate-Tyler Smith',\n",
       " 'https://www.facebook.com/TylerSmith4Congress',\n",
       " 'https://www.twitter.com/TylerCongress',\n",
       " 'candidate-Michael C. Burgess',\n",
       " 'https://burgess.house.gov/',\n",
       " 'https://www.twitter.com/michaelcburgess',\n",
       " 'https://www.instagram.com/repmichaelburgess/',\n",
       " 'https://www.youtube.com/user/MichaelCBurgessMD/about',\n",
       " 'https://burgessforcongress.org/',\n",
       " 'https://www.facebook.com/DrBurgessTX',\n",
       " 'https://www.facebook.com/michaelcburgess/',\n",
       " 'candidate-Brian Brazeal',\n",
       " 'candidate-Vincent Gallo',\n",
       " 'https://galloforcongress.com',\n",
       " 'https://www.facebook.com/GalloforCongress',\n",
       " 'https://www.youtube.com/channel/UCwQ8E1mVEelLAX831z3is7w',\n",
       " 'https://www.facebook.com/profile.php?id=100075281108607',\n",
       " 'candidate-Raven Harrison',\n",
       " 'https://ravenharrison.com/',\n",
       " 'https://www.facebook.com/Raven-Harrison-4-Congress-R-TX-26-106379501844556/',\n",
       " 'https://www.twitter.com/raven4congress',\n",
       " 'https://www.instagram.com/raven4congress/',\n",
       " 'https://www.youtube.com/channel/UCIc2jXp-8Z3lMwB7hhPUFSw',\n",
       " 'candidate-Isaac Smith',\n",
       " 'https://www.isaacsmithforcongress.com',\n",
       " 'https://www.facebook.com/friendsofisaacsmith',\n",
       " 'https://www.youtube.com/channel/UCPTusndS1ZWdZy8l9-7yp3A/',\n",
       " 'https://www.linkedin.com/in/hdris/',\n",
       " 'candidate-Craig Walker',\n",
       " 'http://elect-craig.com/',\n",
       " 'candidate-Mike Kolls',\n",
       " 'http://tx24.us',\n",
       " 'candidate-Victor Melgoza',\n",
       " 'candidate-Maclovio Perez Jr.',\n",
       " 'https://maclovioforamerica.com/',\n",
       " 'https://www.facebook.com/Maclovio-Perez-for-US-Congress-District-27-103854165500831/',\n",
       " 'https://www.facebook.com/macloviop',\n",
       " 'https://www.linkedin.com/in/maclovio-perez-jr-40161912/',\n",
       " 'candidate-Anthony Tristan',\n",
       " 'https://tristanforcongress.com/',\n",
       " 'https://www.facebook.com/tristanforcongress/',\n",
       " 'https://www.twitter.com/anthonyjtristan',\n",
       " 'https://www.linkedin.com/in/anthony-james-tristan-41a62797/',\n",
       " 'candidate-Michael Cloud',\n",
       " 'https://cloud.house.gov/',\n",
       " 'https://www.facebook.com/RepCloudTX/',\n",
       " 'https://www.twitter.com/RepCloudTX',\n",
       " 'https://www.instagram.com/repcloudtx/',\n",
       " 'https://www.youtube.com/channel/UCv_kM3OZukHS0rjWpw_JMWg',\n",
       " 'https://www.cloudforcongress.com/',\n",
       " 'https://www.facebook.com/CloudforCongress',\n",
       " 'https://www.twitter.com/MichaelJCloud',\n",
       " 'https://www.instagram.com/michaeljcloud/',\n",
       " 'https://www.linkedin.com/in/michaeljcloud/',\n",
       " 'candidate-Andrew Alvarez',\n",
       " 'https://aaforcongress.com',\n",
       " 'https://www.facebook.com/andrewalvareztx',\n",
       " 'https://www.twitter.com/andrewalvareztx',\n",
       " 'https://www.instagram.com/aaforcongress/',\n",
       " 'candidate-A.J. Louderback',\n",
       " 'https://louderbackforcongress.com/',\n",
       " 'https://www.facebook.com/AndyLouderback',\n",
       " 'https://www.twitter.com/louderbackaj',\n",
       " 'https://www.facebook.com/aj.louderback.1',\n",
       " 'https://www.linkedin.com/in/aj-louderback-b8bb4812a/',\n",
       " 'candidate-Chris Mapp',\n",
       " 'https://mappforcongress27.com/',\n",
       " 'https://www.facebook.com/ckmapp/',\n",
       " 'https://www.twitter.com/ckmapp',\n",
       " 'https://www.instagram.com/ckmapp/',\n",
       " 'https://www.facebook.com/chris.mapp.52687',\n",
       " 'https://www.linkedin.com/in/chris-mapp-baa8ba141/',\n",
       " 'candidate-Eric Mireles',\n",
       " 'https://www.ericmirelesforcongress.com/',\n",
       " 'https://www.facebook.com/eric.mireles.524',\n",
       " 'candidate-Henry Cuellar',\n",
       " 'https://cuellar.house.gov/',\n",
       " 'https://www.facebook.com/repcuellar/',\n",
       " 'https://www.twitter.com/RepCuellar',\n",
       " 'https://www.instagram.com/repcuellar/',\n",
       " 'https://www.youtube.com/user/henrycuellar',\n",
       " 'https://www.henrycuellar.com/',\n",
       " 'https://www.facebook.com/cuellarcampaign',\n",
       " 'https://www.twitter.com/CuellarCampaign',\n",
       " 'https://www.instagram.com/cuellarcampaign/',\n",
       " 'https://www.linkedin.com/in/henry-cuellar-45492a148/',\n",
       " 'candidate-Tannya Benavides',\n",
       " 'https://www.tannyafortexas.com',\n",
       " 'https://www.facebook.com/tannyafortexas',\n",
       " 'https://www.twitter.com/TannyaForTexas',\n",
       " 'https://www.instagram.com/tannyafortexas/',\n",
       " 'https://www.youtube.com/channel/UCW2pfAPS58p-10sXRULVYqg',\n",
       " 'https://www.facebook.com/tannya.benavides',\n",
       " 'https://www.twitter.com/tannyabenavides',\n",
       " 'https://www.linkedin.com/in/tannya-benavides-m-s-ed-188689120',\n",
       " 'candidate-Jessica Cisneros',\n",
       " 'https://jessicacisnerosforcongress.com/home/',\n",
       " 'https://www.facebook.com/JCisnerosTX',\n",
       " 'https://www.twitter.com/JCisnerosTX',\n",
       " 'https://www.instagram.com/jcisnerostx_/',\n",
       " 'https://www.facebook.com/profile.php?id=1389590158',\n",
       " 'candidate-Ed Cabrera',\n",
       " 'https://www.edcabreraforsouthtexas.com/',\n",
       " 'https://www.facebook.com/EdCabreraforSouthTexas/',\n",
       " 'https://www.twitter.com/EdCabrera4SoTX',\n",
       " 'https://www.instagram.com/edcabreraforsouthtexas/',\n",
       " 'https://www.youtube.com/channel/UCcrX-xrilYHkUPJtpKnxtVQ',\n",
       " 'candidate-Ed Cabrera',\n",
       " 'https://www.edcabreraforsouthtexas.com/',\n",
       " 'https://www.facebook.com/EdCabreraforSouthTexas/',\n",
       " 'https://www.twitter.com/EdCabrera4SoTX',\n",
       " 'https://www.instagram.com/edcabreraforsouthtexas/',\n",
       " 'https://www.youtube.com/channel/UCcrX-xrilYHkUPJtpKnxtVQ',\n",
       " 'candidate-Steven Fowler',\n",
       " 'https://www.letsfightlikehell.com/',\n",
       " 'https://www.facebook.com/fightlikehelltx/',\n",
       " 'https://www.twitter.com/fightlikehelltx',\n",
       " 'https://www.linkedin.com/in/stevencfowler/',\n",
       " 'candidate-Cassy Garcia',\n",
       " 'https://www.cassyforcongress.com/',\n",
       " 'https://www.facebook.com/Cassy-Garcia-for-Congress-111701438027599',\n",
       " 'https://www.twitter.com/CasandraLGarcia',\n",
       " 'https://www.youtube.com/channel/UCRdSW4MO7Ezml0vF_1oPc9w',\n",
       " 'candidate-Eric Hohman',\n",
       " 'https://erichohman.com/',\n",
       " 'candidate-Rolando Rodriguez',\n",
       " 'https://www.rolando4congress.com/',\n",
       " 'https://www.facebook.com/Rolando-4-Congress-TX-US-District-28-112155894647105',\n",
       " 'https://www.twitter.com/Rolando4USD28',\n",
       " 'https://www.instagram.com/rolando4congress/',\n",
       " 'https://www.linkedin.com/in/rolando-rodriguez-161784227/',\n",
       " 'candidate-Willie Vasquez Ng',\n",
       " 'https://www.williefortexas.com/',\n",
       " ...]"
      ]
     },
     "execution_count": 19,
     "metadata": {},
     "output_type": "execute_result"
    }
   ],
   "source": [
    "candidate_links = df.candidate_campaign_links.tolist()\n",
    "candidate_links"
   ]
  },
  {
   "cell_type": "markdown",
   "id": "02ad47cf",
   "metadata": {},
   "source": [
    "----"
   ]
  },
  {
   "cell_type": "markdown",
   "id": "0a32b33d",
   "metadata": {},
   "source": [
    "##### Defining Site Types"
   ]
  },
  {
   "cell_type": "code",
   "execution_count": 161,
   "id": "3247344f",
   "metadata": {},
   "outputs": [],
   "source": [
    "candidate = \"candidate-\""
   ]
  },
  {
   "cell_type": "code",
   "execution_count": 162,
   "id": "56a21c21",
   "metadata": {},
   "outputs": [],
   "source": [
    "twitter = \"https://www.twitter.com/\""
   ]
  },
  {
   "cell_type": "code",
   "execution_count": 163,
   "id": "42c5df77",
   "metadata": {},
   "outputs": [],
   "source": [
    "facebook = \"https://www.facebook.com/\""
   ]
  },
  {
   "cell_type": "code",
   "execution_count": 164,
   "id": "8c3da1fa",
   "metadata": {},
   "outputs": [],
   "source": [
    "instagram = \"https://www.instagram.com/\""
   ]
  },
  {
   "cell_type": "code",
   "execution_count": 165,
   "id": "b124e131",
   "metadata": {},
   "outputs": [],
   "source": [
    "linkedin = \"https://www.linkedin.com/in/\""
   ]
  },
  {
   "cell_type": "code",
   "execution_count": 166,
   "id": "bc6e5261",
   "metadata": {},
   "outputs": [],
   "source": [
    "youtube = \"https://www.youtube.com/\""
   ]
  },
  {
   "cell_type": "code",
   "execution_count": 167,
   "id": "ad512383",
   "metadata": {},
   "outputs": [],
   "source": [
    "ballotpedia = \"https://ballotpedia.org/\""
   ]
  },
  {
   "cell_type": "markdown",
   "id": "24d39567",
   "metadata": {},
   "source": [
    "----"
   ]
  },
  {
   "cell_type": "markdown",
   "id": "8cf2c689",
   "metadata": {},
   "source": [
    "##### Set of Links "
   ]
  },
  {
   "cell_type": "code",
   "execution_count": 169,
   "id": "26c3ea07",
   "metadata": {},
   "outputs": [],
   "source": [
    "ls_candidates = []\n",
    "ls_sites = []\n",
    "ls_socials = []\n",
    "ls_mistake = []"
   ]
  },
  {
   "cell_type": "code",
   "execution_count": 170,
   "id": "d6678505",
   "metadata": {},
   "outputs": [],
   "source": [
    "for page in candidate_links:\n",
    "    if page.startswith(candidate):\n",
    "        ls_candidates.append(page)\n",
    "    elif page.startswith(twitter):\n",
    "        ls_socials.append(page)\n",
    "    elif page.startswith(facebook):\n",
    "        ls_socials.append(page)\n",
    "    elif page.startswith(instagram):\n",
    "        ls_socials.append(page)\n",
    "    elif page.startswith(linkedin):\n",
    "        ls_socials.append(page)\n",
    "    elif page.startswith(youtube):\n",
    "        ls_socials.append(page)\n",
    "    elif page.startswith(ballotpedia):\n",
    "        ls_socials.append(page)    \n",
    "    else:\n",
    "        ls_sites.append(page)"
   ]
  },
  {
   "cell_type": "code",
   "execution_count": 171,
   "id": "5ebf446e",
   "metadata": {},
   "outputs": [
    {
     "data": {
      "text/plain": [
       "['candidate-Gavin Dass',\n",
       " 'candidate-Victor D. Dunn',\n",
       " 'candidate-Jrmar Jefferson',\n",
       " 'candidate-Stephen Kocen',\n",
       " 'candidate-Rosey Quinn',\n",
       " 'candidate-Aditya Atholi',\n",
       " 'candidate-Joe McDaniel',\n",
       " 'candidate-Nathaniel Moran',\n",
       " 'candidate-John Porro',\n",
       " 'candidate-Robin Fulford',\n",
       " 'candidate-Rayna Reid',\n",
       " 'candidate-Daniel Crenshaw',\n",
       " 'candidate-Jameson Ellis',\n",
       " 'candidate-Martin Etwop',\n",
       " 'candidate-Milam Langella',\n",
       " 'candidate-Mike Billand',\n",
       " 'candidate-Lucia Rodriguez',\n",
       " 'candidate-Doc Shelby',\n",
       " 'candidate-Sandeep Srivastava',\n",
       " 'candidate-Van Taylor',\n",
       " 'candidate-Suzanne Cassimatis Harp',\n",
       " 'candidate-Jeremy Ivanovskis',\n",
       " 'candidate-Keith Self',\n",
       " 'candidate-Rickey Williams',\n",
       " 'candidate-Christopher Claytor',\n",
       " 'candidate-Iroghama Omere',\n",
       " 'candidate-Earl Davis',\n",
       " 'candidate-Pat Fallon',\n",
       " 'candidate-John Harper',\n",
       " 'candidate-Dan Thomas',\n",
       " 'candidate-John Simmons',\n",
       " 'candidate-Kathleen Bailey',\n",
       " 'candidate-Tartisha Hill',\n",
       " 'candidate-Charles Gearing',\n",
       " 'candidate-Lance Gooden',\n",
       " 'candidate-Kevin Hale',\n",
       " 'candidate-Jake Ellzey',\n",
       " 'candidate-James Buford',\n",
       " 'candidate-Bill Payne',\n",
       " 'candidate-Bill Payne',\n",
       " 'candidate-Lizzie Pannill Fletcher',\n",
       " 'candidate-Rudy Atencio',\n",
       " 'candidate-Tina Blum Cohen',\n",
       " 'candidate-Benson Gitau',\n",
       " 'candidate-Laique Rehman',\n",
       " 'candidate-Lance Stewart',\n",
       " 'candidate-Tim Stroud',\n",
       " 'candidate-Johnny Teague',\n",
       " 'candidate-Jafar Hajjar',\n",
       " 'candidate-Laura Jones',\n",
       " 'candidate-Betsy Bates',\n",
       " 'candidate-Candice C. Burrows',\n",
       " 'candidate-Christian Collins',\n",
       " 'candidate-Jonathan Hullihan',\n",
       " 'candidate-Morgan Luttrell',\n",
       " 'candidate-Dan McKaughan',\n",
       " 'candidate-Jonathan Mitchell',\n",
       " 'candidate-Chuck Montgomery',\n",
       " 'candidate-Mike Philips',\n",
       " 'candidate-Jessica Wellington',\n",
       " 'candidate-Jessica Wellington',\n",
       " 'candidate-Taylor Whichard',\n",
       " 'candidate-Salvador Gallegos',\n",
       " 'candidate-Ryan Jarchow',\n",
       " 'candidate-Adrian Kaiser',\n",
       " 'candidate-Christopher Revis',\n",
       " 'candidate-Roy Eriksen',\n",
       " 'candidate-Randall Addison',\n",
       " 'candidate-Al Green',\n",
       " 'candidate-Jimmy Leon',\n",
       " 'candidate-Linda Nuno',\n",
       " 'candidate-Larry Wallace Jr.',\n",
       " 'candidate-Michael McCaul',\n",
       " 'candidate-Bill Kelsey',\n",
       " 'candidate-August Pfluger',\n",
       " 'candidate-Trey Hunt',\n",
       " 'candidate-Kay Granger',\n",
       " 'candidate-Ryan Catala',\n",
       " 'candidate-Alysia Rieg',\n",
       " 'candidate-Chris Putnam',\n",
       " 'candidate-Chris Rector',\n",
       " 'candidate-Kathleen Brown',\n",
       " 'candidate-Ronny L. Jackson',\n",
       " 'candidate-Eugene Howard',\n",
       " 'candidate-Mikal Williams',\n",
       " 'candidate-Jeff Antonelli',\n",
       " 'candidate-Cyrus Sajna',\n",
       " 'candidate-Randy Weber',\n",
       " 'candidate-Randy Weber',\n",
       " 'candidate-Keith Casey',\n",
       " 'candidate-Ruben Landon Dante',\n",
       " 'candidate-Gina Smith',\n",
       " 'candidate-Eliza Alvarado',\n",
       " 'candidate-Julio Garza',\n",
       " 'candidate-Ruben Ramirez',\n",
       " 'candidate-Vanessa Tijerina',\n",
       " 'candidate-Michelle Vallejo',\n",
       " 'candidate-John Villarreal Rigney',\n",
       " 'candidate-Roberto Haddad',\n",
       " 'candidate-Jose Aizar Cavazos',\n",
       " 'candidate-Sara Canady',\n",
       " 'candidate-Vangela Churchill',\n",
       " 'candidate-Monica De La Cruz Hernandez',\n",
       " 'candidate-Mauro Garza',\n",
       " 'candidate-Angela Juarez',\n",
       " 'candidate-Ryan Krause',\n",
       " 'candidate-John Lerma',\n",
       " 'candidate-Steve Schmuker Jr.',\n",
       " 'candidate-Ross Lynn Leone',\n",
       " 'candidate-Veronica Escobar',\n",
       " 'candidate-Deliris Montanez Berrios',\n",
       " 'candidate-Irene Armendariz-Jackson',\n",
       " 'candidate-Samuel Williams Jr.',\n",
       " 'candidate-Mary Jo Woods',\n",
       " 'candidate-Pete Sessions',\n",
       " 'candidate-Paulette Carson',\n",
       " 'candidate-Jason Nelson',\n",
       " 'candidate-Robert Rosenberger',\n",
       " 'candidate-Sheila Jackson Lee',\n",
       " 'candidate-Cassius Marcellous Evergreen',\n",
       " 'candidate-Charles Thompson',\n",
       " 'candidate-Carmen Maria Montiel',\n",
       " 'candidate-Scott Huckabee',\n",
       " 'candidate-Phil Kurtz',\n",
       " 'candidate-Jodey Arrington',\n",
       " 'candidate-Joaquin Castro',\n",
       " 'candidate-Kyle Sinclair',\n",
       " 'candidate-Mark Murray',\n",
       " 'candidate-Michael Stevens',\n",
       " 'candidate-David Anderson',\n",
       " 'candidate-Coy Branscum',\n",
       " 'candidate-Cherif Gacis',\n",
       " 'candidate-Scott Sturm',\n",
       " 'candidate-Ricardo Villarreal',\n",
       " 'candidate-Claudia Zapata',\n",
       " 'candidate-Chip Roy',\n",
       " 'candidate-Michael French',\n",
       " 'candidate-Robert Lowry',\n",
       " 'candidate-Dana Zavorka',\n",
       " 'candidate-Jim Squires',\n",
       " 'candidate-Jamie Jordan',\n",
       " 'candidate-Matthew Berg',\n",
       " 'candidate-Jim Squires',\n",
       " 'candidate-Angel Vega',\n",
       " 'candidate-Troy Nehls',\n",
       " 'candidate-Gregory Thorne',\n",
       " 'candidate-Joseph Leblanc',\n",
       " 'candidate-Priscilla Golden',\n",
       " 'candidate-John Lira',\n",
       " 'candidate-Tony Gonzales',\n",
       " 'candidate-Alma Arredondo-Lynch',\n",
       " 'candidate-Alia Garcia-Ureste',\n",
       " 'candidate-Kathy Fragnoli',\n",
       " 'candidate-Derrik Gay',\n",
       " 'candidate-Jan McDowell',\n",
       " 'candidate-Michelle Beckley',\n",
       " 'candidate-Beth Van Duyne',\n",
       " 'candidate-Nate Weymouth',\n",
       " 'candidate-Roger Williams',\n",
       " 'candidate-Tyler Smith',\n",
       " 'candidate-Michael C. Burgess',\n",
       " 'candidate-Brian Brazeal',\n",
       " 'candidate-Vincent Gallo',\n",
       " 'candidate-Raven Harrison',\n",
       " 'candidate-Isaac Smith',\n",
       " 'candidate-Craig Walker',\n",
       " 'candidate-Mike Kolls',\n",
       " 'candidate-Victor Melgoza',\n",
       " 'candidate-Maclovio Perez Jr.',\n",
       " 'candidate-Anthony Tristan',\n",
       " 'candidate-Michael Cloud',\n",
       " 'candidate-Andrew Alvarez',\n",
       " 'candidate-A.J. Louderback',\n",
       " 'candidate-Chris Mapp',\n",
       " 'candidate-Eric Mireles',\n",
       " 'candidate-Henry Cuellar',\n",
       " 'candidate-Tannya Benavides',\n",
       " 'candidate-Jessica Cisneros',\n",
       " 'candidate-Ed Cabrera',\n",
       " 'candidate-Ed Cabrera',\n",
       " 'candidate-Steven Fowler',\n",
       " 'candidate-Cassy Garcia',\n",
       " 'candidate-Eric Hohman',\n",
       " 'candidate-Rolando Rodriguez',\n",
       " 'candidate-Willie Vasquez Ng',\n",
       " 'candidate-Sandra Whitten',\n",
       " 'candidate-Sylvia Garcia',\n",
       " 'candidate-Jaimy Annette Zoboulikos-Blanco',\n",
       " 'candidate-Lulite Ejigu',\n",
       " 'candidate-Julio Garza',\n",
       " 'candidate-Robert Schafranek',\n",
       " 'candidate-Sarah Miller',\n",
       " 'candidate-Barbara Mallory Caraway',\n",
       " 'candidate-Jasmine Crockett',\n",
       " 'candidate-Arthur Dixon',\n",
       " 'candidate-Jane Hamilton',\n",
       " 'candidate-Vonciel Jones Hill',\n",
       " 'candidate-Keisha Lankford',\n",
       " 'candidate-Jessica Mason',\n",
       " 'candidate-Abel Mulugheta',\n",
       " 'candidate-Roy Williams Jr.',\n",
       " 'candidate-Zachariah Manning',\n",
       " 'candidate-Lizbeth Diaz',\n",
       " 'candidate-Kelvin Goodwin-Castillo',\n",
       " 'candidate-James Harris',\n",
       " 'candidate-Dakinya Jefferson',\n",
       " \"candidate-Angeigh Roc'ellerpitts\",\n",
       " 'candidate-James Rodgers',\n",
       " 'candidate-Phil Gray',\n",
       " 'candidate-Jonathan Hildner',\n",
       " 'candidate-Christopher Scurry',\n",
       " 'candidate-John Carter',\n",
       " 'candidate-Abhiram Garapati',\n",
       " 'candidate-Mike Williams',\n",
       " 'candidate-Jason Hutson',\n",
       " 'candidate-Derrick Johns',\n",
       " 'candidate-Colin Allred',\n",
       " 'candidate-Nathan Davis',\n",
       " 'candidate-Darrell Day',\n",
       " 'candidate-Brad Namdar',\n",
       " 'candidate-Ejike Okpa',\n",
       " 'candidate-Antonio Swad',\n",
       " 'candidate-Justin Webb',\n",
       " 'candidate-Montgomery Markland',\n",
       " 'candidate-Ricardo Salazar',\n",
       " 'candidate-Gary Slagel',\n",
       " 'candidate-Nathan Bosley',\n",
       " 'candidate-Marc Veasey',\n",
       " 'candidate-Carlos Quintanilla',\n",
       " 'candidate-Patrick Gillespie',\n",
       " 'candidate-Robert MacGlaflin',\n",
       " 'candidate-Ken Ashby',\n",
       " 'candidate-Vicente Gonzalez Jr.',\n",
       " 'candidate-Laura Cisneros',\n",
       " 'candidate-Filemon Meza',\n",
       " 'candidate-Beatriz Reynoso',\n",
       " 'candidate-Osbert Rodriguez Haro III',\n",
       " 'candidate-William Thompson',\n",
       " 'candidate-Diego Zavala',\n",
       " 'candidate-Rochelle Garza',\n",
       " 'candidate-Jaime Rodriguez',\n",
       " 'candidate-Ryan Trevino',\n",
       " 'candidate-Juana Cantu-Cabrera',\n",
       " 'candidate-Mayra Flores',\n",
       " 'candidate-Gregory Kunkle Jr.',\n",
       " 'candidate-Frank McCaffrey',\n",
       " 'candidate-Larry Polsky',\n",
       " 'candidate-Philip Sotelo',\n",
       " 'candidate-Greg Casar',\n",
       " 'candidate-Eddie Rodriguez',\n",
       " 'candidate-Carla-Joy Sisco',\n",
       " 'candidate-Rebecca J. Viagran',\n",
       " 'candidate-Danielle Fewings',\n",
       " 'candidate-Sass',\n",
       " 'candidate-Jenai Aragona-Hales',\n",
       " 'candidate-Bill Condict',\n",
       " 'candidate-Marilyn Jackson',\n",
       " 'candidate-Alejandro Ledezma',\n",
       " 'candidate-Dan McQueen',\n",
       " 'candidate-Sam Montoya',\n",
       " 'candidate-Asa Palagi',\n",
       " 'candidate-Michael Rodriguez',\n",
       " 'candidate-Dan Sawatzki',\n",
       " 'candidate-Jennifer Sundt',\n",
       " 'candidate-Michael Idrogo',\n",
       " 'candidate-Jon Haire',\n",
       " 'candidate-Brian Babin',\n",
       " 'candidate-Lloyd Doggett',\n",
       " 'candidate-Quinton Beaubouef',\n",
       " 'candidate-Donna Imam',\n",
       " 'candidate-Christopher Jones',\n",
       " 'candidate-Hasani Burton',\n",
       " 'candidate-Jeremiah Diacogiannis',\n",
       " 'candidate-Jenny Garcia Sharon',\n",
       " 'candidate-Rod Lingsch',\n",
       " 'candidate-Clark Patterson',\n",
       " 'candidate-Nazirite Perez',\n",
       " 'candidate-Duncan Klussmann',\n",
       " 'candidate-Diana Martinez Alexander',\n",
       " 'candidate-Centrell Reed',\n",
       " 'candidate-Philip Covarrubias',\n",
       " 'candidate-Alex Cross',\n",
       " 'candidate-Jerry Ford Sr.',\n",
       " 'candidate-Brett Guillory',\n",
       " 'candidate-David Hogan',\n",
       " 'candidate-Wesley Hunt',\n",
       " 'candidate-Roland Lopez',\n",
       " 'candidate-Damien Mockus',\n",
       " 'candidate-Mark Ramsey']"
      ]
     },
     "execution_count": 171,
     "metadata": {},
     "output_type": "execute_result"
    }
   ],
   "source": [
    "ls_candidates"
   ]
  },
  {
   "cell_type": "code",
   "execution_count": 172,
   "id": "c4d7c744",
   "metadata": {},
   "outputs": [
    {
     "data": {
      "text/plain": [
       "['https://victordunn4congress.com/',\n",
       " 'https://www.jeffersonforcongress.com/',\n",
       " 'https://www.kocenforcongress.com/',\n",
       " 'https://atholiforcongress.com/',\n",
       " 'https://www.joemcdaniel.com/',\n",
       " 'https://nathanielmoran.com/',\n",
       " 'https://johnporro4tx.com/',\n",
       " 'https://www.fulfordforcongress.com/',\n",
       " 'https://crenshaw.house.gov/',\n",
       " 'https://crenshawforcongress.com/',\n",
       " 'https://jamesonellis.com/',\n",
       " 'https://www.martinetwop.com',\n",
       " 'https://www.milam4congress.com',\n",
       " 'https://www.docshelby.com/',\n",
       " 'http://sandeepfortexas.com/',\n",
       " 'https://vantaylor.house.gov/',\n",
       " 'https://www.vantaylor.com/',\n",
       " 'https://www.suzanneforcongress.com',\n",
       " 'https://ivanovskisforuscongress.com/',\n",
       " 'https://keithself.com/',\n",
       " 'https://www.rickey4congress.com/',\n",
       " 'https://www.omereforcongress.com/',\n",
       " 'https://fallon.house.gov/',\n",
       " 'https://www.fallonforcongress.com/',\n",
       " 'https://johnharperforcongress.com/',\n",
       " 'https://www.danthomasforcongress.com/',\n",
       " 'https://www.baileyfortexas.com/home',\n",
       " 'https://www.gearingfortexas.com/',\n",
       " 'https://gooden.house.gov/',\n",
       " 'http://lancegooden.com/',\n",
       " 'https://ellzey.house.gov/',\n",
       " 'https://www.ellzeyfortexas.com/',\n",
       " 'https://votebuford4congress.com',\n",
       " 'https://fletcher.house.gov/',\n",
       " 'https://lizziefletcher.com/',\n",
       " 'https://www.americansforpeace.us/',\n",
       " 'https://www.tinablumcohen.com/',\n",
       " 'https://www.bensongitau.com',\n",
       " 'http://www.laiquerehman.com/index.html',\n",
       " 'https://lance4tx.com',\n",
       " 'https://stroudforcongress.com/',\n",
       " 'https://www.checkjohnnyforcongress.org',\n",
       " 'https://laurajonesforcongress.com/',\n",
       " 'https://www.betsybatescongress2022.com',\n",
       " 'https://candicecburrows.com/',\n",
       " 'https://www.christiancollins.org',\n",
       " 'https://www.hullihanfortexas.com/',\n",
       " 'https://www.morganluttrell.com/',\n",
       " 'https://danmckaughan.com/',\n",
       " 'https://www.jonathanmitchellforcongress.com/',\n",
       " 'http://www.meetmikephilips.com/',\n",
       " 'https://jessicawellingtonforcongress.com',\n",
       " 'https://jessicawellingtonforcongress.com',\n",
       " 'https://www.taylorwhichardforcongress.com',\n",
       " 'https://jarchowcampaign.com/',\n",
       " 'https://adriankaiser.com/',\n",
       " 'https://algreen.house.gov/',\n",
       " 'https://algreen.org/',\n",
       " 'https://lindanunoforcongress.com/',\n",
       " 'https://wallaceforcongress.com/',\n",
       " 'https://mccaul.house.gov/',\n",
       " 'https://michaelmccaul.com/',\n",
       " 'https://pfluger.house.gov/',\n",
       " 'https://www.augustpfluger.com/',\n",
       " 'https://treyhuntcongress.com',\n",
       " 'https://kaygranger.house.gov/',\n",
       " 'https://kaygranger.com/',\n",
       " 'https://ryanjcatala.com/',\n",
       " 'https://alysiarieg.com',\n",
       " 'https://putnamfortexas.com/',\n",
       " 'https://rectorfortexas97.com',\n",
       " 'https://www.kathleenfortx.com',\n",
       " 'https://jackson.house.gov/',\n",
       " 'https://ronnyjacksontx.com/',\n",
       " 'https://howard-2-congress.org/',\n",
       " 'https://www.electmikalwilliams.com/',\n",
       " 'http://antonelli2022.com/',\n",
       " 'https://weber.house.gov/',\n",
       " 'https://randyweber.org/',\n",
       " 'https://weber.house.gov/',\n",
       " 'https://randyweber.org/',\n",
       " 'https://www.rldforcongress.com/',\n",
       " 'https://www.drginasmith.com/',\n",
       " 'https://alvaradoforcongress.com/',\n",
       " 'https://juliogarzaforcongress.com/',\n",
       " 'https://voteruben.com/',\n",
       " 'https://michellefortx15.com/home/',\n",
       " 'https://www.villarrealrigneyforcongress.com',\n",
       " 'https://www.aizarcavazosforcongress.com/',\n",
       " 'https://canadyforcongress.com',\n",
       " 'https://www.churchillforcongress.com/',\n",
       " 'https://www.monicaforcongress.us/',\n",
       " 'https://maurogarzaforcongress.com/',\n",
       " 'https://ryankrauseforcongress.com/',\n",
       " 'https://escobar.house.gov/',\n",
       " 'https://veronicaescobar.com/',\n",
       " 'https://dmbforcongress.com/',\n",
       " 'https://irenearmendarizjackson.com/',\n",
       " 'https://samforep.com/',\n",
       " 'https://maryjowoodstx17.com/',\n",
       " 'https://sessions.house.gov/',\n",
       " 'https://www.petesessions.com/',\n",
       " 'https://www.carson4congress.us/',\n",
       " 'https://www.jasonnelsonforcongress.com/',\n",
       " 'https://jacksonlee.house.gov/',\n",
       " 'https://cassiusevergreen.com',\n",
       " 'https://ct4cd18.com/',\n",
       " 'https://carmenforcongress.com/',\n",
       " 'https://www.carmenmaria.today/',\n",
       " 'https://arrington.house.gov/',\n",
       " 'https://www.jodeyarrington.com/',\n",
       " 'https://castro.house.gov/',\n",
       " 'https://castroforcongress.com/',\n",
       " 'https://kylefor20.com/',\n",
       " 'https://www.davidandersonforcongress.com/',\n",
       " 'https://coybranscum.com',\n",
       " 'https://www.cherif4congress.com/',\n",
       " 'https://www.sturm4congress.com',\n",
       " 'https://www.votericardovillarreal.com/',\n",
       " 'https://www.ConClaudia.com',\n",
       " 'https://roy.house.gov/',\n",
       " 'https://chiproy.com/',\n",
       " 'https://www.french4congress.us',\n",
       " 'http://votelowry.com/',\n",
       " 'https://www.squiresforcongress.com',\n",
       " 'https://www.squiresforcongress.com',\n",
       " 'https://www.angelvega.com',\n",
       " 'https://nehls.house.gov/',\n",
       " 'https://www.nehlsforcongress.com/',\n",
       " 'https://www.gjt2022.com',\n",
       " 'https://liraforcongress.com/',\n",
       " 'https://gonzales.house.gov/',\n",
       " 'https://tonygonzalesforcongress.com/',\n",
       " 'https://electalia.com/',\n",
       " 'https://kathy4congress.com',\n",
       " 'https://derrikgay.com/',\n",
       " 'https://www.JanMcDowell.com',\n",
       " 'https://house.texas.gov/members/member-page/?district=65',\n",
       " 'https://www.michellebeckley.com/',\n",
       " 'https://vanduyne.house.gov/',\n",
       " 'https://bethfortexas.com/',\n",
       " 'https://williams.house.gov/',\n",
       " 'https://www.rogerforcongress.com/',\n",
       " 'https://burgess.house.gov/',\n",
       " 'https://burgessforcongress.org/',\n",
       " 'https://galloforcongress.com',\n",
       " 'https://ravenharrison.com/',\n",
       " 'https://www.isaacsmithforcongress.com',\n",
       " 'http://elect-craig.com/',\n",
       " 'http://tx24.us',\n",
       " 'https://maclovioforamerica.com/',\n",
       " 'https://tristanforcongress.com/',\n",
       " 'https://cloud.house.gov/',\n",
       " 'https://www.cloudforcongress.com/',\n",
       " 'https://aaforcongress.com',\n",
       " 'https://louderbackforcongress.com/',\n",
       " 'https://mappforcongress27.com/',\n",
       " 'https://www.ericmirelesforcongress.com/',\n",
       " 'https://cuellar.house.gov/',\n",
       " 'https://www.henrycuellar.com/',\n",
       " 'https://www.tannyafortexas.com',\n",
       " 'https://jessicacisnerosforcongress.com/home/',\n",
       " 'https://www.edcabreraforsouthtexas.com/',\n",
       " 'https://www.edcabreraforsouthtexas.com/',\n",
       " 'https://www.letsfightlikehell.com/',\n",
       " 'https://www.cassyforcongress.com/',\n",
       " 'https://erichohman.com/',\n",
       " 'https://www.rolando4congress.com/',\n",
       " 'https://www.williefortexas.com/',\n",
       " 'https://www.sandrafortexas.com/',\n",
       " 'https://sylviagarcia.house.gov/',\n",
       " 'https://www.sylviaforcongress.com/',\n",
       " 'https://jaimyblancoforcongress.com/',\n",
       " 'https://www.lulitefortexas.com/',\n",
       " 'https://barbaramallorycarawayforcongress.org/',\n",
       " 'https://house.texas.gov/members/member-page/?district=100',\n",
       " 'https://www.jasmineforus.com',\n",
       " 'https://arthurforcongress.com/',\n",
       " 'https://www.janehopehamilton.com/',\n",
       " 'https://www.voncielforcongress.org/',\n",
       " 'https://www.lankford4congress.com',\n",
       " 'https://jessicamasonforcongress.com/',\n",
       " 'https://www.abelfortexas.com/',\n",
       " 'http://zachariahmanning.com/',\n",
       " 'https://goodwincastilloforcongress.com/',\n",
       " 'https://jamesrodgersforcongress.com',\n",
       " 'https://www.hildnerfortx.com/',\n",
       " 'https://www.christopherscurry.com/',\n",
       " 'https://carter.house.gov/',\n",
       " 'https://www.johncarterforcongress.com/',\n",
       " 'https://www.garapatifortexas.com/',\n",
       " 'https://mikewilliams31ctx.com/',\n",
       " 'https://jasonhutsonforcongress.com/',\n",
       " 'https://derrick4Texas.com',\n",
       " 'https://allred.house.gov/',\n",
       " 'https://www.colinallred.com/',\n",
       " 'https://nathandavistx.com/',\n",
       " 'https://www.dayfortexas.com/',\n",
       " 'https://www.bradnamdar.com/',\n",
       " 'https://www.okpaforcongress.com',\n",
       " 'https://swadforcongress.com',\n",
       " 'https://webbfortexas.com/',\n",
       " 'https://veasey.house.gov/',\n",
       " 'https://marcveasey.com/',\n",
       " 'https://quintanillaforcongress.com/',\n",
       " 'https://patrickgillespie4congress33.com',\n",
       " 'https://robertmacglaflin.com/',\n",
       " 'https://gonzalez.house.gov/',\n",
       " 'https://www.vicentegonzalez.com//',\n",
       " 'https://drlauracisneros4uscongress.com/',\n",
       " 'https://votebeatriz.com',\n",
       " 'https://haroforcongress.com/',\n",
       " 'https://texansforthompson.com/',\n",
       " 'https://www.zavalaforcongress.com/',\n",
       " 'https://www.rochellegarzafortexas.com',\n",
       " 'http://jaimerodriguezforcongress.com/',\n",
       " 'https://www.juanacantu-cabreraforcongress.com/',\n",
       " 'https://www.mayrafloresforcongress.com/',\n",
       " 'https://kunkleforcongress.com',\n",
       " 'https://frankforcongress.net',\n",
       " 'https://www.casarforcongress.com/',\n",
       " 'https://house.texas.gov/members/member-page/?district=51',\n",
       " 'https://www.eddiefortexas.com/',\n",
       " 'https://carla-joyfordistrict35.com/',\n",
       " 'https://viagranforcongress.com/',\n",
       " 'https://condict4congress.com',\n",
       " 'https://www.marilynfortexas.com/',\n",
       " 'https://alejandrotx.com',\n",
       " 'http://www.mcqueenforcongress.com/',\n",
       " 'https://www.capitolsam.com/',\n",
       " 'https://dansawatzki.com',\n",
       " 'http://jen4congress2022.com/',\n",
       " 'http://michaelformayor.info/',\n",
       " 'https://jonhaireforcongress.com/',\n",
       " 'https://babin.house.gov/',\n",
       " 'https://www.babinforcongress.com/',\n",
       " 'https://doggett.house.gov/',\n",
       " 'https://www.votedoggett.com/',\n",
       " 'https://votefordonna.com/',\n",
       " 'https://www.chrisjonesatx.com/',\n",
       " 'https://www.hasani4progress.com/',\n",
       " 'https://www.jd4tx.org/',\n",
       " 'https://jennygarciasharon.com/',\n",
       " 'https://dianafortexas.com/',\n",
       " 'https://www.CReedforCongress.com',\n",
       " 'https://centrellreed.com/',\n",
       " 'https://www.philcforcd38.com/',\n",
       " 'https://www.jerryfordfortexas.com/',\n",
       " 'https://brettguilloryforcongress.com/',\n",
       " 'https://hoganforcongress.org',\n",
       " 'https://wesleyfortexas.com/',\n",
       " 'https://www.TexansForLopez.com',\n",
       " 'https://mockusforcongress.com/',\n",
       " 'https://www.gym-cypress.com/pages/staff',\n",
       " 'https://ramseyfortexas.com/']"
      ]
     },
     "execution_count": 172,
     "metadata": {},
     "output_type": "execute_result"
    }
   ],
   "source": [
    "ls_sites"
   ]
  },
  {
   "cell_type": "code",
   "execution_count": 173,
   "id": "65324ccb",
   "metadata": {},
   "outputs": [
    {
     "data": {
      "text/plain": [
       "['https://www.twitter.com/Gavin4Congress',\n",
       " 'https://www.instagram.com/gavin4congress/',\n",
       " 'https://www.facebook.com/dunnforcongress/',\n",
       " 'https://www.twitter.com/dunn4congress',\n",
       " 'https://www.facebook.com/victor.dunn.376',\n",
       " 'https://www.facebook.com/jrmarjefferson/',\n",
       " 'https://www.facebook.com/DelmaJrmarJefferson',\n",
       " 'https://www.twitter.com/JrmarJefferson',\n",
       " 'https://www.linkedin.com/in/jrmarjefferson/',\n",
       " 'https://www.facebook.com/TXdist1/',\n",
       " 'https://www.twitter.com/Kocen4Congress',\n",
       " 'https://www.facebook.com/atholiforcongress',\n",
       " 'https://www.twitter.com/Atholi4Congress',\n",
       " 'https://www.instagram.com/atholiforcongress/',\n",
       " 'https://www.youtube.com/channel/UCmvyu4eajivaX3_2bM3NHng',\n",
       " 'https://www.facebook.com/joemcdanielforuscongress',\n",
       " 'https://www.twitter.com/joemcd2',\n",
       " 'https://www.facebook.com/joemcd2',\n",
       " 'https://ballotpedia.org/Help:Report_an_error',\n",
       " 'https://www.facebook.com/moranforcongress',\n",
       " 'https://www.twitter.com/moran4congress',\n",
       " 'https://www.facebook.com/nqmoran',\n",
       " 'https://www.linkedin.com/in/nathaniel-moran-1b9a4016/',\n",
       " 'https://www.facebook.com/JohnPorro4TX/',\n",
       " 'https://www.twitter.com/JohnPorro4TX',\n",
       " 'https://www.facebook.com/john.porro.9',\n",
       " 'https://www.linkedin.com/in/john-porro-904969124/',\n",
       " 'https://www.facebook.com/RobinFulfordTX',\n",
       " 'https://www.twitter.com/RobinFulfordTX',\n",
       " 'https://www.instagram.com/RobinFulfordTX',\n",
       " 'https://www.facebook.com/ucla.robin',\n",
       " 'https://www.twitter.com/robindfulford',\n",
       " 'https://www.linkedin.com/in/robin-fulford-04bb209',\n",
       " 'https://www.facebook.com/RaynaReidforCongress',\n",
       " 'https://www.facebook.com/rayna.delaviev',\n",
       " 'https://www.twitter.com/_raynareid',\n",
       " 'https://www.linkedin.com/in/rayna-reid/',\n",
       " 'https://www.facebook.com/RepDanCrenshaw/',\n",
       " 'https://www.twitter.com/RepDanCrenshaw',\n",
       " 'https://www.youtube.com/channel/UC2XDiCjAHtJqnSEzrHAY5IQ',\n",
       " 'https://www.facebook.com/CrenshawforCongress',\n",
       " 'https://www.twitter.com/DanCrenshawTX',\n",
       " 'https://www.instagram.com/dancrenshawtx/',\n",
       " 'https://www.youtube.com/channel/UCoghGq7h46VPsJiCHv2N2JA',\n",
       " 'https://www.facebook.com/daniel.crenshaw.50',\n",
       " 'https://www.facebook.com/thejamesonellis',\n",
       " 'https://www.twitter.com/thejamesonellis',\n",
       " 'https://www.instagram.com/thejamesonellis/',\n",
       " 'https://www.youtube.com/channel/UCvgdfF-Q32ywyX8l2hn4sWQ',\n",
       " 'https://www.facebook.com/jamesonellistx',\n",
       " 'https://www.facebook.com/MartinEtwopForCongress',\n",
       " 'https://www.facebook.com/metwop',\n",
       " 'https://www.linkedin.com/in/martin-etwop-85596698/',\n",
       " 'https://www.twitter.com/Milam2022',\n",
       " 'https://www.facebook.com/MikeBillandforTX/',\n",
       " 'https://www.twitter.com/billand_mike',\n",
       " 'https://www.facebook.com/docshelby2022/',\n",
       " 'https://www.twitter.com/docshelby2022',\n",
       " 'https://www.instagram.com/docshelby2022/',\n",
       " 'https://www.facebook.com/Shelby.Exploratory.23',\n",
       " 'https://www.facebook.com/sandeepfortexas/',\n",
       " 'https://www.twitter.com/sandeepfortexas',\n",
       " 'https://www.facebook.com/sandeep.srivastava.18',\n",
       " 'https://www.linkedin.com/in/sandeep-srivastava-90777449/',\n",
       " 'https://www.facebook.com/RepVanTaylor',\n",
       " 'https://www.twitter.com/RepVanTaylor',\n",
       " 'https://www.instagram.com/repvantaylor/',\n",
       " 'https://www.youtube.com/channel/UCIzNiuBisXW6jScW_OuW1Kg',\n",
       " 'https://www.facebook.com/VanForTexas',\n",
       " 'https://www.twitter.com/VanTaylorTX',\n",
       " 'https://www.instagram.com/vantaylortx/',\n",
       " 'https://www.linkedin.com/in/repvantaylor/',\n",
       " 'https://www.facebook.com/RealSuzanneHarp',\n",
       " 'https://www.twitter.com/RealSuzanneHarp',\n",
       " 'https://www.instagram.com/realsuzanneharp/',\n",
       " 'https://www.facebook.com/suzanne.c.harp',\n",
       " 'https://www.linkedin.com/in/suzanne-harp/',\n",
       " 'https://www.facebook.com/profile.php?id=100077292336330',\n",
       " 'https://ballotpedia.org/Help:Report_an_error',\n",
       " 'https://www.facebook.com/KeithSelfTX',\n",
       " 'https://www.twitter.com/selfforcongress',\n",
       " 'https://www.instagram.com/keithselfforcongress_/',\n",
       " 'https://www.facebook.com/keith.self.94',\n",
       " 'https://www.youtube.com/user/KeithSelf2010/',\n",
       " 'https://www.linkedin.com/in/keith-self-06b55518/',\n",
       " 'https://www.facebook.com/rickey4congress',\n",
       " 'https://www.twitter.com/rickey4congress',\n",
       " 'https://www.instagram.com/rickey4congress/',\n",
       " 'https://www.facebook.com/christopher.claytor',\n",
       " 'https://www.linkedin.com/in/christopherclaytor',\n",
       " 'https://www.twitter.com/IroghamaTX',\n",
       " 'https://www.facebook.com/earlw.davisii.1',\n",
       " 'https://www.facebook.com/RepPatFallon',\n",
       " 'https://www.twitter.com/RepPatFallon',\n",
       " 'https://www.instagram.com/reppatfallon/',\n",
       " 'https://www.youtube.com/c/RepPatFallon',\n",
       " 'https://www.facebook.com/fallonfortexas',\n",
       " 'https://www.twitter.com/FallonForTexas',\n",
       " 'https://www.youtube.com/channel/UCQiw1cF0LqYoxuvWrE-Ckig/featured',\n",
       " 'https://www.facebook.com/patrick.fallon.792',\n",
       " 'https://www.linkedin.com/in/patrick-fallon-09261b63/',\n",
       " 'https://www.facebook.com/JohnHarperForCongress/',\n",
       " 'https://www.facebook.com/DanNewsMan12',\n",
       " 'https://www.twitter.com/DanNewsMan',\n",
       " 'https://www.instagram.com/danthomasforcongress',\n",
       " 'https://www.facebook.com/NewsmanDan',\n",
       " 'https://www.youtube.com/channel/UCIKucbTVnhzSr2Wqy5LIyFA',\n",
       " 'https://www.twitter.com/CongressRancher',\n",
       " 'https://www.instagram.com/Johnsimmonsforcongress/',\n",
       " 'https://www.facebook.com/kcbailey2022',\n",
       " 'https://www.twitter.com/KCBailey2022',\n",
       " 'https://www.twitter.com/TartishaHill',\n",
       " 'https://www.facebook.com/tartishah',\n",
       " 'https://www.twitter.com/TartishaH',\n",
       " 'https://www.linkedin.com/in/tartisha-hill-67215828/',\n",
       " 'https://www.facebook.com/GearingforTexas',\n",
       " 'https://www.twitter.com/GearingforTexas',\n",
       " 'https://www.instagram.com/gearingfortexas/',\n",
       " 'https://www.youtube.com/channel/UCgtV3nMJ2SnMS8PHnRztD0g',\n",
       " 'https://www.linkedin.com/in/charles-m-gearing-7330651/',\n",
       " 'https://www.youtube.com/channel/UCaEs0pYlL_1cLlPBHfl0RIg',\n",
       " 'https://www.facebook.com/lancegoodenfortexas',\n",
       " 'https://www.twitter.com/Lancegooden',\n",
       " 'https://www.instagram.com/lancegooden/',\n",
       " 'https://www.facebook.com/lancegooden',\n",
       " 'https://www.facebook.com/RepJakeEllzey',\n",
       " 'https://www.twitter.com/RepEllzey',\n",
       " 'https://www.facebook.com/CommanderEllzey',\n",
       " 'https://www.twitter.com/JakeEllzey',\n",
       " 'https://www.instagram.com/commanderellzey',\n",
       " 'https://www.youtube.com/channel/UCbzpzYhmgoFnqFr4a5ai56A',\n",
       " 'https://www.facebook.com/jake.ellzey.733',\n",
       " 'https://www.linkedin.com/in/jake-ellzey-0a253138/',\n",
       " 'https://www.facebook.com/buford4congress',\n",
       " 'https://www.twitter.com/jamesbu74790136',\n",
       " 'https://www.instagram.com/buford4congress',\n",
       " 'https://www.linkedin.com/in/james-buford-8b604921b',\n",
       " 'https://www.facebook.com/RepFletcher/',\n",
       " 'https://www.twitter.com/RepFletcher',\n",
       " 'https://www.instagram.com/repfletcher/',\n",
       " 'https://www.youtube.com/channel/UCIWDLoDPvawP118TNWi-9rg',\n",
       " 'https://www.facebook.com/LizzieForCongress',\n",
       " 'https://www.twitter.com/lizzie4congress',\n",
       " 'https://www.instagram.com/lizzieforcongress/',\n",
       " 'https://www.youtube.com/channel/UCb1_n8fVrDWDOqQXjFhCCNw',\n",
       " 'https://www.facebook.com/lizzie.pannillfletcher/',\n",
       " 'https://www.linkedin.com/in/elizabeth-fletcher-a6a7738/',\n",
       " 'https://www.facebook.com/americans2022',\n",
       " 'https://www.twitter.com/rudy_atencio',\n",
       " 'https://www.instagram.com/americans2022/',\n",
       " 'https://www.youtube.com/channel/UCshvMO2idGdOuU7TbxP4nQw',\n",
       " 'https://www.facebook.com/americansforpeace',\n",
       " 'https://www.linkedin.com/in/rudy-a-atencio-161791177/',\n",
       " 'https://www.facebook.com/tinafortexas',\n",
       " 'https://www.twitter.com/tinacohen18',\n",
       " 'https://www.facebook.com/tb.cohen',\n",
       " 'https://www.linkedin.com/in/tina-cohen-776b3020/',\n",
       " 'https://www.facebook.com/ibensongitau',\n",
       " 'https://www.twitter.com/ibensongitau',\n",
       " 'https://www.instagram.com/ibensongitau',\n",
       " 'https://www.youtube.com/channel/UCUMWAUYZVtLxYRq3Lsm8JVA',\n",
       " 'https://www.facebook.com/laiquerehmanforcongress1/',\n",
       " 'https://www.twitter.com/LaiqueRehman1',\n",
       " 'https://www.instagram.com/laique.rehman',\n",
       " 'https://www.linkedin.com/in/laique-rehman-40132521/',\n",
       " 'https://www.facebook.com/Lance-Stewart-104490375168018',\n",
       " 'https://www.twitter.com/Lance4TX',\n",
       " 'https://www.linkedin.com/in/lance-stewart-4529121b/',\n",
       " 'https://www.facebook.com/TimStroudForCongress/',\n",
       " 'https://www.youtube.com/channel/UCaDtLj6D3SSKMxR4TxDuzLQ',\n",
       " 'https://www.facebook.com/timthearmymedic',\n",
       " 'https://www.twitter.com/timthearmymedic',\n",
       " 'https://www.linkedin.com/in/stroudmarketing/',\n",
       " 'https://www.facebook.com/CheckJohnnyTeague/',\n",
       " 'https://www.twitter.com/for_teague',\n",
       " 'https://www.facebook.com/johnny.teague',\n",
       " 'https://www.youtube.com/channel/UCpV-5G9sAzhgRrJw5DRvv9w',\n",
       " 'https://www.linkedin.com/in/dr-johnny-teague-76289a80/',\n",
       " 'https://www.facebook.com/LauraJonesforCongress',\n",
       " 'https://www.twitter.com/CongressLaura',\n",
       " 'https://www.instagram.com/LauraJonesforCongress/',\n",
       " 'https://www.facebook.com/laurajones.yoga.5',\n",
       " 'https://www.linkedin.com/in/laura-jones-a77889b3/',\n",
       " 'https://www.facebook.com/people/Betsy-Bates/100068817076358/',\n",
       " 'https://www.twitter.com/MAGABetsy',\n",
       " 'https://www.facebook.com/christiancollinstx/',\n",
       " 'https://www.twitter.com/collinsfortx',\n",
       " 'https://www.instagram.com/christiancollinstx/',\n",
       " 'https://www.youtube.com/channel/UC0ZuhuSqcguzkBuIXdXk37A',\n",
       " 'https://www.facebook.com/Christian.S.Collins',\n",
       " 'https://www.linkedin.com/in/christiancollins7/',\n",
       " 'https://www.facebook.com/JHullihanTX/',\n",
       " 'https://www.twitter.com/jhullihantx',\n",
       " 'https://www.instagram.com/jhullihantx/',\n",
       " 'https://www.facebook.com/MLuttrellTX',\n",
       " 'https://www.twitter.com/MLuttrellTX',\n",
       " 'https://www.instagram.com/mojoluttrell/',\n",
       " 'https://www.youtube.com/channel/UCfVZpKoKjsB6l5wF9AF96wg',\n",
       " 'https://www.linkedin.com/in/morgan-luttrell-169623195/',\n",
       " 'https://www.facebook.com/DanMcKaughanTX/',\n",
       " 'https://www.twitter.com/DanMcKaughanTX',\n",
       " 'https://www.instagram.com/DanMcKaughanTX/',\n",
       " 'https://www.facebook.com/Jonathan-Mitchell-for-Congress-103071841922918',\n",
       " 'https://www.twitter.com/JMitchellforTX',\n",
       " 'https://www.facebook.com/chuckmontgomeryforcongress',\n",
       " 'https://www.twitter.com/Meetmikephilips',\n",
       " 'https://www.instagram.com/Meetmikephilips',\n",
       " 'https://www.facebook.com/jessicawellingtontx',\n",
       " 'https://www.twitter.com/jwellingtontx',\n",
       " 'https://www.instagram.com/jessicawellingtontx',\n",
       " 'https://www.linkedin.com/in/jessica-wellington-573a7623/',\n",
       " 'https://www.facebook.com/jessicawellingtontx',\n",
       " 'https://www.twitter.com/jwellingtontx',\n",
       " 'https://www.instagram.com/jessicawellingtontx',\n",
       " 'https://www.linkedin.com/in/jessica-wellington-573a7623/',\n",
       " 'https://www.facebook.com/taylorwhichardforcongress/',\n",
       " 'https://www.twitter.com/WhichardIv',\n",
       " 'https://www.instagram.com/tm.whichardiv/',\n",
       " 'https://www.linkedin.com/in/taylor-whichard-7117a846/',\n",
       " 'https://www.twitter.com/jarchowcampaign',\n",
       " 'https://www.youtube.com/channel/UCTwmiWvMtGdSXS8cttcJJfg',\n",
       " 'https://www.facebook.com/Kaiser4congress/',\n",
       " 'https://www.facebook.com/roy.eriksen.16',\n",
       " 'https://www.linkedin.com/in/reriksen/',\n",
       " 'https://ballotpedia.org/Help:Report_an_error',\n",
       " 'https://www.facebook.com/repalgreen/',\n",
       " 'https://www.twitter.com/RepAlGreen',\n",
       " 'https://www.instagram.com/repalgreen/',\n",
       " 'https://www.youtube.com/user/RepAlGreen',\n",
       " 'https://www.twitter.com/RepAlGreenTX',\n",
       " 'https://www.facebook.com/Lindanuno777',\n",
       " 'https://www.instagram.com/linda_nuno_for_congress/',\n",
       " 'https://www.facebook.com/PINKAIRPLANE18',\n",
       " 'https://www.twitter.com/LindaNuno7',\n",
       " 'https://www.youtube.com/channel/UCKGl31jrWboR_tzQuYWXzXQ',\n",
       " 'https://www.facebook.com/MayorDrWallaceJr',\n",
       " 'https://www.twitter.com/DrLarryWallace1',\n",
       " 'https://www.instagram.com/larrywallacejr/',\n",
       " 'https://www.youtube.com/channel/UC1ZAokqQ4c2BQV8IdxJnQBQ',\n",
       " 'https://www.facebook.com/drlarrywallacejr',\n",
       " 'https://www.linkedin.com/in/larrywallacejr/',\n",
       " 'https://www.facebook.com/michaeltmccaul/',\n",
       " 'https://www.twitter.com/RepMcCaul',\n",
       " 'https://www.instagram.com/congressman_mccaul/',\n",
       " 'https://www.youtube.com/user/MichaelTMcCaul',\n",
       " 'https://www.facebook.com/MichaelMcCaulTX',\n",
       " 'https://www.twitter.com/McCaulforTexas',\n",
       " 'https://www.youtube.com/channel/UCFTcskOT4na97M00Vpu_oZw',\n",
       " 'https://www.facebook.com/bill.kelsey.5817',\n",
       " 'https://www.facebook.com/RepAugustPfluger/',\n",
       " 'https://www.twitter.com/RepPfluger',\n",
       " 'https://www.instagram.com/RepAugustPfluger/',\n",
       " 'https://www.youtube.com/channel/UC8bJT16wpa7co50ELvpMTTg',\n",
       " 'https://www.facebook.com/AugustPflugerTX',\n",
       " 'https://www.twitter.com/AugustPfluger',\n",
       " 'https://www.instagram.com/augustpflugertx/',\n",
       " 'https://www.linkedin.com/in/august-pfluger-23240577',\n",
       " 'https://www.facebook.com/VoteHunt2022',\n",
       " 'https://www.twitter.com/VoteHunt2022',\n",
       " 'https://www.instagram.com/votehunt2022/',\n",
       " 'https://www.youtube.com/channel/UC2A87ZiAlVa5tAByX-NGPQg',\n",
       " 'https://www.facebook.com/TreyJHunt',\n",
       " 'https://www.linkedin.com/in/trey-hunt-0a87831aa/',\n",
       " 'https://ballotpedia.org/Help:Report_an_error',\n",
       " 'https://www.facebook.com/RepKayGranger',\n",
       " 'https://www.twitter.com/RepKayGranger',\n",
       " 'https://www.instagram.com/repkaygranger/',\n",
       " 'https://www.youtube.com/c/RepKayGranger',\n",
       " 'https://www.facebook.com/KayGrangerCampaign/',\n",
       " 'https://www.twitter.com/GrangerCampaign',\n",
       " 'https://www.twitter.com/Catala4Congress',\n",
       " 'https://www.instagram.com/Catala4Congress',\n",
       " 'https://www.facebook.com/profile.php?id=100058913288479',\n",
       " 'https://www.twitter.com/ryanjcatala',\n",
       " 'https://www.facebook.com/athletealysiarieg',\n",
       " 'https://www.instagram.com/ay_lee_see_yuh',\n",
       " 'https://www.facebook.com/alysia.rieg',\n",
       " 'https://www.twitter.com/alysiarieg',\n",
       " 'https://www.linkedin.com/in/alysiarieg/',\n",
       " 'https://www.facebook.com/putnamfortexas/',\n",
       " 'https://www.twitter.com/putnamfortexas',\n",
       " 'https://www.linkedin.com/in/chris-putnam-543b6/',\n",
       " 'https://www.twitter.com/cdrectorauthor',\n",
       " 'https://www.instagram.com/rector4texas',\n",
       " 'https://www.facebook.com/KathleenForTx13',\n",
       " 'https://www.twitter.com/Kat4District13',\n",
       " 'https://www.youtube.com/channel/UCd1YzFPDnOR4Je0MgUqx6Rg',\n",
       " 'https://www.facebook.com/RepRonnyJackson/',\n",
       " 'https://www.twitter.com/RepRonnyJackson',\n",
       " 'https://www.instagram.com/RepRonnyJackson/',\n",
       " 'https://www.youtube.com/channel/UCXhohNmrQ0R-c-5Nv2VfD9g',\n",
       " 'https://www.facebook.com/RonnyJacksonTX',\n",
       " 'https://www.twitter.com/RonnyJacksonTX',\n",
       " 'https://www.facebook.com/ronny.jackson.568089',\n",
       " 'https://www.linkedin.com/in/ronny-l-jackson/',\n",
       " 'https://www.facebook.com/PresidenHoward',\n",
       " 'https://www.twitter.com/VisionaryHoward',\n",
       " 'https://www.instagram.com/visionaryhoward',\n",
       " 'https://www.youtube.com/channel/UCMtrqJ3Kaw50cgN-utczIuw',\n",
       " 'https://www.linkedin.com/in/eugene-howard-ba5324170/',\n",
       " 'https://www.facebook.com/mikaldwilliams2022/',\n",
       " 'https://www.twitter.com/MikalDWilliams',\n",
       " 'https://www.instagram.com/mikaldwilliams/',\n",
       " 'https://www.facebook.com/mikal.williams.921',\n",
       " 'https://www.linkedin.com/in/mikal-d-williams-0129a87/',\n",
       " 'https://www.facebook.com/Jeff-Antonelli-for-TX-House-District-23-103359801449150',\n",
       " 'https://www.facebook.com/jeff.antonelli',\n",
       " 'https://www.facebook.com/cyrus.sajna',\n",
       " 'https://www.youtube.com/channel/UCQzBuLSO13YUqGmXTQZMKKg/',\n",
       " 'https://www.linkedin.com/in/cyrussajna/',\n",
       " 'https://www.facebook.com/TXRandy14/',\n",
       " 'https://www.twitter.com/TXRandy14',\n",
       " 'https://www.instagram.com/TXRandy14/',\n",
       " 'https://www.youtube.com/TXRandy14',\n",
       " 'https://www.facebook.com/WeberForTexas',\n",
       " 'https://www.facebook.com/randy.weber.1675',\n",
       " 'https://www.facebook.com/TXRandy14/',\n",
       " 'https://www.twitter.com/TXRandy14',\n",
       " 'https://www.instagram.com/TXRandy14/',\n",
       " 'https://www.youtube.com/TXRandy14',\n",
       " 'https://www.facebook.com/WeberForTexas',\n",
       " 'https://www.facebook.com/randy.weber.1675',\n",
       " 'https://www.facebook.com/keith.casey.127',\n",
       " 'https://www.facebook.com/RubenLandonDante/',\n",
       " 'https://www.twitter.com/RubenLDante',\n",
       " 'https://www.instagram.com/RubenLDante/',\n",
       " 'https://www.facebook.com/RubenLDante',\n",
       " 'https://www.youtube.com/channel/UCYG1WlXXgNaYYNyQ1cV804w',\n",
       " 'https://www.linkedin.com/in/rubendante/',\n",
       " 'https://www.facebook.com/Dr-Gina-Smith-100849645477947',\n",
       " 'https://www.twitter.com/drgina_smith',\n",
       " 'https://www.instagram.com/realginasmith2022/',\n",
       " 'https://www.facebook.com/Eliza-Alvarado-for-Congress-106381151840888/',\n",
       " 'https://www.facebook.com/eliza.alvarado',\n",
       " 'https://www.linkedin.com/in/eliza-alvarado-133b1388/',\n",
       " 'https://www.facebook.com/Julio-Garza-for-Congress-100101779182048/',\n",
       " 'https://www.twitter.com/Garzafor15',\n",
       " 'https://www.instagram.com/juliogarzaforcongress/',\n",
       " 'https://www.facebook.com/profile.php?id=100075343805997',\n",
       " 'https://www.facebook.com/Ruben-Ramirez-for-Congress-100963232386119/',\n",
       " 'https://www.facebook.com/votetijerina2016',\n",
       " 'https://www.facebook.com/vanessa.s.tijerina',\n",
       " 'https://www.facebook.com/michellevfortx',\n",
       " 'https://www.twitter.com/MichelleVforTX',\n",
       " 'https://www.instagram.com/michellevfortx/',\n",
       " 'https://www.youtube.com/channel/UC2iOQwxr_HfaZGZde__QGug',\n",
       " 'https://www.facebook.com/Rigney2022',\n",
       " 'https://www.twitter.com/RigneyTeam',\n",
       " 'https://www.youtube.com/channel/UCmeFXyrLnLZaQ4ZGXljj-BA',\n",
       " 'https://www.facebook.com/john.rigney.52',\n",
       " 'https://www.linkedin.com/in/roberto-haddad-73a20436/',\n",
       " 'https://www.facebook.com/Aizar-Cavazos-for-Congress-109197278211860/',\n",
       " 'https://www.twitter.com/AizarCavazosTX',\n",
       " 'https://www.facebook.com/Judge-Sara-Canady-for-US-Congress-District-15-103426368856651',\n",
       " 'https://www.twitter.com/Canady4Congress',\n",
       " 'https://www.linkedin.com/in/sara-canady-0a902830/',\n",
       " 'https://www.facebook.com/vangelaforcongress/',\n",
       " 'https://www.twitter.com/ForChurchill',\n",
       " 'https://www.instagram.com/vangelaforcongress',\n",
       " 'https://www.youtube.com/channel/UCkeiaXW54mpdraR9RrDzlcA/featured',\n",
       " 'https://www.facebook.com/vangelachurchillforcongress',\n",
       " 'https://www.linkedin.com/in/vangeladenney/',\n",
       " 'https://www.facebook.com/monicaforcongress/',\n",
       " 'https://www.twitter.com/monica4congress',\n",
       " 'https://www.instagram.com/monicaforcongress/',\n",
       " 'https://www.youtube.com/channel/UCrD8yy6HIWAQByMKuPWcGxQ',\n",
       " 'https://www.linkedin.com/in/monica-de-la-cruz-250978169/',\n",
       " 'https://www.facebook.com/MauroGarzaForCongress',\n",
       " 'https://www.instagram.com/mauro4texas/',\n",
       " 'https://www.youtube.com/channel/UCAu2tHmUur3BVQN1MdTFTXw',\n",
       " 'https://www.facebook.com/mauro.garza.3914',\n",
       " 'https://www.linkedin.com/in/maurogarza/',\n",
       " 'https://www.linkedin.com/in/krause4u/',\n",
       " 'https://www.facebook.com/ross.leone.96',\n",
       " 'https://ballotpedia.org/Help:Report_an_error',\n",
       " 'https://www.facebook.com/RepEscobar/',\n",
       " 'https://www.twitter.com/RepEscobar',\n",
       " 'https://www.instagram.com/repescobar/',\n",
       " 'https://www.youtube.com/channel/UC46TX2P8K0CA_4gZv8_R2Og/',\n",
       " 'https://www.facebook.com/VeronicaEscobarTX',\n",
       " 'https://www.twitter.com/vgescobar',\n",
       " 'https://www.instagram.com/veronicaescobartx/',\n",
       " 'https://www.facebook.com/DMBfor',\n",
       " 'https://www.twitter.com/dmbfor',\n",
       " 'https://www.instagram.com/dmbfor',\n",
       " 'https://www.youtube.com/channel/UCQPTp_n5MqwY7IwixEvmBmA',\n",
       " 'https://www.facebook.com/deliris.montanez/',\n",
       " 'https://www.linkedin.com/in/deliris-dee-montanez-26405333',\n",
       " 'https://www.facebook.com/ArmendarizforElPaso/',\n",
       " 'https://www.twitter.com/ArmendarizDis16',\n",
       " 'https://www.instagram.com/irene4congress/',\n",
       " 'https://www.facebook.com/Ireneajackson',\n",
       " 'https://www.twitter.com/amazingurl09',\n",
       " 'https://www.linkedin.com/in/irene-armendariz-jackson-ma-59b3a426/',\n",
       " 'https://www.twitter.com/votesamuelwill1',\n",
       " 'https://www.facebook.com/profile.php?id=100007308886429&ref=br_rs',\n",
       " 'https://www.facebook.com/MaryWoodsTX17',\n",
       " 'https://www.twitter.com/MaryJo_TX17',\n",
       " 'https://www.instagram.com/maryjotx17',\n",
       " 'https://www.facebook.com/petesessions',\n",
       " 'https://www.twitter.com/PeteSessions',\n",
       " 'https://www.youtube.com/channel/UCD-O0Y92UcMglKmoo7BHLsg',\n",
       " 'https://www.facebook.com/sessionsforcongress',\n",
       " 'https://www.twitter.com/SessionsTX17',\n",
       " 'https://www.linkedin.com/in/petesessions?',\n",
       " 'https://www.facebook.com/Carson4Congress',\n",
       " 'https://www.twitter.com/Carson4Tx',\n",
       " 'https://www.facebook.com/carsoncp',\n",
       " 'https://www.linkedin.com/in/paulette-carson-25400945/',\n",
       " 'https://www.facebook.com/Jason-Storm-Nelson-for-Congress-111374444732444/',\n",
       " 'https://www.twitter.com/Storm4Congress',\n",
       " 'https://www.linkedin.com/in/robertrosenberger/',\n",
       " 'https://ballotpedia.org/Help:Report_an_error',\n",
       " 'https://www.facebook.com/CongresswomanSheilaJacksonLee/',\n",
       " 'https://www.twitter.com/JacksonLeeTX18',\n",
       " 'https://www.instagram.com/repjacksonlee/',\n",
       " 'https://www.youtube.com/user/RepJacksonLee',\n",
       " 'https://www.facebook.com/SheilaJacksonLeefor18',\n",
       " 'https://www.instagram.com/SheilaJacksonLee/',\n",
       " 'https://www.facebook.com/sheilajacksonlee18',\n",
       " 'https://www.linkedin.com/in/congresswomansheilajacksonlee/',\n",
       " 'https://www.twitter.com/CashForCongress',\n",
       " 'https://www.instagram.com/cashforcongress/',\n",
       " 'https://www.linkedin.com/in/cassius-evergreen/',\n",
       " 'https://www.facebook.com/CarmenForCongress',\n",
       " 'https://www.twitter.com/Carmen4Congress',\n",
       " 'https://www.instagram.com/carmenforcongress/',\n",
       " 'https://www.facebook.com/carmen.ma.montiel',\n",
       " 'https://www.twitter.com/ScottHuckabee2',\n",
       " 'https://www.facebook.com/phil.kurtz.3',\n",
       " 'https://www.youtube.com/channel/UC9mEvVku2Mlre6FDGNbvvUQ/featured',\n",
       " 'https://www.linkedin.com/in/philip-kurtz-913006174/',\n",
       " 'https://www.facebook.com/RepJodeyArrington',\n",
       " 'https://www.twitter.com/RepArrington',\n",
       " 'https://www.instagram.com/repjodeyarrington/',\n",
       " 'https://www.youtube.com/channel/UC3lif8TFPOe-tJ2-pE4Rp7Q',\n",
       " 'https://www.facebook.com/JodeyArringtonTX19',\n",
       " 'https://www.twitter.com/JodeyArrington',\n",
       " 'https://www.instagram.com/jodeyarrington/',\n",
       " 'https://www.facebook.com/jodey.arrington.5',\n",
       " 'https://www.linkedin.com/in/jodeyarrington/',\n",
       " 'https://www.facebook.com/JoaquinCastroTX/',\n",
       " 'https://www.twitter.com/JoaquinCastrotx',\n",
       " 'https://www.instagram.com/joaquincastrotx/',\n",
       " 'https://www.youtube.com/user/JoaquinCastroTX',\n",
       " 'https://www.facebook.com/JoaquinCastro4Congress',\n",
       " 'https://www.twitter.com/Castro4Congress',\n",
       " 'https://www.facebook.com/joaquin.castro.142',\n",
       " 'https://www.linkedin.com/in/joaquin-castro-2626ab51/',\n",
       " 'https://www.facebook.com/kylefor20',\n",
       " 'https://www.twitter.com/kylefor20',\n",
       " 'https://www.instagram.com/kylefor20/',\n",
       " 'https://www.facebook.com/kyle.sinclair2',\n",
       " 'https://www.twitter.com/sinclairkyle1',\n",
       " 'https://www.linkedin.com/in/kylesinclair2010/',\n",
       " 'https://www.facebook.com/DLAndersonJrTX',\n",
       " 'https://www.twitter.com/DLAndersonJrTX',\n",
       " 'https://www.instagram.com/dlandersonjrtx/',\n",
       " 'https://www.facebook.com/coybranscum/',\n",
       " 'https://www.twitter.com/coybranscum',\n",
       " 'https://www.instagram.com/coybranscum',\n",
       " 'https://www.facebook.com/profile.php?id=100073934508922',\n",
       " 'https://www.linkedin.com/in/cgbranscum/',\n",
       " 'https://www.facebook.com/Cherif4Congress',\n",
       " 'https://www.twitter.com/cherif4congress',\n",
       " 'https://www.instagram.com/cherif4congress',\n",
       " 'https://www.facebook.com/cgacis1',\n",
       " 'https://www.facebook.com/SturmNextTerm',\n",
       " 'https://www.twitter.com/SturmNextTerm',\n",
       " 'https://www.youtube.com/channel/UCle5_llZ6IQTEHgW91AOlKw',\n",
       " 'https://www.facebook.com/RicardoVillarrealTX21/',\n",
       " 'https://www.twitter.com/RVillarrealTX21',\n",
       " 'https://www.linkedin.com/in/drricardovillarreal/',\n",
       " 'https://www.facebook.com/PoderConClaudia',\n",
       " 'https://www.twitter.com/PoderConClaudia',\n",
       " 'https://www.instagram.com/PoderConClaudia',\n",
       " 'https://www.facebook.com/RepChipRoyPress',\n",
       " 'https://www.twitter.com/RepChipRoy',\n",
       " 'https://www.facebook.com/ChipRoyforCongress/',\n",
       " 'https://www.twitter.com/chiproytx',\n",
       " 'https://www.instagram.com/chiproytx/',\n",
       " 'https://www.youtube.com/channel/UCUp3Bj2EEnGlBuaUuXWgrpg',\n",
       " 'https://www.facebook.com/French4Congress',\n",
       " 'https://www.facebook.com/drrobertlowry',\n",
       " 'https://www.twitter.com/DrRobertLowry',\n",
       " 'https://www.facebook.com/profile.php?id=100075712974297',\n",
       " 'https://www.facebook.com/profile.php?id=100075000604306',\n",
       " 'https://www.facebook.com/squiresforcongress2022/',\n",
       " 'https://www.twitter.com/Squires2022',\n",
       " 'https://www.instagram.com/squires2022/',\n",
       " 'https://www.facebook.com/jim.squires27',\n",
       " 'https://www.twitter.com/mattberg4texas',\n",
       " 'https://www.facebook.com/matticeberg',\n",
       " 'https://www.facebook.com/squiresforcongress2022/',\n",
       " 'https://www.twitter.com/Squires2022',\n",
       " 'https://www.instagram.com/squires2022/',\n",
       " 'https://www.facebook.com/jim.squires27',\n",
       " 'https://www.facebook.com/AngelLuisVega',\n",
       " 'https://www.twitter.com/AngelLuisVega',\n",
       " 'https://www.instagram.com/anluisvega/',\n",
       " 'https://www.youtube.com/channel/UCRb_WwQaxok3OrrBueUaDDQ',\n",
       " 'https://ballotpedia.org/Help:Report_an_error',\n",
       " 'https://www.facebook.com/RepTroyNehls',\n",
       " 'https://www.twitter.com/RepTroyNehls',\n",
       " 'https://www.youtube.com/channel/UCf4v1ZzngfbZ-Ow9EiagaOA',\n",
       " 'https://www.facebook.com/SheriffTNehls',\n",
       " 'https://www.twitter.com/SheriffTNehls',\n",
       " 'https://www.instagram.com/troynehlstx/',\n",
       " 'https://www.linkedin.com/in/troy-e-nehls-909474116/',\n",
       " 'https://www.facebook.com/gjt2022',\n",
       " 'https://www.twitter.com/gjt2022',\n",
       " 'https://www.facebook.com/greg.thorne.9',\n",
       " 'https://www.facebook.com/liraforcongress/',\n",
       " 'https://www.twitter.com/LiraForCongress',\n",
       " 'https://www.youtube.com/channel/UCRiNsbVJqTikoIq0AKdfgoA',\n",
       " 'https://www.linkedin.com/in/johnjlira/',\n",
       " 'https://www.facebook.com/RepTonyGonzales/',\n",
       " 'https://www.twitter.com/RepTonyGonzales',\n",
       " 'https://www.instagram.com/reptonygonzales/',\n",
       " 'https://www.youtube.com/channel/UCig5n4Otr-enqpM8OSJ8FGA',\n",
       " 'https://www.facebook.com/TonyGonzalesForCongress',\n",
       " 'https://www.twitter.com/TonyGonzales4TX',\n",
       " 'https://www.youtube.com/channel/UCAuRovyQwaNVb8XFmd9HX4w',\n",
       " 'https://www.facebook.com/Dralmaforcongress',\n",
       " 'https://www.twitter.com/arredondo_lynch',\n",
       " 'https://www.facebook.com/alma.arredondolynch.9',\n",
       " 'https://www.linkedin.com/in/alma-g-arredondo-lynch-dds-121903113/',\n",
       " 'https://www.facebook.com/Alia4USCongress/',\n",
       " 'https://www.twitter.com/Alia4USCongress',\n",
       " 'https://www.youtube.com/channel/UC5Wj4BK7fuioISjIVoP8UUQ',\n",
       " 'https://www.facebook.com/profile.php?id=100058055799976',\n",
       " 'https://www.facebook.com/Kathy4Congress/',\n",
       " 'https://www.twitter.com/Kathy4Congress',\n",
       " 'https://www.instagram.com/kathy4congress',\n",
       " 'https://www.facebook.com/DerrikGayForCongress',\n",
       " 'https://www.twitter.com/derrikgay',\n",
       " 'https://www.instagram.com/derrikgay',\n",
       " 'https://www.facebook.com/derriktg',\n",
       " 'https://www.linkedin.com/in/derrikgay/',\n",
       " 'https://www.facebook.com/JanMcDowellDemocrat/',\n",
       " 'https://www.twitter.com/JanForCongress',\n",
       " 'https://www.instagram.com/JanMcDowellForCongress',\n",
       " 'https://www.facebook.com/jan.mcdowell.96',\n",
       " 'https://www.linkedin.com/in/janmcdowell/',\n",
       " 'https://www.facebook.com/MichelleBeckleyTexas',\n",
       " 'https://www.twitter.com/BeckleyforTX',\n",
       " 'https://www.instagram.com/michellebeckleyfortexas/',\n",
       " 'https://www.youtube.com/michellebeckley',\n",
       " 'https://www.facebook.com/michelle.beckley',\n",
       " 'https://www.linkedin.com/in/michelle-beckley-3b41b4161/',\n",
       " 'https://ballotpedia.org/Help:Report_an_error',\n",
       " 'https://www.facebook.com/RepBethVanDuyne',\n",
       " 'https://www.twitter.com/RepBethVanDuyne',\n",
       " 'https://www.instagram.com/repbethvanduyne/',\n",
       " 'https://www.youtube.com/channel/UC891KwZoimDB36IzK1or_VA',\n",
       " 'https://www.facebook.com/BethVanDuyneTX',\n",
       " 'https://www.instagram.com/bethvanduynetx/',\n",
       " 'https://www.facebook.com/beth.vanduyne',\n",
       " 'https://www.linkedin.com/in/beth-van-duyne-60462a9/',\n",
       " 'https://www.facebook.com/RepRogerWilliams/',\n",
       " 'https://www.twitter.com/RepRWilliams',\n",
       " 'https://www.instagram.com/reprwilliams/',\n",
       " 'https://www.youtube.com/channel/UCBtfmMMQarjtLB9U_pWMOhw',\n",
       " 'https://www.facebook.com/rogerwilliamstx',\n",
       " 'https://www.twitter.com/RogerWilliamsTX',\n",
       " 'https://www.facebook.com/TylerSmith4Congress',\n",
       " 'https://www.twitter.com/TylerCongress',\n",
       " 'https://www.twitter.com/michaelcburgess',\n",
       " 'https://www.instagram.com/repmichaelburgess/',\n",
       " 'https://www.youtube.com/user/MichaelCBurgessMD/about',\n",
       " 'https://www.facebook.com/DrBurgessTX',\n",
       " 'https://www.facebook.com/michaelcburgess/',\n",
       " 'https://www.facebook.com/GalloforCongress',\n",
       " 'https://www.youtube.com/channel/UCwQ8E1mVEelLAX831z3is7w',\n",
       " 'https://www.facebook.com/profile.php?id=100075281108607',\n",
       " 'https://www.facebook.com/Raven-Harrison-4-Congress-R-TX-26-106379501844556/',\n",
       " 'https://www.twitter.com/raven4congress',\n",
       " 'https://www.instagram.com/raven4congress/',\n",
       " 'https://www.youtube.com/channel/UCIc2jXp-8Z3lMwB7hhPUFSw',\n",
       " 'https://www.facebook.com/friendsofisaacsmith',\n",
       " 'https://www.youtube.com/channel/UCPTusndS1ZWdZy8l9-7yp3A/',\n",
       " 'https://www.linkedin.com/in/hdris/',\n",
       " 'https://www.facebook.com/Maclovio-Perez-for-US-Congress-District-27-103854165500831/',\n",
       " 'https://www.facebook.com/macloviop',\n",
       " 'https://www.linkedin.com/in/maclovio-perez-jr-40161912/',\n",
       " 'https://www.facebook.com/tristanforcongress/',\n",
       " 'https://www.twitter.com/anthonyjtristan',\n",
       " 'https://www.linkedin.com/in/anthony-james-tristan-41a62797/',\n",
       " 'https://www.facebook.com/RepCloudTX/',\n",
       " 'https://www.twitter.com/RepCloudTX',\n",
       " 'https://www.instagram.com/repcloudtx/',\n",
       " 'https://www.youtube.com/channel/UCv_kM3OZukHS0rjWpw_JMWg',\n",
       " 'https://www.facebook.com/CloudforCongress',\n",
       " 'https://www.twitter.com/MichaelJCloud',\n",
       " 'https://www.instagram.com/michaeljcloud/',\n",
       " 'https://www.linkedin.com/in/michaeljcloud/',\n",
       " 'https://www.facebook.com/andrewalvareztx',\n",
       " 'https://www.twitter.com/andrewalvareztx',\n",
       " 'https://www.instagram.com/aaforcongress/',\n",
       " 'https://www.facebook.com/AndyLouderback',\n",
       " 'https://www.twitter.com/louderbackaj',\n",
       " 'https://www.facebook.com/aj.louderback.1',\n",
       " 'https://www.linkedin.com/in/aj-louderback-b8bb4812a/',\n",
       " 'https://www.facebook.com/ckmapp/',\n",
       " 'https://www.twitter.com/ckmapp',\n",
       " 'https://www.instagram.com/ckmapp/',\n",
       " 'https://www.facebook.com/chris.mapp.52687',\n",
       " 'https://www.linkedin.com/in/chris-mapp-baa8ba141/',\n",
       " 'https://www.facebook.com/eric.mireles.524',\n",
       " 'https://www.facebook.com/repcuellar/',\n",
       " 'https://www.twitter.com/RepCuellar',\n",
       " 'https://www.instagram.com/repcuellar/',\n",
       " 'https://www.youtube.com/user/henrycuellar',\n",
       " 'https://www.facebook.com/cuellarcampaign',\n",
       " 'https://www.twitter.com/CuellarCampaign',\n",
       " 'https://www.instagram.com/cuellarcampaign/',\n",
       " 'https://www.linkedin.com/in/henry-cuellar-45492a148/',\n",
       " 'https://www.facebook.com/tannyafortexas',\n",
       " 'https://www.twitter.com/TannyaForTexas',\n",
       " 'https://www.instagram.com/tannyafortexas/',\n",
       " 'https://www.youtube.com/channel/UCW2pfAPS58p-10sXRULVYqg',\n",
       " 'https://www.facebook.com/tannya.benavides',\n",
       " 'https://www.twitter.com/tannyabenavides',\n",
       " 'https://www.linkedin.com/in/tannya-benavides-m-s-ed-188689120',\n",
       " 'https://www.facebook.com/JCisnerosTX',\n",
       " 'https://www.twitter.com/JCisnerosTX',\n",
       " 'https://www.instagram.com/jcisnerostx_/',\n",
       " 'https://www.facebook.com/profile.php?id=1389590158',\n",
       " 'https://www.facebook.com/EdCabreraforSouthTexas/',\n",
       " 'https://www.twitter.com/EdCabrera4SoTX',\n",
       " 'https://www.instagram.com/edcabreraforsouthtexas/',\n",
       " 'https://www.youtube.com/channel/UCcrX-xrilYHkUPJtpKnxtVQ',\n",
       " 'https://www.facebook.com/EdCabreraforSouthTexas/',\n",
       " 'https://www.twitter.com/EdCabrera4SoTX',\n",
       " 'https://www.instagram.com/edcabreraforsouthtexas/',\n",
       " 'https://www.youtube.com/channel/UCcrX-xrilYHkUPJtpKnxtVQ',\n",
       " 'https://www.facebook.com/fightlikehelltx/',\n",
       " 'https://www.twitter.com/fightlikehelltx',\n",
       " 'https://www.linkedin.com/in/stevencfowler/',\n",
       " 'https://www.facebook.com/Cassy-Garcia-for-Congress-111701438027599',\n",
       " 'https://www.twitter.com/CasandraLGarcia',\n",
       " 'https://www.youtube.com/channel/UCRdSW4MO7Ezml0vF_1oPc9w',\n",
       " 'https://www.facebook.com/Rolando-4-Congress-TX-US-District-28-112155894647105',\n",
       " 'https://www.twitter.com/Rolando4USD28',\n",
       " 'https://www.instagram.com/rolando4congress/',\n",
       " 'https://www.linkedin.com/in/rolando-rodriguez-161784227/',\n",
       " 'https://www.facebook.com/WillieForTexas',\n",
       " 'https://www.twitter.com/WillieForTexas',\n",
       " 'https://www.instagram.com/WillieForTexas',\n",
       " 'https://www.youtube.com/channel/UCF48v5aiU2nmnpzeATOGAjA',\n",
       " 'https://www.facebook.com/willie.ngjr',\n",
       " 'https://www.linkedin.com/in/williengmpa/',\n",
       " 'https://www.facebook.com/sandrafortexas',\n",
       " 'https://www.twitter.com/texas_sandra',\n",
       " 'https://www.instagram.com/sandrafortexas/',\n",
       " 'https://www.youtube.com/channel/UC32u7WyHjO8OZn21Gfa4EKw',\n",
       " 'https://www.facebook.com/slwhitten',\n",
       " 'https://www.linkedin.com/in/sandra-whitten-0a3493a/',\n",
       " 'https://www.facebook.com/RepSylviaGarcia/',\n",
       " 'https://www.twitter.com/RepSylviaGarcia',\n",
       " 'https://www.instagram.com/repsylviagarcia/',\n",
       " 'https://www.youtube.com/channel/UCkDqAfUk6rg2namKW5dtQYA/featured',\n",
       " 'https://www.facebook.com/SylviaRGarcia',\n",
       " 'https://www.linkedin.com/in/sylvia-garcia-6172b0187/',\n",
       " 'https://www.facebook.com/jaimyblanco',\n",
       " 'https://www.twitter.com/JaimyBlanco',\n",
       " 'https://www.youtube.com/channel/UCDJ1xwTAhosNDjEjf0MdySw',\n",
       " 'https://www.linkedin.com/in/jaimy-zouboulikos-blanco/',\n",
       " 'https://www.linkedin.com/in/lulite-ejigu-779ab834/',\n",
       " 'https://www.twitter.com/BMalloryCaraway',\n",
       " 'https://www.facebook.com/barbara.mallorycaraway.1',\n",
       " 'https://www.linkedin.com/in/barbaramallorycaraway/',\n",
       " 'https://www.facebook.com/jasminefor100/',\n",
       " 'https://www.twitter.com/JasmineForUS',\n",
       " 'https://www.instagram.com/jasmineforus/',\n",
       " 'https://www.youtube.com/channel/UCBYoL67diOf4u4G0x4IGW2w',\n",
       " 'https://www.facebook.com/crockettlaw',\n",
       " 'https://www.linkedin.com/in/jasmine-crockett-98435524/',\n",
       " 'https://www.facebook.com/Arthurforcongress/',\n",
       " 'https://www.twitter.com/ArthurDixonTX',\n",
       " 'https://www.instagram.com/arthurdixontx/',\n",
       " 'https://www.facebook.com/janehopetx',\n",
       " 'https://www.twitter.com/JaneHopeTX',\n",
       " 'https://www.instagram.com/janehopetx',\n",
       " 'https://www.facebook.com/profile.php?id=100011569214869',\n",
       " 'https://www.linkedin.com/in/jane-hamilton-752aa0145/',\n",
       " 'https://ballotpedia.org/Help:Report_an_error',\n",
       " 'https://www.facebook.com/Lankford4Congress',\n",
       " 'https://www.twitter.com/KeishaWLankford',\n",
       " 'https://www.instagram.com/lankford4congress/',\n",
       " 'https://www.facebook.com/keisha.williamslankford',\n",
       " 'https://www.linkedin.com/in/dr-keisha-lankford-74482b69/',\n",
       " 'https://www.facebook.com/JessicaMasonTX30/',\n",
       " 'https://www.twitter.com/JessicaMasonTX',\n",
       " 'https://www.instagram.com/Jessicamasontx30/',\n",
       " 'https://www.youtube.com/channel/UCbKHB-3X75D4bqUINJ5qSww',\n",
       " 'https://www.linkedin.com/in/jessica-mason-mpa-0a655522/',\n",
       " 'https://www.facebook.com/abelfortexas/',\n",
       " 'https://www.twitter.com/abelfortexas',\n",
       " 'https://www.instagram.com/abelfortexas/',\n",
       " 'https://www.youtube.com/user/amulugheta/',\n",
       " 'https://www.facebook.com/abel.mulugheta',\n",
       " 'https://www.linkedin.com/in/abelmulugheta/',\n",
       " 'https://ballotpedia.org/Help:Report_an_error',\n",
       " 'https://www.facebook.com/ConstableRoyWilliamsJr/',\n",
       " 'https://www.facebook.com/roywmsjr',\n",
       " 'https://www.twitter.com/roywmsjr',\n",
       " 'https://www.linkedin.com/in/roy-williams-jr-enfp-5376ba27/',\n",
       " 'https://www.twitter.com/ZachmanningTX',\n",
       " 'https://www.facebook.com/zachariah.manning',\n",
       " 'https://www.twitter.com/goodwinCastillo',\n",
       " 'https://www.facebook.com/profile.php?id=100076284157571',\n",
       " 'https://www.twitter.com/for_kinya',\n",
       " 'https://www.instagram.com/JamesRodgersforCongress',\n",
       " 'https://www.facebook.com/phil.gray.1460',\n",
       " 'https://www.facebook.com/HildnerforTX',\n",
       " 'https://www.twitter.com/HildnerforTexas',\n",
       " 'https://www.instagram.com/HildnerforTexas/',\n",
       " 'https://www.facebook.com/jhildner',\n",
       " 'https://www.twitter.com/hildnerjonathan',\n",
       " 'https://www.linkedin.com/in/jonathan-hildner/',\n",
       " 'https://www.instagram.com/scurrylaw/',\n",
       " 'https://www.youtube.com/channel/UCvQxmBHzAJqbUCtpPXUz95g',\n",
       " 'https://www.facebook.com/christopher.scurry.35',\n",
       " 'https://www.linkedin.com/in/christopher-scurry-a1390617/',\n",
       " 'https://ballotpedia.org/Help:Report_an_error',\n",
       " 'https://www.facebook.com/judgecarter/',\n",
       " 'https://www.twitter.com/JudgeCarter',\n",
       " 'https://www.instagram.com/judgecarter/',\n",
       " 'https://www.youtube.com/user/RepJohnCarter',\n",
       " 'https://www.facebook.com/JudgeJohnCarter',\n",
       " 'https://www.twitter.com/JudgeJohnCarter',\n",
       " 'https://www.instagram.com/johncarterforcongress/',\n",
       " 'https://www.youtube.com/channel/UCJO-i9iopbo3-lxa5MEH7hQ',\n",
       " 'https://www.facebook.com/GarapatiForTexas',\n",
       " 'https://www.twitter.com/garapati4texas',\n",
       " 'https://www.instagram.com/garapatiabhiram/',\n",
       " 'https://www.facebook.com/abhiramcgarapati',\n",
       " 'https://www.linkedin.com/in/abhiram-garapati-58b5b2180/',\n",
       " 'https://www.youtube.com/channel/UC-v0QVtjwqcjqqQT4BJ9HhA',\n",
       " 'https://www.facebook.com/TheJasonHutson',\n",
       " 'https://www.twitter.com/JasonWHutson',\n",
       " 'https://www.linkedin.com/in/derrick-johns-0256173a/',\n",
       " 'https://www.facebook.com/RepColinAllred/',\n",
       " 'https://www.twitter.com/RepColinAllred',\n",
       " 'https://www.instagram.com/repcolinallred/',\n",
       " 'https://www.youtube.com/channel/UCm3l7ZntoH0EI2vIsvxeVqg',\n",
       " 'https://www.facebook.com/ColinAllredTX',\n",
       " 'https://www.twitter.com/ColinAllredTX',\n",
       " 'https://www.instagram.com/colinallred/',\n",
       " 'https://www.youtube.com/channel/UCv_kTAvhdrxqypsiv7CqDgg',\n",
       " 'https://www.facebook.com/NathanDavisTX',\n",
       " 'https://www.twitter.com/NathanDavisTX',\n",
       " 'https://www.instagram.com/nathandavistx/',\n",
       " 'https://www.youtube.com/channel/UCvxN61HIux5Z3NnywHvXK0w',\n",
       " 'https://www.facebook.com/nathan.davis.12576049',\n",
       " 'https://www.facebook.com/bradnamdartx/',\n",
       " 'https://www.twitter.com/BradNamdar',\n",
       " 'https://www.instagram.com/bradnamdarforcongress/',\n",
       " 'https://www.youtube.com/channel/UCAIWhCsTyQm9b_ZoL3H4bqg',\n",
       " 'https://www.facebook.com/okpaforcongress',\n",
       " 'https://www.twitter.com/okpaforcongress',\n",
       " 'https://www.instagram.com/okpaforcongress',\n",
       " 'https://www.facebook.com/ejike.okpa.3',\n",
       " 'https://www.twitter.com/okpa',\n",
       " 'https://www.linkedin.com/in/e-e-okpa-5b642121/',\n",
       " 'https://www.facebook.com/Swad-for-Congress-114888577774479',\n",
       " 'https://www.twitter.com/swadforcongress',\n",
       " 'https://www.instagram.com/swadforcongress/',\n",
       " 'https://www.youtube.com/channel/UCbTTPz7nRrr7nSY5NRdB2iQ',\n",
       " 'https://www.linkedin.com/in/antonio-swad-181b64178/',\n",
       " 'https://www.facebook.com/WebbForTexas/',\n",
       " 'https://www.facebook.com/CongressmanMarcVeasey/',\n",
       " 'https://www.twitter.com/RepVeasey',\n",
       " 'https://www.instagram.com/repveasey/',\n",
       " 'https://www.youtube.com/user/RepMarcVeasey',\n",
       " 'https://www.facebook.com/MarcVeasey',\n",
       " 'https://www.twitter.com/MarcVeasey',\n",
       " 'https://www.instagram.com/marcveasey/',\n",
       " 'https://www.facebook.com/marc.veasey.1',\n",
       " 'https://www.linkedin.com/in/marc-veasey-3b2b002/',\n",
       " 'https://www.facebook.com/CarlosQuintanillaforCongress/',\n",
       " 'https://www.instagram.com/Carlosquintanillaofficial/',\n",
       " 'https://www.facebook.com/carlos.quintanilla.90',\n",
       " 'https://www.youtube.com/user/accionamerica',\n",
       " 'https://www.facebook.com/robert.macglaflin/',\n",
       " 'https://www.linkedin.com/in/robert-j-mac-glaflin-a193bb2a/',\n",
       " 'https://www.facebook.com/RepVicenteGonzalez',\n",
       " 'https://www.twitter.com/RepGonzalez',\n",
       " 'https://www.instagram.com/repvicentegonzalez/',\n",
       " 'https://www.youtube.com/channel/UC5H6oYLKQ_xIXO5CG7fh4hw',\n",
       " 'https://www.facebook.com/votevicente',\n",
       " 'https://www.facebook.com/drlauracisneros4uscongress/',\n",
       " 'https://www.instagram.com/dr.lauracisneros/',\n",
       " 'https://www.facebook.com/votebeatriz',\n",
       " 'https://www.twitter.com/VoteBeatrizTx34',\n",
       " 'https://www.instagram.com/beatrizreynosoforcongress/',\n",
       " 'https://www.youtube.com/channel/UC8P4kv4Mxh34oSx0BUkM29g',\n",
       " 'https://www.facebook.com/people/Osbert-Rodriguez-Haro-III-for-Congress/100057880997866/',\n",
       " 'https://www.facebook.com/osbert.harorodriguez',\n",
       " 'https://www.linkedin.com/in/dr-osbert-haro-a5b60480/',\n",
       " 'https://www.facebook.com/William-Thompson-for-Congress-105035352013205/',\n",
       " 'https://www.facebook.com/DiegoZavalaforCongress',\n",
       " 'https://www.instagram.com/zavalaforcongress/',\n",
       " 'https://www.youtube.com/channel/UCwNnIOSjOKGEVM1LZ5tBtpA',\n",
       " 'https://www.facebook.com/diego.zavala.33',\n",
       " 'https://www.linkedin.com/in/diego-zavala-2a5985148/',\n",
       " 'https://www.facebook.com/rochellemgarza',\n",
       " 'https://www.twitter.com/RochelleMGarza',\n",
       " 'https://www.instagram.com/rochellemgarza/',\n",
       " 'https://www.linkedin.com/in/rochelle-mercedes-garza-1a832214/',\n",
       " 'https://www.facebook.com/Jaimerodriguezforcongress',\n",
       " 'https://www.twitter.com/ryantrevinous',\n",
       " 'https://www.facebook.com/Dr-Juana-Cantu-Cabrera-For-Congress-110244711503387',\n",
       " 'https://www.linkedin.com/in/dr-juana-cantu-cabrera-89168b20/',\n",
       " 'https://www.facebook.com/mayrafloresforcongress/',\n",
       " 'https://www.twitter.com/MayraFlores2022',\n",
       " 'https://www.instagram.com/mayrafloresforcongress/',\n",
       " 'https://www.linkedin.com/in/mayraflores/',\n",
       " 'https://www.facebook.com/kunkleforcongress',\n",
       " 'https://www.twitter.com/GregoryKunkleJr',\n",
       " 'https://www.instagram.com/kunkleforcongresstx34/',\n",
       " 'https://www.facebook.com/gskunkle',\n",
       " 'https://www.facebook.com/profile.php?id=100072122709507',\n",
       " 'https://www.twitter.com/FrankCongress',\n",
       " 'https://www.youtube.com/channel/UC-OaT3U5F53l8y2RyhFz7YQ',\n",
       " 'https://www.facebook.com/frank.mccaffrey',\n",
       " 'https://www.linkedin.com/in/frank-mccaffrey-80bb357/',\n",
       " 'https://www.facebook.com/PhilForCongressTX34',\n",
       " 'https://www.youtube.com/channel/UCuSiYCyjxKcQtv8oWBvPXNg',\n",
       " 'https://www.twitter.com/philsotelo',\n",
       " 'https://www.youtube.com/channel/UCaIC71CHwDTHwgs5EWM1j7g',\n",
       " 'https://ballotpedia.org/Help:Report_an_error',\n",
       " 'https://www.facebook.com/GregCasar/',\n",
       " 'https://www.twitter.com/GregCasar',\n",
       " 'https://www.instagram.com/gregcasar/',\n",
       " 'https://www.youtube.com/channel/UCCCnQoFybO9cpTnXoDYLX2w',\n",
       " 'https://www.facebook.com/EddieforTexas/',\n",
       " 'https://www.twitter.com/EddieforTexas',\n",
       " 'https://www.facebook.com/repeddie',\n",
       " 'https://www.linkedin.com/in/eddie-rodriguez-95990826/',\n",
       " 'https://www.facebook.com/carlajoyforcongress',\n",
       " 'https://ballotpedia.org/Help:Report_an_error',\n",
       " 'https://www.facebook.com/VoteforRebecca',\n",
       " 'https://www.twitter.com/ViagranCongress',\n",
       " 'https://www.twitter.com/voteviagran',\n",
       " 'https://www.linkedin.com/in/rebecca-j-viagran-9919b337/',\n",
       " 'https://www.twitter.com/DANIELLEFEWINGS',\n",
       " 'https://www.linkedin.com/in/daniellefewings/',\n",
       " 'https://www.facebook.com/VoteForSass',\n",
       " 'https://www.twitter.com/SassOfficial',\n",
       " 'https://www.instagram.com/voteforsass/',\n",
       " 'https://www.youtube.com/channel/UCY1aZIlT-iGP6SzdHgliu7w',\n",
       " 'https://www.facebook.com/jman722',\n",
       " 'https://www.youtube.com/c/sassinyourclass',\n",
       " 'https://www.linkedin.com/in/voteforsass/',\n",
       " 'https://www.facebook.com/jenai.hales',\n",
       " 'https://www.twitter.com/jenaih',\n",
       " 'https://www.facebook.com/MarilynJacksonForTexas',\n",
       " 'https://www.twitter.com/AlejaLedezmaTX',\n",
       " 'https://ballotpedia.org/Help:Report_an_error',\n",
       " 'https://www.facebook.com/mcqueenforcongress',\n",
       " 'https://www.facebook.com/people/Sam-Montoya/100076721350679/',\n",
       " 'https://www.twitter.com/SamCMontoya',\n",
       " 'https://www.instagram.com/samcmontoya/',\n",
       " 'https://www.facebook.com/AsaGKPalagi/',\n",
       " 'https://www.facebook.com/jonhaireforcongress',\n",
       " 'https://www.twitter.com/jonhaire_36',\n",
       " 'https://www.facebook.com/people/Jon-Haire/100071069596239/',\n",
       " 'https://www.facebook.com/RepBrianBabin/',\n",
       " 'https://www.twitter.com/RepBrianBabin',\n",
       " 'https://www.instagram.com/rep.brianbabin/',\n",
       " 'https://www.youtube.com/channel/UCPVEZgw-VbDRbLV1MRGVQNQ',\n",
       " 'https://www.facebook.com/BabinForCongress',\n",
       " 'https://www.twitter.com/babin4congress',\n",
       " 'https://www.youtube.com/channel/UC0ej3-aJaG4YI3GUZuaI2JA',\n",
       " 'https://www.facebook.com/RepLloydDoggett/',\n",
       " 'https://www.twitter.com/RepLloydDoggett',\n",
       " 'https://www.instagram.com/replloyddoggett/',\n",
       " 'https://www.youtube.com/user/doggett',\n",
       " 'https://www.facebook.com/LloydDoggettTX',\n",
       " 'https://www.twitter.com/LloydDoggettTX',\n",
       " 'https://www.facebook.com/donnaimamTX',\n",
       " 'https://www.twitter.com/donnaimamTX',\n",
       " 'https://www.instagram.com/donnaimamtx',\n",
       " 'https://www.youtube.com/channel/UCY8AGUcmHoN2STltrw_J9ZA',\n",
       " 'https://www.facebook.com/donnaimam',\n",
       " 'https://www.linkedin.com/in/donnaimam/',\n",
       " 'https://www.twitter.com/chrisjones_tx37',\n",
       " 'https://www.instagram.com/chrisjones_tx37',\n",
       " 'https://www.facebook.com/Hasani4Progress/',\n",
       " 'https://www.twitter.com/Hasani4Progress',\n",
       " 'https://www.instagram.com/hasani4progress/',\n",
       " 'https://www.youtube.com/channel/UC2gMefurOGWfx0G5v-7sW_A',\n",
       " 'https://www.facebook.com/hasani.burton',\n",
       " 'https://www.twitter.com/HasaniBurton',\n",
       " 'https://www.facebook.com/jd4tx',\n",
       " 'https://www.twitter.com/JD4TX',\n",
       " 'https://www.twitter.com/jenny4congress',\n",
       " 'https://www.instagram.com/jennyforcongress/',\n",
       " 'https://www.facebook.com/clarkpatterson',\n",
       " 'https://www.twitter.com/ClarkPatterson',\n",
       " 'https://www.linkedin.com/in/clarkpattersonphotography/',\n",
       " 'https://www.facebook.com/dianafortexas',\n",
       " 'https://www.twitter.com/dianafortexas',\n",
       " 'https://www.instagram.com/dianafortexas/',\n",
       " 'https://www.facebook.com/dmalexa',\n",
       " 'https://www.linkedin.com/in/diana-m-alexander-339a0980/',\n",
       " 'https://www.twitter.com/TheCentrell',\n",
       " 'https://www.instagram.com/CentrellReed',\n",
       " 'https://www.twitter.com/THECENTRELL',\n",
       " 'https://www.linkedin.com/in/thecentrell',\n",
       " 'https://www.facebook.com/PhilCovarrubiasforCD38/',\n",
       " 'https://www.twitter.com/PhilipACovarru2',\n",
       " 'https://www.facebook.com/phil.covarrubias.39',\n",
       " 'https://www.youtube.com/channel/UCHHjf7CKBc9K6w-YwcH_ueA',\n",
       " 'https://www.linkedin.com/in/jerry-ford-592b64186/',\n",
       " 'https://www.facebook.com/people/Brett-Guillory-for-United-States-Congress-2022/100064084143077/',\n",
       " 'https://www.twitter.com/BGuilloryForTX',\n",
       " 'https://www.instagram.com/brettguilloryfortx/',\n",
       " 'https://www.facebook.com/brett.guillory.1',\n",
       " 'https://www.linkedin.com/in/brett-guillory-82387834/',\n",
       " 'https://www.facebook.com/Hogan4Congress',\n",
       " 'https://www.facebook.com/david.hogan.543',\n",
       " 'https://www.youtube.com/channel/UCc49GpICgQuUSe2nU6cADTA/',\n",
       " 'https://www.facebook.com/WesleyHuntTX/',\n",
       " 'https://www.twitter.com/WesleyHuntTX',\n",
       " 'https://www.instagram.com/wesleyfortexas/',\n",
       " 'https://www.youtube.com/channel/UC9fCbGOuBiZK06bkiUjVGoA',\n",
       " 'https://www.facebook.com/wesley.hunt.545',\n",
       " 'https://www.linkedin.com/in/wesley-hunt-33800095/',\n",
       " 'https://www.facebook.com/TexansForLopez',\n",
       " 'https://www.twitter.com/TexansForLopez',\n",
       " 'https://www.instagram.com/TexansForLopez',\n",
       " 'https://www.facebook.com/Vote-Mockus-102137668956911',\n",
       " 'https://www.twitter.com/VoteMockus',\n",
       " 'https://www.linkedin.com/in/damien-mockus-a7a70b89/',\n",
       " 'https://www.twitter.com/RAMSEYforTXCD38',\n",
       " 'https://www.facebook.com/MarkSRamsey']"
      ]
     },
     "execution_count": 173,
     "metadata": {},
     "output_type": "execute_result"
    }
   ],
   "source": [
    "ls_socials"
   ]
  },
  {
   "cell_type": "code",
   "execution_count": 54,
   "id": "a992f9c0",
   "metadata": {},
   "outputs": [
    {
     "data": {
      "text/plain": [
       "[]"
      ]
     },
     "execution_count": 54,
     "metadata": {},
     "output_type": "execute_result"
    }
   ],
   "source": [
    "ls_mistake"
   ]
  },
  {
   "cell_type": "markdown",
   "id": "082e3247",
   "metadata": {},
   "source": [
    "----"
   ]
  },
  {
   "cell_type": "markdown",
   "id": "18cc598d",
   "metadata": {},
   "source": [
    "## Looping through ALL the Links"
   ]
  },
  {
   "cell_type": "code",
   "execution_count": null,
   "id": "a4e58e4c",
   "metadata": {},
   "outputs": [],
   "source": []
  },
  {
   "cell_type": "markdown",
   "id": "1e365cf5",
   "metadata": {},
   "source": [
    "##### FOR LOOP"
   ]
  },
  {
   "cell_type": "code",
   "execution_count": 183,
   "id": "2a80cbe7",
   "metadata": {},
   "outputs": [
    {
     "data": {
      "text/plain": [
       "['candidate-Gavin Dass',\n",
       " 'https://www.twitter.com/Gavin4Congress',\n",
       " 'https://www.instagram.com/gavin4congress/',\n",
       " 'candidate-Victor D. Dunn',\n",
       " 'https://victordunn4congress.com/',\n",
       " 'https://www.facebook.com/dunnforcongress/',\n",
       " 'https://www.twitter.com/dunn4congress',\n",
       " 'https://www.facebook.com/victor.dunn.376',\n",
       " 'candidate-Jrmar Jefferson',\n",
       " 'https://www.jeffersonforcongress.com/',\n",
       " 'https://www.facebook.com/jrmarjefferson/',\n",
       " 'https://www.facebook.com/DelmaJrmarJefferson',\n",
       " 'https://www.twitter.com/JrmarJefferson',\n",
       " 'https://www.linkedin.com/in/jrmarjefferson/',\n",
       " 'candidate-Stephen Kocen',\n",
       " 'https://www.kocenforcongress.com/',\n",
       " 'https://www.facebook.com/TXdist1/',\n",
       " 'https://www.twitter.com/Kocen4Congress',\n",
       " 'candidate-Rosey Quinn',\n",
       " 'candidate-Aditya Atholi',\n",
       " 'https://atholiforcongress.com/',\n",
       " 'https://www.facebook.com/atholiforcongress',\n",
       " 'https://www.twitter.com/Atholi4Congress',\n",
       " 'https://www.instagram.com/atholiforcongress/',\n",
       " 'https://www.youtube.com/channel/UCmvyu4eajivaX3_2bM3NHng',\n",
       " 'candidate-Joe McDaniel',\n",
       " 'https://www.joemcdaniel.com/',\n",
       " 'https://www.facebook.com/joemcdanielforuscongress',\n",
       " 'https://www.twitter.com/joemcd2',\n",
       " 'https://www.facebook.com/joemcd2',\n",
       " 'candidate-Nathaniel Moran',\n",
       " 'https://ballotpedia.org/Help:Report_an_error',\n",
       " 'https://nathanielmoran.com/',\n",
       " 'https://www.facebook.com/moranforcongress',\n",
       " 'https://www.twitter.com/moran4congress',\n",
       " 'https://www.facebook.com/nqmoran',\n",
       " 'https://www.linkedin.com/in/nathaniel-moran-1b9a4016/',\n",
       " 'candidate-John Porro',\n",
       " 'https://johnporro4tx.com/',\n",
       " 'https://www.facebook.com/JohnPorro4TX/',\n",
       " 'https://www.twitter.com/JohnPorro4TX',\n",
       " 'https://www.facebook.com/john.porro.9',\n",
       " 'https://www.linkedin.com/in/john-porro-904969124/',\n",
       " 'candidate-Robin Fulford',\n",
       " 'https://www.fulfordforcongress.com/',\n",
       " 'https://www.facebook.com/RobinFulfordTX',\n",
       " 'https://www.twitter.com/RobinFulfordTX',\n",
       " 'https://www.instagram.com/RobinFulfordTX',\n",
       " 'https://www.facebook.com/ucla.robin',\n",
       " 'https://www.twitter.com/robindfulford',\n",
       " 'https://www.linkedin.com/in/robin-fulford-04bb209',\n",
       " 'candidate-Rayna Reid',\n",
       " 'https://www.facebook.com/RaynaReidforCongress',\n",
       " 'https://www.facebook.com/rayna.delaviev',\n",
       " 'https://www.twitter.com/_raynareid',\n",
       " 'https://www.linkedin.com/in/rayna-reid/',\n",
       " 'candidate-Daniel Crenshaw',\n",
       " 'https://crenshaw.house.gov/',\n",
       " 'https://www.facebook.com/RepDanCrenshaw/',\n",
       " 'https://www.twitter.com/RepDanCrenshaw',\n",
       " 'https://www.youtube.com/channel/UC2XDiCjAHtJqnSEzrHAY5IQ',\n",
       " 'https://crenshawforcongress.com/',\n",
       " 'https://www.facebook.com/CrenshawforCongress',\n",
       " 'https://www.twitter.com/DanCrenshawTX',\n",
       " 'https://www.instagram.com/dancrenshawtx/',\n",
       " 'https://www.youtube.com/channel/UCoghGq7h46VPsJiCHv2N2JA',\n",
       " 'https://www.facebook.com/daniel.crenshaw.50',\n",
       " 'candidate-Jameson Ellis',\n",
       " 'https://jamesonellis.com/',\n",
       " 'https://www.facebook.com/thejamesonellis',\n",
       " 'https://www.twitter.com/thejamesonellis',\n",
       " 'https://www.instagram.com/thejamesonellis/',\n",
       " 'https://www.youtube.com/channel/UCvgdfF-Q32ywyX8l2hn4sWQ',\n",
       " 'https://www.facebook.com/jamesonellistx',\n",
       " 'candidate-Martin Etwop',\n",
       " 'https://www.martinetwop.com',\n",
       " 'https://www.facebook.com/MartinEtwopForCongress',\n",
       " 'https://www.facebook.com/metwop',\n",
       " 'https://www.linkedin.com/in/martin-etwop-85596698/',\n",
       " 'candidate-Milam Langella',\n",
       " 'https://www.milam4congress.com',\n",
       " 'https://www.twitter.com/Milam2022',\n",
       " 'candidate-Mike Billand',\n",
       " 'https://www.facebook.com/MikeBillandforTX/',\n",
       " 'https://www.twitter.com/billand_mike',\n",
       " 'candidate-Lucia Rodriguez',\n",
       " 'candidate-Doc Shelby',\n",
       " 'https://www.docshelby.com/',\n",
       " 'https://www.facebook.com/docshelby2022/',\n",
       " 'https://www.twitter.com/docshelby2022',\n",
       " 'https://www.instagram.com/docshelby2022/',\n",
       " 'https://www.facebook.com/Shelby.Exploratory.23',\n",
       " 'candidate-Sandeep Srivastava',\n",
       " 'http://sandeepfortexas.com/',\n",
       " 'https://www.facebook.com/sandeepfortexas/',\n",
       " 'https://www.twitter.com/sandeepfortexas',\n",
       " 'https://www.facebook.com/sandeep.srivastava.18',\n",
       " 'https://www.linkedin.com/in/sandeep-srivastava-90777449/',\n",
       " 'candidate-Van Taylor',\n",
       " 'https://vantaylor.house.gov/',\n",
       " 'https://www.facebook.com/RepVanTaylor',\n",
       " 'https://www.twitter.com/RepVanTaylor',\n",
       " 'https://www.instagram.com/repvantaylor/',\n",
       " 'https://www.youtube.com/channel/UCIzNiuBisXW6jScW_OuW1Kg',\n",
       " 'https://www.vantaylor.com/',\n",
       " 'https://www.facebook.com/VanForTexas',\n",
       " 'https://www.twitter.com/VanTaylorTX',\n",
       " 'https://www.instagram.com/vantaylortx/',\n",
       " 'https://www.linkedin.com/in/repvantaylor/',\n",
       " 'candidate-Suzanne Cassimatis Harp',\n",
       " 'https://www.suzanneforcongress.com',\n",
       " 'https://www.facebook.com/RealSuzanneHarp',\n",
       " 'https://www.twitter.com/RealSuzanneHarp',\n",
       " 'https://www.instagram.com/realsuzanneharp/',\n",
       " 'https://www.facebook.com/suzanne.c.harp',\n",
       " 'https://www.linkedin.com/in/suzanne-harp/',\n",
       " 'candidate-Jeremy Ivanovskis',\n",
       " 'https://ivanovskisforuscongress.com/',\n",
       " 'https://www.facebook.com/profile.php?id=100077292336330',\n",
       " 'candidate-Keith Self',\n",
       " 'https://ballotpedia.org/Help:Report_an_error',\n",
       " 'https://keithself.com/',\n",
       " 'https://www.facebook.com/KeithSelfTX',\n",
       " 'https://www.twitter.com/selfforcongress',\n",
       " 'https://www.instagram.com/keithselfforcongress_/',\n",
       " 'https://www.facebook.com/keith.self.94',\n",
       " 'https://www.youtube.com/user/KeithSelf2010/',\n",
       " 'https://www.linkedin.com/in/keith-self-06b55518/',\n",
       " 'candidate-Rickey Williams',\n",
       " 'https://www.rickey4congress.com/',\n",
       " 'https://www.facebook.com/rickey4congress',\n",
       " 'https://www.twitter.com/rickey4congress',\n",
       " 'https://www.instagram.com/rickey4congress/',\n",
       " 'candidate-Christopher Claytor',\n",
       " 'https://www.facebook.com/christopher.claytor',\n",
       " 'https://www.linkedin.com/in/christopherclaytor',\n",
       " 'candidate-Iroghama Omere',\n",
       " 'https://www.omereforcongress.com/',\n",
       " 'https://www.twitter.com/IroghamaTX',\n",
       " 'candidate-Earl Davis',\n",
       " 'https://www.facebook.com/earlw.davisii.1',\n",
       " 'candidate-Pat Fallon',\n",
       " 'https://fallon.house.gov/',\n",
       " 'https://www.facebook.com/RepPatFallon',\n",
       " 'https://www.twitter.com/RepPatFallon',\n",
       " 'https://www.instagram.com/reppatfallon/',\n",
       " 'https://www.youtube.com/c/RepPatFallon',\n",
       " 'https://www.fallonforcongress.com/',\n",
       " 'https://www.facebook.com/fallonfortexas',\n",
       " 'https://www.twitter.com/FallonForTexas',\n",
       " 'https://www.youtube.com/channel/UCQiw1cF0LqYoxuvWrE-Ckig/featured',\n",
       " 'https://www.facebook.com/patrick.fallon.792',\n",
       " 'https://www.linkedin.com/in/patrick-fallon-09261b63/',\n",
       " 'candidate-John Harper',\n",
       " 'https://johnharperforcongress.com/',\n",
       " 'https://www.facebook.com/JohnHarperForCongress/',\n",
       " 'candidate-Dan Thomas',\n",
       " 'https://www.danthomasforcongress.com/',\n",
       " 'https://www.facebook.com/DanNewsMan12',\n",
       " 'https://www.twitter.com/DanNewsMan',\n",
       " 'https://www.instagram.com/danthomasforcongress',\n",
       " 'https://www.facebook.com/NewsmanDan',\n",
       " 'https://www.youtube.com/channel/UCIKucbTVnhzSr2Wqy5LIyFA',\n",
       " 'candidate-John Simmons',\n",
       " 'https://www.twitter.com/CongressRancher',\n",
       " 'https://www.instagram.com/Johnsimmonsforcongress/',\n",
       " 'candidate-Kathleen Bailey',\n",
       " 'https://www.baileyfortexas.com/home',\n",
       " 'https://www.facebook.com/kcbailey2022',\n",
       " 'https://www.twitter.com/KCBailey2022',\n",
       " 'candidate-Tartisha Hill',\n",
       " 'https://www.twitter.com/TartishaHill',\n",
       " 'https://www.facebook.com/tartishah',\n",
       " 'https://www.twitter.com/TartishaH',\n",
       " 'https://www.linkedin.com/in/tartisha-hill-67215828/',\n",
       " 'candidate-Charles Gearing',\n",
       " 'https://www.gearingfortexas.com/',\n",
       " 'https://www.facebook.com/GearingforTexas',\n",
       " 'https://www.twitter.com/GearingforTexas',\n",
       " 'https://www.instagram.com/gearingfortexas/',\n",
       " 'https://www.youtube.com/channel/UCgtV3nMJ2SnMS8PHnRztD0g',\n",
       " 'https://www.linkedin.com/in/charles-m-gearing-7330651/',\n",
       " 'candidate-Lance Gooden',\n",
       " 'https://gooden.house.gov/',\n",
       " 'https://www.youtube.com/channel/UCaEs0pYlL_1cLlPBHfl0RIg',\n",
       " 'http://lancegooden.com/',\n",
       " 'https://www.facebook.com/lancegoodenfortexas',\n",
       " 'https://www.twitter.com/Lancegooden',\n",
       " 'https://www.instagram.com/lancegooden/',\n",
       " 'https://www.facebook.com/lancegooden',\n",
       " 'candidate-Kevin Hale',\n",
       " 'candidate-Jake Ellzey',\n",
       " 'https://ellzey.house.gov/',\n",
       " 'https://www.facebook.com/RepJakeEllzey',\n",
       " 'https://www.twitter.com/RepEllzey',\n",
       " 'https://www.ellzeyfortexas.com/',\n",
       " 'https://www.facebook.com/CommanderEllzey',\n",
       " 'https://www.twitter.com/JakeEllzey',\n",
       " 'https://www.instagram.com/commanderellzey',\n",
       " 'https://www.youtube.com/channel/UCbzpzYhmgoFnqFr4a5ai56A',\n",
       " 'https://www.facebook.com/jake.ellzey.733',\n",
       " 'https://www.linkedin.com/in/jake-ellzey-0a253138/',\n",
       " 'candidate-James Buford',\n",
       " 'https://votebuford4congress.com',\n",
       " 'https://www.facebook.com/buford4congress',\n",
       " 'https://www.twitter.com/jamesbu74790136',\n",
       " 'https://www.instagram.com/buford4congress',\n",
       " 'https://www.linkedin.com/in/james-buford-8b604921b',\n",
       " 'candidate-Bill Payne',\n",
       " 'candidate-Bill Payne',\n",
       " 'candidate-Lizzie Pannill Fletcher',\n",
       " 'https://fletcher.house.gov/',\n",
       " 'https://www.facebook.com/RepFletcher/',\n",
       " 'https://www.twitter.com/RepFletcher',\n",
       " 'https://www.instagram.com/repfletcher/',\n",
       " 'https://www.youtube.com/channel/UCIWDLoDPvawP118TNWi-9rg',\n",
       " 'https://lizziefletcher.com/',\n",
       " 'https://www.facebook.com/LizzieForCongress',\n",
       " 'https://www.twitter.com/lizzie4congress',\n",
       " 'https://www.instagram.com/lizzieforcongress/',\n",
       " 'https://www.youtube.com/channel/UCb1_n8fVrDWDOqQXjFhCCNw',\n",
       " 'https://www.facebook.com/lizzie.pannillfletcher/',\n",
       " 'https://www.linkedin.com/in/elizabeth-fletcher-a6a7738/',\n",
       " 'candidate-Rudy Atencio',\n",
       " 'https://www.americansforpeace.us/',\n",
       " 'https://www.facebook.com/americans2022',\n",
       " 'https://www.twitter.com/rudy_atencio',\n",
       " 'https://www.instagram.com/americans2022/',\n",
       " 'https://www.youtube.com/channel/UCshvMO2idGdOuU7TbxP4nQw',\n",
       " 'https://www.facebook.com/americansforpeace',\n",
       " 'https://www.linkedin.com/in/rudy-a-atencio-161791177/',\n",
       " 'candidate-Tina Blum Cohen',\n",
       " 'https://www.tinablumcohen.com/',\n",
       " 'https://www.facebook.com/tinafortexas',\n",
       " 'https://www.twitter.com/tinacohen18',\n",
       " 'https://www.facebook.com/tb.cohen',\n",
       " 'https://www.linkedin.com/in/tina-cohen-776b3020/',\n",
       " 'candidate-Benson Gitau',\n",
       " 'https://www.bensongitau.com',\n",
       " 'https://www.facebook.com/ibensongitau',\n",
       " 'https://www.twitter.com/ibensongitau',\n",
       " 'https://www.instagram.com/ibensongitau',\n",
       " 'https://www.youtube.com/channel/UCUMWAUYZVtLxYRq3Lsm8JVA',\n",
       " 'candidate-Laique Rehman',\n",
       " 'http://www.laiquerehman.com/index.html',\n",
       " 'https://www.facebook.com/laiquerehmanforcongress1/',\n",
       " 'https://www.twitter.com/LaiqueRehman1',\n",
       " 'https://www.instagram.com/laique.rehman',\n",
       " 'https://www.linkedin.com/in/laique-rehman-40132521/',\n",
       " 'candidate-Lance Stewart',\n",
       " 'https://lance4tx.com',\n",
       " 'https://www.facebook.com/Lance-Stewart-104490375168018',\n",
       " 'https://www.twitter.com/Lance4TX',\n",
       " 'https://www.linkedin.com/in/lance-stewart-4529121b/',\n",
       " 'candidate-Tim Stroud',\n",
       " 'https://stroudforcongress.com/',\n",
       " 'https://www.facebook.com/TimStroudForCongress/',\n",
       " 'https://www.youtube.com/channel/UCaDtLj6D3SSKMxR4TxDuzLQ',\n",
       " 'https://www.facebook.com/timthearmymedic',\n",
       " 'https://www.twitter.com/timthearmymedic',\n",
       " 'https://www.linkedin.com/in/stroudmarketing/',\n",
       " 'candidate-Johnny Teague',\n",
       " 'https://www.checkjohnnyforcongress.org',\n",
       " 'https://www.facebook.com/CheckJohnnyTeague/',\n",
       " 'https://www.twitter.com/for_teague',\n",
       " 'https://www.facebook.com/johnny.teague',\n",
       " 'https://www.youtube.com/channel/UCpV-5G9sAzhgRrJw5DRvv9w',\n",
       " 'https://www.linkedin.com/in/dr-johnny-teague-76289a80/',\n",
       " 'candidate-Jafar Hajjar',\n",
       " 'candidate-Laura Jones',\n",
       " 'https://laurajonesforcongress.com/',\n",
       " 'https://www.facebook.com/LauraJonesforCongress',\n",
       " 'https://www.twitter.com/CongressLaura',\n",
       " 'https://www.instagram.com/LauraJonesforCongress/',\n",
       " 'https://www.facebook.com/laurajones.yoga.5',\n",
       " 'https://www.linkedin.com/in/laura-jones-a77889b3/',\n",
       " 'candidate-Betsy Bates',\n",
       " 'https://www.betsybatescongress2022.com',\n",
       " 'https://www.facebook.com/people/Betsy-Bates/100068817076358/',\n",
       " 'https://www.twitter.com/MAGABetsy',\n",
       " 'candidate-Candice C. Burrows',\n",
       " 'https://candicecburrows.com/',\n",
       " 'candidate-Christian Collins',\n",
       " 'https://www.christiancollins.org',\n",
       " 'https://www.facebook.com/christiancollinstx/',\n",
       " 'https://www.twitter.com/collinsfortx',\n",
       " 'https://www.instagram.com/christiancollinstx/',\n",
       " 'https://www.youtube.com/channel/UC0ZuhuSqcguzkBuIXdXk37A',\n",
       " 'https://www.facebook.com/Christian.S.Collins',\n",
       " 'https://www.linkedin.com/in/christiancollins7/',\n",
       " 'candidate-Jonathan Hullihan',\n",
       " 'https://www.hullihanfortexas.com/',\n",
       " 'https://www.facebook.com/JHullihanTX/',\n",
       " 'https://www.twitter.com/jhullihantx',\n",
       " 'https://www.instagram.com/jhullihantx/',\n",
       " 'candidate-Morgan Luttrell',\n",
       " 'https://www.morganluttrell.com/',\n",
       " 'https://www.facebook.com/MLuttrellTX',\n",
       " 'https://www.twitter.com/MLuttrellTX',\n",
       " 'https://www.instagram.com/mojoluttrell/',\n",
       " 'https://www.youtube.com/channel/UCfVZpKoKjsB6l5wF9AF96wg',\n",
       " 'https://www.linkedin.com/in/morgan-luttrell-169623195/',\n",
       " 'candidate-Dan McKaughan',\n",
       " 'https://danmckaughan.com/',\n",
       " 'https://www.facebook.com/DanMcKaughanTX/',\n",
       " 'https://www.twitter.com/DanMcKaughanTX',\n",
       " 'https://www.instagram.com/DanMcKaughanTX/',\n",
       " 'candidate-Jonathan Mitchell',\n",
       " 'https://www.jonathanmitchellforcongress.com/',\n",
       " 'https://www.facebook.com/Jonathan-Mitchell-for-Congress-103071841922918',\n",
       " 'https://www.twitter.com/JMitchellforTX',\n",
       " 'candidate-Chuck Montgomery',\n",
       " 'https://www.facebook.com/chuckmontgomeryforcongress',\n",
       " 'candidate-Mike Philips',\n",
       " 'http://www.meetmikephilips.com/',\n",
       " 'https://www.twitter.com/Meetmikephilips',\n",
       " 'https://www.instagram.com/Meetmikephilips',\n",
       " 'candidate-Jessica Wellington',\n",
       " 'https://jessicawellingtonforcongress.com',\n",
       " 'https://www.facebook.com/jessicawellingtontx',\n",
       " 'https://www.twitter.com/jwellingtontx',\n",
       " 'https://www.instagram.com/jessicawellingtontx',\n",
       " 'https://www.linkedin.com/in/jessica-wellington-573a7623/',\n",
       " 'candidate-Jessica Wellington',\n",
       " 'https://jessicawellingtonforcongress.com',\n",
       " 'https://www.facebook.com/jessicawellingtontx',\n",
       " 'https://www.twitter.com/jwellingtontx',\n",
       " 'https://www.instagram.com/jessicawellingtontx',\n",
       " 'https://www.linkedin.com/in/jessica-wellington-573a7623/',\n",
       " 'candidate-Taylor Whichard',\n",
       " 'https://www.taylorwhichardforcongress.com',\n",
       " 'https://www.facebook.com/taylorwhichardforcongress/',\n",
       " 'https://www.twitter.com/WhichardIv',\n",
       " 'https://www.instagram.com/tm.whichardiv/',\n",
       " 'https://www.linkedin.com/in/taylor-whichard-7117a846/',\n",
       " 'candidate-Salvador Gallegos',\n",
       " 'candidate-Ryan Jarchow',\n",
       " 'https://jarchowcampaign.com/',\n",
       " 'https://www.twitter.com/jarchowcampaign',\n",
       " 'https://www.youtube.com/channel/UCTwmiWvMtGdSXS8cttcJJfg',\n",
       " 'candidate-Adrian Kaiser',\n",
       " 'https://adriankaiser.com/',\n",
       " 'https://www.facebook.com/Kaiser4congress/',\n",
       " 'candidate-Christopher Revis',\n",
       " 'candidate-Roy Eriksen',\n",
       " 'https://www.facebook.com/roy.eriksen.16',\n",
       " 'https://www.linkedin.com/in/reriksen/',\n",
       " 'candidate-Randall Addison',\n",
       " 'candidate-Al Green',\n",
       " 'https://ballotpedia.org/Help:Report_an_error',\n",
       " 'https://algreen.house.gov/',\n",
       " 'https://www.facebook.com/repalgreen/',\n",
       " 'https://www.twitter.com/RepAlGreen',\n",
       " 'https://www.instagram.com/repalgreen/',\n",
       " 'https://www.youtube.com/user/RepAlGreen',\n",
       " 'https://algreen.org/',\n",
       " 'https://www.twitter.com/RepAlGreenTX',\n",
       " 'candidate-Jimmy Leon',\n",
       " 'candidate-Linda Nuno',\n",
       " 'https://lindanunoforcongress.com/',\n",
       " 'https://www.facebook.com/Lindanuno777',\n",
       " 'https://www.instagram.com/linda_nuno_for_congress/',\n",
       " 'https://www.facebook.com/PINKAIRPLANE18',\n",
       " 'https://www.twitter.com/LindaNuno7',\n",
       " 'https://www.youtube.com/channel/UCKGl31jrWboR_tzQuYWXzXQ',\n",
       " 'candidate-Larry Wallace Jr.',\n",
       " 'https://wallaceforcongress.com/',\n",
       " 'https://www.facebook.com/MayorDrWallaceJr',\n",
       " 'https://www.twitter.com/DrLarryWallace1',\n",
       " 'https://www.instagram.com/larrywallacejr/',\n",
       " 'https://www.youtube.com/channel/UC1ZAokqQ4c2BQV8IdxJnQBQ',\n",
       " 'https://www.facebook.com/drlarrywallacejr',\n",
       " 'https://www.linkedin.com/in/larrywallacejr/',\n",
       " 'candidate-Michael McCaul',\n",
       " 'https://mccaul.house.gov/',\n",
       " 'https://www.facebook.com/michaeltmccaul/',\n",
       " 'https://www.twitter.com/RepMcCaul',\n",
       " 'https://www.instagram.com/congressman_mccaul/',\n",
       " 'https://www.youtube.com/user/MichaelTMcCaul',\n",
       " 'https://michaelmccaul.com/',\n",
       " 'https://www.facebook.com/MichaelMcCaulTX',\n",
       " 'https://www.twitter.com/McCaulforTexas',\n",
       " 'https://www.youtube.com/channel/UCFTcskOT4na97M00Vpu_oZw',\n",
       " 'candidate-Bill Kelsey',\n",
       " 'https://www.facebook.com/bill.kelsey.5817',\n",
       " 'candidate-August Pfluger',\n",
       " 'https://pfluger.house.gov/',\n",
       " 'https://www.facebook.com/RepAugustPfluger/',\n",
       " 'https://www.twitter.com/RepPfluger',\n",
       " 'https://www.instagram.com/RepAugustPfluger/',\n",
       " 'https://www.youtube.com/channel/UC8bJT16wpa7co50ELvpMTTg',\n",
       " 'https://www.augustpfluger.com/',\n",
       " 'https://www.facebook.com/AugustPflugerTX',\n",
       " 'https://www.twitter.com/AugustPfluger',\n",
       " 'https://www.instagram.com/augustpflugertx/',\n",
       " 'https://www.linkedin.com/in/august-pfluger-23240577',\n",
       " 'candidate-Trey Hunt',\n",
       " 'https://treyhuntcongress.com',\n",
       " 'https://www.facebook.com/VoteHunt2022',\n",
       " 'https://www.twitter.com/VoteHunt2022',\n",
       " 'https://www.instagram.com/votehunt2022/',\n",
       " 'https://www.youtube.com/channel/UC2A87ZiAlVa5tAByX-NGPQg',\n",
       " 'https://www.facebook.com/TreyJHunt',\n",
       " 'https://www.linkedin.com/in/trey-hunt-0a87831aa/',\n",
       " 'candidate-Kay Granger',\n",
       " 'https://ballotpedia.org/Help:Report_an_error',\n",
       " 'https://kaygranger.house.gov/',\n",
       " 'https://www.facebook.com/RepKayGranger',\n",
       " 'https://www.twitter.com/RepKayGranger',\n",
       " 'https://www.instagram.com/repkaygranger/',\n",
       " 'https://www.youtube.com/c/RepKayGranger',\n",
       " 'https://kaygranger.com/',\n",
       " 'https://www.facebook.com/KayGrangerCampaign/',\n",
       " 'https://www.twitter.com/GrangerCampaign',\n",
       " 'candidate-Ryan Catala',\n",
       " 'https://ryanjcatala.com/',\n",
       " 'https://www.twitter.com/Catala4Congress',\n",
       " 'https://www.instagram.com/Catala4Congress',\n",
       " 'https://www.facebook.com/profile.php?id=100058913288479',\n",
       " 'https://www.twitter.com/ryanjcatala',\n",
       " 'candidate-Alysia Rieg',\n",
       " 'https://alysiarieg.com',\n",
       " 'https://www.facebook.com/athletealysiarieg',\n",
       " 'https://www.instagram.com/ay_lee_see_yuh',\n",
       " 'https://www.facebook.com/alysia.rieg',\n",
       " 'https://www.twitter.com/alysiarieg',\n",
       " 'https://www.linkedin.com/in/alysiarieg/',\n",
       " 'candidate-Chris Putnam',\n",
       " 'https://putnamfortexas.com/',\n",
       " 'https://www.facebook.com/putnamfortexas/',\n",
       " 'https://www.twitter.com/putnamfortexas',\n",
       " 'https://www.linkedin.com/in/chris-putnam-543b6/',\n",
       " 'candidate-Chris Rector',\n",
       " 'https://rectorfortexas97.com',\n",
       " 'https://www.twitter.com/cdrectorauthor',\n",
       " 'https://www.instagram.com/rector4texas',\n",
       " 'candidate-Kathleen Brown',\n",
       " 'https://www.kathleenfortx.com',\n",
       " 'https://www.facebook.com/KathleenForTx13',\n",
       " 'https://www.twitter.com/Kat4District13',\n",
       " 'https://www.youtube.com/channel/UCd1YzFPDnOR4Je0MgUqx6Rg',\n",
       " 'candidate-Ronny L. Jackson',\n",
       " 'https://jackson.house.gov/',\n",
       " 'https://www.facebook.com/RepRonnyJackson/',\n",
       " 'https://www.twitter.com/RepRonnyJackson',\n",
       " 'https://www.instagram.com/RepRonnyJackson/',\n",
       " 'https://www.youtube.com/channel/UCXhohNmrQ0R-c-5Nv2VfD9g',\n",
       " 'https://ronnyjacksontx.com/',\n",
       " 'https://www.facebook.com/RonnyJacksonTX',\n",
       " 'https://www.twitter.com/RonnyJacksonTX',\n",
       " 'https://www.facebook.com/ronny.jackson.568089',\n",
       " 'https://www.linkedin.com/in/ronny-l-jackson/',\n",
       " 'candidate-Eugene Howard',\n",
       " 'https://howard-2-congress.org/',\n",
       " 'https://www.facebook.com/PresidenHoward',\n",
       " 'https://www.twitter.com/VisionaryHoward',\n",
       " 'https://www.instagram.com/visionaryhoward',\n",
       " 'https://www.youtube.com/channel/UCMtrqJ3Kaw50cgN-utczIuw',\n",
       " 'https://www.linkedin.com/in/eugene-howard-ba5324170/',\n",
       " 'candidate-Mikal Williams',\n",
       " 'https://www.electmikalwilliams.com/',\n",
       " 'https://www.facebook.com/mikaldwilliams2022/',\n",
       " 'https://www.twitter.com/MikalDWilliams',\n",
       " 'https://www.instagram.com/mikaldwilliams/',\n",
       " 'https://www.facebook.com/mikal.williams.921',\n",
       " 'https://www.linkedin.com/in/mikal-d-williams-0129a87/',\n",
       " 'candidate-Jeff Antonelli',\n",
       " 'http://antonelli2022.com/',\n",
       " 'https://www.facebook.com/Jeff-Antonelli-for-TX-House-District-23-103359801449150',\n",
       " 'https://www.facebook.com/jeff.antonelli',\n",
       " 'candidate-Cyrus Sajna',\n",
       " 'https://www.facebook.com/cyrus.sajna',\n",
       " 'https://www.youtube.com/channel/UCQzBuLSO13YUqGmXTQZMKKg/',\n",
       " 'https://www.linkedin.com/in/cyrussajna/',\n",
       " 'candidate-Randy Weber',\n",
       " 'https://weber.house.gov/',\n",
       " 'https://www.facebook.com/TXRandy14/',\n",
       " 'https://www.twitter.com/TXRandy14',\n",
       " 'https://www.instagram.com/TXRandy14/',\n",
       " 'https://www.youtube.com/TXRandy14',\n",
       " 'https://randyweber.org/',\n",
       " 'https://www.facebook.com/WeberForTexas',\n",
       " 'https://www.facebook.com/randy.weber.1675',\n",
       " 'candidate-Randy Weber',\n",
       " 'https://weber.house.gov/',\n",
       " 'https://www.facebook.com/TXRandy14/',\n",
       " 'https://www.twitter.com/TXRandy14',\n",
       " 'https://www.instagram.com/TXRandy14/',\n",
       " 'https://www.youtube.com/TXRandy14',\n",
       " 'https://randyweber.org/',\n",
       " 'https://www.facebook.com/WeberForTexas',\n",
       " 'https://www.facebook.com/randy.weber.1675',\n",
       " 'candidate-Keith Casey',\n",
       " 'https://www.facebook.com/keith.casey.127',\n",
       " 'candidate-Ruben Landon Dante',\n",
       " 'https://www.rldforcongress.com/',\n",
       " 'https://www.facebook.com/RubenLandonDante/',\n",
       " 'https://www.twitter.com/RubenLDante',\n",
       " 'https://www.instagram.com/RubenLDante/',\n",
       " 'https://www.facebook.com/RubenLDante',\n",
       " 'https://www.youtube.com/channel/UCYG1WlXXgNaYYNyQ1cV804w',\n",
       " 'https://www.linkedin.com/in/rubendante/',\n",
       " 'candidate-Gina Smith',\n",
       " 'https://www.drginasmith.com/',\n",
       " 'https://www.facebook.com/Dr-Gina-Smith-100849645477947',\n",
       " 'https://www.twitter.com/drgina_smith',\n",
       " 'https://www.instagram.com/realginasmith2022/',\n",
       " 'candidate-Eliza Alvarado',\n",
       " 'https://alvaradoforcongress.com/',\n",
       " 'https://www.facebook.com/Eliza-Alvarado-for-Congress-106381151840888/',\n",
       " 'https://www.facebook.com/eliza.alvarado',\n",
       " 'https://www.linkedin.com/in/eliza-alvarado-133b1388/',\n",
       " 'candidate-Julio Garza',\n",
       " 'https://juliogarzaforcongress.com/',\n",
       " 'https://www.facebook.com/Julio-Garza-for-Congress-100101779182048/',\n",
       " 'https://www.twitter.com/Garzafor15',\n",
       " 'https://www.instagram.com/juliogarzaforcongress/',\n",
       " 'https://www.facebook.com/profile.php?id=100075343805997',\n",
       " 'candidate-Ruben Ramirez',\n",
       " 'https://voteruben.com/',\n",
       " 'https://www.facebook.com/Ruben-Ramirez-for-Congress-100963232386119/',\n",
       " 'candidate-Vanessa Tijerina',\n",
       " 'https://www.facebook.com/votetijerina2016',\n",
       " 'https://www.facebook.com/vanessa.s.tijerina',\n",
       " 'candidate-Michelle Vallejo',\n",
       " 'https://michellefortx15.com/home/',\n",
       " 'https://www.facebook.com/michellevfortx',\n",
       " 'https://www.twitter.com/MichelleVforTX',\n",
       " 'https://www.instagram.com/michellevfortx/',\n",
       " 'https://www.youtube.com/channel/UC2iOQwxr_HfaZGZde__QGug',\n",
       " 'candidate-John Villarreal Rigney',\n",
       " 'https://www.villarrealrigneyforcongress.com',\n",
       " 'https://www.facebook.com/Rigney2022',\n",
       " 'https://www.twitter.com/RigneyTeam',\n",
       " 'https://www.youtube.com/channel/UCmeFXyrLnLZaQ4ZGXljj-BA',\n",
       " 'https://www.facebook.com/john.rigney.52',\n",
       " 'candidate-Roberto Haddad',\n",
       " 'https://www.linkedin.com/in/roberto-haddad-73a20436/',\n",
       " 'candidate-Jose Aizar Cavazos',\n",
       " 'https://www.aizarcavazosforcongress.com/',\n",
       " 'https://www.facebook.com/Aizar-Cavazos-for-Congress-109197278211860/',\n",
       " 'https://www.twitter.com/AizarCavazosTX',\n",
       " 'candidate-Sara Canady',\n",
       " 'https://canadyforcongress.com',\n",
       " 'https://www.facebook.com/Judge-Sara-Canady-for-US-Congress-District-15-103426368856651',\n",
       " 'https://www.twitter.com/Canady4Congress',\n",
       " 'https://www.linkedin.com/in/sara-canady-0a902830/',\n",
       " 'candidate-Vangela Churchill',\n",
       " 'https://www.churchillforcongress.com/',\n",
       " 'https://www.facebook.com/vangelaforcongress/',\n",
       " 'https://www.twitter.com/ForChurchill',\n",
       " 'https://www.instagram.com/vangelaforcongress',\n",
       " 'https://www.youtube.com/channel/UCkeiaXW54mpdraR9RrDzlcA/featured',\n",
       " 'https://www.facebook.com/vangelachurchillforcongress',\n",
       " 'https://www.linkedin.com/in/vangeladenney/',\n",
       " 'candidate-Monica De La Cruz Hernandez',\n",
       " 'https://www.monicaforcongress.us/',\n",
       " 'https://www.facebook.com/monicaforcongress/',\n",
       " 'https://www.twitter.com/monica4congress',\n",
       " 'https://www.instagram.com/monicaforcongress/',\n",
       " 'https://www.youtube.com/channel/UCrD8yy6HIWAQByMKuPWcGxQ',\n",
       " 'https://www.linkedin.com/in/monica-de-la-cruz-250978169/',\n",
       " 'candidate-Mauro Garza',\n",
       " 'https://maurogarzaforcongress.com/',\n",
       " 'https://www.facebook.com/MauroGarzaForCongress',\n",
       " 'https://www.instagram.com/mauro4texas/',\n",
       " 'https://www.youtube.com/channel/UCAu2tHmUur3BVQN1MdTFTXw',\n",
       " 'https://www.facebook.com/mauro.garza.3914',\n",
       " 'https://www.linkedin.com/in/maurogarza/',\n",
       " 'candidate-Angela Juarez',\n",
       " 'candidate-Ryan Krause',\n",
       " 'https://ryankrauseforcongress.com/',\n",
       " 'https://www.linkedin.com/in/krause4u/',\n",
       " 'candidate-John Lerma',\n",
       " 'candidate-Steve Schmuker Jr.',\n",
       " 'candidate-Ross Lynn Leone',\n",
       " 'https://www.facebook.com/ross.leone.96',\n",
       " 'candidate-Veronica Escobar',\n",
       " 'https://ballotpedia.org/Help:Report_an_error',\n",
       " 'https://escobar.house.gov/',\n",
       " 'https://www.facebook.com/RepEscobar/',\n",
       " 'https://www.twitter.com/RepEscobar',\n",
       " 'https://www.instagram.com/repescobar/',\n",
       " 'https://www.youtube.com/channel/UC46TX2P8K0CA_4gZv8_R2Og/',\n",
       " 'https://veronicaescobar.com/',\n",
       " 'https://www.facebook.com/VeronicaEscobarTX',\n",
       " 'https://www.twitter.com/vgescobar',\n",
       " 'https://www.instagram.com/veronicaescobartx/',\n",
       " 'candidate-Deliris Montanez Berrios',\n",
       " 'https://dmbforcongress.com/',\n",
       " 'https://www.facebook.com/DMBfor',\n",
       " 'https://www.twitter.com/dmbfor',\n",
       " 'https://www.instagram.com/dmbfor',\n",
       " 'https://www.youtube.com/channel/UCQPTp_n5MqwY7IwixEvmBmA',\n",
       " 'https://www.facebook.com/deliris.montanez/',\n",
       " 'https://www.linkedin.com/in/deliris-dee-montanez-26405333',\n",
       " 'candidate-Irene Armendariz-Jackson',\n",
       " 'https://irenearmendarizjackson.com/',\n",
       " 'https://www.facebook.com/ArmendarizforElPaso/',\n",
       " 'https://www.twitter.com/ArmendarizDis16',\n",
       " 'https://www.instagram.com/irene4congress/',\n",
       " 'https://www.facebook.com/Ireneajackson',\n",
       " 'https://www.twitter.com/amazingurl09',\n",
       " 'https://www.linkedin.com/in/irene-armendariz-jackson-ma-59b3a426/',\n",
       " 'candidate-Samuel Williams Jr.',\n",
       " 'https://samforep.com/',\n",
       " 'https://www.twitter.com/votesamuelwill1',\n",
       " 'https://www.facebook.com/profile.php?id=100007308886429&ref=br_rs',\n",
       " 'candidate-Mary Jo Woods',\n",
       " 'https://maryjowoodstx17.com/',\n",
       " 'https://www.facebook.com/MaryWoodsTX17',\n",
       " 'https://www.twitter.com/MaryJo_TX17',\n",
       " 'https://www.instagram.com/maryjotx17',\n",
       " 'candidate-Pete Sessions',\n",
       " 'https://sessions.house.gov/',\n",
       " 'https://www.facebook.com/petesessions',\n",
       " 'https://www.twitter.com/PeteSessions',\n",
       " 'https://www.youtube.com/channel/UCD-O0Y92UcMglKmoo7BHLsg',\n",
       " 'https://www.petesessions.com/',\n",
       " 'https://www.facebook.com/sessionsforcongress',\n",
       " 'https://www.twitter.com/SessionsTX17',\n",
       " 'https://www.linkedin.com/in/petesessions?',\n",
       " 'candidate-Paulette Carson',\n",
       " 'https://www.carson4congress.us/',\n",
       " 'https://www.facebook.com/Carson4Congress',\n",
       " 'https://www.twitter.com/Carson4Tx',\n",
       " 'https://www.facebook.com/carsoncp',\n",
       " 'https://www.linkedin.com/in/paulette-carson-25400945/',\n",
       " 'candidate-Jason Nelson',\n",
       " 'https://www.jasonnelsonforcongress.com/',\n",
       " 'https://www.facebook.com/Jason-Storm-Nelson-for-Congress-111374444732444/',\n",
       " 'https://www.twitter.com/Storm4Congress',\n",
       " 'candidate-Robert Rosenberger',\n",
       " 'https://www.linkedin.com/in/robertrosenberger/',\n",
       " 'candidate-Sheila Jackson Lee',\n",
       " 'https://ballotpedia.org/Help:Report_an_error',\n",
       " 'https://jacksonlee.house.gov/',\n",
       " 'https://www.facebook.com/CongresswomanSheilaJacksonLee/',\n",
       " 'https://www.twitter.com/JacksonLeeTX18',\n",
       " 'https://www.instagram.com/repjacksonlee/',\n",
       " 'https://www.youtube.com/user/RepJacksonLee',\n",
       " 'https://www.facebook.com/SheilaJacksonLeefor18',\n",
       " 'https://www.instagram.com/SheilaJacksonLee/',\n",
       " 'https://www.facebook.com/sheilajacksonlee18',\n",
       " 'https://www.linkedin.com/in/congresswomansheilajacksonlee/',\n",
       " 'candidate-Cassius Marcellous Evergreen',\n",
       " 'https://cassiusevergreen.com',\n",
       " 'https://www.twitter.com/CashForCongress',\n",
       " 'https://www.instagram.com/cashforcongress/',\n",
       " 'https://www.linkedin.com/in/cassius-evergreen/',\n",
       " 'candidate-Charles Thompson',\n",
       " 'https://ct4cd18.com/',\n",
       " 'candidate-Carmen Maria Montiel',\n",
       " 'https://carmenforcongress.com/',\n",
       " 'https://www.facebook.com/CarmenForCongress',\n",
       " 'https://www.twitter.com/Carmen4Congress',\n",
       " 'https://www.instagram.com/carmenforcongress/',\n",
       " 'https://www.carmenmaria.today/',\n",
       " 'https://www.facebook.com/carmen.ma.montiel',\n",
       " 'candidate-Scott Huckabee',\n",
       " 'https://www.twitter.com/ScottHuckabee2',\n",
       " 'candidate-Phil Kurtz',\n",
       " 'https://www.facebook.com/phil.kurtz.3',\n",
       " 'https://www.youtube.com/channel/UC9mEvVku2Mlre6FDGNbvvUQ/featured',\n",
       " 'https://www.linkedin.com/in/philip-kurtz-913006174/',\n",
       " 'candidate-Jodey Arrington',\n",
       " 'https://arrington.house.gov/',\n",
       " 'https://www.facebook.com/RepJodeyArrington',\n",
       " 'https://www.twitter.com/RepArrington',\n",
       " 'https://www.instagram.com/repjodeyarrington/',\n",
       " 'https://www.youtube.com/channel/UC3lif8TFPOe-tJ2-pE4Rp7Q',\n",
       " 'https://www.jodeyarrington.com/',\n",
       " 'https://www.facebook.com/JodeyArringtonTX19',\n",
       " 'https://www.twitter.com/JodeyArrington',\n",
       " 'https://www.instagram.com/jodeyarrington/',\n",
       " 'https://www.facebook.com/jodey.arrington.5',\n",
       " 'https://www.linkedin.com/in/jodeyarrington/',\n",
       " 'candidate-Joaquin Castro',\n",
       " 'https://castro.house.gov/',\n",
       " 'https://www.facebook.com/JoaquinCastroTX/',\n",
       " 'https://www.twitter.com/JoaquinCastrotx',\n",
       " 'https://www.instagram.com/joaquincastrotx/',\n",
       " 'https://www.youtube.com/user/JoaquinCastroTX',\n",
       " 'https://castroforcongress.com/',\n",
       " 'https://www.facebook.com/JoaquinCastro4Congress',\n",
       " 'https://www.twitter.com/Castro4Congress',\n",
       " 'https://www.facebook.com/joaquin.castro.142',\n",
       " 'https://www.linkedin.com/in/joaquin-castro-2626ab51/',\n",
       " 'candidate-Kyle Sinclair',\n",
       " 'https://kylefor20.com/',\n",
       " 'https://www.facebook.com/kylefor20',\n",
       " 'https://www.twitter.com/kylefor20',\n",
       " 'https://www.instagram.com/kylefor20/',\n",
       " 'https://www.facebook.com/kyle.sinclair2',\n",
       " 'https://www.twitter.com/sinclairkyle1',\n",
       " 'https://www.linkedin.com/in/kylesinclair2010/',\n",
       " 'candidate-Mark Murray',\n",
       " 'candidate-Michael Stevens',\n",
       " 'candidate-David Anderson',\n",
       " 'https://www.davidandersonforcongress.com/',\n",
       " 'https://www.facebook.com/DLAndersonJrTX',\n",
       " 'https://www.twitter.com/DLAndersonJrTX',\n",
       " 'https://www.instagram.com/dlandersonjrtx/',\n",
       " 'candidate-Coy Branscum',\n",
       " 'https://coybranscum.com',\n",
       " 'https://www.facebook.com/coybranscum/',\n",
       " 'https://www.twitter.com/coybranscum',\n",
       " 'https://www.instagram.com/coybranscum',\n",
       " 'https://www.facebook.com/profile.php?id=100073934508922',\n",
       " 'https://www.linkedin.com/in/cgbranscum/',\n",
       " 'candidate-Cherif Gacis',\n",
       " 'https://www.cherif4congress.com/',\n",
       " 'https://www.facebook.com/Cherif4Congress',\n",
       " 'https://www.twitter.com/cherif4congress',\n",
       " 'https://www.instagram.com/cherif4congress',\n",
       " 'https://www.facebook.com/cgacis1',\n",
       " 'candidate-Scott Sturm',\n",
       " 'https://www.sturm4congress.com',\n",
       " 'https://www.facebook.com/SturmNextTerm',\n",
       " 'https://www.twitter.com/SturmNextTerm',\n",
       " 'https://www.youtube.com/channel/UCle5_llZ6IQTEHgW91AOlKw',\n",
       " 'candidate-Ricardo Villarreal',\n",
       " 'https://www.votericardovillarreal.com/',\n",
       " 'https://www.facebook.com/RicardoVillarrealTX21/',\n",
       " 'https://www.twitter.com/RVillarrealTX21',\n",
       " 'https://www.linkedin.com/in/drricardovillarreal/',\n",
       " 'candidate-Claudia Zapata',\n",
       " 'https://www.ConClaudia.com',\n",
       " 'https://www.facebook.com/PoderConClaudia',\n",
       " 'https://www.twitter.com/PoderConClaudia',\n",
       " 'https://www.instagram.com/PoderConClaudia',\n",
       " 'candidate-Chip Roy',\n",
       " 'https://roy.house.gov/',\n",
       " 'https://www.facebook.com/RepChipRoyPress',\n",
       " 'https://www.twitter.com/RepChipRoy',\n",
       " 'https://chiproy.com/',\n",
       " 'https://www.facebook.com/ChipRoyforCongress/',\n",
       " 'https://www.twitter.com/chiproytx',\n",
       " 'https://www.instagram.com/chiproytx/',\n",
       " 'https://www.youtube.com/channel/UCUp3Bj2EEnGlBuaUuXWgrpg',\n",
       " 'candidate-Michael French',\n",
       " 'https://www.french4congress.us',\n",
       " 'https://www.facebook.com/French4Congress',\n",
       " 'candidate-Robert Lowry',\n",
       " 'http://votelowry.com/',\n",
       " 'https://www.facebook.com/drrobertlowry',\n",
       " 'https://www.twitter.com/DrRobertLowry',\n",
       " 'candidate-Dana Zavorka',\n",
       " 'https://www.facebook.com/profile.php?id=100075712974297',\n",
       " 'https://www.facebook.com/profile.php?id=100075000604306',\n",
       " 'candidate-Jim Squires',\n",
       " 'https://www.squiresforcongress.com',\n",
       " 'https://www.facebook.com/squiresforcongress2022/',\n",
       " 'https://www.twitter.com/Squires2022',\n",
       " 'https://www.instagram.com/squires2022/',\n",
       " 'https://www.facebook.com/jim.squires27',\n",
       " 'candidate-Jamie Jordan',\n",
       " 'candidate-Matthew Berg',\n",
       " 'https://www.twitter.com/mattberg4texas',\n",
       " 'https://www.facebook.com/matticeberg',\n",
       " 'candidate-Jim Squires',\n",
       " 'https://www.squiresforcongress.com',\n",
       " 'https://www.facebook.com/squiresforcongress2022/',\n",
       " 'https://www.twitter.com/Squires2022',\n",
       " 'https://www.instagram.com/squires2022/',\n",
       " 'https://www.facebook.com/jim.squires27',\n",
       " 'candidate-Angel Vega',\n",
       " 'https://www.angelvega.com',\n",
       " 'https://www.facebook.com/AngelLuisVega',\n",
       " 'https://www.twitter.com/AngelLuisVega',\n",
       " 'https://www.instagram.com/anluisvega/',\n",
       " 'https://www.youtube.com/channel/UCRb_WwQaxok3OrrBueUaDDQ',\n",
       " 'candidate-Troy Nehls',\n",
       " 'https://ballotpedia.org/Help:Report_an_error',\n",
       " 'https://nehls.house.gov/',\n",
       " 'https://www.facebook.com/RepTroyNehls',\n",
       " 'https://www.twitter.com/RepTroyNehls',\n",
       " 'https://www.youtube.com/channel/UCf4v1ZzngfbZ-Ow9EiagaOA',\n",
       " 'https://www.nehlsforcongress.com/',\n",
       " 'https://www.facebook.com/SheriffTNehls',\n",
       " 'https://www.twitter.com/SheriffTNehls',\n",
       " 'https://www.instagram.com/troynehlstx/',\n",
       " 'https://www.linkedin.com/in/troy-e-nehls-909474116/',\n",
       " 'candidate-Gregory Thorne',\n",
       " 'https://www.gjt2022.com',\n",
       " 'https://www.facebook.com/gjt2022',\n",
       " 'https://www.twitter.com/gjt2022',\n",
       " 'https://www.facebook.com/greg.thorne.9',\n",
       " 'candidate-Joseph Leblanc',\n",
       " 'candidate-Priscilla Golden',\n",
       " 'candidate-John Lira',\n",
       " 'https://liraforcongress.com/',\n",
       " 'https://www.facebook.com/liraforcongress/',\n",
       " 'https://www.twitter.com/LiraForCongress',\n",
       " 'https://www.youtube.com/channel/UCRiNsbVJqTikoIq0AKdfgoA',\n",
       " 'https://www.linkedin.com/in/johnjlira/',\n",
       " 'candidate-Tony Gonzales',\n",
       " 'https://gonzales.house.gov/',\n",
       " 'https://www.facebook.com/RepTonyGonzales/',\n",
       " 'https://www.twitter.com/RepTonyGonzales',\n",
       " 'https://www.instagram.com/reptonygonzales/',\n",
       " 'https://www.youtube.com/channel/UCig5n4Otr-enqpM8OSJ8FGA',\n",
       " 'https://tonygonzalesforcongress.com/',\n",
       " 'https://www.facebook.com/TonyGonzalesForCongress',\n",
       " 'https://www.twitter.com/TonyGonzales4TX',\n",
       " 'https://www.youtube.com/channel/UCAuRovyQwaNVb8XFmd9HX4w',\n",
       " 'candidate-Alma Arredondo-Lynch',\n",
       " 'https://www.facebook.com/Dralmaforcongress',\n",
       " 'https://www.twitter.com/arredondo_lynch',\n",
       " 'https://www.facebook.com/alma.arredondolynch.9',\n",
       " 'https://www.linkedin.com/in/alma-g-arredondo-lynch-dds-121903113/',\n",
       " 'candidate-Alia Garcia-Ureste',\n",
       " 'https://electalia.com/',\n",
       " 'https://www.facebook.com/Alia4USCongress/',\n",
       " 'https://www.twitter.com/Alia4USCongress',\n",
       " 'https://www.youtube.com/channel/UC5Wj4BK7fuioISjIVoP8UUQ',\n",
       " 'https://www.facebook.com/profile.php?id=100058055799976',\n",
       " 'candidate-Kathy Fragnoli',\n",
       " 'https://kathy4congress.com',\n",
       " 'https://www.facebook.com/Kathy4Congress/',\n",
       " 'https://www.twitter.com/Kathy4Congress',\n",
       " 'https://www.instagram.com/kathy4congress',\n",
       " 'candidate-Derrik Gay',\n",
       " 'https://derrikgay.com/',\n",
       " 'https://www.facebook.com/DerrikGayForCongress',\n",
       " 'https://www.twitter.com/derrikgay',\n",
       " 'https://www.instagram.com/derrikgay',\n",
       " 'https://www.facebook.com/derriktg',\n",
       " 'https://www.linkedin.com/in/derrikgay/',\n",
       " 'candidate-Jan McDowell',\n",
       " 'https://www.JanMcDowell.com',\n",
       " 'https://www.facebook.com/JanMcDowellDemocrat/',\n",
       " 'https://www.twitter.com/JanForCongress',\n",
       " 'https://www.instagram.com/JanMcDowellForCongress',\n",
       " 'https://www.facebook.com/jan.mcdowell.96',\n",
       " 'https://www.linkedin.com/in/janmcdowell/',\n",
       " 'candidate-Michelle Beckley',\n",
       " 'https://house.texas.gov/members/member-page/?district=65',\n",
       " 'https://www.michellebeckley.com/',\n",
       " 'https://www.facebook.com/MichelleBeckleyTexas',\n",
       " 'https://www.twitter.com/BeckleyforTX',\n",
       " 'https://www.instagram.com/michellebeckleyfortexas/',\n",
       " 'https://www.youtube.com/michellebeckley',\n",
       " 'https://www.facebook.com/michelle.beckley',\n",
       " 'https://www.linkedin.com/in/michelle-beckley-3b41b4161/',\n",
       " 'candidate-Beth Van Duyne',\n",
       " 'https://ballotpedia.org/Help:Report_an_error',\n",
       " 'https://vanduyne.house.gov/',\n",
       " 'https://www.facebook.com/RepBethVanDuyne',\n",
       " 'https://www.twitter.com/RepBethVanDuyne',\n",
       " 'https://www.instagram.com/repbethvanduyne/',\n",
       " 'https://www.youtube.com/channel/UC891KwZoimDB36IzK1or_VA',\n",
       " 'https://bethfortexas.com/',\n",
       " 'https://www.facebook.com/BethVanDuyneTX',\n",
       " 'https://www.instagram.com/bethvanduynetx/',\n",
       " 'https://www.facebook.com/beth.vanduyne',\n",
       " 'https://www.linkedin.com/in/beth-van-duyne-60462a9/',\n",
       " 'candidate-Nate Weymouth',\n",
       " 'candidate-Roger Williams',\n",
       " 'https://williams.house.gov/',\n",
       " 'https://www.facebook.com/RepRogerWilliams/',\n",
       " 'https://www.twitter.com/RepRWilliams',\n",
       " 'https://www.instagram.com/reprwilliams/',\n",
       " 'https://www.youtube.com/channel/UCBtfmMMQarjtLB9U_pWMOhw',\n",
       " 'https://www.rogerforcongress.com/',\n",
       " 'https://www.facebook.com/rogerwilliamstx',\n",
       " 'https://www.twitter.com/RogerWilliamsTX',\n",
       " 'candidate-Tyler Smith',\n",
       " 'https://www.facebook.com/TylerSmith4Congress',\n",
       " 'https://www.twitter.com/TylerCongress',\n",
       " 'candidate-Michael C. Burgess',\n",
       " 'https://burgess.house.gov/',\n",
       " 'https://www.twitter.com/michaelcburgess',\n",
       " 'https://www.instagram.com/repmichaelburgess/',\n",
       " 'https://www.youtube.com/user/MichaelCBurgessMD/about',\n",
       " 'https://burgessforcongress.org/',\n",
       " 'https://www.facebook.com/DrBurgessTX',\n",
       " 'https://www.facebook.com/michaelcburgess/',\n",
       " 'candidate-Brian Brazeal',\n",
       " 'candidate-Vincent Gallo',\n",
       " 'https://galloforcongress.com',\n",
       " 'https://www.facebook.com/GalloforCongress',\n",
       " 'https://www.youtube.com/channel/UCwQ8E1mVEelLAX831z3is7w',\n",
       " 'https://www.facebook.com/profile.php?id=100075281108607',\n",
       " 'candidate-Raven Harrison',\n",
       " 'https://ravenharrison.com/',\n",
       " 'https://www.facebook.com/Raven-Harrison-4-Congress-R-TX-26-106379501844556/',\n",
       " 'https://www.twitter.com/raven4congress',\n",
       " 'https://www.instagram.com/raven4congress/',\n",
       " 'https://www.youtube.com/channel/UCIc2jXp-8Z3lMwB7hhPUFSw',\n",
       " 'candidate-Isaac Smith',\n",
       " 'https://www.isaacsmithforcongress.com',\n",
       " 'https://www.facebook.com/friendsofisaacsmith',\n",
       " 'https://www.youtube.com/channel/UCPTusndS1ZWdZy8l9-7yp3A/',\n",
       " 'https://www.linkedin.com/in/hdris/',\n",
       " 'candidate-Craig Walker',\n",
       " 'http://elect-craig.com/',\n",
       " 'candidate-Mike Kolls',\n",
       " 'http://tx24.us',\n",
       " 'candidate-Victor Melgoza',\n",
       " 'candidate-Maclovio Perez Jr.',\n",
       " 'https://maclovioforamerica.com/',\n",
       " 'https://www.facebook.com/Maclovio-Perez-for-US-Congress-District-27-103854165500831/',\n",
       " 'https://www.facebook.com/macloviop',\n",
       " 'https://www.linkedin.com/in/maclovio-perez-jr-40161912/',\n",
       " 'candidate-Anthony Tristan',\n",
       " 'https://tristanforcongress.com/',\n",
       " 'https://www.facebook.com/tristanforcongress/',\n",
       " 'https://www.twitter.com/anthonyjtristan',\n",
       " 'https://www.linkedin.com/in/anthony-james-tristan-41a62797/',\n",
       " 'candidate-Michael Cloud',\n",
       " 'https://cloud.house.gov/',\n",
       " 'https://www.facebook.com/RepCloudTX/',\n",
       " 'https://www.twitter.com/RepCloudTX',\n",
       " 'https://www.instagram.com/repcloudtx/',\n",
       " 'https://www.youtube.com/channel/UCv_kM3OZukHS0rjWpw_JMWg',\n",
       " 'https://www.cloudforcongress.com/',\n",
       " 'https://www.facebook.com/CloudforCongress',\n",
       " 'https://www.twitter.com/MichaelJCloud',\n",
       " 'https://www.instagram.com/michaeljcloud/',\n",
       " 'https://www.linkedin.com/in/michaeljcloud/',\n",
       " 'candidate-Andrew Alvarez',\n",
       " 'https://aaforcongress.com',\n",
       " 'https://www.facebook.com/andrewalvareztx',\n",
       " 'https://www.twitter.com/andrewalvareztx',\n",
       " 'https://www.instagram.com/aaforcongress/',\n",
       " 'candidate-A.J. Louderback',\n",
       " 'https://louderbackforcongress.com/',\n",
       " 'https://www.facebook.com/AndyLouderback',\n",
       " 'https://www.twitter.com/louderbackaj',\n",
       " 'https://www.facebook.com/aj.louderback.1',\n",
       " 'https://www.linkedin.com/in/aj-louderback-b8bb4812a/',\n",
       " 'candidate-Chris Mapp',\n",
       " 'https://mappforcongress27.com/',\n",
       " 'https://www.facebook.com/ckmapp/',\n",
       " 'https://www.twitter.com/ckmapp',\n",
       " 'https://www.instagram.com/ckmapp/',\n",
       " 'https://www.facebook.com/chris.mapp.52687',\n",
       " 'https://www.linkedin.com/in/chris-mapp-baa8ba141/',\n",
       " 'candidate-Eric Mireles',\n",
       " 'https://www.ericmirelesforcongress.com/',\n",
       " 'https://www.facebook.com/eric.mireles.524',\n",
       " 'candidate-Henry Cuellar',\n",
       " 'https://cuellar.house.gov/',\n",
       " 'https://www.facebook.com/repcuellar/',\n",
       " 'https://www.twitter.com/RepCuellar',\n",
       " 'https://www.instagram.com/repcuellar/',\n",
       " 'https://www.youtube.com/user/henrycuellar',\n",
       " 'https://www.henrycuellar.com/',\n",
       " 'https://www.facebook.com/cuellarcampaign',\n",
       " 'https://www.twitter.com/CuellarCampaign',\n",
       " 'https://www.instagram.com/cuellarcampaign/',\n",
       " 'https://www.linkedin.com/in/henry-cuellar-45492a148/',\n",
       " 'candidate-Tannya Benavides',\n",
       " 'https://www.tannyafortexas.com',\n",
       " 'https://www.facebook.com/tannyafortexas',\n",
       " 'https://www.twitter.com/TannyaForTexas',\n",
       " 'https://www.instagram.com/tannyafortexas/',\n",
       " 'https://www.youtube.com/channel/UCW2pfAPS58p-10sXRULVYqg',\n",
       " 'https://www.facebook.com/tannya.benavides',\n",
       " 'https://www.twitter.com/tannyabenavides',\n",
       " 'https://www.linkedin.com/in/tannya-benavides-m-s-ed-188689120',\n",
       " 'candidate-Jessica Cisneros',\n",
       " 'https://jessicacisnerosforcongress.com/home/',\n",
       " 'https://www.facebook.com/JCisnerosTX',\n",
       " 'https://www.twitter.com/JCisnerosTX',\n",
       " 'https://www.instagram.com/jcisnerostx_/',\n",
       " 'https://www.facebook.com/profile.php?id=1389590158',\n",
       " 'candidate-Ed Cabrera',\n",
       " 'https://www.edcabreraforsouthtexas.com/',\n",
       " 'https://www.facebook.com/EdCabreraforSouthTexas/',\n",
       " 'https://www.twitter.com/EdCabrera4SoTX',\n",
       " 'https://www.instagram.com/edcabreraforsouthtexas/',\n",
       " 'https://www.youtube.com/channel/UCcrX-xrilYHkUPJtpKnxtVQ',\n",
       " 'candidate-Ed Cabrera',\n",
       " 'https://www.edcabreraforsouthtexas.com/',\n",
       " 'https://www.facebook.com/EdCabreraforSouthTexas/',\n",
       " 'https://www.twitter.com/EdCabrera4SoTX',\n",
       " 'https://www.instagram.com/edcabreraforsouthtexas/',\n",
       " 'https://www.youtube.com/channel/UCcrX-xrilYHkUPJtpKnxtVQ',\n",
       " 'candidate-Steven Fowler',\n",
       " 'https://www.letsfightlikehell.com/',\n",
       " 'https://www.facebook.com/fightlikehelltx/',\n",
       " 'https://www.twitter.com/fightlikehelltx',\n",
       " 'https://www.linkedin.com/in/stevencfowler/',\n",
       " 'candidate-Cassy Garcia',\n",
       " 'https://www.cassyforcongress.com/',\n",
       " 'https://www.facebook.com/Cassy-Garcia-for-Congress-111701438027599',\n",
       " 'https://www.twitter.com/CasandraLGarcia',\n",
       " 'https://www.youtube.com/channel/UCRdSW4MO7Ezml0vF_1oPc9w',\n",
       " 'candidate-Eric Hohman',\n",
       " 'https://erichohman.com/',\n",
       " 'candidate-Rolando Rodriguez',\n",
       " 'https://www.rolando4congress.com/',\n",
       " 'https://www.facebook.com/Rolando-4-Congress-TX-US-District-28-112155894647105',\n",
       " 'https://www.twitter.com/Rolando4USD28',\n",
       " 'https://www.instagram.com/rolando4congress/',\n",
       " 'https://www.linkedin.com/in/rolando-rodriguez-161784227/',\n",
       " 'candidate-Willie Vasquez Ng',\n",
       " 'https://www.williefortexas.com/',\n",
       " ...]"
      ]
     },
     "execution_count": 183,
     "metadata": {},
     "output_type": "execute_result"
    }
   ],
   "source": [
    "candidate_links"
   ]
  },
  {
   "cell_type": "code",
   "execution_count": 218,
   "id": "d0361b41",
   "metadata": {},
   "outputs": [
    {
     "name": "stderr",
     "output_type": "stream",
     "text": [
      "\n",
      "\n",
      "====== WebDriver manager ======\n",
      "Current google-chrome version is 98.0.4758\n",
      "Get LATEST chromedriver version for 98.0.4758 google-chrome\n",
      "Driver [/Users/sm/.wdm/drivers/chromedriver/mac64/98.0.4758.102/chromedriver] found in cache\n",
      "/var/folders/c2/zngcssg14mv23nw0yr96s0wm0000gn/T/ipykernel_23726/1503906442.py:1: DeprecationWarning: executable_path has been deprecated, please pass in a Service object\n",
      "  driver = webdriver.Chrome(ChromeDriverManager().install())\n"
     ]
    }
   ],
   "source": [
    "driver = webdriver.Chrome(ChromeDriverManager().install())"
   ]
  },
  {
   "cell_type": "code",
   "execution_count": 252,
   "id": "4b5db4a6",
   "metadata": {},
   "outputs": [],
   "source": [
    "ls_candidates2 = []\n",
    "ls_sites2 = []\n",
    "ls_socials2 = []\n",
    "ls_mistake2 = []"
   ]
  },
  {
   "cell_type": "code",
   "execution_count": 259,
   "id": "d1823a2f",
   "metadata": {},
   "outputs": [
    {
     "name": "stderr",
     "output_type": "stream",
     "text": [
      "\n",
      "\n",
      "====== WebDriver manager ======\n",
      "Current google-chrome version is 98.0.4758\n",
      "Get LATEST chromedriver version for 98.0.4758 google-chrome\n",
      "Driver [/Users/sm/.wdm/drivers/chromedriver/mac64/98.0.4758.102/chromedriver] found in cache\n",
      "/var/folders/c2/zngcssg14mv23nw0yr96s0wm0000gn/T/ipykernel_23726/3229542269.py:3: DeprecationWarning: executable_path has been deprecated, please pass in a Service object\n",
      "  driver = webdriver.Chrome(ChromeDriverManager().install())\n",
      "\n",
      "\n",
      "====== WebDriver manager ======\n",
      "Current google-chrome version is 98.0.4758\n",
      "Get LATEST chromedriver version for 98.0.4758 google-chrome\n",
      "Driver [/Users/sm/.wdm/drivers/chromedriver/mac64/98.0.4758.102/chromedriver] found in cache\n"
     ]
    },
    {
     "name": "stdout",
     "output_type": "stream",
     "text": [
      "candidate-Gavin Dass\n",
      "twitter2\n",
      "screenshots//Gavin4Congress-twitter.png\n"
     ]
    },
    {
     "name": "stderr",
     "output_type": "stream",
     "text": [
      "\n",
      "\n",
      "====== WebDriver manager ======\n",
      "Current google-chrome version is 98.0.4758\n",
      "Get LATEST chromedriver version for 98.0.4758 google-chrome\n",
      "Driver [/Users/sm/.wdm/drivers/chromedriver/mac64/98.0.4758.102/chromedriver] found in cache\n"
     ]
    },
    {
     "name": "stdout",
     "output_type": "stream",
     "text": [
      "instagram1\n",
      "screenshots//gavin4congress-instagram.png\n"
     ]
    },
    {
     "name": "stderr",
     "output_type": "stream",
     "text": [
      "\n",
      "\n",
      "====== WebDriver manager ======\n",
      "Current google-chrome version is 98.0.4758\n",
      "Get LATEST chromedriver version for 98.0.4758 google-chrome\n",
      "Driver [/Users/sm/.wdm/drivers/chromedriver/mac64/98.0.4758.102/chromedriver] found in cache\n",
      "\n",
      "\n",
      "====== WebDriver manager ======\n",
      "Current google-chrome version is 98.0.4758\n",
      "Get LATEST chromedriver version for 98.0.4758 google-chrome\n",
      "Driver [/Users/sm/.wdm/drivers/chromedriver/mac64/98.0.4758.102/chromedriver] found in cache\n"
     ]
    },
    {
     "name": "stdout",
     "output_type": "stream",
     "text": [
      "candidate-Victor D. Dunn\n",
      "c\n",
      "screenshots//victordunn4congress-site.png\n"
     ]
    },
    {
     "name": "stderr",
     "output_type": "stream",
     "text": [
      "\n",
      "\n",
      "====== WebDriver manager ======\n",
      "Current google-chrome version is 98.0.4758\n",
      "Get LATEST chromedriver version for 98.0.4758 google-chrome\n",
      "Driver [/Users/sm/.wdm/drivers/chromedriver/mac64/98.0.4758.102/chromedriver] found in cache\n"
     ]
    },
    {
     "name": "stdout",
     "output_type": "stream",
     "text": [
      "facebook1\n",
      "screenshots//dunnforcongress-facebook.png\n"
     ]
    },
    {
     "name": "stderr",
     "output_type": "stream",
     "text": [
      "\n",
      "\n",
      "====== WebDriver manager ======\n",
      "Current google-chrome version is 98.0.4758\n",
      "Get LATEST chromedriver version for 98.0.4758 google-chrome\n",
      "Driver [/Users/sm/.wdm/drivers/chromedriver/mac64/98.0.4758.102/chromedriver] found in cache\n"
     ]
    },
    {
     "name": "stdout",
     "output_type": "stream",
     "text": [
      "twitter2\n",
      "screenshots//dunn4congress-twitter.png\n"
     ]
    },
    {
     "name": "stderr",
     "output_type": "stream",
     "text": [
      "\n",
      "\n",
      "====== WebDriver manager ======\n",
      "Current google-chrome version is 98.0.4758\n",
      "Get LATEST chromedriver version for 98.0.4758 google-chrome\n",
      "Driver [/Users/sm/.wdm/drivers/chromedriver/mac64/98.0.4758.102/chromedriver] found in cache\n"
     ]
    },
    {
     "name": "stdout",
     "output_type": "stream",
     "text": [
      "facebook2\n",
      "screenshots//victor.dunn.376-facebook.png\n"
     ]
    },
    {
     "name": "stderr",
     "output_type": "stream",
     "text": [
      "\n",
      "\n",
      "====== WebDriver manager ======\n",
      "Current google-chrome version is 98.0.4758\n",
      "Get LATEST chromedriver version for 98.0.4758 google-chrome\n",
      "Driver [/Users/sm/.wdm/drivers/chromedriver/mac64/98.0.4758.102/chromedriver] found in cache\n",
      "\n",
      "\n",
      "====== WebDriver manager ======\n",
      "Current google-chrome version is 98.0.4758\n",
      "Get LATEST chromedriver version for 98.0.4758 google-chrome\n",
      "Driver [/Users/sm/.wdm/drivers/chromedriver/mac64/98.0.4758.102/chromedriver] found in cache\n"
     ]
    },
    {
     "name": "stdout",
     "output_type": "stream",
     "text": [
      "candidate-Jrmar Jefferson\n",
      "a\n",
      "www.jeffersonforcongress.com/\n",
      "screenshots//www.jeffersonforcongress-site.png\n"
     ]
    },
    {
     "name": "stderr",
     "output_type": "stream",
     "text": [
      "\n",
      "\n",
      "====== WebDriver manager ======\n",
      "Current google-chrome version is 98.0.4758\n",
      "Get LATEST chromedriver version for 98.0.4758 google-chrome\n",
      "Driver [/Users/sm/.wdm/drivers/chromedriver/mac64/98.0.4758.102/chromedriver] found in cache\n"
     ]
    },
    {
     "name": "stdout",
     "output_type": "stream",
     "text": [
      "facebook1\n",
      "screenshots//jrmarjefferson-facebook.png\n"
     ]
    },
    {
     "name": "stderr",
     "output_type": "stream",
     "text": [
      "\n",
      "\n",
      "====== WebDriver manager ======\n",
      "Current google-chrome version is 98.0.4758\n",
      "Get LATEST chromedriver version for 98.0.4758 google-chrome\n",
      "Driver [/Users/sm/.wdm/drivers/chromedriver/mac64/98.0.4758.102/chromedriver] found in cache\n"
     ]
    },
    {
     "name": "stdout",
     "output_type": "stream",
     "text": [
      "facebook2\n",
      "screenshots//DelmaJrmarJefferson-facebook.png\n"
     ]
    },
    {
     "name": "stderr",
     "output_type": "stream",
     "text": [
      "\n",
      "\n",
      "====== WebDriver manager ======\n",
      "Current google-chrome version is 98.0.4758\n",
      "Get LATEST chromedriver version for 98.0.4758 google-chrome\n",
      "Driver [/Users/sm/.wdm/drivers/chromedriver/mac64/98.0.4758.102/chromedriver] found in cache\n"
     ]
    },
    {
     "name": "stdout",
     "output_type": "stream",
     "text": [
      "twitter2\n",
      "screenshots//JrmarJefferson-twitter.png\n"
     ]
    },
    {
     "name": "stderr",
     "output_type": "stream",
     "text": [
      "\n",
      "\n",
      "====== WebDriver manager ======\n",
      "Current google-chrome version is 98.0.4758\n",
      "Get LATEST chromedriver version for 98.0.4758 google-chrome\n",
      "Driver [/Users/sm/.wdm/drivers/chromedriver/mac64/98.0.4758.102/chromedriver] found in cache\n",
      "\n",
      "\n",
      "====== WebDriver manager ======\n",
      "Current google-chrome version is 98.0.4758\n",
      "Get LATEST chromedriver version for 98.0.4758 google-chrome\n",
      "Driver [/Users/sm/.wdm/drivers/chromedriver/mac64/98.0.4758.102/chromedriver] found in cache\n"
     ]
    },
    {
     "name": "stdout",
     "output_type": "stream",
     "text": [
      "linkedin\n"
     ]
    },
    {
     "name": "stderr",
     "output_type": "stream",
     "text": [
      "\n",
      "\n",
      "====== WebDriver manager ======\n",
      "Current google-chrome version is 98.0.4758\n",
      "Get LATEST chromedriver version for 98.0.4758 google-chrome\n",
      "Driver [/Users/sm/.wdm/drivers/chromedriver/mac64/98.0.4758.102/chromedriver] found in cache\n"
     ]
    },
    {
     "name": "stdout",
     "output_type": "stream",
     "text": [
      "candidate-Stephen Kocen\n",
      "a\n",
      "www.kocenforcongress.com/\n",
      "screenshots//www.kocenforcongress-site.png\n"
     ]
    },
    {
     "name": "stderr",
     "output_type": "stream",
     "text": [
      "\n",
      "\n",
      "====== WebDriver manager ======\n",
      "Current google-chrome version is 98.0.4758\n",
      "Get LATEST chromedriver version for 98.0.4758 google-chrome\n",
      "Driver [/Users/sm/.wdm/drivers/chromedriver/mac64/98.0.4758.102/chromedriver] found in cache\n"
     ]
    },
    {
     "name": "stdout",
     "output_type": "stream",
     "text": [
      "facebook1\n",
      "screenshots//TXdist1-facebook.png\n"
     ]
    },
    {
     "name": "stderr",
     "output_type": "stream",
     "text": [
      "\n",
      "\n",
      "====== WebDriver manager ======\n",
      "Current google-chrome version is 98.0.4758\n",
      "Get LATEST chromedriver version for 98.0.4758 google-chrome\n",
      "Driver [/Users/sm/.wdm/drivers/chromedriver/mac64/98.0.4758.102/chromedriver] found in cache\n"
     ]
    },
    {
     "name": "stdout",
     "output_type": "stream",
     "text": [
      "twitter2\n",
      "screenshots//Kocen4Congress-twitter.png\n"
     ]
    },
    {
     "name": "stderr",
     "output_type": "stream",
     "text": [
      "\n",
      "\n",
      "====== WebDriver manager ======\n",
      "Current google-chrome version is 98.0.4758\n",
      "Get LATEST chromedriver version for 98.0.4758 google-chrome\n",
      "Driver [/Users/sm/.wdm/drivers/chromedriver/mac64/98.0.4758.102/chromedriver] found in cache\n",
      "\n",
      "\n",
      "====== WebDriver manager ======\n",
      "Current google-chrome version is 98.0.4758\n",
      "Get LATEST chromedriver version for 98.0.4758 google-chrome\n",
      "Driver [/Users/sm/.wdm/drivers/chromedriver/mac64/98.0.4758.102/chromedriver] found in cache\n"
     ]
    },
    {
     "name": "stdout",
     "output_type": "stream",
     "text": [
      "candidate-Rosey Quinn\n"
     ]
    },
    {
     "name": "stderr",
     "output_type": "stream",
     "text": [
      "\n",
      "\n",
      "====== WebDriver manager ======\n",
      "Current google-chrome version is 98.0.4758\n",
      "Get LATEST chromedriver version for 98.0.4758 google-chrome\n",
      "Driver [/Users/sm/.wdm/drivers/chromedriver/mac64/98.0.4758.102/chromedriver] found in cache\n"
     ]
    },
    {
     "name": "stdout",
     "output_type": "stream",
     "text": [
      "candidate-Aditya Atholi\n",
      "c\n",
      "screenshots//atholiforcongress-site.png\n"
     ]
    },
    {
     "name": "stderr",
     "output_type": "stream",
     "text": [
      "\n",
      "\n",
      "====== WebDriver manager ======\n",
      "Current google-chrome version is 98.0.4758\n",
      "Get LATEST chromedriver version for 98.0.4758 google-chrome\n",
      "Driver [/Users/sm/.wdm/drivers/chromedriver/mac64/98.0.4758.102/chromedriver] found in cache\n"
     ]
    },
    {
     "name": "stdout",
     "output_type": "stream",
     "text": [
      "facebook2\n",
      "screenshots//atholiforcongress-facebook.png\n"
     ]
    },
    {
     "name": "stderr",
     "output_type": "stream",
     "text": [
      "\n",
      "\n",
      "====== WebDriver manager ======\n",
      "Current google-chrome version is 98.0.4758\n",
      "Get LATEST chromedriver version for 98.0.4758 google-chrome\n",
      "Driver [/Users/sm/.wdm/drivers/chromedriver/mac64/98.0.4758.102/chromedriver] found in cache\n"
     ]
    },
    {
     "name": "stdout",
     "output_type": "stream",
     "text": [
      "twitter2\n",
      "screenshots//Atholi4Congress-twitter.png\n"
     ]
    },
    {
     "name": "stderr",
     "output_type": "stream",
     "text": [
      "\n",
      "\n",
      "====== WebDriver manager ======\n",
      "Current google-chrome version is 98.0.4758\n",
      "Get LATEST chromedriver version for 98.0.4758 google-chrome\n",
      "Driver [/Users/sm/.wdm/drivers/chromedriver/mac64/98.0.4758.102/chromedriver] found in cache\n"
     ]
    },
    {
     "name": "stdout",
     "output_type": "stream",
     "text": [
      "instagram1\n",
      "screenshots//atholiforcongress-instagram.png\n"
     ]
    },
    {
     "name": "stderr",
     "output_type": "stream",
     "text": [
      "\n",
      "\n",
      "====== WebDriver manager ======\n",
      "Current google-chrome version is 98.0.4758\n",
      "Get LATEST chromedriver version for 98.0.4758 google-chrome\n",
      "Driver [/Users/sm/.wdm/drivers/chromedriver/mac64/98.0.4758.102/chromedriver] found in cache\n",
      "\n",
      "\n",
      "====== WebDriver manager ======\n",
      "Current google-chrome version is 98.0.4758\n",
      "Get LATEST chromedriver version for 98.0.4758 google-chrome\n",
      "Driver [/Users/sm/.wdm/drivers/chromedriver/mac64/98.0.4758.102/chromedriver] found in cache\n"
     ]
    },
    {
     "name": "stdout",
     "output_type": "stream",
     "text": [
      "youtube\n"
     ]
    },
    {
     "name": "stderr",
     "output_type": "stream",
     "text": [
      "\n",
      "\n",
      "====== WebDriver manager ======\n",
      "Current google-chrome version is 98.0.4758\n",
      "Get LATEST chromedriver version for 98.0.4758 google-chrome\n"
     ]
    },
    {
     "name": "stdout",
     "output_type": "stream",
     "text": [
      "candidate-Joe McDaniel\n"
     ]
    },
    {
     "name": "stderr",
     "output_type": "stream",
     "text": [
      "Driver [/Users/sm/.wdm/drivers/chromedriver/mac64/98.0.4758.102/chromedriver] found in cache\n"
     ]
    },
    {
     "name": "stdout",
     "output_type": "stream",
     "text": [
      "a\n",
      "www.joemcdaniel.com/\n",
      "screenshots//www.joemcdaniel-site.png\n"
     ]
    },
    {
     "name": "stderr",
     "output_type": "stream",
     "text": [
      "\n",
      "\n",
      "====== WebDriver manager ======\n",
      "Current google-chrome version is 98.0.4758\n",
      "Get LATEST chromedriver version for 98.0.4758 google-chrome\n",
      "Driver [/Users/sm/.wdm/drivers/chromedriver/mac64/98.0.4758.102/chromedriver] found in cache\n"
     ]
    },
    {
     "name": "stdout",
     "output_type": "stream",
     "text": [
      "facebook2\n",
      "screenshots//joemcdanielforuscongress-facebook.png\n"
     ]
    },
    {
     "name": "stderr",
     "output_type": "stream",
     "text": [
      "\n",
      "\n",
      "====== WebDriver manager ======\n",
      "Current google-chrome version is 98.0.4758\n",
      "Get LATEST chromedriver version for 98.0.4758 google-chrome\n",
      "Driver [/Users/sm/.wdm/drivers/chromedriver/mac64/98.0.4758.102/chromedriver] found in cache\n"
     ]
    },
    {
     "name": "stdout",
     "output_type": "stream",
     "text": [
      "twitter2\n",
      "screenshots//joemcd2-twitter.png\n"
     ]
    },
    {
     "name": "stderr",
     "output_type": "stream",
     "text": [
      "\n",
      "\n",
      "====== WebDriver manager ======\n",
      "Current google-chrome version is 98.0.4758\n",
      "Get LATEST chromedriver version for 98.0.4758 google-chrome\n",
      "Driver [/Users/sm/.wdm/drivers/chromedriver/mac64/98.0.4758.102/chromedriver] found in cache\n"
     ]
    },
    {
     "name": "stdout",
     "output_type": "stream",
     "text": [
      "facebook2\n",
      "screenshots//joemcd2-facebook.png\n"
     ]
    },
    {
     "name": "stderr",
     "output_type": "stream",
     "text": [
      "\n",
      "\n",
      "====== WebDriver manager ======\n",
      "Current google-chrome version is 98.0.4758\n",
      "Get LATEST chromedriver version for 98.0.4758 google-chrome\n",
      "Driver [/Users/sm/.wdm/drivers/chromedriver/mac64/98.0.4758.102/chromedriver] found in cache\n",
      "\n",
      "\n",
      "====== WebDriver manager ======\n",
      "Current google-chrome version is 98.0.4758\n",
      "Get LATEST chromedriver version for 98.0.4758 google-chrome\n",
      "Driver [/Users/sm/.wdm/drivers/chromedriver/mac64/98.0.4758.102/chromedriver] found in cache\n"
     ]
    },
    {
     "name": "stdout",
     "output_type": "stream",
     "text": [
      "candidate-Nathaniel Moran\n"
     ]
    },
    {
     "name": "stderr",
     "output_type": "stream",
     "text": [
      "\n",
      "\n",
      "====== WebDriver manager ======\n",
      "Current google-chrome version is 98.0.4758\n",
      "Get LATEST chromedriver version for 98.0.4758 google-chrome\n",
      "Driver [/Users/sm/.wdm/drivers/chromedriver/mac64/98.0.4758.102/chromedriver] found in cache\n"
     ]
    },
    {
     "name": "stdout",
     "output_type": "stream",
     "text": [
      "mistake\n",
      "c\n",
      "screenshots//nathanielmoran-site.png\n"
     ]
    },
    {
     "name": "stderr",
     "output_type": "stream",
     "text": [
      "\n",
      "\n",
      "====== WebDriver manager ======\n",
      "Current google-chrome version is 98.0.4758\n",
      "Get LATEST chromedriver version for 98.0.4758 google-chrome\n",
      "Driver [/Users/sm/.wdm/drivers/chromedriver/mac64/98.0.4758.102/chromedriver] found in cache\n"
     ]
    },
    {
     "name": "stdout",
     "output_type": "stream",
     "text": [
      "facebook2\n",
      "screenshots//moranforcongress-facebook.png\n"
     ]
    },
    {
     "name": "stderr",
     "output_type": "stream",
     "text": [
      "\n",
      "\n",
      "====== WebDriver manager ======\n",
      "Current google-chrome version is 98.0.4758\n",
      "Get LATEST chromedriver version for 98.0.4758 google-chrome\n",
      "Driver [/Users/sm/.wdm/drivers/chromedriver/mac64/98.0.4758.102/chromedriver] found in cache\n"
     ]
    },
    {
     "name": "stdout",
     "output_type": "stream",
     "text": [
      "twitter2\n",
      "screenshots//moran4congress-twitter.png\n"
     ]
    },
    {
     "name": "stderr",
     "output_type": "stream",
     "text": [
      "\n",
      "\n",
      "====== WebDriver manager ======\n",
      "Current google-chrome version is 98.0.4758\n",
      "Get LATEST chromedriver version for 98.0.4758 google-chrome\n",
      "Driver [/Users/sm/.wdm/drivers/chromedriver/mac64/98.0.4758.102/chromedriver] found in cache\n"
     ]
    },
    {
     "name": "stdout",
     "output_type": "stream",
     "text": [
      "facebook2\n",
      "screenshots//nqmoran-facebook.png\n"
     ]
    },
    {
     "name": "stderr",
     "output_type": "stream",
     "text": [
      "\n",
      "\n",
      "====== WebDriver manager ======\n",
      "Current google-chrome version is 98.0.4758\n",
      "Get LATEST chromedriver version for 98.0.4758 google-chrome\n",
      "Driver [/Users/sm/.wdm/drivers/chromedriver/mac64/98.0.4758.102/chromedriver] found in cache\n",
      "\n",
      "\n",
      "====== WebDriver manager ======\n",
      "Current google-chrome version is 98.0.4758\n",
      "Get LATEST chromedriver version for 98.0.4758 google-chrome\n",
      "Driver [/Users/sm/.wdm/drivers/chromedriver/mac64/98.0.4758.102/chromedriver] found in cache\n"
     ]
    },
    {
     "name": "stdout",
     "output_type": "stream",
     "text": [
      "linkedin\n"
     ]
    },
    {
     "name": "stderr",
     "output_type": "stream",
     "text": [
      "\n",
      "\n",
      "====== WebDriver manager ======\n",
      "Current google-chrome version is 98.0.4758\n",
      "Get LATEST chromedriver version for 98.0.4758 google-chrome\n",
      "Driver [/Users/sm/.wdm/drivers/chromedriver/mac64/98.0.4758.102/chromedriver] found in cache\n"
     ]
    },
    {
     "name": "stdout",
     "output_type": "stream",
     "text": [
      "candidate-John Porro\n",
      "c\n",
      "screenshots//johnporro4tx-site.png\n"
     ]
    },
    {
     "name": "stderr",
     "output_type": "stream",
     "text": [
      "\n",
      "\n",
      "====== WebDriver manager ======\n",
      "Current google-chrome version is 98.0.4758\n",
      "Get LATEST chromedriver version for 98.0.4758 google-chrome\n",
      "Driver [/Users/sm/.wdm/drivers/chromedriver/mac64/98.0.4758.102/chromedriver] found in cache\n"
     ]
    },
    {
     "name": "stdout",
     "output_type": "stream",
     "text": [
      "facebook1\n",
      "screenshots//JohnPorro4TX-facebook.png\n"
     ]
    },
    {
     "name": "stderr",
     "output_type": "stream",
     "text": [
      "\n",
      "\n",
      "====== WebDriver manager ======\n",
      "Current google-chrome version is 98.0.4758\n",
      "Get LATEST chromedriver version for 98.0.4758 google-chrome\n",
      "Driver [/Users/sm/.wdm/drivers/chromedriver/mac64/98.0.4758.102/chromedriver] found in cache\n"
     ]
    },
    {
     "name": "stdout",
     "output_type": "stream",
     "text": [
      "twitter2\n",
      "screenshots//JohnPorro4TX-twitter.png\n"
     ]
    },
    {
     "name": "stderr",
     "output_type": "stream",
     "text": [
      "\n",
      "\n",
      "====== WebDriver manager ======\n",
      "Current google-chrome version is 98.0.4758\n",
      "Get LATEST chromedriver version for 98.0.4758 google-chrome\n",
      "Driver [/Users/sm/.wdm/drivers/chromedriver/mac64/98.0.4758.102/chromedriver] found in cache\n"
     ]
    },
    {
     "name": "stdout",
     "output_type": "stream",
     "text": [
      "facebook2\n",
      "screenshots//john.porro.9-facebook.png\n"
     ]
    },
    {
     "name": "stderr",
     "output_type": "stream",
     "text": [
      "\n",
      "\n",
      "====== WebDriver manager ======\n",
      "Current google-chrome version is 98.0.4758\n",
      "Get LATEST chromedriver version for 98.0.4758 google-chrome\n",
      "Driver [/Users/sm/.wdm/drivers/chromedriver/mac64/98.0.4758.102/chromedriver] found in cache\n",
      "\n",
      "\n",
      "====== WebDriver manager ======\n",
      "Current google-chrome version is 98.0.4758\n",
      "Get LATEST chromedriver version for 98.0.4758 google-chrome\n"
     ]
    },
    {
     "name": "stdout",
     "output_type": "stream",
     "text": [
      "linkedin\n"
     ]
    },
    {
     "name": "stderr",
     "output_type": "stream",
     "text": [
      "Driver [/Users/sm/.wdm/drivers/chromedriver/mac64/98.0.4758.102/chromedriver] found in cache\n",
      "\n",
      "\n",
      "====== WebDriver manager ======\n",
      "Current google-chrome version is 98.0.4758\n",
      "Get LATEST chromedriver version for 98.0.4758 google-chrome\n",
      "Driver [/Users/sm/.wdm/drivers/chromedriver/mac64/98.0.4758.102/chromedriver] found in cache\n"
     ]
    },
    {
     "name": "stdout",
     "output_type": "stream",
     "text": [
      "candidate-Robin Fulford\n",
      "a\n",
      "www.fulfordforcongress.com/\n",
      "screenshots//www.fulfordforcongress-site.png\n"
     ]
    },
    {
     "name": "stderr",
     "output_type": "stream",
     "text": [
      "\n",
      "\n",
      "====== WebDriver manager ======\n",
      "Current google-chrome version is 98.0.4758\n",
      "Get LATEST chromedriver version for 98.0.4758 google-chrome\n",
      "Driver [/Users/sm/.wdm/drivers/chromedriver/mac64/98.0.4758.102/chromedriver] found in cache\n"
     ]
    },
    {
     "name": "stdout",
     "output_type": "stream",
     "text": [
      "facebook2\n",
      "screenshots//RobinFulfordTX-facebook.png\n"
     ]
    },
    {
     "name": "stderr",
     "output_type": "stream",
     "text": [
      "\n",
      "\n",
      "====== WebDriver manager ======\n",
      "Current google-chrome version is 98.0.4758\n",
      "Get LATEST chromedriver version for 98.0.4758 google-chrome\n",
      "Driver [/Users/sm/.wdm/drivers/chromedriver/mac64/98.0.4758.102/chromedriver] found in cache\n"
     ]
    },
    {
     "name": "stdout",
     "output_type": "stream",
     "text": [
      "twitter2\n",
      "screenshots//RobinFulfordTX-twitter.png\n"
     ]
    },
    {
     "name": "stderr",
     "output_type": "stream",
     "text": [
      "\n",
      "\n",
      "====== WebDriver manager ======\n",
      "Current google-chrome version is 98.0.4758\n",
      "Get LATEST chromedriver version for 98.0.4758 google-chrome\n",
      "Driver [/Users/sm/.wdm/drivers/chromedriver/mac64/98.0.4758.102/chromedriver] found in cache\n"
     ]
    },
    {
     "name": "stdout",
     "output_type": "stream",
     "text": [
      "instagram2\n",
      "screenshots//https://www.instagram-instagram.png\n"
     ]
    },
    {
     "name": "stderr",
     "output_type": "stream",
     "text": [
      "\n",
      "\n",
      "====== WebDriver manager ======\n",
      "Current google-chrome version is 98.0.4758\n",
      "Get LATEST chromedriver version for 98.0.4758 google-chrome\n",
      "Driver [/Users/sm/.wdm/drivers/chromedriver/mac64/98.0.4758.102/chromedriver] found in cache\n"
     ]
    },
    {
     "name": "stdout",
     "output_type": "stream",
     "text": [
      "facebook2\n",
      "screenshots//ucla.robin-facebook.png\n"
     ]
    },
    {
     "name": "stderr",
     "output_type": "stream",
     "text": [
      "\n",
      "\n",
      "====== WebDriver manager ======\n",
      "Current google-chrome version is 98.0.4758\n",
      "Get LATEST chromedriver version for 98.0.4758 google-chrome\n",
      "Driver [/Users/sm/.wdm/drivers/chromedriver/mac64/98.0.4758.102/chromedriver] found in cache\n"
     ]
    },
    {
     "name": "stdout",
     "output_type": "stream",
     "text": [
      "twitter2\n",
      "screenshots//robindfulford-twitter.png\n"
     ]
    },
    {
     "name": "stderr",
     "output_type": "stream",
     "text": [
      "\n",
      "\n",
      "====== WebDriver manager ======\n",
      "Current google-chrome version is 98.0.4758\n",
      "Get LATEST chromedriver version for 98.0.4758 google-chrome\n",
      "Driver [/Users/sm/.wdm/drivers/chromedriver/mac64/98.0.4758.102/chromedriver] found in cache\n",
      "\n",
      "\n",
      "====== WebDriver manager ======\n",
      "Current google-chrome version is 98.0.4758\n",
      "Get LATEST chromedriver version for 98.0.4758 google-chrome\n",
      "Driver [/Users/sm/.wdm/drivers/chromedriver/mac64/98.0.4758.102/chromedriver] found in cache\n"
     ]
    },
    {
     "name": "stdout",
     "output_type": "stream",
     "text": [
      "linkedin\n"
     ]
    },
    {
     "name": "stderr",
     "output_type": "stream",
     "text": [
      "\n",
      "\n",
      "====== WebDriver manager ======\n",
      "Current google-chrome version is 98.0.4758\n",
      "Get LATEST chromedriver version for 98.0.4758 google-chrome\n",
      "Driver [/Users/sm/.wdm/drivers/chromedriver/mac64/98.0.4758.102/chromedriver] found in cache\n"
     ]
    },
    {
     "name": "stdout",
     "output_type": "stream",
     "text": [
      "candidate-Rayna Reid\n",
      "facebook2\n",
      "screenshots//RaynaReidforCongress-facebook.png\n"
     ]
    },
    {
     "name": "stderr",
     "output_type": "stream",
     "text": [
      "\n",
      "\n",
      "====== WebDriver manager ======\n",
      "Current google-chrome version is 98.0.4758\n",
      "Get LATEST chromedriver version for 98.0.4758 google-chrome\n",
      "Driver [/Users/sm/.wdm/drivers/chromedriver/mac64/98.0.4758.102/chromedriver] found in cache\n"
     ]
    },
    {
     "name": "stdout",
     "output_type": "stream",
     "text": [
      "facebook2\n",
      "screenshots//rayna.delaviev-facebook.png\n"
     ]
    },
    {
     "name": "stderr",
     "output_type": "stream",
     "text": [
      "\n",
      "\n",
      "====== WebDriver manager ======\n",
      "Current google-chrome version is 98.0.4758\n",
      "Get LATEST chromedriver version for 98.0.4758 google-chrome\n",
      "Driver [/Users/sm/.wdm/drivers/chromedriver/mac64/98.0.4758.102/chromedriver] found in cache\n"
     ]
    },
    {
     "name": "stdout",
     "output_type": "stream",
     "text": [
      "twitter2\n",
      "screenshots//_raynareid-twitter.png\n"
     ]
    },
    {
     "name": "stderr",
     "output_type": "stream",
     "text": [
      "\n",
      "\n",
      "====== WebDriver manager ======\n",
      "Current google-chrome version is 98.0.4758\n",
      "Get LATEST chromedriver version for 98.0.4758 google-chrome\n",
      "Driver [/Users/sm/.wdm/drivers/chromedriver/mac64/98.0.4758.102/chromedriver] found in cache\n",
      "\n",
      "\n",
      "====== WebDriver manager ======\n",
      "Current google-chrome version is 98.0.4758\n",
      "Get LATEST chromedriver version for 98.0.4758 google-chrome\n",
      "Driver [/Users/sm/.wdm/drivers/chromedriver/mac64/98.0.4758.102/chromedriver] found in cache\n"
     ]
    },
    {
     "name": "stdout",
     "output_type": "stream",
     "text": [
      "linkedin\n"
     ]
    },
    {
     "name": "stderr",
     "output_type": "stream",
     "text": [
      "\n",
      "\n",
      "====== WebDriver manager ======\n",
      "Current google-chrome version is 98.0.4758\n",
      "Get LATEST chromedriver version for 98.0.4758 google-chrome\n",
      "Driver [/Users/sm/.wdm/drivers/chromedriver/mac64/98.0.4758.102/chromedriver] found in cache\n"
     ]
    },
    {
     "name": "stdout",
     "output_type": "stream",
     "text": [
      "candidate-Daniel Crenshaw\n"
     ]
    },
    {
     "name": "stderr",
     "output_type": "stream",
     "text": [
      "\n",
      "\n",
      "====== WebDriver manager ======\n",
      "Current google-chrome version is 98.0.4758\n",
      "Get LATEST chromedriver version for 98.0.4758 google-chrome\n",
      "Driver [/Users/sm/.wdm/drivers/chromedriver/mac64/98.0.4758.102/chromedriver] found in cache\n"
     ]
    },
    {
     "name": "stdout",
     "output_type": "stream",
     "text": [
      "d\n",
      "facebook1\n",
      "screenshots//RepDanCrenshaw-facebook.png\n"
     ]
    },
    {
     "name": "stderr",
     "output_type": "stream",
     "text": [
      "\n",
      "\n",
      "====== WebDriver manager ======\n",
      "Current google-chrome version is 98.0.4758\n",
      "Get LATEST chromedriver version for 98.0.4758 google-chrome\n",
      "Driver [/Users/sm/.wdm/drivers/chromedriver/mac64/98.0.4758.102/chromedriver] found in cache\n"
     ]
    },
    {
     "name": "stdout",
     "output_type": "stream",
     "text": [
      "twitter2\n",
      "screenshots//RepDanCrenshaw-twitter.png\n"
     ]
    },
    {
     "name": "stderr",
     "output_type": "stream",
     "text": [
      "\n",
      "\n",
      "====== WebDriver manager ======\n",
      "Current google-chrome version is 98.0.4758\n",
      "Get LATEST chromedriver version for 98.0.4758 google-chrome\n",
      "Driver [/Users/sm/.wdm/drivers/chromedriver/mac64/98.0.4758.102/chromedriver] found in cache\n",
      "\n",
      "\n",
      "====== WebDriver manager ======\n",
      "Current google-chrome version is 98.0.4758\n",
      "Get LATEST chromedriver version for 98.0.4758 google-chrome\n",
      "Driver [/Users/sm/.wdm/drivers/chromedriver/mac64/98.0.4758.102/chromedriver] found in cache\n"
     ]
    },
    {
     "name": "stdout",
     "output_type": "stream",
     "text": [
      "youtube\n",
      "c\n",
      "screenshots//crenshawforcongress-site.png\n"
     ]
    },
    {
     "name": "stderr",
     "output_type": "stream",
     "text": [
      "\n",
      "\n",
      "====== WebDriver manager ======\n",
      "Current google-chrome version is 98.0.4758\n",
      "Get LATEST chromedriver version for 98.0.4758 google-chrome\n",
      "Driver [/Users/sm/.wdm/drivers/chromedriver/mac64/98.0.4758.102/chromedriver] found in cache\n"
     ]
    },
    {
     "name": "stdout",
     "output_type": "stream",
     "text": [
      "facebook2\n",
      "screenshots//CrenshawforCongress-facebook.png\n"
     ]
    },
    {
     "name": "stderr",
     "output_type": "stream",
     "text": [
      "\n",
      "\n",
      "====== WebDriver manager ======\n",
      "Current google-chrome version is 98.0.4758\n",
      "Get LATEST chromedriver version for 98.0.4758 google-chrome\n",
      "Driver [/Users/sm/.wdm/drivers/chromedriver/mac64/98.0.4758.102/chromedriver] found in cache\n"
     ]
    },
    {
     "name": "stdout",
     "output_type": "stream",
     "text": [
      "twitter2\n",
      "screenshots//DanCrenshawTX-twitter.png\n"
     ]
    },
    {
     "name": "stderr",
     "output_type": "stream",
     "text": [
      "\n",
      "\n",
      "====== WebDriver manager ======\n",
      "Current google-chrome version is 98.0.4758\n",
      "Get LATEST chromedriver version for 98.0.4758 google-chrome\n",
      "Driver [/Users/sm/.wdm/drivers/chromedriver/mac64/98.0.4758.102/chromedriver] found in cache\n"
     ]
    },
    {
     "name": "stdout",
     "output_type": "stream",
     "text": [
      "instagram1\n",
      "screenshots//dancrenshawtx-instagram.png\n"
     ]
    },
    {
     "name": "stderr",
     "output_type": "stream",
     "text": [
      "\n",
      "\n",
      "====== WebDriver manager ======\n",
      "Current google-chrome version is 98.0.4758\n",
      "Get LATEST chromedriver version for 98.0.4758 google-chrome\n",
      "Driver [/Users/sm/.wdm/drivers/chromedriver/mac64/98.0.4758.102/chromedriver] found in cache\n",
      "\n",
      "\n",
      "====== WebDriver manager ======\n",
      "Current google-chrome version is 98.0.4758\n",
      "Get LATEST chromedriver version for 98.0.4758 google-chrome\n",
      "Driver [/Users/sm/.wdm/drivers/chromedriver/mac64/98.0.4758.102/chromedriver] found in cache\n"
     ]
    },
    {
     "name": "stdout",
     "output_type": "stream",
     "text": [
      "youtube\n",
      "facebook2\n",
      "screenshots//daniel.crenshaw.50-facebook.png\n"
     ]
    },
    {
     "name": "stderr",
     "output_type": "stream",
     "text": [
      "\n",
      "\n",
      "====== WebDriver manager ======\n",
      "Current google-chrome version is 98.0.4758\n",
      "Get LATEST chromedriver version for 98.0.4758 google-chrome\n",
      "Driver [/Users/sm/.wdm/drivers/chromedriver/mac64/98.0.4758.102/chromedriver] found in cache\n",
      "\n",
      "\n",
      "====== WebDriver manager ======\n",
      "Current google-chrome version is 98.0.4758\n",
      "Get LATEST chromedriver version for 98.0.4758 google-chrome\n",
      "Driver [/Users/sm/.wdm/drivers/chromedriver/mac64/98.0.4758.102/chromedriver] found in cache\n"
     ]
    },
    {
     "name": "stdout",
     "output_type": "stream",
     "text": [
      "candidate-Jameson Ellis\n",
      "c\n",
      "screenshots//jamesonellis-site.png\n"
     ]
    },
    {
     "name": "stderr",
     "output_type": "stream",
     "text": [
      "\n",
      "\n",
      "====== WebDriver manager ======\n",
      "Current google-chrome version is 98.0.4758\n",
      "Get LATEST chromedriver version for 98.0.4758 google-chrome\n",
      "Driver [/Users/sm/.wdm/drivers/chromedriver/mac64/98.0.4758.102/chromedriver] found in cache\n"
     ]
    },
    {
     "name": "stdout",
     "output_type": "stream",
     "text": [
      "facebook2\n",
      "screenshots//thejamesonellis-facebook.png\n"
     ]
    },
    {
     "name": "stderr",
     "output_type": "stream",
     "text": [
      "\n",
      "\n",
      "====== WebDriver manager ======\n",
      "Current google-chrome version is 98.0.4758\n",
      "Get LATEST chromedriver version for 98.0.4758 google-chrome\n",
      "Driver [/Users/sm/.wdm/drivers/chromedriver/mac64/98.0.4758.102/chromedriver] found in cache\n"
     ]
    },
    {
     "name": "stdout",
     "output_type": "stream",
     "text": [
      "twitter2\n",
      "screenshots//thejamesonellis-twitter.png\n"
     ]
    },
    {
     "name": "stderr",
     "output_type": "stream",
     "text": [
      "\n",
      "\n",
      "====== WebDriver manager ======\n",
      "Current google-chrome version is 98.0.4758\n",
      "Get LATEST chromedriver version for 98.0.4758 google-chrome\n",
      "Driver [/Users/sm/.wdm/drivers/chromedriver/mac64/98.0.4758.102/chromedriver] found in cache\n"
     ]
    },
    {
     "name": "stdout",
     "output_type": "stream",
     "text": [
      "instagram1\n",
      "screenshots//thejamesonellis-instagram.png\n"
     ]
    },
    {
     "name": "stderr",
     "output_type": "stream",
     "text": [
      "\n",
      "\n",
      "====== WebDriver manager ======\n",
      "Current google-chrome version is 98.0.4758\n",
      "Get LATEST chromedriver version for 98.0.4758 google-chrome\n",
      "Driver [/Users/sm/.wdm/drivers/chromedriver/mac64/98.0.4758.102/chromedriver] found in cache\n",
      "\n",
      "\n",
      "====== WebDriver manager ======\n",
      "Current google-chrome version is 98.0.4758\n",
      "Get LATEST chromedriver version for 98.0.4758 google-chrome\n"
     ]
    },
    {
     "name": "stdout",
     "output_type": "stream",
     "text": [
      "youtube\n"
     ]
    },
    {
     "name": "stderr",
     "output_type": "stream",
     "text": [
      "Driver [/Users/sm/.wdm/drivers/chromedriver/mac64/98.0.4758.102/chromedriver] found in cache\n"
     ]
    },
    {
     "name": "stdout",
     "output_type": "stream",
     "text": [
      "facebook2\n",
      "screenshots//jamesonellistx-facebook.png\n"
     ]
    },
    {
     "name": "stderr",
     "output_type": "stream",
     "text": [
      "\n",
      "\n",
      "====== WebDriver manager ======\n",
      "Current google-chrome version is 98.0.4758\n",
      "Get LATEST chromedriver version for 98.0.4758 google-chrome\n",
      "Driver [/Users/sm/.wdm/drivers/chromedriver/mac64/98.0.4758.102/chromedriver] found in cache\n",
      "\n",
      "\n",
      "====== WebDriver manager ======\n",
      "Current google-chrome version is 98.0.4758\n",
      "Get LATEST chromedriver version for 98.0.4758 google-chrome\n",
      "Driver [/Users/sm/.wdm/drivers/chromedriver/mac64/98.0.4758.102/chromedriver] found in cache\n"
     ]
    },
    {
     "name": "stdout",
     "output_type": "stream",
     "text": [
      "candidate-Martin Etwop\n",
      "b\n",
      "www.martinetwop.com\n",
      "screenshots//www.martinetwop.com-site.png\n"
     ]
    },
    {
     "name": "stderr",
     "output_type": "stream",
     "text": [
      "\n",
      "\n",
      "====== WebDriver manager ======\n",
      "Current google-chrome version is 98.0.4758\n",
      "Get LATEST chromedriver version for 98.0.4758 google-chrome\n",
      "Driver [/Users/sm/.wdm/drivers/chromedriver/mac64/98.0.4758.102/chromedriver] found in cache\n"
     ]
    },
    {
     "name": "stdout",
     "output_type": "stream",
     "text": [
      "facebook2\n",
      "screenshots//MartinEtwopForCongress-facebook.png\n"
     ]
    },
    {
     "name": "stderr",
     "output_type": "stream",
     "text": [
      "\n",
      "\n",
      "====== WebDriver manager ======\n",
      "Current google-chrome version is 98.0.4758\n",
      "Get LATEST chromedriver version for 98.0.4758 google-chrome\n",
      "Driver [/Users/sm/.wdm/drivers/chromedriver/mac64/98.0.4758.102/chromedriver] found in cache\n"
     ]
    },
    {
     "name": "stdout",
     "output_type": "stream",
     "text": [
      "facebook2\n",
      "screenshots//metwop-facebook.png\n"
     ]
    },
    {
     "name": "stderr",
     "output_type": "stream",
     "text": [
      "\n",
      "\n",
      "====== WebDriver manager ======\n",
      "Current google-chrome version is 98.0.4758\n",
      "Get LATEST chromedriver version for 98.0.4758 google-chrome\n",
      "Driver [/Users/sm/.wdm/drivers/chromedriver/mac64/98.0.4758.102/chromedriver] found in cache\n",
      "\n",
      "\n",
      "====== WebDriver manager ======\n",
      "Current google-chrome version is 98.0.4758\n",
      "Get LATEST chromedriver version for 98.0.4758 google-chrome\n",
      "Driver [/Users/sm/.wdm/drivers/chromedriver/mac64/98.0.4758.102/chromedriver] found in cache\n"
     ]
    },
    {
     "name": "stdout",
     "output_type": "stream",
     "text": [
      "linkedin\n"
     ]
    },
    {
     "name": "stderr",
     "output_type": "stream",
     "text": [
      "\n",
      "\n",
      "====== WebDriver manager ======\n",
      "Current google-chrome version is 98.0.4758\n",
      "Get LATEST chromedriver version for 98.0.4758 google-chrome\n",
      "Driver [/Users/sm/.wdm/drivers/chromedriver/mac64/98.0.4758.102/chromedriver] found in cache\n"
     ]
    },
    {
     "name": "stdout",
     "output_type": "stream",
     "text": [
      "candidate-Milam Langella\n",
      "b\n",
      "www.milam4congress.com\n",
      "screenshots//www.milam4congress.com-site.png\n"
     ]
    },
    {
     "name": "stderr",
     "output_type": "stream",
     "text": [
      "\n",
      "\n",
      "====== WebDriver manager ======\n",
      "Current google-chrome version is 98.0.4758\n",
      "Get LATEST chromedriver version for 98.0.4758 google-chrome\n",
      "Driver [/Users/sm/.wdm/drivers/chromedriver/mac64/98.0.4758.102/chromedriver] found in cache\n"
     ]
    },
    {
     "name": "stdout",
     "output_type": "stream",
     "text": [
      "twitter2\n",
      "screenshots//Milam2022-twitter.png\n"
     ]
    },
    {
     "name": "stderr",
     "output_type": "stream",
     "text": [
      "\n",
      "\n",
      "====== WebDriver manager ======\n",
      "Current google-chrome version is 98.0.4758\n",
      "Get LATEST chromedriver version for 98.0.4758 google-chrome\n",
      "Driver [/Users/sm/.wdm/drivers/chromedriver/mac64/98.0.4758.102/chromedriver] found in cache\n",
      "\n",
      "\n",
      "====== WebDriver manager ======\n",
      "Current google-chrome version is 98.0.4758\n",
      "Get LATEST chromedriver version for 98.0.4758 google-chrome\n",
      "Driver [/Users/sm/.wdm/drivers/chromedriver/mac64/98.0.4758.102/chromedriver] found in cache\n"
     ]
    },
    {
     "name": "stdout",
     "output_type": "stream",
     "text": [
      "candidate-Mike Billand\n",
      "facebook1\n",
      "screenshots//MikeBillandforTX-facebook.png\n"
     ]
    },
    {
     "name": "stderr",
     "output_type": "stream",
     "text": [
      "\n",
      "\n",
      "====== WebDriver manager ======\n",
      "Current google-chrome version is 98.0.4758\n",
      "Get LATEST chromedriver version for 98.0.4758 google-chrome\n",
      "Driver [/Users/sm/.wdm/drivers/chromedriver/mac64/98.0.4758.102/chromedriver] found in cache\n"
     ]
    },
    {
     "name": "stdout",
     "output_type": "stream",
     "text": [
      "twitter2\n",
      "screenshots//billand_mike-twitter.png\n"
     ]
    },
    {
     "name": "stderr",
     "output_type": "stream",
     "text": [
      "\n",
      "\n",
      "====== WebDriver manager ======\n",
      "Current google-chrome version is 98.0.4758\n",
      "Get LATEST chromedriver version for 98.0.4758 google-chrome\n",
      "Driver [/Users/sm/.wdm/drivers/chromedriver/mac64/98.0.4758.102/chromedriver] found in cache\n",
      "\n",
      "\n",
      "====== WebDriver manager ======\n",
      "Current google-chrome version is 98.0.4758\n",
      "Get LATEST chromedriver version for 98.0.4758 google-chrome\n",
      "Driver [/Users/sm/.wdm/drivers/chromedriver/mac64/98.0.4758.102/chromedriver] found in cache\n"
     ]
    },
    {
     "name": "stdout",
     "output_type": "stream",
     "text": [
      "candidate-Lucia Rodriguez\n"
     ]
    },
    {
     "name": "stderr",
     "output_type": "stream",
     "text": [
      "\n",
      "\n",
      "====== WebDriver manager ======\n",
      "Current google-chrome version is 98.0.4758\n",
      "Get LATEST chromedriver version for 98.0.4758 google-chrome\n",
      "Driver [/Users/sm/.wdm/drivers/chromedriver/mac64/98.0.4758.102/chromedriver] found in cache\n"
     ]
    },
    {
     "name": "stdout",
     "output_type": "stream",
     "text": [
      "candidate-Doc Shelby\n",
      "a\n",
      "www.docshelby.com/\n",
      "screenshots//www.docshelby-site.png\n"
     ]
    },
    {
     "name": "stderr",
     "output_type": "stream",
     "text": [
      "\n",
      "\n",
      "====== WebDriver manager ======\n",
      "Current google-chrome version is 98.0.4758\n",
      "Get LATEST chromedriver version for 98.0.4758 google-chrome\n",
      "Driver [/Users/sm/.wdm/drivers/chromedriver/mac64/98.0.4758.102/chromedriver] found in cache\n"
     ]
    },
    {
     "name": "stdout",
     "output_type": "stream",
     "text": [
      "facebook1\n",
      "screenshots//docshelby2022-facebook.png\n"
     ]
    },
    {
     "name": "stderr",
     "output_type": "stream",
     "text": [
      "\n",
      "\n",
      "====== WebDriver manager ======\n",
      "Current google-chrome version is 98.0.4758\n",
      "Get LATEST chromedriver version for 98.0.4758 google-chrome\n",
      "Driver [/Users/sm/.wdm/drivers/chromedriver/mac64/98.0.4758.102/chromedriver] found in cache\n"
     ]
    },
    {
     "name": "stdout",
     "output_type": "stream",
     "text": [
      "twitter2\n",
      "screenshots//docshelby2022-twitter.png\n"
     ]
    },
    {
     "name": "stderr",
     "output_type": "stream",
     "text": [
      "\n",
      "\n",
      "====== WebDriver manager ======\n",
      "Current google-chrome version is 98.0.4758\n",
      "Get LATEST chromedriver version for 98.0.4758 google-chrome\n",
      "Driver [/Users/sm/.wdm/drivers/chromedriver/mac64/98.0.4758.102/chromedriver] found in cache\n"
     ]
    },
    {
     "name": "stdout",
     "output_type": "stream",
     "text": [
      "instagram1\n",
      "screenshots//docshelby2022-instagram.png\n"
     ]
    },
    {
     "name": "stderr",
     "output_type": "stream",
     "text": [
      "\n",
      "\n",
      "====== WebDriver manager ======\n",
      "Current google-chrome version is 98.0.4758\n",
      "Get LATEST chromedriver version for 98.0.4758 google-chrome\n",
      "Driver [/Users/sm/.wdm/drivers/chromedriver/mac64/98.0.4758.102/chromedriver] found in cache\n"
     ]
    },
    {
     "name": "stdout",
     "output_type": "stream",
     "text": [
      "facebook2\n",
      "screenshots//Shelby.Exploratory.23-facebook.png\n"
     ]
    },
    {
     "name": "stderr",
     "output_type": "stream",
     "text": [
      "\n",
      "\n",
      "====== WebDriver manager ======\n",
      "Current google-chrome version is 98.0.4758\n",
      "Get LATEST chromedriver version for 98.0.4758 google-chrome\n",
      "Driver [/Users/sm/.wdm/drivers/chromedriver/mac64/98.0.4758.102/chromedriver] found in cache\n",
      "\n",
      "\n",
      "====== WebDriver manager ======\n",
      "Current google-chrome version is 98.0.4758\n",
      "Get LATEST chromedriver version for 98.0.4758 google-chrome\n",
      "Driver [/Users/sm/.wdm/drivers/chromedriver/mac64/98.0.4758.102/chromedriver] found in cache\n"
     ]
    },
    {
     "name": "stdout",
     "output_type": "stream",
     "text": [
      "candidate-Sandeep Srivastava\n",
      "c\n",
      "screenshots//sandeepfortexas-site.png\n"
     ]
    },
    {
     "name": "stderr",
     "output_type": "stream",
     "text": [
      "\n",
      "\n",
      "====== WebDriver manager ======\n",
      "Current google-chrome version is 98.0.4758\n",
      "Get LATEST chromedriver version for 98.0.4758 google-chrome\n",
      "Driver [/Users/sm/.wdm/drivers/chromedriver/mac64/98.0.4758.102/chromedriver] found in cache\n"
     ]
    },
    {
     "name": "stdout",
     "output_type": "stream",
     "text": [
      "facebook1\n",
      "screenshots//sandeepfortexas-facebook.png\n"
     ]
    },
    {
     "name": "stderr",
     "output_type": "stream",
     "text": [
      "\n",
      "\n",
      "====== WebDriver manager ======\n",
      "Current google-chrome version is 98.0.4758\n",
      "Get LATEST chromedriver version for 98.0.4758 google-chrome\n",
      "Driver [/Users/sm/.wdm/drivers/chromedriver/mac64/98.0.4758.102/chromedriver] found in cache\n"
     ]
    },
    {
     "name": "stdout",
     "output_type": "stream",
     "text": [
      "twitter2\n",
      "screenshots//sandeepfortexas-twitter.png\n"
     ]
    },
    {
     "name": "stderr",
     "output_type": "stream",
     "text": [
      "\n",
      "\n",
      "====== WebDriver manager ======\n",
      "Current google-chrome version is 98.0.4758\n",
      "Get LATEST chromedriver version for 98.0.4758 google-chrome\n",
      "Driver [/Users/sm/.wdm/drivers/chromedriver/mac64/98.0.4758.102/chromedriver] found in cache\n"
     ]
    },
    {
     "name": "stdout",
     "output_type": "stream",
     "text": [
      "facebook2\n",
      "screenshots//sandeep.srivastava.18-facebook.png\n"
     ]
    },
    {
     "name": "stderr",
     "output_type": "stream",
     "text": [
      "\n",
      "\n",
      "====== WebDriver manager ======\n",
      "Current google-chrome version is 98.0.4758\n",
      "Get LATEST chromedriver version for 98.0.4758 google-chrome\n",
      "Driver [/Users/sm/.wdm/drivers/chromedriver/mac64/98.0.4758.102/chromedriver] found in cache\n",
      "\n",
      "\n",
      "====== WebDriver manager ======\n",
      "Current google-chrome version is 98.0.4758\n",
      "Get LATEST chromedriver version for 98.0.4758 google-chrome\n"
     ]
    },
    {
     "name": "stdout",
     "output_type": "stream",
     "text": [
      "linkedin\n"
     ]
    },
    {
     "name": "stderr",
     "output_type": "stream",
     "text": [
      "Driver [/Users/sm/.wdm/drivers/chromedriver/mac64/98.0.4758.102/chromedriver] found in cache\n",
      "\n",
      "\n",
      "====== WebDriver manager ======\n",
      "Current google-chrome version is 98.0.4758\n",
      "Get LATEST chromedriver version for 98.0.4758 google-chrome\n",
      "Driver [/Users/sm/.wdm/drivers/chromedriver/mac64/98.0.4758.102/chromedriver] found in cache\n"
     ]
    },
    {
     "name": "stdout",
     "output_type": "stream",
     "text": [
      "candidate-Van Taylor\n"
     ]
    },
    {
     "name": "stderr",
     "output_type": "stream",
     "text": [
      "\n",
      "\n",
      "====== WebDriver manager ======\n",
      "Current google-chrome version is 98.0.4758\n",
      "Get LATEST chromedriver version for 98.0.4758 google-chrome\n",
      "Driver [/Users/sm/.wdm/drivers/chromedriver/mac64/98.0.4758.102/chromedriver] found in cache\n"
     ]
    },
    {
     "name": "stdout",
     "output_type": "stream",
     "text": [
      "d\n",
      "facebook2\n",
      "screenshots//RepVanTaylor-facebook.png\n"
     ]
    },
    {
     "name": "stderr",
     "output_type": "stream",
     "text": [
      "\n",
      "\n",
      "====== WebDriver manager ======\n",
      "Current google-chrome version is 98.0.4758\n",
      "Get LATEST chromedriver version for 98.0.4758 google-chrome\n",
      "Driver [/Users/sm/.wdm/drivers/chromedriver/mac64/98.0.4758.102/chromedriver] found in cache\n"
     ]
    },
    {
     "name": "stdout",
     "output_type": "stream",
     "text": [
      "twitter2\n",
      "screenshots//RepVanTaylor-twitter.png\n"
     ]
    },
    {
     "name": "stderr",
     "output_type": "stream",
     "text": [
      "\n",
      "\n",
      "====== WebDriver manager ======\n",
      "Current google-chrome version is 98.0.4758\n",
      "Get LATEST chromedriver version for 98.0.4758 google-chrome\n",
      "Driver [/Users/sm/.wdm/drivers/chromedriver/mac64/98.0.4758.102/chromedriver] found in cache\n"
     ]
    },
    {
     "name": "stdout",
     "output_type": "stream",
     "text": [
      "instagram1\n",
      "screenshots//repvantaylor-instagram.png\n"
     ]
    },
    {
     "name": "stderr",
     "output_type": "stream",
     "text": [
      "\n",
      "\n",
      "====== WebDriver manager ======\n",
      "Current google-chrome version is 98.0.4758\n",
      "Get LATEST chromedriver version for 98.0.4758 google-chrome\n",
      "Driver [/Users/sm/.wdm/drivers/chromedriver/mac64/98.0.4758.102/chromedriver] found in cache\n",
      "\n",
      "\n",
      "====== WebDriver manager ======\n",
      "Current google-chrome version is 98.0.4758\n",
      "Get LATEST chromedriver version for 98.0.4758 google-chrome\n",
      "Driver [/Users/sm/.wdm/drivers/chromedriver/mac64/98.0.4758.102/chromedriver] found in cache\n"
     ]
    },
    {
     "name": "stdout",
     "output_type": "stream",
     "text": [
      "youtube\n",
      "a\n",
      "www.vantaylor.com/\n",
      "screenshots//www.vantaylor-site.png\n"
     ]
    },
    {
     "name": "stderr",
     "output_type": "stream",
     "text": [
      "\n",
      "\n",
      "====== WebDriver manager ======\n",
      "Current google-chrome version is 98.0.4758\n",
      "Get LATEST chromedriver version for 98.0.4758 google-chrome\n",
      "Driver [/Users/sm/.wdm/drivers/chromedriver/mac64/98.0.4758.102/chromedriver] found in cache\n"
     ]
    },
    {
     "name": "stdout",
     "output_type": "stream",
     "text": [
      "facebook2\n",
      "screenshots//VanForTexas-facebook.png\n"
     ]
    },
    {
     "name": "stderr",
     "output_type": "stream",
     "text": [
      "\n",
      "\n",
      "====== WebDriver manager ======\n",
      "Current google-chrome version is 98.0.4758\n",
      "Get LATEST chromedriver version for 98.0.4758 google-chrome\n",
      "Driver [/Users/sm/.wdm/drivers/chromedriver/mac64/98.0.4758.102/chromedriver] found in cache\n"
     ]
    },
    {
     "name": "stdout",
     "output_type": "stream",
     "text": [
      "twitter2\n",
      "screenshots//VanTaylorTX-twitter.png\n"
     ]
    },
    {
     "name": "stderr",
     "output_type": "stream",
     "text": [
      "\n",
      "\n",
      "====== WebDriver manager ======\n",
      "Current google-chrome version is 98.0.4758\n",
      "Get LATEST chromedriver version for 98.0.4758 google-chrome\n",
      "Driver [/Users/sm/.wdm/drivers/chromedriver/mac64/98.0.4758.102/chromedriver] found in cache\n"
     ]
    },
    {
     "name": "stdout",
     "output_type": "stream",
     "text": [
      "instagram1\n",
      "screenshots//vantaylortx-instagram.png\n"
     ]
    },
    {
     "name": "stderr",
     "output_type": "stream",
     "text": [
      "\n",
      "\n",
      "====== WebDriver manager ======\n",
      "Current google-chrome version is 98.0.4758\n",
      "Get LATEST chromedriver version for 98.0.4758 google-chrome\n",
      "Driver [/Users/sm/.wdm/drivers/chromedriver/mac64/98.0.4758.102/chromedriver] found in cache\n",
      "\n",
      "\n",
      "====== WebDriver manager ======\n",
      "Current google-chrome version is 98.0.4758\n",
      "Get LATEST chromedriver version for 98.0.4758 google-chrome\n",
      "Driver [/Users/sm/.wdm/drivers/chromedriver/mac64/98.0.4758.102/chromedriver] found in cache\n"
     ]
    },
    {
     "name": "stdout",
     "output_type": "stream",
     "text": [
      "linkedin\n"
     ]
    },
    {
     "name": "stderr",
     "output_type": "stream",
     "text": [
      "\n",
      "\n",
      "====== WebDriver manager ======\n",
      "Current google-chrome version is 98.0.4758\n",
      "Get LATEST chromedriver version for 98.0.4758 google-chrome\n"
     ]
    },
    {
     "name": "stdout",
     "output_type": "stream",
     "text": [
      "candidate-Suzanne Cassimatis Harp\n"
     ]
    },
    {
     "name": "stderr",
     "output_type": "stream",
     "text": [
      "Driver [/Users/sm/.wdm/drivers/chromedriver/mac64/98.0.4758.102/chromedriver] found in cache\n"
     ]
    },
    {
     "name": "stdout",
     "output_type": "stream",
     "text": [
      "b\n",
      "www.suzanneforcongress.com\n",
      "screenshots//www.suzanneforcongress.com-site.png\n"
     ]
    },
    {
     "name": "stderr",
     "output_type": "stream",
     "text": [
      "\n",
      "\n",
      "====== WebDriver manager ======\n",
      "Current google-chrome version is 98.0.4758\n",
      "Get LATEST chromedriver version for 98.0.4758 google-chrome\n",
      "Driver [/Users/sm/.wdm/drivers/chromedriver/mac64/98.0.4758.102/chromedriver] found in cache\n"
     ]
    },
    {
     "name": "stdout",
     "output_type": "stream",
     "text": [
      "facebook2\n",
      "screenshots//RealSuzanneHarp-facebook.png\n"
     ]
    },
    {
     "name": "stderr",
     "output_type": "stream",
     "text": [
      "\n",
      "\n",
      "====== WebDriver manager ======\n",
      "Current google-chrome version is 98.0.4758\n",
      "Get LATEST chromedriver version for 98.0.4758 google-chrome\n",
      "Driver [/Users/sm/.wdm/drivers/chromedriver/mac64/98.0.4758.102/chromedriver] found in cache\n"
     ]
    },
    {
     "name": "stdout",
     "output_type": "stream",
     "text": [
      "twitter2\n",
      "screenshots//RealSuzanneHarp-twitter.png\n"
     ]
    },
    {
     "name": "stderr",
     "output_type": "stream",
     "text": [
      "\n",
      "\n",
      "====== WebDriver manager ======\n",
      "Current google-chrome version is 98.0.4758\n",
      "Get LATEST chromedriver version for 98.0.4758 google-chrome\n",
      "Driver [/Users/sm/.wdm/drivers/chromedriver/mac64/98.0.4758.102/chromedriver] found in cache\n"
     ]
    },
    {
     "name": "stdout",
     "output_type": "stream",
     "text": [
      "instagram1\n",
      "screenshots//realsuzanneharp-instagram.png\n"
     ]
    },
    {
     "name": "stderr",
     "output_type": "stream",
     "text": [
      "\n",
      "\n",
      "====== WebDriver manager ======\n",
      "Current google-chrome version is 98.0.4758\n",
      "Get LATEST chromedriver version for 98.0.4758 google-chrome\n",
      "Driver [/Users/sm/.wdm/drivers/chromedriver/mac64/98.0.4758.102/chromedriver] found in cache\n"
     ]
    },
    {
     "name": "stdout",
     "output_type": "stream",
     "text": [
      "facebook2\n",
      "screenshots//suzanne.c.harp-facebook.png\n"
     ]
    },
    {
     "name": "stderr",
     "output_type": "stream",
     "text": [
      "\n",
      "\n",
      "====== WebDriver manager ======\n",
      "Current google-chrome version is 98.0.4758\n",
      "Get LATEST chromedriver version for 98.0.4758 google-chrome\n",
      "Driver [/Users/sm/.wdm/drivers/chromedriver/mac64/98.0.4758.102/chromedriver] found in cache\n",
      "\n",
      "\n",
      "====== WebDriver manager ======\n",
      "Current google-chrome version is 98.0.4758\n",
      "Get LATEST chromedriver version for 98.0.4758 google-chrome\n",
      "Driver [/Users/sm/.wdm/drivers/chromedriver/mac64/98.0.4758.102/chromedriver] found in cache\n"
     ]
    },
    {
     "name": "stdout",
     "output_type": "stream",
     "text": [
      "linkedin\n"
     ]
    },
    {
     "name": "stderr",
     "output_type": "stream",
     "text": [
      "\n",
      "\n",
      "====== WebDriver manager ======\n",
      "Current google-chrome version is 98.0.4758\n",
      "Get LATEST chromedriver version for 98.0.4758 google-chrome\n",
      "Driver [/Users/sm/.wdm/drivers/chromedriver/mac64/98.0.4758.102/chromedriver] found in cache\n"
     ]
    },
    {
     "name": "stdout",
     "output_type": "stream",
     "text": [
      "candidate-Jeremy Ivanovskis\n",
      "c\n",
      "screenshots//ivanovskisforuscongress-site.png\n"
     ]
    },
    {
     "name": "stderr",
     "output_type": "stream",
     "text": [
      "\n",
      "\n",
      "====== WebDriver manager ======\n",
      "Current google-chrome version is 98.0.4758\n",
      "Get LATEST chromedriver version for 98.0.4758 google-chrome\n",
      "Driver [/Users/sm/.wdm/drivers/chromedriver/mac64/98.0.4758.102/chromedriver] found in cache\n"
     ]
    },
    {
     "name": "stdout",
     "output_type": "stream",
     "text": [
      "facebook2\n",
      "screenshots//profile.php?id=100077292336330-facebook.png\n"
     ]
    },
    {
     "name": "stderr",
     "output_type": "stream",
     "text": [
      "\n",
      "\n",
      "====== WebDriver manager ======\n",
      "Current google-chrome version is 98.0.4758\n",
      "Get LATEST chromedriver version for 98.0.4758 google-chrome\n",
      "Driver [/Users/sm/.wdm/drivers/chromedriver/mac64/98.0.4758.102/chromedriver] found in cache\n",
      "\n",
      "\n",
      "====== WebDriver manager ======\n",
      "Current google-chrome version is 98.0.4758\n",
      "Get LATEST chromedriver version for 98.0.4758 google-chrome\n",
      "Driver [/Users/sm/.wdm/drivers/chromedriver/mac64/98.0.4758.102/chromedriver] found in cache\n"
     ]
    },
    {
     "name": "stdout",
     "output_type": "stream",
     "text": [
      "candidate-Keith Self\n"
     ]
    },
    {
     "name": "stderr",
     "output_type": "stream",
     "text": [
      "\n",
      "\n",
      "====== WebDriver manager ======\n",
      "Current google-chrome version is 98.0.4758\n",
      "Get LATEST chromedriver version for 98.0.4758 google-chrome\n",
      "Driver [/Users/sm/.wdm/drivers/chromedriver/mac64/98.0.4758.102/chromedriver] found in cache\n"
     ]
    },
    {
     "name": "stdout",
     "output_type": "stream",
     "text": [
      "mistake\n",
      "c\n",
      "screenshots//keithself-site.png\n"
     ]
    },
    {
     "name": "stderr",
     "output_type": "stream",
     "text": [
      "\n",
      "\n",
      "====== WebDriver manager ======\n",
      "Current google-chrome version is 98.0.4758\n",
      "Get LATEST chromedriver version for 98.0.4758 google-chrome\n",
      "Driver [/Users/sm/.wdm/drivers/chromedriver/mac64/98.0.4758.102/chromedriver] found in cache\n"
     ]
    },
    {
     "name": "stdout",
     "output_type": "stream",
     "text": [
      "facebook2\n",
      "screenshots//KeithSelfTX-facebook.png\n"
     ]
    },
    {
     "name": "stderr",
     "output_type": "stream",
     "text": [
      "\n",
      "\n",
      "====== WebDriver manager ======\n",
      "Current google-chrome version is 98.0.4758\n",
      "Get LATEST chromedriver version for 98.0.4758 google-chrome\n",
      "Driver [/Users/sm/.wdm/drivers/chromedriver/mac64/98.0.4758.102/chromedriver] found in cache\n"
     ]
    },
    {
     "name": "stdout",
     "output_type": "stream",
     "text": [
      "twitter2\n",
      "screenshots//selfforcongress-twitter.png\n"
     ]
    },
    {
     "name": "stderr",
     "output_type": "stream",
     "text": [
      "\n",
      "\n",
      "====== WebDriver manager ======\n",
      "Current google-chrome version is 98.0.4758\n",
      "Get LATEST chromedriver version for 98.0.4758 google-chrome\n",
      "Driver [/Users/sm/.wdm/drivers/chromedriver/mac64/98.0.4758.102/chromedriver] found in cache\n"
     ]
    },
    {
     "name": "stdout",
     "output_type": "stream",
     "text": [
      "instagram1\n",
      "screenshots//keithselfforcongress_-instagram.png\n"
     ]
    },
    {
     "name": "stderr",
     "output_type": "stream",
     "text": [
      "\n",
      "\n",
      "====== WebDriver manager ======\n",
      "Current google-chrome version is 98.0.4758\n",
      "Get LATEST chromedriver version for 98.0.4758 google-chrome\n",
      "Driver [/Users/sm/.wdm/drivers/chromedriver/mac64/98.0.4758.102/chromedriver] found in cache\n"
     ]
    },
    {
     "name": "stdout",
     "output_type": "stream",
     "text": [
      "facebook2\n",
      "screenshots//keith.self.94-facebook.png\n"
     ]
    },
    {
     "name": "stderr",
     "output_type": "stream",
     "text": [
      "\n",
      "\n",
      "====== WebDriver manager ======\n",
      "Current google-chrome version is 98.0.4758\n",
      "Get LATEST chromedriver version for 98.0.4758 google-chrome\n",
      "Driver [/Users/sm/.wdm/drivers/chromedriver/mac64/98.0.4758.102/chromedriver] found in cache\n",
      "\n",
      "\n",
      "====== WebDriver manager ======\n",
      "Current google-chrome version is 98.0.4758\n",
      "Get LATEST chromedriver version for 98.0.4758 google-chrome\n",
      "Driver [/Users/sm/.wdm/drivers/chromedriver/mac64/98.0.4758.102/chromedriver] found in cache\n"
     ]
    },
    {
     "name": "stdout",
     "output_type": "stream",
     "text": [
      "youtube\n"
     ]
    },
    {
     "name": "stderr",
     "output_type": "stream",
     "text": [
      "\n",
      "\n",
      "====== WebDriver manager ======\n",
      "Current google-chrome version is 98.0.4758\n",
      "Get LATEST chromedriver version for 98.0.4758 google-chrome\n",
      "Driver [/Users/sm/.wdm/drivers/chromedriver/mac64/98.0.4758.102/chromedriver] found in cache\n"
     ]
    },
    {
     "name": "stdout",
     "output_type": "stream",
     "text": [
      "linkedin\n"
     ]
    },
    {
     "name": "stderr",
     "output_type": "stream",
     "text": [
      "\n",
      "\n",
      "====== WebDriver manager ======\n",
      "Current google-chrome version is 98.0.4758\n",
      "Get LATEST chromedriver version for 98.0.4758 google-chrome\n",
      "Driver [/Users/sm/.wdm/drivers/chromedriver/mac64/98.0.4758.102/chromedriver] found in cache\n"
     ]
    },
    {
     "name": "stdout",
     "output_type": "stream",
     "text": [
      "candidate-Rickey Williams\n",
      "a\n",
      "www.rickey4congress.com/\n",
      "screenshots//www.rickey4congress-site.png\n"
     ]
    },
    {
     "name": "stderr",
     "output_type": "stream",
     "text": [
      "\n",
      "\n",
      "====== WebDriver manager ======\n",
      "Current google-chrome version is 98.0.4758\n",
      "Get LATEST chromedriver version for 98.0.4758 google-chrome\n",
      "Driver [/Users/sm/.wdm/drivers/chromedriver/mac64/98.0.4758.102/chromedriver] found in cache\n"
     ]
    },
    {
     "name": "stdout",
     "output_type": "stream",
     "text": [
      "facebook2\n",
      "screenshots//rickey4congress-facebook.png\n"
     ]
    },
    {
     "name": "stderr",
     "output_type": "stream",
     "text": [
      "\n",
      "\n",
      "====== WebDriver manager ======\n",
      "Current google-chrome version is 98.0.4758\n",
      "Get LATEST chromedriver version for 98.0.4758 google-chrome\n",
      "Driver [/Users/sm/.wdm/drivers/chromedriver/mac64/98.0.4758.102/chromedriver] found in cache\n"
     ]
    },
    {
     "name": "stdout",
     "output_type": "stream",
     "text": [
      "twitter2\n",
      "screenshots//rickey4congress-twitter.png\n"
     ]
    },
    {
     "name": "stderr",
     "output_type": "stream",
     "text": [
      "\n",
      "\n",
      "====== WebDriver manager ======\n",
      "Current google-chrome version is 98.0.4758\n",
      "Get LATEST chromedriver version for 98.0.4758 google-chrome\n",
      "Driver [/Users/sm/.wdm/drivers/chromedriver/mac64/98.0.4758.102/chromedriver] found in cache\n"
     ]
    },
    {
     "name": "stdout",
     "output_type": "stream",
     "text": [
      "instagram1\n",
      "screenshots//rickey4congress-instagram.png\n"
     ]
    },
    {
     "name": "stderr",
     "output_type": "stream",
     "text": [
      "\n",
      "\n",
      "====== WebDriver manager ======\n",
      "Current google-chrome version is 98.0.4758\n",
      "Get LATEST chromedriver version for 98.0.4758 google-chrome\n",
      "Driver [/Users/sm/.wdm/drivers/chromedriver/mac64/98.0.4758.102/chromedriver] found in cache\n",
      "\n",
      "\n",
      "====== WebDriver manager ======\n",
      "Current google-chrome version is 98.0.4758\n",
      "Get LATEST chromedriver version for 98.0.4758 google-chrome\n",
      "Driver [/Users/sm/.wdm/drivers/chromedriver/mac64/98.0.4758.102/chromedriver] found in cache\n"
     ]
    },
    {
     "name": "stdout",
     "output_type": "stream",
     "text": [
      "candidate-Christopher Claytor\n",
      "facebook2\n",
      "screenshots//christopher.claytor-facebook.png\n"
     ]
    },
    {
     "name": "stderr",
     "output_type": "stream",
     "text": [
      "\n",
      "\n",
      "====== WebDriver manager ======\n",
      "Current google-chrome version is 98.0.4758\n",
      "Get LATEST chromedriver version for 98.0.4758 google-chrome\n",
      "Driver [/Users/sm/.wdm/drivers/chromedriver/mac64/98.0.4758.102/chromedriver] found in cache\n",
      "\n",
      "\n",
      "====== WebDriver manager ======\n",
      "Current google-chrome version is 98.0.4758\n",
      "Get LATEST chromedriver version for 98.0.4758 google-chrome\n",
      "Driver [/Users/sm/.wdm/drivers/chromedriver/mac64/98.0.4758.102/chromedriver] found in cache\n"
     ]
    },
    {
     "name": "stdout",
     "output_type": "stream",
     "text": [
      "linkedin\n"
     ]
    },
    {
     "name": "stderr",
     "output_type": "stream",
     "text": [
      "\n",
      "\n",
      "====== WebDriver manager ======\n",
      "Current google-chrome version is 98.0.4758\n",
      "Get LATEST chromedriver version for 98.0.4758 google-chrome\n",
      "Driver [/Users/sm/.wdm/drivers/chromedriver/mac64/98.0.4758.102/chromedriver] found in cache\n"
     ]
    },
    {
     "name": "stdout",
     "output_type": "stream",
     "text": [
      "candidate-Iroghama Omere\n",
      "a\n",
      "www.omereforcongress.com/\n",
      "screenshots//www.omereforcongress-site.png\n"
     ]
    },
    {
     "name": "stderr",
     "output_type": "stream",
     "text": [
      "\n",
      "\n",
      "====== WebDriver manager ======\n",
      "Current google-chrome version is 98.0.4758\n",
      "Get LATEST chromedriver version for 98.0.4758 google-chrome\n",
      "Driver [/Users/sm/.wdm/drivers/chromedriver/mac64/98.0.4758.102/chromedriver] found in cache\n"
     ]
    },
    {
     "name": "stdout",
     "output_type": "stream",
     "text": [
      "twitter2\n",
      "screenshots//IroghamaTX-twitter.png\n"
     ]
    },
    {
     "name": "stderr",
     "output_type": "stream",
     "text": [
      "\n",
      "\n",
      "====== WebDriver manager ======\n",
      "Current google-chrome version is 98.0.4758\n",
      "Get LATEST chromedriver version for 98.0.4758 google-chrome\n",
      "Driver [/Users/sm/.wdm/drivers/chromedriver/mac64/98.0.4758.102/chromedriver] found in cache\n",
      "\n",
      "\n",
      "====== WebDriver manager ======\n",
      "Current google-chrome version is 98.0.4758\n",
      "Get LATEST chromedriver version for 98.0.4758 google-chrome\n",
      "Driver [/Users/sm/.wdm/drivers/chromedriver/mac64/98.0.4758.102/chromedriver] found in cache\n"
     ]
    },
    {
     "name": "stdout",
     "output_type": "stream",
     "text": [
      "candidate-Earl Davis\n",
      "facebook2\n",
      "screenshots//earlw.davisii.1-facebook.png\n"
     ]
    },
    {
     "name": "stderr",
     "output_type": "stream",
     "text": [
      "\n",
      "\n",
      "====== WebDriver manager ======\n",
      "Current google-chrome version is 98.0.4758\n",
      "Get LATEST chromedriver version for 98.0.4758 google-chrome\n",
      "Driver [/Users/sm/.wdm/drivers/chromedriver/mac64/98.0.4758.102/chromedriver] found in cache\n",
      "\n",
      "\n",
      "====== WebDriver manager ======\n",
      "Current google-chrome version is 98.0.4758\n",
      "Get LATEST chromedriver version for 98.0.4758 google-chrome\n",
      "Driver [/Users/sm/.wdm/drivers/chromedriver/mac64/98.0.4758.102/chromedriver] found in cache\n"
     ]
    },
    {
     "name": "stdout",
     "output_type": "stream",
     "text": [
      "candidate-Pat Fallon\n"
     ]
    },
    {
     "name": "stderr",
     "output_type": "stream",
     "text": [
      "\n",
      "\n",
      "====== WebDriver manager ======\n",
      "Current google-chrome version is 98.0.4758\n",
      "Get LATEST chromedriver version for 98.0.4758 google-chrome\n",
      "Driver [/Users/sm/.wdm/drivers/chromedriver/mac64/98.0.4758.102/chromedriver] found in cache\n"
     ]
    },
    {
     "name": "stdout",
     "output_type": "stream",
     "text": [
      "d\n",
      "facebook2\n",
      "screenshots//RepPatFallon-facebook.png\n"
     ]
    },
    {
     "name": "stderr",
     "output_type": "stream",
     "text": [
      "\n",
      "\n",
      "====== WebDriver manager ======\n",
      "Current google-chrome version is 98.0.4758\n",
      "Get LATEST chromedriver version for 98.0.4758 google-chrome\n",
      "Driver [/Users/sm/.wdm/drivers/chromedriver/mac64/98.0.4758.102/chromedriver] found in cache\n"
     ]
    },
    {
     "name": "stdout",
     "output_type": "stream",
     "text": [
      "twitter2\n",
      "screenshots//RepPatFallon-twitter.png\n"
     ]
    },
    {
     "name": "stderr",
     "output_type": "stream",
     "text": [
      "\n",
      "\n",
      "====== WebDriver manager ======\n",
      "Current google-chrome version is 98.0.4758\n",
      "Get LATEST chromedriver version for 98.0.4758 google-chrome\n",
      "Driver [/Users/sm/.wdm/drivers/chromedriver/mac64/98.0.4758.102/chromedriver] found in cache\n"
     ]
    },
    {
     "name": "stdout",
     "output_type": "stream",
     "text": [
      "instagram1\n",
      "screenshots//reppatfallon-instagram.png\n"
     ]
    },
    {
     "name": "stderr",
     "output_type": "stream",
     "text": [
      "\n",
      "\n",
      "====== WebDriver manager ======\n",
      "Current google-chrome version is 98.0.4758\n",
      "Get LATEST chromedriver version for 98.0.4758 google-chrome\n",
      "Driver [/Users/sm/.wdm/drivers/chromedriver/mac64/98.0.4758.102/chromedriver] found in cache\n",
      "\n",
      "\n",
      "====== WebDriver manager ======\n",
      "Current google-chrome version is 98.0.4758\n",
      "Get LATEST chromedriver version for 98.0.4758 google-chrome\n",
      "Driver [/Users/sm/.wdm/drivers/chromedriver/mac64/98.0.4758.102/chromedriver] found in cache\n"
     ]
    },
    {
     "name": "stdout",
     "output_type": "stream",
     "text": [
      "youtube\n",
      "a\n",
      "www.fallonforcongress.com/\n",
      "screenshots//www.fallonforcongress-site.png\n"
     ]
    },
    {
     "name": "stderr",
     "output_type": "stream",
     "text": [
      "\n",
      "\n",
      "====== WebDriver manager ======\n",
      "Current google-chrome version is 98.0.4758\n",
      "Get LATEST chromedriver version for 98.0.4758 google-chrome\n",
      "Driver [/Users/sm/.wdm/drivers/chromedriver/mac64/98.0.4758.102/chromedriver] found in cache\n"
     ]
    },
    {
     "name": "stdout",
     "output_type": "stream",
     "text": [
      "facebook2\n",
      "screenshots//fallonfortexas-facebook.png\n"
     ]
    },
    {
     "name": "stderr",
     "output_type": "stream",
     "text": [
      "\n",
      "\n",
      "====== WebDriver manager ======\n",
      "Current google-chrome version is 98.0.4758\n",
      "Get LATEST chromedriver version for 98.0.4758 google-chrome\n",
      "Driver [/Users/sm/.wdm/drivers/chromedriver/mac64/98.0.4758.102/chromedriver] found in cache\n"
     ]
    },
    {
     "name": "stdout",
     "output_type": "stream",
     "text": [
      "twitter2\n",
      "screenshots//FallonForTexas-twitter.png\n"
     ]
    },
    {
     "name": "stderr",
     "output_type": "stream",
     "text": [
      "\n",
      "\n",
      "====== WebDriver manager ======\n",
      "Current google-chrome version is 98.0.4758\n",
      "Get LATEST chromedriver version for 98.0.4758 google-chrome\n",
      "Driver [/Users/sm/.wdm/drivers/chromedriver/mac64/98.0.4758.102/chromedriver] found in cache\n",
      "\n",
      "\n",
      "====== WebDriver manager ======\n",
      "Current google-chrome version is 98.0.4758\n",
      "Get LATEST chromedriver version for 98.0.4758 google-chrome\n",
      "Driver [/Users/sm/.wdm/drivers/chromedriver/mac64/98.0.4758.102/chromedriver] found in cache\n"
     ]
    },
    {
     "name": "stdout",
     "output_type": "stream",
     "text": [
      "youtube\n",
      "facebook2\n",
      "screenshots//patrick.fallon.792-facebook.png\n"
     ]
    },
    {
     "name": "stderr",
     "output_type": "stream",
     "text": [
      "\n",
      "\n",
      "====== WebDriver manager ======\n",
      "Current google-chrome version is 98.0.4758\n",
      "Get LATEST chromedriver version for 98.0.4758 google-chrome\n",
      "Driver [/Users/sm/.wdm/drivers/chromedriver/mac64/98.0.4758.102/chromedriver] found in cache\n",
      "\n",
      "\n",
      "====== WebDriver manager ======\n",
      "Current google-chrome version is 98.0.4758\n",
      "Get LATEST chromedriver version for 98.0.4758 google-chrome\n"
     ]
    },
    {
     "name": "stdout",
     "output_type": "stream",
     "text": [
      "linkedin\n"
     ]
    },
    {
     "name": "stderr",
     "output_type": "stream",
     "text": [
      "Driver [/Users/sm/.wdm/drivers/chromedriver/mac64/98.0.4758.102/chromedriver] found in cache\n",
      "\n",
      "\n",
      "====== WebDriver manager ======\n",
      "Current google-chrome version is 98.0.4758\n",
      "Get LATEST chromedriver version for 98.0.4758 google-chrome\n",
      "Driver [/Users/sm/.wdm/drivers/chromedriver/mac64/98.0.4758.102/chromedriver] found in cache\n"
     ]
    },
    {
     "name": "stdout",
     "output_type": "stream",
     "text": [
      "candidate-John Harper\n",
      "c\n",
      "screenshots//johnharperforcongress-site.png\n"
     ]
    },
    {
     "name": "stderr",
     "output_type": "stream",
     "text": [
      "\n",
      "\n",
      "====== WebDriver manager ======\n",
      "Current google-chrome version is 98.0.4758\n",
      "Get LATEST chromedriver version for 98.0.4758 google-chrome\n",
      "Driver [/Users/sm/.wdm/drivers/chromedriver/mac64/98.0.4758.102/chromedriver] found in cache\n"
     ]
    },
    {
     "name": "stdout",
     "output_type": "stream",
     "text": [
      "facebook1\n",
      "screenshots//JohnHarperForCongress-facebook.png\n"
     ]
    },
    {
     "name": "stderr",
     "output_type": "stream",
     "text": [
      "\n",
      "\n",
      "====== WebDriver manager ======\n",
      "Current google-chrome version is 98.0.4758\n",
      "Get LATEST chromedriver version for 98.0.4758 google-chrome\n",
      "Driver [/Users/sm/.wdm/drivers/chromedriver/mac64/98.0.4758.102/chromedriver] found in cache\n",
      "\n",
      "\n",
      "====== WebDriver manager ======\n",
      "Current google-chrome version is 98.0.4758\n",
      "Get LATEST chromedriver version for 98.0.4758 google-chrome\n",
      "Driver [/Users/sm/.wdm/drivers/chromedriver/mac64/98.0.4758.102/chromedriver] found in cache\n"
     ]
    },
    {
     "name": "stdout",
     "output_type": "stream",
     "text": [
      "candidate-Dan Thomas\n",
      "a\n",
      "www.danthomasforcongress.com/\n",
      "screenshots//www.danthomasforcongress-site.png\n"
     ]
    },
    {
     "name": "stderr",
     "output_type": "stream",
     "text": [
      "\n",
      "\n",
      "====== WebDriver manager ======\n",
      "Current google-chrome version is 98.0.4758\n",
      "Get LATEST chromedriver version for 98.0.4758 google-chrome\n",
      "Driver [/Users/sm/.wdm/drivers/chromedriver/mac64/98.0.4758.102/chromedriver] found in cache\n"
     ]
    },
    {
     "name": "stdout",
     "output_type": "stream",
     "text": [
      "facebook2\n",
      "screenshots//DanNewsMan12-facebook.png\n"
     ]
    },
    {
     "name": "stderr",
     "output_type": "stream",
     "text": [
      "\n",
      "\n",
      "====== WebDriver manager ======\n",
      "Current google-chrome version is 98.0.4758\n",
      "Get LATEST chromedriver version for 98.0.4758 google-chrome\n",
      "Driver [/Users/sm/.wdm/drivers/chromedriver/mac64/98.0.4758.102/chromedriver] found in cache\n"
     ]
    },
    {
     "name": "stdout",
     "output_type": "stream",
     "text": [
      "twitter2\n",
      "screenshots//DanNewsMan-twitter.png\n"
     ]
    },
    {
     "name": "stderr",
     "output_type": "stream",
     "text": [
      "\n",
      "\n",
      "====== WebDriver manager ======\n",
      "Current google-chrome version is 98.0.4758\n",
      "Get LATEST chromedriver version for 98.0.4758 google-chrome\n",
      "Driver [/Users/sm/.wdm/drivers/chromedriver/mac64/98.0.4758.102/chromedriver] found in cache\n"
     ]
    },
    {
     "name": "stdout",
     "output_type": "stream",
     "text": [
      "instagram2\n",
      "screenshots//https://www.instagram-instagram.png\n"
     ]
    },
    {
     "name": "stderr",
     "output_type": "stream",
     "text": [
      "\n",
      "\n",
      "====== WebDriver manager ======\n",
      "Current google-chrome version is 98.0.4758\n",
      "Get LATEST chromedriver version for 98.0.4758 google-chrome\n",
      "Driver [/Users/sm/.wdm/drivers/chromedriver/mac64/98.0.4758.102/chromedriver] found in cache\n"
     ]
    },
    {
     "name": "stdout",
     "output_type": "stream",
     "text": [
      "facebook2\n",
      "screenshots//NewsmanDan-facebook.png\n"
     ]
    },
    {
     "name": "stderr",
     "output_type": "stream",
     "text": [
      "\n",
      "\n",
      "====== WebDriver manager ======\n",
      "Current google-chrome version is 98.0.4758\n",
      "Get LATEST chromedriver version for 98.0.4758 google-chrome\n",
      "Driver [/Users/sm/.wdm/drivers/chromedriver/mac64/98.0.4758.102/chromedriver] found in cache\n",
      "\n",
      "\n",
      "====== WebDriver manager ======\n",
      "Current google-chrome version is 98.0.4758\n",
      "Get LATEST chromedriver version for 98.0.4758 google-chrome\n",
      "Driver [/Users/sm/.wdm/drivers/chromedriver/mac64/98.0.4758.102/chromedriver] found in cache\n"
     ]
    },
    {
     "name": "stdout",
     "output_type": "stream",
     "text": [
      "youtube\n"
     ]
    },
    {
     "name": "stderr",
     "output_type": "stream",
     "text": [
      "\n",
      "\n",
      "====== WebDriver manager ======\n",
      "Current google-chrome version is 98.0.4758\n",
      "Get LATEST chromedriver version for 98.0.4758 google-chrome\n"
     ]
    },
    {
     "name": "stdout",
     "output_type": "stream",
     "text": [
      "candidate-John Simmons\n"
     ]
    },
    {
     "name": "stderr",
     "output_type": "stream",
     "text": [
      "Driver [/Users/sm/.wdm/drivers/chromedriver/mac64/98.0.4758.102/chromedriver] found in cache\n"
     ]
    },
    {
     "name": "stdout",
     "output_type": "stream",
     "text": [
      "twitter2\n",
      "screenshots//CongressRancher-twitter.png\n"
     ]
    },
    {
     "name": "stderr",
     "output_type": "stream",
     "text": [
      "\n",
      "\n",
      "====== WebDriver manager ======\n",
      "Current google-chrome version is 98.0.4758\n",
      "Get LATEST chromedriver version for 98.0.4758 google-chrome\n",
      "Driver [/Users/sm/.wdm/drivers/chromedriver/mac64/98.0.4758.102/chromedriver] found in cache\n"
     ]
    },
    {
     "name": "stdout",
     "output_type": "stream",
     "text": [
      "instagram1\n",
      "screenshots//Johnsimmonsforcongress-instagram.png\n"
     ]
    },
    {
     "name": "stderr",
     "output_type": "stream",
     "text": [
      "\n",
      "\n",
      "====== WebDriver manager ======\n",
      "Current google-chrome version is 98.0.4758\n",
      "Get LATEST chromedriver version for 98.0.4758 google-chrome\n",
      "Driver [/Users/sm/.wdm/drivers/chromedriver/mac64/98.0.4758.102/chromedriver] found in cache\n",
      "\n",
      "\n",
      "====== WebDriver manager ======\n",
      "Current google-chrome version is 98.0.4758\n",
      "Get LATEST chromedriver version for 98.0.4758 google-chrome\n",
      "Driver [/Users/sm/.wdm/drivers/chromedriver/mac64/98.0.4758.102/chromedriver] found in cache\n"
     ]
    },
    {
     "name": "stdout",
     "output_type": "stream",
     "text": [
      "candidate-Kathleen Bailey\n",
      "b\n",
      "www.baileyfortexas.com/home\n",
      "screenshots//www.baileyfortexas.com/home-site.png\n"
     ]
    },
    {
     "name": "stderr",
     "output_type": "stream",
     "text": [
      "\n",
      "\n",
      "====== WebDriver manager ======\n",
      "Current google-chrome version is 98.0.4758\n",
      "Get LATEST chromedriver version for 98.0.4758 google-chrome\n",
      "Driver [/Users/sm/.wdm/drivers/chromedriver/mac64/98.0.4758.102/chromedriver] found in cache\n"
     ]
    },
    {
     "name": "stdout",
     "output_type": "stream",
     "text": [
      "facebook2\n",
      "screenshots//kcbailey2022-facebook.png\n"
     ]
    },
    {
     "name": "stderr",
     "output_type": "stream",
     "text": [
      "\n",
      "\n",
      "====== WebDriver manager ======\n",
      "Current google-chrome version is 98.0.4758\n",
      "Get LATEST chromedriver version for 98.0.4758 google-chrome\n",
      "Driver [/Users/sm/.wdm/drivers/chromedriver/mac64/98.0.4758.102/chromedriver] found in cache\n"
     ]
    },
    {
     "name": "stdout",
     "output_type": "stream",
     "text": [
      "twitter2\n",
      "screenshots//KCBailey2022-twitter.png\n"
     ]
    },
    {
     "name": "stderr",
     "output_type": "stream",
     "text": [
      "\n",
      "\n",
      "====== WebDriver manager ======\n",
      "Current google-chrome version is 98.0.4758\n",
      "Get LATEST chromedriver version for 98.0.4758 google-chrome\n",
      "Driver [/Users/sm/.wdm/drivers/chromedriver/mac64/98.0.4758.102/chromedriver] found in cache\n",
      "\n",
      "\n",
      "====== WebDriver manager ======\n",
      "Current google-chrome version is 98.0.4758\n",
      "Get LATEST chromedriver version for 98.0.4758 google-chrome\n",
      "Driver [/Users/sm/.wdm/drivers/chromedriver/mac64/98.0.4758.102/chromedriver] found in cache\n"
     ]
    },
    {
     "name": "stdout",
     "output_type": "stream",
     "text": [
      "candidate-Tartisha Hill\n",
      "twitter2\n",
      "screenshots//TartishaHill-twitter.png\n"
     ]
    },
    {
     "name": "stderr",
     "output_type": "stream",
     "text": [
      "\n",
      "\n",
      "====== WebDriver manager ======\n",
      "Current google-chrome version is 98.0.4758\n",
      "Get LATEST chromedriver version for 98.0.4758 google-chrome\n",
      "Driver [/Users/sm/.wdm/drivers/chromedriver/mac64/98.0.4758.102/chromedriver] found in cache\n"
     ]
    },
    {
     "name": "stdout",
     "output_type": "stream",
     "text": [
      "facebook2\n",
      "screenshots//tartishah-facebook.png\n"
     ]
    },
    {
     "name": "stderr",
     "output_type": "stream",
     "text": [
      "\n",
      "\n",
      "====== WebDriver manager ======\n",
      "Current google-chrome version is 98.0.4758\n",
      "Get LATEST chromedriver version for 98.0.4758 google-chrome\n",
      "Driver [/Users/sm/.wdm/drivers/chromedriver/mac64/98.0.4758.102/chromedriver] found in cache\n"
     ]
    },
    {
     "name": "stdout",
     "output_type": "stream",
     "text": [
      "twitter2\n",
      "screenshots//TartishaH-twitter.png\n"
     ]
    },
    {
     "name": "stderr",
     "output_type": "stream",
     "text": [
      "\n",
      "\n",
      "====== WebDriver manager ======\n",
      "Current google-chrome version is 98.0.4758\n",
      "Get LATEST chromedriver version for 98.0.4758 google-chrome\n",
      "Driver [/Users/sm/.wdm/drivers/chromedriver/mac64/98.0.4758.102/chromedriver] found in cache\n",
      "\n",
      "\n",
      "====== WebDriver manager ======\n",
      "Current google-chrome version is 98.0.4758\n",
      "Get LATEST chromedriver version for 98.0.4758 google-chrome\n"
     ]
    },
    {
     "name": "stdout",
     "output_type": "stream",
     "text": [
      "linkedin\n"
     ]
    },
    {
     "name": "stderr",
     "output_type": "stream",
     "text": [
      "Driver [/Users/sm/.wdm/drivers/chromedriver/mac64/98.0.4758.102/chromedriver] found in cache\n",
      "\n",
      "\n",
      "====== WebDriver manager ======\n",
      "Current google-chrome version is 98.0.4758\n",
      "Get LATEST chromedriver version for 98.0.4758 google-chrome\n",
      "Driver [/Users/sm/.wdm/drivers/chromedriver/mac64/98.0.4758.102/chromedriver] found in cache\n"
     ]
    },
    {
     "name": "stdout",
     "output_type": "stream",
     "text": [
      "candidate-Charles Gearing\n",
      "a\n",
      "www.gearingfortexas.com/\n",
      "screenshots//www.gearingfortexas-site.png\n"
     ]
    },
    {
     "name": "stderr",
     "output_type": "stream",
     "text": [
      "\n",
      "\n",
      "====== WebDriver manager ======\n",
      "Current google-chrome version is 98.0.4758\n",
      "Get LATEST chromedriver version for 98.0.4758 google-chrome\n",
      "Driver [/Users/sm/.wdm/drivers/chromedriver/mac64/98.0.4758.102/chromedriver] found in cache\n"
     ]
    },
    {
     "name": "stdout",
     "output_type": "stream",
     "text": [
      "facebook2\n",
      "screenshots//GearingforTexas-facebook.png\n"
     ]
    },
    {
     "name": "stderr",
     "output_type": "stream",
     "text": [
      "\n",
      "\n",
      "====== WebDriver manager ======\n",
      "Current google-chrome version is 98.0.4758\n",
      "Get LATEST chromedriver version for 98.0.4758 google-chrome\n",
      "Driver [/Users/sm/.wdm/drivers/chromedriver/mac64/98.0.4758.102/chromedriver] found in cache\n"
     ]
    },
    {
     "name": "stdout",
     "output_type": "stream",
     "text": [
      "twitter2\n",
      "screenshots//GearingforTexas-twitter.png\n"
     ]
    },
    {
     "name": "stderr",
     "output_type": "stream",
     "text": [
      "\n",
      "\n",
      "====== WebDriver manager ======\n",
      "Current google-chrome version is 98.0.4758\n",
      "Get LATEST chromedriver version for 98.0.4758 google-chrome\n",
      "Driver [/Users/sm/.wdm/drivers/chromedriver/mac64/98.0.4758.102/chromedriver] found in cache\n"
     ]
    },
    {
     "name": "stdout",
     "output_type": "stream",
     "text": [
      "instagram1\n",
      "screenshots//gearingfortexas-instagram.png\n"
     ]
    },
    {
     "name": "stderr",
     "output_type": "stream",
     "text": [
      "\n",
      "\n",
      "====== WebDriver manager ======\n",
      "Current google-chrome version is 98.0.4758\n",
      "Get LATEST chromedriver version for 98.0.4758 google-chrome\n",
      "Driver [/Users/sm/.wdm/drivers/chromedriver/mac64/98.0.4758.102/chromedriver] found in cache\n",
      "\n",
      "\n",
      "====== WebDriver manager ======\n",
      "Current google-chrome version is 98.0.4758\n",
      "Get LATEST chromedriver version for 98.0.4758 google-chrome\n"
     ]
    },
    {
     "name": "stdout",
     "output_type": "stream",
     "text": [
      "youtube\n"
     ]
    },
    {
     "name": "stderr",
     "output_type": "stream",
     "text": [
      "Driver [/Users/sm/.wdm/drivers/chromedriver/mac64/98.0.4758.102/chromedriver] found in cache\n",
      "\n",
      "\n",
      "====== WebDriver manager ======\n",
      "Current google-chrome version is 98.0.4758\n",
      "Get LATEST chromedriver version for 98.0.4758 google-chrome\n",
      "Driver [/Users/sm/.wdm/drivers/chromedriver/mac64/98.0.4758.102/chromedriver] found in cache\n"
     ]
    },
    {
     "name": "stdout",
     "output_type": "stream",
     "text": [
      "linkedin\n"
     ]
    },
    {
     "name": "stderr",
     "output_type": "stream",
     "text": [
      "\n",
      "\n",
      "====== WebDriver manager ======\n",
      "Current google-chrome version is 98.0.4758\n",
      "Get LATEST chromedriver version for 98.0.4758 google-chrome\n",
      "Driver [/Users/sm/.wdm/drivers/chromedriver/mac64/98.0.4758.102/chromedriver] found in cache\n"
     ]
    },
    {
     "name": "stdout",
     "output_type": "stream",
     "text": [
      "candidate-Lance Gooden\n"
     ]
    },
    {
     "name": "stderr",
     "output_type": "stream",
     "text": [
      "\n",
      "\n",
      "====== WebDriver manager ======\n",
      "Current google-chrome version is 98.0.4758\n",
      "Get LATEST chromedriver version for 98.0.4758 google-chrome\n",
      "Driver [/Users/sm/.wdm/drivers/chromedriver/mac64/98.0.4758.102/chromedriver] found in cache\n"
     ]
    },
    {
     "name": "stdout",
     "output_type": "stream",
     "text": [
      "d\n"
     ]
    },
    {
     "name": "stderr",
     "output_type": "stream",
     "text": [
      "\n",
      "\n",
      "====== WebDriver manager ======\n",
      "Current google-chrome version is 98.0.4758\n",
      "Get LATEST chromedriver version for 98.0.4758 google-chrome\n",
      "Driver [/Users/sm/.wdm/drivers/chromedriver/mac64/98.0.4758.102/chromedriver] found in cache\n"
     ]
    },
    {
     "name": "stdout",
     "output_type": "stream",
     "text": [
      "youtube\n",
      "c\n",
      "screenshots//lancegooden-site.png\n"
     ]
    },
    {
     "name": "stderr",
     "output_type": "stream",
     "text": [
      "\n",
      "\n",
      "====== WebDriver manager ======\n",
      "Current google-chrome version is 98.0.4758\n",
      "Get LATEST chromedriver version for 98.0.4758 google-chrome\n",
      "Driver [/Users/sm/.wdm/drivers/chromedriver/mac64/98.0.4758.102/chromedriver] found in cache\n"
     ]
    },
    {
     "name": "stdout",
     "output_type": "stream",
     "text": [
      "facebook2\n",
      "screenshots//lancegoodenfortexas-facebook.png\n"
     ]
    },
    {
     "name": "stderr",
     "output_type": "stream",
     "text": [
      "\n",
      "\n",
      "====== WebDriver manager ======\n",
      "Current google-chrome version is 98.0.4758\n",
      "Get LATEST chromedriver version for 98.0.4758 google-chrome\n",
      "Driver [/Users/sm/.wdm/drivers/chromedriver/mac64/98.0.4758.102/chromedriver] found in cache\n"
     ]
    },
    {
     "name": "stdout",
     "output_type": "stream",
     "text": [
      "twitter2\n",
      "screenshots//Lancegooden-twitter.png\n"
     ]
    },
    {
     "name": "stderr",
     "output_type": "stream",
     "text": [
      "\n",
      "\n",
      "====== WebDriver manager ======\n",
      "Current google-chrome version is 98.0.4758\n",
      "Get LATEST chromedriver version for 98.0.4758 google-chrome\n",
      "Driver [/Users/sm/.wdm/drivers/chromedriver/mac64/98.0.4758.102/chromedriver] found in cache\n"
     ]
    },
    {
     "name": "stdout",
     "output_type": "stream",
     "text": [
      "instagram1\n",
      "screenshots//lancegooden-instagram.png\n"
     ]
    },
    {
     "name": "stderr",
     "output_type": "stream",
     "text": [
      "\n",
      "\n",
      "====== WebDriver manager ======\n",
      "Current google-chrome version is 98.0.4758\n",
      "Get LATEST chromedriver version for 98.0.4758 google-chrome\n",
      "Driver [/Users/sm/.wdm/drivers/chromedriver/mac64/98.0.4758.102/chromedriver] found in cache\n"
     ]
    },
    {
     "name": "stdout",
     "output_type": "stream",
     "text": [
      "facebook2\n",
      "screenshots//lancegooden-facebook.png\n"
     ]
    },
    {
     "name": "stderr",
     "output_type": "stream",
     "text": [
      "\n",
      "\n",
      "====== WebDriver manager ======\n",
      "Current google-chrome version is 98.0.4758\n",
      "Get LATEST chromedriver version for 98.0.4758 google-chrome\n",
      "Driver [/Users/sm/.wdm/drivers/chromedriver/mac64/98.0.4758.102/chromedriver] found in cache\n",
      "\n",
      "\n",
      "====== WebDriver manager ======\n",
      "Current google-chrome version is 98.0.4758\n",
      "Get LATEST chromedriver version for 98.0.4758 google-chrome\n"
     ]
    },
    {
     "name": "stdout",
     "output_type": "stream",
     "text": [
      "candidate-Kevin Hale\n"
     ]
    },
    {
     "name": "stderr",
     "output_type": "stream",
     "text": [
      "Driver [/Users/sm/.wdm/drivers/chromedriver/mac64/98.0.4758.102/chromedriver] found in cache\n",
      "\n",
      "\n",
      "====== WebDriver manager ======\n",
      "Current google-chrome version is 98.0.4758\n",
      "Get LATEST chromedriver version for 98.0.4758 google-chrome\n",
      "Driver [/Users/sm/.wdm/drivers/chromedriver/mac64/98.0.4758.102/chromedriver] found in cache\n"
     ]
    },
    {
     "name": "stdout",
     "output_type": "stream",
     "text": [
      "candidate-Jake Ellzey\n"
     ]
    },
    {
     "name": "stderr",
     "output_type": "stream",
     "text": [
      "\n",
      "\n",
      "====== WebDriver manager ======\n",
      "Current google-chrome version is 98.0.4758\n",
      "Get LATEST chromedriver version for 98.0.4758 google-chrome\n"
     ]
    },
    {
     "name": "stdout",
     "output_type": "stream",
     "text": [
      "d\n"
     ]
    },
    {
     "name": "stderr",
     "output_type": "stream",
     "text": [
      "Driver [/Users/sm/.wdm/drivers/chromedriver/mac64/98.0.4758.102/chromedriver] found in cache\n"
     ]
    },
    {
     "name": "stdout",
     "output_type": "stream",
     "text": [
      "facebook2\n",
      "screenshots//RepJakeEllzey-facebook.png\n"
     ]
    },
    {
     "name": "stderr",
     "output_type": "stream",
     "text": [
      "\n",
      "\n",
      "====== WebDriver manager ======\n",
      "Current google-chrome version is 98.0.4758\n",
      "Get LATEST chromedriver version for 98.0.4758 google-chrome\n",
      "Driver [/Users/sm/.wdm/drivers/chromedriver/mac64/98.0.4758.102/chromedriver] found in cache\n"
     ]
    },
    {
     "name": "stdout",
     "output_type": "stream",
     "text": [
      "twitter2\n",
      "screenshots//RepEllzey-twitter.png\n"
     ]
    },
    {
     "name": "stderr",
     "output_type": "stream",
     "text": [
      "\n",
      "\n",
      "====== WebDriver manager ======\n",
      "Current google-chrome version is 98.0.4758\n",
      "Get LATEST chromedriver version for 98.0.4758 google-chrome\n",
      "Driver [/Users/sm/.wdm/drivers/chromedriver/mac64/98.0.4758.102/chromedriver] found in cache\n"
     ]
    },
    {
     "name": "stdout",
     "output_type": "stream",
     "text": [
      "a\n",
      "www.ellzeyfortexas.com/\n",
      "screenshots//www.ellzeyfortexas-site.png\n"
     ]
    },
    {
     "name": "stderr",
     "output_type": "stream",
     "text": [
      "\n",
      "\n",
      "====== WebDriver manager ======\n",
      "Current google-chrome version is 98.0.4758\n",
      "Get LATEST chromedriver version for 98.0.4758 google-chrome\n",
      "Driver [/Users/sm/.wdm/drivers/chromedriver/mac64/98.0.4758.102/chromedriver] found in cache\n"
     ]
    },
    {
     "name": "stdout",
     "output_type": "stream",
     "text": [
      "facebook2\n",
      "screenshots//CommanderEllzey-facebook.png\n"
     ]
    },
    {
     "name": "stderr",
     "output_type": "stream",
     "text": [
      "\n",
      "\n",
      "====== WebDriver manager ======\n",
      "Current google-chrome version is 98.0.4758\n",
      "Get LATEST chromedriver version for 98.0.4758 google-chrome\n",
      "Driver [/Users/sm/.wdm/drivers/chromedriver/mac64/98.0.4758.102/chromedriver] found in cache\n"
     ]
    },
    {
     "name": "stdout",
     "output_type": "stream",
     "text": [
      "twitter2\n",
      "screenshots//JakeEllzey-twitter.png\n"
     ]
    },
    {
     "name": "stderr",
     "output_type": "stream",
     "text": [
      "\n",
      "\n",
      "====== WebDriver manager ======\n",
      "Current google-chrome version is 98.0.4758\n",
      "Get LATEST chromedriver version for 98.0.4758 google-chrome\n",
      "Driver [/Users/sm/.wdm/drivers/chromedriver/mac64/98.0.4758.102/chromedriver] found in cache\n"
     ]
    },
    {
     "name": "stdout",
     "output_type": "stream",
     "text": [
      "instagram2\n",
      "screenshots//https://www.instagram-instagram.png\n"
     ]
    },
    {
     "name": "stderr",
     "output_type": "stream",
     "text": [
      "\n",
      "\n",
      "====== WebDriver manager ======\n",
      "Current google-chrome version is 98.0.4758\n",
      "Get LATEST chromedriver version for 98.0.4758 google-chrome\n",
      "Driver [/Users/sm/.wdm/drivers/chromedriver/mac64/98.0.4758.102/chromedriver] found in cache\n",
      "\n",
      "\n",
      "====== WebDriver manager ======\n",
      "Current google-chrome version is 98.0.4758\n",
      "Get LATEST chromedriver version for 98.0.4758 google-chrome\n",
      "Driver [/Users/sm/.wdm/drivers/chromedriver/mac64/98.0.4758.102/chromedriver] found in cache\n"
     ]
    },
    {
     "name": "stdout",
     "output_type": "stream",
     "text": [
      "youtube\n",
      "facebook2\n",
      "screenshots//jake.ellzey.733-facebook.png\n"
     ]
    },
    {
     "name": "stderr",
     "output_type": "stream",
     "text": [
      "\n",
      "\n",
      "====== WebDriver manager ======\n",
      "Current google-chrome version is 98.0.4758\n",
      "Get LATEST chromedriver version for 98.0.4758 google-chrome\n",
      "Driver [/Users/sm/.wdm/drivers/chromedriver/mac64/98.0.4758.102/chromedriver] found in cache\n",
      "\n",
      "\n",
      "====== WebDriver manager ======\n",
      "Current google-chrome version is 98.0.4758\n",
      "Get LATEST chromedriver version for 98.0.4758 google-chrome\n"
     ]
    },
    {
     "name": "stdout",
     "output_type": "stream",
     "text": [
      "linkedin\n"
     ]
    },
    {
     "name": "stderr",
     "output_type": "stream",
     "text": [
      "Driver [/Users/sm/.wdm/drivers/chromedriver/mac64/98.0.4758.102/chromedriver] found in cache\n",
      "\n",
      "\n",
      "====== WebDriver manager ======\n",
      "Current google-chrome version is 98.0.4758\n",
      "Get LATEST chromedriver version for 98.0.4758 google-chrome\n",
      "Driver [/Users/sm/.wdm/drivers/chromedriver/mac64/98.0.4758.102/chromedriver] found in cache\n"
     ]
    },
    {
     "name": "stdout",
     "output_type": "stream",
     "text": [
      "candidate-James Buford\n"
     ]
    },
    {
     "name": "stderr",
     "output_type": "stream",
     "text": [
      "\n",
      "\n",
      "====== WebDriver manager ======\n",
      "Current google-chrome version is 98.0.4758\n",
      "Get LATEST chromedriver version for 98.0.4758 google-chrome\n",
      "Driver [/Users/sm/.wdm/drivers/chromedriver/mac64/98.0.4758.102/chromedriver] found in cache\n"
     ]
    },
    {
     "name": "stdout",
     "output_type": "stream",
     "text": [
      "d\n",
      "facebook2\n",
      "screenshots//buford4congress-facebook.png\n"
     ]
    },
    {
     "name": "stderr",
     "output_type": "stream",
     "text": [
      "\n",
      "\n",
      "====== WebDriver manager ======\n",
      "Current google-chrome version is 98.0.4758\n",
      "Get LATEST chromedriver version for 98.0.4758 google-chrome\n",
      "Driver [/Users/sm/.wdm/drivers/chromedriver/mac64/98.0.4758.102/chromedriver] found in cache\n"
     ]
    },
    {
     "name": "stdout",
     "output_type": "stream",
     "text": [
      "twitter2\n",
      "screenshots//jamesbu74790136-twitter.png\n"
     ]
    },
    {
     "name": "stderr",
     "output_type": "stream",
     "text": [
      "\n",
      "\n",
      "====== WebDriver manager ======\n",
      "Current google-chrome version is 98.0.4758\n",
      "Get LATEST chromedriver version for 98.0.4758 google-chrome\n",
      "Driver [/Users/sm/.wdm/drivers/chromedriver/mac64/98.0.4758.102/chromedriver] found in cache\n"
     ]
    },
    {
     "name": "stdout",
     "output_type": "stream",
     "text": [
      "instagram2\n",
      "screenshots//https://www.instagram-instagram.png\n"
     ]
    },
    {
     "name": "stderr",
     "output_type": "stream",
     "text": [
      "\n",
      "\n",
      "====== WebDriver manager ======\n",
      "Current google-chrome version is 98.0.4758\n",
      "Get LATEST chromedriver version for 98.0.4758 google-chrome\n",
      "Driver [/Users/sm/.wdm/drivers/chromedriver/mac64/98.0.4758.102/chromedriver] found in cache\n",
      "\n",
      "\n",
      "====== WebDriver manager ======\n",
      "Current google-chrome version is 98.0.4758\n",
      "Get LATEST chromedriver version for 98.0.4758 google-chrome\n",
      "Driver [/Users/sm/.wdm/drivers/chromedriver/mac64/98.0.4758.102/chromedriver] found in cache\n"
     ]
    },
    {
     "name": "stdout",
     "output_type": "stream",
     "text": [
      "linkedin\n"
     ]
    },
    {
     "name": "stderr",
     "output_type": "stream",
     "text": [
      "\n",
      "\n",
      "====== WebDriver manager ======\n",
      "Current google-chrome version is 98.0.4758\n",
      "Get LATEST chromedriver version for 98.0.4758 google-chrome\n",
      "Driver [/Users/sm/.wdm/drivers/chromedriver/mac64/98.0.4758.102/chromedriver] found in cache\n"
     ]
    },
    {
     "name": "stdout",
     "output_type": "stream",
     "text": [
      "candidate-Bill Payne\n",
      "candidate-Bill Payne\n"
     ]
    },
    {
     "ename": "FileExistsError",
     "evalue": "[Errno 17] File exists: 'screenshots//Bill Payne'",
     "output_type": "error",
     "traceback": [
      "\u001b[0;31m---------------------------------------------------------------------------\u001b[0m",
      "\u001b[0;31mFileExistsError\u001b[0m                           Traceback (most recent call last)",
      "\u001b[0;32m/var/folders/c2/zngcssg14mv23nw0yr96s0wm0000gn/T/ipykernel_23726/3229542269.py\u001b[0m in \u001b[0;36m<module>\u001b[0;34m\u001b[0m\n\u001b[1;32m      6\u001b[0m         \u001b[0mprint\u001b[0m\u001b[0;34m(\u001b[0m\u001b[0murl\u001b[0m\u001b[0;34m)\u001b[0m\u001b[0;34m\u001b[0m\u001b[0;34m\u001b[0m\u001b[0m\n\u001b[1;32m      7\u001b[0m         \u001b[0mls_candidates2\u001b[0m\u001b[0;34m.\u001b[0m\u001b[0mappend\u001b[0m\u001b[0;34m(\u001b[0m\u001b[0murl\u001b[0m\u001b[0;34m)\u001b[0m\u001b[0;34m\u001b[0m\u001b[0;34m\u001b[0m\u001b[0m\n\u001b[0;32m----> 8\u001b[0;31m         \u001b[0mos\u001b[0m\u001b[0;34m.\u001b[0m\u001b[0mmkdir\u001b[0m\u001b[0;34m(\u001b[0m\u001b[0;34m'screenshots//'\u001b[0m \u001b[0;34m+\u001b[0m \u001b[0murl\u001b[0m\u001b[0;34m.\u001b[0m\u001b[0msplit\u001b[0m\u001b[0;34m(\u001b[0m\u001b[0;34m'candidate-'\u001b[0m\u001b[0;34m)\u001b[0m\u001b[0;34m[\u001b[0m\u001b[0;34m-\u001b[0m\u001b[0;36m1\u001b[0m\u001b[0;34m]\u001b[0m\u001b[0;34m)\u001b[0m\u001b[0;34m\u001b[0m\u001b[0;34m\u001b[0m\u001b[0m\n\u001b[0m\u001b[1;32m      9\u001b[0m     \u001b[0;31m# Social Profiles split into ends with slash and not with slash\u001b[0m\u001b[0;34m\u001b[0m\u001b[0;34m\u001b[0m\u001b[0m\n\u001b[1;32m     10\u001b[0m     \u001b[0;32melif\u001b[0m \u001b[0murl\u001b[0m\u001b[0;34m.\u001b[0m\u001b[0mstartswith\u001b[0m\u001b[0;34m(\u001b[0m\u001b[0mtwitter\u001b[0m\u001b[0;34m)\u001b[0m\u001b[0;34m:\u001b[0m\u001b[0;34m\u001b[0m\u001b[0;34m\u001b[0m\u001b[0m\n",
      "\u001b[0;31mFileExistsError\u001b[0m: [Errno 17] File exists: 'screenshots//Bill Payne'"
     ]
    }
   ],
   "source": [
    "# the for loop\n",
    "for url in candidate_links:\n",
    "    driver = webdriver.Chrome(ChromeDriverManager().install())\n",
    "    sleep(randint(2,3))\n",
    "    if url.startswith(candidate):\n",
    "        print(url)\n",
    "        ls_candidates2.append(url)\n",
    "    # creates a folder for each candidate\n",
    "        os.mkdir('screenshots//' + url.split('candidate-')[-1])\n",
    "    # Social Profiles split into ends with slash and not with slash \n",
    "    elif url.startswith(twitter):\n",
    "#         print(\"testa\")\n",
    "        ls_socials2.append(url)\n",
    "        if url.endswith('/'):\n",
    "            print('twitter1')\n",
    "            driver.get(url)\n",
    "            sleep(randint(10,12))\n",
    "            driver.save_screenshot('screenshots//' + url.split('.com/')[-1].split('/')[0] + '-twitter'+ '.png')\n",
    "            print('screenshots//' + url.split('.com/')[-1].split('/')[0] + '-twitter'+ '.png')\n",
    "            sleep(randint(2,3))\n",
    "            driver.quit()\n",
    "        else:\n",
    "            print('twitter2')\n",
    "            driver.get(url)\n",
    "            sleep(randint(10,12))\n",
    "            driver.save_screenshot('screenshots//' + url.split('.com/')[-1] + '-twitter'+ '.png')\n",
    "            print('screenshots//' + url.split('.com/')[-1] + '-twitter'+ '.png')\n",
    "            sleep(randint(2,3))\n",
    "            driver.quit()\n",
    "    elif url.startswith(facebook):\n",
    "        ls_socials2.append(url)\n",
    "#         print(\"test\")\n",
    "        if url.endswith('/'):\n",
    "            print('facebook1')\n",
    "            driver.get(url)\n",
    "            sleep(randint(4,5))\n",
    "            driver.save_screenshot('screenshots//' + url.split('.com/')[-1].split('/')[0] + '-facebook'+ '.png')\n",
    "            print('screenshots//' + url.split('.com/')[-1].split('/')[0] + '-facebook'+ '.png')\n",
    "            sleep(randint(2,3))\n",
    "            driver.quit()\n",
    "        else:\n",
    "            print('facebook2')\n",
    "            driver.get(url)\n",
    "            sleep(randint(4,5))\n",
    "            driver.save_screenshot('screenshots//' + url.split('.com/')[-1] + '-facebook'+ '.png')\n",
    "            print('screenshots//' + url.split('.com/')[-1] + '-facebook'+ '.png')\n",
    "            sleep(randint(2,3))\n",
    "            driver.quit()\n",
    "    elif url.startswith(instagram):\n",
    "        ls_socials2.append(url)\n",
    "        if url.endswith('/'):\n",
    "            print('instagram1')\n",
    "            driver.get(url)\n",
    "            sleep(randint(4,5))\n",
    "            driver.save_screenshot('screenshots//' + url.split('.com/')[-1].split('/')[0] + '-instagram'+ '.png')\n",
    "            print('screenshots//' + url.split('.com/')[-1].split('/')[0] + '-instagram'+ '.png')\n",
    "            sleep(randint(2,3))\n",
    "            driver.quit()\n",
    "        else:\n",
    "            print('instagram2')\n",
    "            driver.get(url)\n",
    "            sleep(randint(2,3))\n",
    "            driver.save_screenshot('screenshots//' + url.split('.com/')[-2] + '-instagram'+ '.png')\n",
    "            print('screenshots//' + url.split('.com/')[-2] + '-instagram'+ '.png')\n",
    "            sleep(randint(1,2))\n",
    "            driver.quit()\n",
    "    elif url.startswith(linkedin):\n",
    "        ls_socials2.append(url)\n",
    "        print('linkedin')\n",
    "        driver.quit()\n",
    "    elif url.startswith(youtube):\n",
    "        ls_socials2.append(url)\n",
    "        print('youtube')\n",
    "        driver.quit()\n",
    "    elif url.startswith(ballotpedia):\n",
    "        ls_socials2.append(url)\n",
    "        print('mistake')\n",
    "        driver.quit()\n",
    "\n",
    "    # starts with https://www. \n",
    "    elif url.startswith('https://www.'):\n",
    "        if url.endswith('.com/'):\n",
    "            print('a')\n",
    "            ls_sites2.append(url)\n",
    "            driver.get(url)\n",
    "            print(url.split('//')[-1])\n",
    "            sleep(randint(2,3))\n",
    "            driver.save_screenshot('screenshots//' + url.split('//')[-1].split('.com/')[0] + '-site' + '.png')\n",
    "            print('screenshots//' + url.split('//')[-1].split('.com/')[0] + '-site' + '.png')\n",
    "            sleep(randint(1,2))\n",
    "            driver.quit()\n",
    "        else: \n",
    "            print('b')\n",
    "            ls_sites2.append(url)\n",
    "            driver.get(url)\n",
    "            print(url.split('//')[-1])\n",
    "            sleep(randint(2,3))\n",
    "            driver.save_screenshot('screenshots//' + url.split('//')[-1] + '-site' + '.png')\n",
    "            print('screenshots//' + url.split('//')[-1] + '-site' + '.png')\n",
    "            sleep(randint(1,2))\n",
    "            driver.quit()\n",
    "    elif url.endswith('.com/'):\n",
    "        print('c')\n",
    "        ls_sites2.append(url)\n",
    "        driver.get(url)\n",
    "        sleep(randint(2,3))\n",
    "        driver.save_screenshot('screenshots//' + url.split('//')[-1].split('.')[0] + '-site' + '.png')\n",
    "        print('screenshots//' + url.split('//')[-1].split('.')[0] + '-site' + '.png')\n",
    "        sleep(randint(1,2))\n",
    "        driver.quit()\n",
    "    else:\n",
    "        print('d')\n",
    "        driver.quit()"
   ]
  },
  {
   "cell_type": "code",
   "execution_count": null,
   "id": "fb0de8fc",
   "metadata": {},
   "outputs": [],
   "source": []
  },
  {
   "cell_type": "code",
   "execution_count": null,
   "id": "32a90734",
   "metadata": {},
   "outputs": [],
   "source": [
    "# os.mkdir(url)"
   ]
  },
  {
   "cell_type": "code",
   "execution_count": null,
   "id": "7e4638b8",
   "metadata": {},
   "outputs": [],
   "source": [
    "# # the for loop\n",
    "# for url in candidate_links[0:3]:\n",
    "#     driver = webdriver.Chrome(ChromeDriverManager().install())\n",
    "#     sleep(randint(2,3))\n",
    "#     if url.startswith(candidate):\n",
    "#         print(url)\n",
    "#         ls_candidates.append(url)\n",
    "\n",
    "#     # Social Profiles split into ends with slash and not with slash \n",
    "#     elif url.startswith(twitter):\n",
    "# #         print(\"testa\")\n",
    "#         ls_socials.append(url)\n",
    "#         if url.endswith('/'):\n",
    "#             print('twitter1')\n",
    "#             # create folder with name of file\n",
    "#             os.mkdir(url.split('.com/')[-1].split('/')[0] + '-twitter')\n",
    "#             driver.get(url)\n",
    "#             sleep(randint(10,12))\n",
    "#             driver.save_screenshot(url.split('.com/')[-1].split('/')[0] + '-twitter'+ '//' + url.split('.com/')[-1].split('/')[0] + '-twitter'+ '.png')\n",
    "#             print('screenshots//' + url.split('.com/')[-1].split('/')[0] + '-twitter'+ '.png')\n",
    "#             sleep(randint(2,3))\n",
    "#             driver.quit()\n",
    "#         else:\n",
    "#             print('twitter2')\n",
    "#             driver.get(url)\n",
    "#             sleep(randint(10,12))\n",
    "#             driver.save_screenshot('screenshots//' + url.split('.com/')[-1] + '-twitter'+ '.png')\n",
    "#             print('screenshots//' + url.split('.com/')[-1] + '-twitter'+ '.png')\n",
    "#             sleep(randint(2,3))\n",
    "#             driver.quit()\n",
    "#     elif url.startswith(facebook):\n",
    "#         ls_socials.append(url)\n",
    "# #         print(\"test\")\n",
    "#         if url.endswith('/'):\n",
    "#             print('facebook1')\n",
    "#             driver.get(url)\n",
    "#             sleep(randint(4,5))\n",
    "#             driver.save_screenshot('screenshots//' + url.split('.com/')[-1].split('/')[0] + '-facebook'+ '.png')\n",
    "#             print('screenshots//' + url.split('.com/')[-1].split('/')[0] + '-facebook'+ '.png')\n",
    "#             sleep(randint(2,3))\n",
    "#             driver.quit()\n",
    "#         else:\n",
    "#             print('facebook2')\n",
    "#             driver.get(url)\n",
    "#             sleep(randint(4,5))\n",
    "#             driver.save_screenshot('screenshots//' + url.split('.com/')[-1] + '-facebook'+ '.png')\n",
    "#             print('screenshots//' + url.split('.com/')[-1] + '-facebook'+ '.png')\n",
    "#             sleep(randint(2,3))\n",
    "#             driver.quit()\n",
    "#     elif url.startswith(instagram):\n",
    "#         ls_socials.append(url)\n",
    "#         if url.endswith('/'):\n",
    "#             print('instagram1')\n",
    "#             driver.get(url)\n",
    "#             sleep(randint(4,5))\n",
    "#             driver.save_screenshot('screenshots//' + url.split('.com/')[-1].split('/')[0] + '-instagram'+ '.png')\n",
    "#             print('screenshots//' + url.split('.com/')[-1].split('/')[0] + '-instagram'+ '.png')\n",
    "#             sleep(randint(2,3))\n",
    "#             driver.quit()\n",
    "#         else:\n",
    "#             print('instagram2')\n",
    "#             driver.get(url)\n",
    "#             sleep(randint(2,3))\n",
    "#             driver.save_screenshot('screenshots//' + url.split('.com/')[-2] + '-instagram'+ '.png')\n",
    "#             print('screenshots//' + url.split('.com/')[-2] + '-instagram'+ '.png')\n",
    "#             sleep(randint(1,2))\n",
    "#             driver.quit()\n",
    "#     elif url.startswith(linkedin):\n",
    "#         ls_socials.append(url)\n",
    "#         print('linkedin')\n",
    "#         driver.quit()\n",
    "#     elif url.startswith(youtube):\n",
    "#         ls_socials.append(url)\n",
    "#         print('youtube')\n",
    "#         driver.quit()\n",
    "#     elif url.startswith(ballotpedia):\n",
    "#         ls_socials.append(url)\n",
    "#         print('mistake')\n",
    "#         driver.quit()\n",
    "\n",
    "#     # starts with https://www. \n",
    "#     elif url.startswith('https://www.'):\n",
    "#         if url.endswith('.com/'):\n",
    "#             print('a')\n",
    "#             ls_sites.append(url)\n",
    "#             driver.get(url)\n",
    "#             print(url.split('//')[-1])\n",
    "#             sleep(randint(2,3))\n",
    "#             driver.save_screenshot('screenshots//' + url.split('//')[-1].split('.')[1] + '-site' + '.png')\n",
    "#             print('screenshots//' + url.split('//')[-1].split('.')[-1] + '-site' + '.png')\n",
    "#             sleep(randint(1,2))\n",
    "#             driver.quit()\n",
    "#         else: \n",
    "#             print('b')\n",
    "#             ls_sites.append(url)\n",
    "#             driver.get(url)\n",
    "#             print(url.split('//')[-1])\n",
    "#             sleep(randint(2,3))\n",
    "#             driver.save_screenshot('screenshots//' + url.split('//')[-1] + '-site' + '.png')\n",
    "#             print('screenshots//' + url.split('//')[-1] + '-site' + '.png')\n",
    "#             sleep(randint(1,2))\n",
    "#             driver.quit()\n",
    "#     elif url.endswith('.com/'):\n",
    "#         print('c')\n",
    "#         ls_sites.append(url)\n",
    "#         driver.get(url)\n",
    "# #         print(url.split('//')[-1].split('.')[0])\n",
    "#         sleep(randint(2,3))\n",
    "#         driver.save_screenshot('screenshots//' + url.split('//')[-1].split('.')[0] + '-site' + '.png')\n",
    "#         print('screenshots//' + url.split('//')[-1].split('.')[0] + '-site' + '.png')\n",
    "#         sleep(randint(1,2))\n",
    "#         driver.quit()\n",
    "#     else:\n",
    "#         print('d')\n",
    "#         driver.quit()"
   ]
  },
  {
   "cell_type": "code",
   "execution_count": null,
   "id": "8fb30fb7",
   "metadata": {},
   "outputs": [],
   "source": []
  },
  {
   "cell_type": "code",
   "execution_count": null,
   "id": "a95a88ee",
   "metadata": {},
   "outputs": [],
   "source": []
  },
  {
   "cell_type": "code",
   "execution_count": null,
   "id": "bbac7bd5",
   "metadata": {},
   "outputs": [],
   "source": []
  },
  {
   "cell_type": "code",
   "execution_count": 9,
   "id": "0c30341b",
   "metadata": {},
   "outputs": [],
   "source": [
    "import sys\n",
    "import time\n",
    "from PyQt6 import *"
   ]
  },
  {
   "cell_type": "code",
   "execution_count": 11,
   "id": "25da8606",
   "metadata": {},
   "outputs": [
    {
     "ename": "NameError",
     "evalue": "name 'QWebView' is not defined",
     "output_type": "error",
     "traceback": [
      "\u001b[0;31m---------------------------------------------------------------------------\u001b[0m",
      "\u001b[0;31mNameError\u001b[0m                                 Traceback (most recent call last)",
      "\u001b[0;32m/var/folders/c2/zngcssg14mv23nw0yr96s0wm0000gn/T/ipykernel_23055/3106084232.py\u001b[0m in \u001b[0;36m<module>\u001b[0;34m\u001b[0m\n\u001b[0;32m----> 1\u001b[0;31m \u001b[0;32mclass\u001b[0m \u001b[0mScreenshot\u001b[0m\u001b[0;34m(\u001b[0m\u001b[0mQWebView\u001b[0m\u001b[0;34m)\u001b[0m\u001b[0;34m:\u001b[0m\u001b[0;34m\u001b[0m\u001b[0;34m\u001b[0m\u001b[0m\n\u001b[0m\u001b[1;32m      2\u001b[0m     \u001b[0;32mdef\u001b[0m \u001b[0m__init__\u001b[0m\u001b[0;34m(\u001b[0m\u001b[0mself\u001b[0m\u001b[0;34m)\u001b[0m\u001b[0;34m:\u001b[0m\u001b[0;34m\u001b[0m\u001b[0;34m\u001b[0m\u001b[0m\n\u001b[1;32m      3\u001b[0m         \u001b[0mself\u001b[0m\u001b[0;34m.\u001b[0m\u001b[0mapp\u001b[0m \u001b[0;34m=\u001b[0m \u001b[0mQApplication\u001b[0m\u001b[0;34m(\u001b[0m\u001b[0msys\u001b[0m\u001b[0;34m.\u001b[0m\u001b[0margv\u001b[0m\u001b[0;34m)\u001b[0m\u001b[0;34m\u001b[0m\u001b[0;34m\u001b[0m\u001b[0m\n\u001b[1;32m      4\u001b[0m         \u001b[0mQWebView\u001b[0m\u001b[0;34m.\u001b[0m\u001b[0m__init__\u001b[0m\u001b[0;34m(\u001b[0m\u001b[0mself\u001b[0m\u001b[0;34m)\u001b[0m\u001b[0;34m\u001b[0m\u001b[0;34m\u001b[0m\u001b[0m\n\u001b[1;32m      5\u001b[0m         \u001b[0mself\u001b[0m\u001b[0;34m.\u001b[0m\u001b[0m_loaded\u001b[0m \u001b[0;34m=\u001b[0m \u001b[0;32mFalse\u001b[0m\u001b[0;34m\u001b[0m\u001b[0;34m\u001b[0m\u001b[0m\n",
      "\u001b[0;31mNameError\u001b[0m: name 'QWebView' is not defined"
     ]
    }
   ],
   "source": [
    "class Screenshot(QWebView):\n",
    "    def __init__(self):\n",
    "        self.app = QApplication(sys.argv)\n",
    "        QWebView.__init__(self)\n",
    "        self._loaded = False\n",
    "        self.loadFinished.connect(self._loadFinished)\n",
    "\n",
    "    def capture(self, url, output_file):\n",
    "        self.load(QUrl(url))\n",
    "        self.wait_load()\n",
    "        # set to webpage size\n",
    "        frame = self.page().mainFrame()\n",
    "        self.page().setViewportSize(frame.contentsSize())\n",
    "        # render image\n",
    "        image = QImage(self.page().viewportSize(), QImage.Format_ARGB32)\n",
    "        painter = QPainter(image)\n",
    "        frame.render(painter)\n",
    "        painter.end()\n",
    "        print ('saving'), output_file\n",
    "        image.save(output_file)\n",
    "\n",
    "    def wait_load(self, delay=0):\n",
    "        # process app events until page loaded\n",
    "        while not self._loaded:\n",
    "            self.app.processEvents()\n",
    "            time.sleep(delay)\n",
    "        self._loaded = False\n",
    "\n",
    "    def _loadFinished(self, result):\n",
    "        self._loaded = True\n",
    "\n",
    "s = Screenshot()\n",
    "s.capture('http://webscraping.com', 'website.png')\n",
    "s.capture('http://webscraping.com/blog', 'blog.png')"
   ]
  },
  {
   "cell_type": "code",
   "execution_count": null,
   "id": "4f20074c",
   "metadata": {},
   "outputs": [],
   "source": []
  },
  {
   "cell_type": "code",
   "execution_count": null,
   "id": "e8c97815",
   "metadata": {},
   "outputs": [],
   "source": []
  },
  {
   "cell_type": "code",
   "execution_count": null,
   "id": "4ae414a1",
   "metadata": {},
   "outputs": [],
   "source": []
  },
  {
   "cell_type": "code",
   "execution_count": null,
   "id": "27ec4d6c",
   "metadata": {},
   "outputs": [],
   "source": []
  },
  {
   "cell_type": "code",
   "execution_count": null,
   "id": "d8a44824",
   "metadata": {},
   "outputs": [],
   "source": []
  },
  {
   "cell_type": "code",
   "execution_count": null,
   "id": "7543d609",
   "metadata": {},
   "outputs": [],
   "source": []
  },
  {
   "cell_type": "markdown",
   "id": "5fb38b4c",
   "metadata": {},
   "source": [
    "## Not Using Yet"
   ]
  },
  {
   "cell_type": "code",
   "execution_count": 1,
   "id": "0f62a9d9",
   "metadata": {},
   "outputs": [],
   "source": [
    "# https://www.geeksforgeeks.org/download-instagram-profile-pic-using-python/\n",
    "\n",
    "# insta_url='https://www.instagram.com'\n",
    "# inta_username= input('enter username of instagram : ')\n",
    " \n",
    "# response = requests.get(f\"{insta_url}/{inta_username}/\")"
   ]
  },
  {
   "cell_type": "code",
   "execution_count": 18,
   "id": "dea0ab84",
   "metadata": {},
   "outputs": [],
   "source": [
    "\n",
    "# from bs4 import BeautifulSoup\n",
    "# import requests\n",
    "# from selenium import webdriver\n",
    "# import time\n",
    "\n",
    "# ''' ask user to input the instagram post url '''\n",
    "# link = input(\"https://www.instagram.com/cuellarcampaign/\")\n",
    "\n",
    "# ''' \n",
    "# create a webdriver chrome object by passing the path of \"chromedriver.exe\" file.(do not include .exe in the path).\n",
    "# '''\n",
    "# driver = webdriver.Chrome('chromedriver')\n",
    "\n",
    "# ''' Open the instagram post on your chrome browser'''\n",
    "# driver.get(link)\n",
    "\n",
    "# ''' Fetch the source file of the html page using BeautifulSoup'''\n",
    "# soup = BeautifulSoup(driver.page_source, 'lxml')\n",
    "\n",
    "# ''' Extract the url of the image from the source code''' \n",
    "# img = soup.find('img', class_='FFVAD')\n",
    "# img_url = img['src']\n",
    "\n",
    "\n",
    "# '''Download the image via the url using the requests library'''\n",
    "# r = requests.get(img_url)\n",
    "\n",
    "# with open(\"instagram\"+str(time.time())+\".png\",'wb') as f: \n",
    "#     f.write(r.content)\n",
    "\n",
    "# print('success')\n"
   ]
  },
  {
   "cell_type": "code",
   "execution_count": 8,
   "id": "05c41776",
   "metadata": {},
   "outputs": [
    {
     "name": "stdout",
     "output_type": "stream",
     "text": [
      "enter username of instagram : cuellarcampaign\n"
     ]
    }
   ],
   "source": [
    "# insta_url='https://www.instagram.com'\n",
    "# inta_username= input('enter username of instagram : ')\n",
    " \n",
    "# response = requests.get(f\"https://www.instagram.com/cuellarcampaign/\")"
   ]
  },
  {
   "cell_type": "code",
   "execution_count": 21,
   "id": "75fb2d6c",
   "metadata": {},
   "outputs": [],
   "source": [
    "# if response.ok:\n",
    "#     html=response.text\n",
    " \n",
    "#     bs_html=bs(html, features=\"lxml\")\n",
    "#     bs_html=bs_html.text\n",
    "#     index=bs_html.find('profile_pic_url_hd')+21\n",
    " \n",
    "#     remaining_text=bs_html[index:]\n",
    "#     remaining_text_index=remaining_text.find('requested_by_viewer')-3\n",
    "#     string_url=remaining_text[:remaining_text_index].replace(\"\\\\u0026\",\"&\")\n",
    " \n",
    "#     print(string_url, \"\\n \\n downloading..........\")"
   ]
  },
  {
   "cell_type": "code",
   "execution_count": 22,
   "id": "11269fb1",
   "metadata": {},
   "outputs": [],
   "source": [
    "# while True:\n",
    "#     filename='pic'+str(random.randint(1, 100000))+'.jpg'\n",
    "#     file_exists = os.path.isfile(filename)\n",
    " \n",
    "#     if not file_exists:\n",
    "#         with open(filename, 'wb+') as handle:\n",
    "#             response = requests.get(string_url, stream=True)\n",
    "#             if not response.ok:\n",
    "#                 print(response)\n",
    "#             for block in response.iter_content(1024):\n",
    "#                 if not block:\n",
    "#                     break\n",
    "#                 handle.write(block)\n",
    "#     else:\n",
    "#         continue\n",
    "#     break\n",
    "# print(\"\\n downloading completed ..............\")"
   ]
  },
  {
   "cell_type": "code",
   "execution_count": 13,
   "id": "19a67b59",
   "metadata": {},
   "outputs": [],
   "source": [
    "# # Launch a new Chrome, install the appropriate ChromeDriver if necessary\n",
    "# driver = webdriver.Chrome(ChromeDriverManager().install())"
   ]
  },
  {
   "cell_type": "code",
   "execution_count": 12,
   "id": "5f848397",
   "metadata": {},
   "outputs": [],
   "source": [
    "# pip install instaloader "
   ]
  },
  {
   "cell_type": "code",
   "execution_count": 16,
   "id": "34a04ad0",
   "metadata": {},
   "outputs": [],
   "source": [
    "# import instaloader\n",
    " \n",
    "# ig = instaloader.Instaloader()\n",
    "# dp = input(\"Enter Insta username : cuellarcampaign\")\n",
    " \n",
    "# ig.download_profile(dp , profile_pic_only=True)"
   ]
  },
  {
   "cell_type": "code",
   "execution_count": null,
   "id": "26b3db3c",
   "metadata": {},
   "outputs": [],
   "source": []
  },
  {
   "cell_type": "code",
   "execution_count": null,
   "id": "cd3d9fd8",
   "metadata": {},
   "outputs": [],
   "source": [
    "# # The following should extract all images from a given page and write it to the directory where the script is being run.\n",
    "# # https://stackoverflow.com/questions/18408307/how-to-extract-and-download-all-images-from-a-website-using-beautifulsoup\n",
    "\n",
    "# import re\n",
    "# import requests\n",
    "# from bs4 import BeautifulSoup\n",
    "\n",
    "# site = 'http://pixabay.com'\n",
    "\n",
    "# response = requests.get(site)\n",
    "\n",
    "# soup = BeautifulSoup(response.text, 'html.parser')\n",
    "# img_tags = soup.find_all('img')\n",
    "\n",
    "# urls = [img['src'] for img in img_tags]\n",
    "\n",
    "\n",
    "# for url in urls:\n",
    "#     filename = re.search(r'/([\\w_-]+[.](jpg|gif|png))$', url)\n",
    "#     if not filename:\n",
    "#          print(\"Regex didn't match with the url: {}\".format(url))\n",
    "#          continue\n",
    "#     with open(filename.group(1), 'wb') as f:\n",
    "#         if 'http' not in url:\n",
    "#             # sometimes an image source can be relative \n",
    "#             # if it is provide the base url which also happens \n",
    "#             # to be the site variable atm. \n",
    "#             url = '{}{}'.format(site, url)\n",
    "#         response = requests.get(url)\n",
    "#         f.write(response.content)"
   ]
  },
  {
   "cell_type": "code",
   "execution_count": 10,
   "id": "6589a992",
   "metadata": {},
   "outputs": [],
   "source": [
    "# Scrap-Images-from-Websites-using-BeautifulSoup\n",
    "# https://github.com/nikhilroxtomar/Scrap-Images-from-Websites-using-BeautifulSoup/blob/master/save_images.py"
   ]
  },
  {
   "cell_type": "code",
   "execution_count": null,
   "id": "54041c08",
   "metadata": {},
   "outputs": [],
   "source": [
    "# pip install scikit-image "
   ]
  },
  {
   "cell_type": "code",
   "execution_count": 245,
   "id": "3848b0a0",
   "metadata": {},
   "outputs": [],
   "source": [
    "# import os\n",
    "# import requests\n",
    "# from bs4 import BeautifulSoup\n",
    "# import cv2\n",
    "# from skimage import io"
   ]
  },
  {
   "cell_type": "code",
   "execution_count": 246,
   "id": "8da2c85e",
   "metadata": {},
   "outputs": [],
   "source": [
    "\n",
    "# import os\n",
    "# import requests\n",
    "# from bs4 import BeautifulSoup\n",
    "# import cv2\n",
    "# from skimage import io\n",
    "\n",
    "# def create_dir(path):\n",
    "#     \"\"\" Create folders \"\"\"\n",
    "#     try:\n",
    "#         if not os.path.exists(path):\n",
    "#             os.makedirs(path)\n",
    "#     except OSError:\n",
    "#         print(\"Error\")\n",
    "\n",
    "# def create_file(path):\n",
    "#     \"\"\" Create a file \"\"\"\n",
    "#     try:\n",
    "#         if not os.path.exists(path):\n",
    "#             f = open(path, \"w\")\n",
    "#             f.write(\"Name,Alt\\n\")\n",
    "#             f.close()\n",
    "#     except OSError:\n",
    "#         print(\"Error\")\n",
    "\n",
    "# def save_image(search_term, page_num=1):\n",
    "#     ## URL and headers\n",
    "#     url = \"https://www.henrycuellar.com/\"\n",
    "#     header = {'user-agent': 'Mozilla/5.0 (X11; Linux x86_64) AppleWebKit/537.36 (KHTML, like Gecko) Chrome/77.0.3865.90 Safari/537.36'}\n",
    "\n",
    "#     ## making a GET request to the website and getting the information in response.\n",
    "#     result = requests.get(url, headers=header)\n",
    "\n",
    "#     if result.status_code == 200:\n",
    "#         soup = BeautifulSoup(result.content, \"html.parser\")\n",
    "#     else:\n",
    "#         print(\"Error\")\n",
    "#         exit()\n",
    "\n",
    "#     ## Paths and file for saving the images and data.\n",
    "#     dir_path = f\"Downloads/{search_term}/\"\n",
    "#     file_path = f\"Downloads/{search_term}/{search_term}.csv\"\n",
    "\n",
    "#     create_dir(dir_path)\n",
    "#     create_file(file_path)\n",
    "\n",
    "#     f = open(file_path, \"a\")\n",
    "\n",
    "#     for tag in soup.find_all(\"a\", class_=\"showcase__link\"):\n",
    "#         if tag.img:\n",
    "#             try:\n",
    "#                 src = tag.img[\"data-src\"]\n",
    "#                 alt = tag.img[\"alt\"]\n",
    "#             except Exception as e:\n",
    "#                 alt = None\n",
    "\n",
    "#             try:\n",
    "#                 if alt:\n",
    "#                     image = io.imread(src)\n",
    "#                     name = src.split(\"/\")[-1].split(\"?\")[0]\n",
    "#                     data = f\"{name},{alt}\\n\"\n",
    "#                     f.write(data)\n",
    "#                     image = cv2.cvtColor(image, cv2.COLOR_BGR2RGB)\n",
    "#                     cv2.imwrite(dir_path + name, image)\n",
    "#                     print(name, \": \", alt)\n",
    "#             except Exception as e:\n",
    "#                 pass\n",
    "\n",
    "\n",
    "# if __name__ == \"__main__\":\n",
    "#     terms = ['dog', 'cat', 'tree']\n",
    "#     for term in terms:\n",
    "#         save_image(term, page_num=1)\n",
    "#         save_image(term, page_num=2)"
   ]
  },
  {
   "cell_type": "code",
   "execution_count": null,
   "id": "6f096353",
   "metadata": {},
   "outputs": [],
   "source": []
  },
  {
   "cell_type": "code",
   "execution_count": 247,
   "id": "b0f90ff6",
   "metadata": {},
   "outputs": [],
   "source": [
    "# import os\n",
    "# from subprocess import Popen, PIPE\n",
    "# from selenium import webdriver"
   ]
  },
  {
   "cell_type": "code",
   "execution_count": null,
   "id": "6fb6e80d",
   "metadata": {},
   "outputs": [],
   "source": [
    "# import os\n",
    "# from subprocess import Popen, PIPE\n",
    "# from selenium import webdriver\n",
    "\n",
    "# abspath = lambda *p: os.path.abspath(os.path.join(*p))\n",
    "# ROOT = abspath(os.path.dirname(__file__))\n",
    "\n",
    "\n",
    "# def execute_command(command):\n",
    "#     result = Popen(command, shell=True, stdout=PIPE).stdout.read()\n",
    "#     if len(result) > 0 and not result.isspace():\n",
    "#         raise Exception(result)\n",
    "\n",
    "\n",
    "# def do_screen_capturing(url, screen_path, width, height):\n",
    "#     print \"Capturing screen..\"\n",
    "#     driver = webdriver.PhantomJS()\n",
    "#     # it save service log file in same directory\n",
    "#     # if you want to have log file stored else where\n",
    "#     # initialize the webdriver.PhantomJS() as\n",
    "#     # driver = webdriver.PhantomJS(service_log_path='/var/log/phantomjs/ghostdriver.log')\n",
    "#     driver.set_script_timeout(30)\n",
    "#     if width and height:\n",
    "#         driver.set_window_size(width, height)\n",
    "#     driver.get(url)\n",
    "#     driver.save_screenshot(screen_path)\n",
    "\n",
    "\n",
    "# def do_crop(params):\n",
    "#     print \"Croping captured image..\"\n",
    "#     command = [\n",
    "#         'convert',\n",
    "#         params['screen_path'],\n",
    "#         '-crop', '%sx%s+0+0' % (params['width'], params['height']),\n",
    "#         params['crop_path']\n",
    "#     ]\n",
    "#     execute_command(' '.join(command))\n",
    "\n",
    "\n",
    "# def do_thumbnail(params):\n",
    "#     print \"Generating thumbnail from croped captured image..\"\n",
    "#     command = [\n",
    "#         'convert',\n",
    "#         params['crop_path'],\n",
    "#         '-filter', 'Lanczos',\n",
    "#         '-thumbnail', '%sx%s' % (params['width'], params['height']),\n",
    "#         params['thumbnail_path']\n",
    "#     ]\n",
    "#     execute_command(' '.join(command))\n",
    "\n",
    "\n",
    "# def get_screen_shot(**kwargs):\n",
    "#     url = kwargs['url']\n",
    "#     width = int(kwargs.get('width', 1024)) # screen width to capture\n",
    "#     height = int(kwargs.get('height', 768)) # screen height to capture\n",
    "#     filename = kwargs.get('filename', 'screen.png') # file name e.g. screen.png\n",
    "#     path = kwargs.get('path', ROOT) # directory path to store screen\n",
    "\n",
    "#     crop = kwargs.get('crop', False) # crop the captured screen\n",
    "#     crop_width = int(kwargs.get('crop_width', width)) # the width of crop screen\n",
    "#     crop_height = int(kwargs.get('crop_height', height)) # the height of crop screen\n",
    "#     crop_replace = kwargs.get('crop_replace', False) # does crop image replace original screen capture?\n",
    "\n",
    "#     thumbnail = kwargs.get('thumbnail', False) # generate thumbnail from screen, requires crop=True\n",
    "#     thumbnail_width = int(kwargs.get('thumbnail_width', width)) # the width of thumbnail\n",
    "#     thumbnail_height = int(kwargs.get('thumbnail_height', height)) # the height of thumbnail\n",
    "#     thumbnail_replace = kwargs.get('thumbnail_replace', False) # does thumbnail image replace crop image?\n",
    "\n",
    "#     screen_path = abspath(path, filename)\n",
    "#     crop_path = thumbnail_path = screen_path\n",
    "\n",
    "#     if thumbnail and not crop:\n",
    "#         raise Exception, 'Thumnail generation requires crop image, set crop=True'\n",
    "\n",
    "#     do_screen_capturing(url, screen_path, width, height)\n",
    "\n",
    "#     if crop:\n",
    "#         if not crop_replace:\n",
    "#             crop_path = abspath(path, 'crop_'+filename)\n",
    "#         params = {\n",
    "#             'width': crop_width, 'height': crop_height,\n",
    "#             'crop_path': crop_path, 'screen_path': screen_path}\n",
    "#         do_crop(params)\n",
    "\n",
    "#         if thumbnail:\n",
    "#             if not thumbnail_replace:\n",
    "#                 thumbnail_path = abspath(path, 'thumbnail_'+filename)\n",
    "#             params = {\n",
    "#                 'width': thumbnail_width, 'height': thumbnail_height,\n",
    "#                 'thumbnail_path': thumbnail_path, 'crop_path': crop_path}\n",
    "#             do_thumbnail(params)\n",
    "#     return screen_path, crop_path, thumbnail_path\n",
    "\n",
    "\n",
    "# if __name__ == '__main__':\n",
    "#     '''\n",
    "#         Requirements:\n",
    "#         Install NodeJS\n",
    "#         Using Node's package manager install phantomjs: npm -g install phantomjs\n",
    "#         install selenium (in your virtualenv, if you are using that)\n",
    "#         install imageMagick\n",
    "#         add phantomjs to system path (on windows)\n",
    "#     '''\n",
    "\n",
    "#     url = 'http://stackoverflow.com/questions/1197172/how-can-i-take-a-screenshot-image-of-a-website-using-python'\n",
    "#     screen_path, crop_path, thumbnail_path = get_screen_shot(\n",
    "#         url=url, filename='sof.png',\n",
    "#         crop=True, crop_replace=False,\n",
    "#         thumbnail=True, thumbnail_replace=False,\n",
    "#         thumbnail_width=200, thumbnail_height=150,\n",
    "#     )"
   ]
  },
  {
   "cell_type": "code",
   "execution_count": null,
   "id": "82a1e586",
   "metadata": {},
   "outputs": [],
   "source": [
    "# import re\n",
    "# import requests\n",
    "# from bs4 import BeautifulSoup\n",
    "\n",
    "# site = 'http://pixabay.com'\n",
    "\n",
    "# response = requests.get(site)\n",
    "\n",
    "# soup = BeautifulSoup(response.text, 'html.parser')\n",
    "# img_tags = soup.find_all('img')\n",
    "\n",
    "# urls = [img['src'] for img in img_tags]\n",
    "\n",
    "\n",
    "# for url in urls:\n",
    "#     filename = re.search(r'/([\\w_-]+[.](jpg|gif|png))$', url)\n",
    "#     if not filename:\n",
    "#          print(\"Regex didn't match with the url: {}\".format(url))\n",
    "#          continue\n",
    "#     with open(filename.group(1), 'wb') as f:\n",
    "#         if 'http' not in url:\n",
    "#             # sometimes an image source can be relative \n",
    "#             # if it is provide the base url which also happens \n",
    "#             # to be the site variable atm. \n",
    "#             url = '{}{}'.format(site, url)\n",
    "#         response = requests.get(url)\n",
    "#         f.write(response.content)"
   ]
  },
  {
   "cell_type": "code",
   "execution_count": null,
   "id": "ce82368c",
   "metadata": {},
   "outputs": [],
   "source": []
  },
  {
   "cell_type": "code",
   "execution_count": null,
   "id": "234bc42a",
   "metadata": {},
   "outputs": [],
   "source": []
  },
  {
   "cell_type": "code",
   "execution_count": 248,
   "id": "a5b2b4e1",
   "metadata": {},
   "outputs": [
    {
     "ename": "NameError",
     "evalue": "name 'making' is not defined",
     "output_type": "error",
     "traceback": [
      "\u001b[0;31m---------------------------------------------------------------------------\u001b[0m",
      "\u001b[0;31mNameError\u001b[0m                                 Traceback (most recent call last)",
      "\u001b[0;32m/var/folders/c2/zngcssg14mv23nw0yr96s0wm0000gn/T/ipykernel_23726/1531532707.py\u001b[0m in \u001b[0;36m<module>\u001b[0;34m\u001b[0m\n\u001b[0;32m----> 1\u001b[0;31m \u001b[0mmaking\u001b[0m\u001b[0;34m-\u001b[0m\u001b[0msubfolers\u001b[0m\u001b[0;34m\u001b[0m\u001b[0;34m\u001b[0m\u001b[0m\n\u001b[0m\u001b[1;32m      2\u001b[0m \u001b[0;32mimport\u001b[0m \u001b[0mos\u001b[0m\u001b[0;34m\u001b[0m\u001b[0;34m\u001b[0m\u001b[0m\n\u001b[1;32m      3\u001b[0m \u001b[0;34m\u001b[0m\u001b[0m\n\u001b[1;32m      4\u001b[0m list = ['folder10','folder11','folder12',\n\u001b[1;32m      5\u001b[0m         'folder13', 'folder15']\n",
      "\u001b[0;31mNameError\u001b[0m: name 'making' is not defined"
     ]
    }
   ],
   "source": [
    "making-subfolers\n",
    "import os\n",
    "  \n",
    "list = ['folder10','folder11','folder12',\n",
    "        'folder13', 'folder15']\n",
    "  \n",
    "for items in list:\n",
    "    os.mkdir(items)"
   ]
  },
  {
   "cell_type": "code",
   "execution_count": null,
   "id": "3cfc42d7",
   "metadata": {},
   "outputs": [],
   "source": []
  },
  {
   "cell_type": "code",
   "execution_count": null,
   "id": "7ceac166",
   "metadata": {},
   "outputs": [],
   "source": []
  },
  {
   "cell_type": "code",
   "execution_count": 5,
   "id": "5fac3fc6",
   "metadata": {},
   "outputs": [],
   "source": [
    "# df = pd.read_csv(\"outputs//output_house_candidate_campaign_links.csv\", encoding=\"utf-8\")\n",
    "# df"
   ]
  },
  {
   "cell_type": "code",
   "execution_count": null,
   "id": "17136a4a",
   "metadata": {},
   "outputs": [],
   "source": []
  },
  {
   "cell_type": "code",
   "execution_count": null,
   "id": "6c4432ea",
   "metadata": {},
   "outputs": [],
   "source": [
    "# how to extract all images on a website\n",
    "\n",
    "# https://stackoverflow.com/questions/18408307/how-to-extract-and-download-all-images-from-a-website-using-beautifulsoup"
   ]
  },
  {
   "cell_type": "code",
   "execution_count": null,
   "id": "af427ce9",
   "metadata": {},
   "outputs": [],
   "source": [
    "\n",
    "\n",
    "# site = 'http://www.google.com'\n",
    "\n",
    "# response = requests.get(site)\n",
    "\n",
    "# soup = BeautifulSoup(response.text, 'html.parser')\n",
    "# img_tags = soup.find_all('img')\n",
    "\n",
    "# urls = [img['src'] for img in img_tags]\n",
    "\n",
    "\n",
    "# for url in urls:\n",
    "#     filename = re.search(r'/([\\w_-]+[.](jpg|gif|png))$', url)\n",
    "#     if not filename:\n",
    "#          print(\"Regex didn't match with the url: {}\".format(url))\n",
    "#          continue\n",
    "#     with open(filename.group(1), 'wb') as f:\n",
    "#         if 'http' not in url:\n",
    "#             # sometimes an image source can be relative \n",
    "#             # if it is provide the base url which also happens \n",
    "#             # to be the site variable atm. \n",
    "#             url = '{}{}'.format(site, url)\n",
    "#         response = requests.get(url)\n",
    "#         f.write(response.content)"
   ]
  },
  {
   "cell_type": "code",
   "execution_count": null,
   "id": "e9a9b25d",
   "metadata": {},
   "outputs": [],
   "source": []
  },
  {
   "cell_type": "code",
   "execution_count": null,
   "id": "bd5e34ce",
   "metadata": {},
   "outputs": [],
   "source": [
    "# https://betterprogramming.pub/how-to-easily-scrape-multiple-pages-of-a-website-using-python-73e85bd06f8c"
   ]
  },
  {
   "cell_type": "code",
   "execution_count": null,
   "id": "57058306",
   "metadata": {},
   "outputs": [],
   "source": [
    "# Exporting data in a txt file\n",
    "\n",
    "# with open(f'{title}.txt', 'w') as file:\n",
    "#     file.write(transcript)"
   ]
  },
  {
   "cell_type": "code",
   "execution_count": null,
   "id": "b13deea5",
   "metadata": {},
   "outputs": [],
   "source": []
  },
  {
   "cell_type": "code",
   "execution_count": null,
   "id": "84aec960",
   "metadata": {},
   "outputs": [],
   "source": []
  },
  {
   "cell_type": "code",
   "execution_count": null,
   "id": "3b13de20",
   "metadata": {},
   "outputs": [],
   "source": []
  },
  {
   "cell_type": "code",
   "execution_count": null,
   "id": "16a6af7a",
   "metadata": {},
   "outputs": [],
   "source": [
    "# https://github.com/adityamangal1/Image-Scraping-Python/blob/master/main.py"
   ]
  },
  {
   "cell_type": "code",
   "execution_count": null,
   "id": "ae1c2200",
   "metadata": {},
   "outputs": [],
   "source": [
    "# import bs4\n",
    "# import requests\n",
    "# import shutil\n",
    "# import os\n",
    "\n",
    "# GOOGLE_IMAGE = \\\n",
    "#     'https://www.google.com/search?site=&tbm=isch&source=hp&biw=1873&bih=990&'\n",
    "\n",
    "\n",
    "# def extract(data, quantity):\n",
    "#     URL_input = GOOGLE_IMAGE + 'q=' + data\n",
    "#     print('Fetching from url =', URL_input)\n",
    "#     URLdata = requests.get(URL_input)\n",
    "#     soup = bs4.BeautifulSoup(URLdata.text, \"html.parser\")\n",
    "#     ImgTags = soup.find_all('img')\n",
    "#     i = 0\n",
    "#     print('Please wait..')\n",
    "#     while i < quantity:\n",
    "\n",
    "#         for link in ImgTags:\n",
    "#             try:\n",
    "#                 images = link.get('src')\n",
    "#                 ext = images[images.rindex('.'):]\n",
    "#                 if ext.startswith('.png'):\n",
    "#                     ext = '.png'\n",
    "#                 elif ext.startswith('.jpg'):\n",
    "#                     ext = '.jpg'\n",
    "#                 elif ext.startswith('.jfif'):\n",
    "#                     ext = '.jfif'\n",
    "#                 elif ext.startswith('.com'):\n",
    "#                     ext = '.jpg'\n",
    "#                 elif ext.startswith('.svg'):\n",
    "#                     ext = '.svg'\n",
    "#                 data = requests.get(images, stream=True)\n",
    "#                 filename = str(i) + ext\n",
    "#                 with open(filename, 'wb') as file:\n",
    "#                     shutil.copyfileobj(data.raw, file)\n",
    "#                 i += 1\n",
    "#             except:\n",
    "#                 pass\n",
    "#     print('\\t\\t\\t Downloaded Successfully..\\t\\t ')\n",
    "\n",
    "\n",
    "# data = input('What are you looking for? ')\n",
    "# quantity = int(input('How many photos you want? '))\n",
    "# extract(data, quantity)"
   ]
  },
  {
   "cell_type": "code",
   "execution_count": null,
   "id": "72435838",
   "metadata": {},
   "outputs": [],
   "source": [
    "# https://github.com/nikhilroxtomar/Scrap-Images-from-Websites-using-BeautifulSoup/blob/master/save_images.py\n"
   ]
  },
  {
   "cell_type": "code",
   "execution_count": null,
   "id": "9a29f7bc",
   "metadata": {},
   "outputs": [],
   "source": []
  },
  {
   "cell_type": "markdown",
   "id": "ef801c63",
   "metadata": {},
   "source": [
    "Scratchpad"
   ]
  },
  {
   "cell_type": "markdown",
   "id": "cf73dab6",
   "metadata": {},
   "source": [
    "##### Figuring out For Loop + Screenshot"
   ]
  },
  {
   "cell_type": "code",
   "execution_count": 61,
   "id": "ec34fc9c",
   "metadata": {},
   "outputs": [],
   "source": [
    "# # testing code for website screenshot (works)\n",
    "# from selenium import webdriver\n",
    "\n",
    "# url2 = 'https://www.spotify.com'\n",
    "\n",
    "# DRIVER = 'chromedriver'\n",
    "# driver = webdriver.Chrome(DRIVER)\n",
    "# driver.get(url)\n",
    "# screenshot = driver.save_screenshot('screenshots//', url, '.png')\n",
    "# driver.quit()"
   ]
  },
  {
   "cell_type": "code",
   "execution_count": null,
   "id": "a27ba728",
   "metadata": {},
   "outputs": [],
   "source": [
    "# driver = webdriver.Chrome(ChromeDriverManager().install())"
   ]
  },
  {
   "cell_type": "code",
   "execution_count": null,
   "id": "cf78c8dd",
   "metadata": {},
   "outputs": [],
   "source": [
    "# testing socials\n",
    "# for url in ls_socials[0:1]:\n",
    "#     driver.get(url)\n",
    "#     screenshot = driver.save_screenshot('screenshots//'+ 'socialtwittertest.png')\n",
    "#     print(url)\n",
    "#     sleep(randint(2,3))"
   ]
  },
  {
   "cell_type": "code",
   "execution_count": null,
   "id": "20b75d79",
   "metadata": {},
   "outputs": [],
   "source": [
    "# for url in ls_socials[1:2]:\n",
    "#     driver.get(url)\n",
    "#     sleep(randint(1,2))\n",
    "#     screenshot = driver.save_screenshot('screenshots//'+ 'socialinstatest.png')\n",
    "#     print(url)\n",
    "#     sleep(randint(1,2))"
   ]
  },
  {
   "cell_type": "code",
   "execution_count": null,
   "id": "d935d6bb",
   "metadata": {},
   "outputs": [],
   "source": [
    "# for url in ls_socials[2:3]:\n",
    "#     driver.get(url)\n",
    "#     sleep(randint(1,2))\n",
    "#     screenshot = driver.save_screenshot('screenshots//'+ 'socialtest.png')\n",
    "#     print(url)\n",
    "#     sleep(randint(2,3))"
   ]
  },
  {
   "cell_type": "code",
   "execution_count": null,
   "id": "8d6e7874",
   "metadata": {},
   "outputs": [],
   "source": [
    "# for page in candidate_links:\n",
    "#     if page.startswith(candidate):\n",
    "#         ls_candidates.append(page)\n",
    "#     elif page.startswith(twitter):\n",
    "#         ls_socials.append(page)\n",
    "#     elif page.startswith(facebook):\n",
    "#         ls_socials.append(page)\n",
    "#     elif page.startswith(instagram):\n",
    "#         ls_socials.append(page)\n",
    "#     elif page.startswith(linkedin):\n",
    "#         ls_socials.append(page)\n",
    "#     elif page.startswith(youtube):\n",
    "#         ls_socials.append(page)\n",
    "#     elif page.startswith(ballotpedia):\n",
    "#         ls_socials.append(page)    \n",
    "#     else:\n",
    "#         ls_sites.append(page)"
   ]
  },
  {
   "cell_type": "code",
   "execution_count": 244,
   "id": "81a7dfeb",
   "metadata": {},
   "outputs": [],
   "source": [
    "# ls_candidates = []"
   ]
  },
  {
   "cell_type": "code",
   "execution_count": 243,
   "id": "19fa0b06",
   "metadata": {},
   "outputs": [],
   "source": [
    "# for url in candidate_links[0:10]:\n",
    "#     if url.startswith(candidate):\n",
    "#         ls_candidates.append(page)\n",
    "#     elif url.startswith('https://www.')\n",
    "#         driver.get(url)\n",
    "#         print(url.split('//')[-1])\n",
    "#         sleep(randint(2,3))\n",
    "#         driver.save_screenshot('screenshots//' + url.split('//')[-1].split('.')[1] + '.png')\n",
    "#         print('screenshots//' + url.split('//')[-1].split('.')[1] + '.png')\n",
    "#         sleep(randint(1,2))\n",
    "    \n",
    "#     elif url.startswith('https://')\n",
    "    \n",
    "#     elif url.startswith(https://)\n",
    "#     else:\n",
    "#         driver.get(url)\n",
    "#         print(url.split('//')[-1])\n",
    "#         sleep(randint(1,2))\n",
    "#         screenshot = driver.save_screenshot('screenshots//' + 'myscreenshot.png')\n",
    "#         print(url)\n",
    "#         sleep(randint(1,2))\n",
    "#     #     driver.quit()"
   ]
  },
  {
   "cell_type": "code",
   "execution_count": 242,
   "id": "6df877e4",
   "metadata": {},
   "outputs": [],
   "source": [
    "# for url in ls_sites[0:5]:\n",
    "#     driver.get(url)\n",
    "#     sleep(randint(1,2))\n",
    "#     screenshot = driver.save_screenshot('screenshots//'+ 'myscreenshot.png')\n",
    "#     print(url)\n",
    "#     sleep(randint(1,2))\n",
    "# #     driver.quit()\n"
   ]
  },
  {
   "cell_type": "code",
   "execution_count": 241,
   "id": "d29ef8b0",
   "metadata": {},
   "outputs": [],
   "source": [
    "# # testing cell\n",
    "\n",
    "# for url in ls_sites[0:5]:\n",
    "#     if\n",
    "#     driver.get(url)\n",
    "#     print(url.split('//')[-1])\n",
    "#     sleep(randint(2,3))\n",
    "#     driver.save_screenshot('screenshots//' + url.split('//')[-1].split('.')[1] + '.png')\n",
    "#     print('screenshots//' + url.split('//')[-1].split('.')[1] + '.png')\n",
    "#     sleep(randint(1,2))\n",
    "# #     driver.quit()\n"
   ]
  },
  {
   "cell_type": "code",
   "execution_count": 157,
   "id": "d1177d86",
   "metadata": {},
   "outputs": [
    {
     "name": "stdout",
     "output_type": "stream",
     "text": [
      "victordunn4congress.com/\n",
      "screenshots//victordunn4congress.png\n",
      "www.jeffersonforcongress.com/\n",
      "screenshots//www.png\n"
     ]
    }
   ],
   "source": [
    "# # testing cell 2\n",
    "\n",
    "# for url in ls_sites[0:2]:\n",
    "#     driver.get(url)\n",
    "#     print(url.split('//')[-1])\n",
    "#     sleep(randint(2,3))\n",
    "#     driver.save_screenshot('screenshots//' + url.split('//')[-1].split('.')[0] + '.png')\n",
    "#     print('screenshots//' + url.split('//')[-1].split('.')[0] + '.png')\n",
    "#     sleep(randint(1,2))\n",
    "# #     driver.quit()\n"
   ]
  },
  {
   "cell_type": "code",
   "execution_count": 119,
   "id": "d98aaf26",
   "metadata": {},
   "outputs": [],
   "source": [
    "# # testing code for website screenshot (works)\n",
    "# from selenium import webdriver\n",
    "\n",
    "# DRIVER = 'chromedriver'\n",
    "# driver = webdriver.Chrome(DRIVER)\n",
    "# driver.get('https://www.spotify.com')\n",
    "# screenshot = driver.save_screenshot('screenshots//test.png')\n",
    "# driver.quit()"
   ]
  },
  {
   "cell_type": "code",
   "execution_count": null,
   "id": "a429193d",
   "metadata": {},
   "outputs": [],
   "source": [
    "# for url in candidate_links[0:6]:\n",
    "#     DRIVER = 'chromedriver'\n",
    "#     driver = webdriver.Chrome(DRIVER)\n",
    "#     driver.get('url')\n",
    "#     screenshot = driver.save_screenshot('my_screenshot.png')\n",
    "#     driver.quit()\n"
   ]
  }
 ],
 "metadata": {
  "kernelspec": {
   "display_name": "Python 3 (ipykernel)",
   "language": "python",
   "name": "python3"
  },
  "language_info": {
   "codemirror_mode": {
    "name": "ipython",
    "version": 3
   },
   "file_extension": ".py",
   "mimetype": "text/x-python",
   "name": "python",
   "nbconvert_exporter": "python",
   "pygments_lexer": "ipython3",
   "version": "3.10.0"
  }
 },
 "nbformat": 4,
 "nbformat_minor": 5
}
